{
 "cells": [
  {
   "cell_type": "code",
   "execution_count": 6,
   "id": "ede43038",
   "metadata": {},
   "outputs": [],
   "source": [
    "#importing libraries \n",
    "import numpy as np\n",
    "import pandas as pd\n",
    "import warnings\n",
    "warnings.filterwarnings(\"ignore\")\n",
    "import seaborn as sns\n",
    "import matplotlib.pyplot as plt"
   ]
  },
  {
   "cell_type": "markdown",
   "id": "8d37ba42",
   "metadata": {},
   "source": [
    "## Libraries required for SLR\n"
   ]
  },
  {
   "cell_type": "code",
   "execution_count": 7,
   "id": "63c9ea0a",
   "metadata": {},
   "outputs": [],
   "source": [
    "#library to split the data\n",
    "from sklearn.model_selection import train_test_split"
   ]
  },
  {
   "cell_type": "code",
   "execution_count": 8,
   "id": "7ac5c716",
   "metadata": {},
   "outputs": [],
   "source": [
    "#importing libraries for linear regression \n",
    "# OLS Method\n",
    "import statsmodels\n",
    "import statsmodels.api as sm\n",
    "import statsmodels.formula.api as ols"
   ]
  },
  {
   "cell_type": "code",
   "execution_count": 9,
   "id": "d5dec93f",
   "metadata": {},
   "outputs": [],
   "source": [
    "#importing library for multicollinearity\n",
    "from statsmodels.stats.outliers_influence import variance_inflation_factor\n",
    "from sklearn.preprocessing import PowerTransformer"
   ]
  },
  {
   "cell_type": "code",
   "execution_count": 10,
   "id": "97bc3f71",
   "metadata": {},
   "outputs": [],
   "source": [
    "#libraries for scaling \n",
    "from sklearn.preprocessing import StandardScaler,MinMaxScaler"
   ]
  },
  {
   "cell_type": "code",
   "execution_count": 11,
   "id": "e75293f0",
   "metadata": {},
   "outputs": [],
   "source": [
    "#importing metrics libraries\n",
    "from sklearn.metrics import mean_squared_error\n",
    "from sklearn.metrics import mean_absolute_error"
   ]
  },
  {
   "cell_type": "markdown",
   "id": "bba896a6",
   "metadata": {
    "id": "6rtPjFjsCswc"
   },
   "source": [
    "## Problem Statement\n",
    "\n",
    "The New York City Controller's Office maintains a database of the salary and benefits paid to city employees since the fiscal year 2013. This is data representing the Employee Compensation report."
   ]
  },
  {
   "cell_type": "markdown",
   "id": "b67b4e6b",
   "metadata": {
    "id": "mg_vogmxCswe"
   },
   "source": [
    "**Year Type:**\t\tFiscal (July through June) or Calendar (January through December)<br>\n",
    "\n",
    "**Year:**\t\tAn accounting period of 12 months. The New York City operates operates on a fiscal year that begins on July 1 and ends on June 30 the following year. The Fiscal Year ending June 30, 2012 is represented as FY2011-2012.<br>\n",
    "\n",
    "**Employee Identifier:**\t\tEach distinct number in the “Employee Identifier” column represents one employee. These identifying numbers are not meaningful but rather are randomly assigned for the purpose of building this dataset.<br> \n",
    "\n",
    "**Salaries:**\t\tNormal salaries paid to permanent or temporary City employees. <br>\n",
    "\n",
    "**Overtime:**\t\tAmounts paid to City employees working in excess of 40 hours per week. <br>\n",
    "\n",
    "**Other Salaries:**\t\tVarious irregular payments made to City employees including premium pay, incentive pay, or other one-time payments. <br>\n",
    "\n",
    "**Total Salary:**\t\tThe sum of all salaries paid to City employees.<br>\n",
    "\n",
    "**Retirement:**\t\tCity contributions to employee retirement plans. <br>\n",
    "\n",
    "**Health/Dental:**\t\tCity-paid premiums to health and dental insurance plans covering City employees. To protect confidentiality as legally required, pro-rated citywide averages are presented in lieu of employee-specific health and dental benefits. <br>\n",
    "\n",
    "**Other Benefits:**\t\tMandatory benefits paid on behalf of employees, such as Social Security (FICA and Medicare) contributions, unemployment insurance premiums, and minor discretionary benefits not included in the above categories.<br>\n",
    "\n",
    "**Total Benefits:**\t\tThe sum of all benefits paid to City employees.<br>\n",
    "\n",
    "**Total Compensation:**\t\tThe sum of all salaries and benefits paid to City employees."
   ]
  },
  {
   "cell_type": "code",
   "execution_count": 12,
   "id": "a6bf491f",
   "metadata": {},
   "outputs": [
    {
     "data": {
      "text/html": [
       "<div>\n",
       "<style scoped>\n",
       "    .dataframe tbody tr th:only-of-type {\n",
       "        vertical-align: middle;\n",
       "    }\n",
       "\n",
       "    .dataframe tbody tr th {\n",
       "        vertical-align: top;\n",
       "    }\n",
       "\n",
       "    .dataframe thead th {\n",
       "        text-align: right;\n",
       "    }\n",
       "</style>\n",
       "<table border=\"1\" class=\"dataframe\">\n",
       "  <thead>\n",
       "    <tr style=\"text-align: right;\">\n",
       "      <th></th>\n",
       "      <th>Year_Type</th>\n",
       "      <th>Year</th>\n",
       "      <th>Employee_Identifier</th>\n",
       "      <th>Salaries</th>\n",
       "      <th>Overtime</th>\n",
       "      <th>Other_Salaries</th>\n",
       "      <th>Total_Salary</th>\n",
       "      <th>Retirement</th>\n",
       "      <th>Health/Dental</th>\n",
       "      <th>Other_Benefits</th>\n",
       "      <th>Total_Benefits</th>\n",
       "      <th>Total_Compensation</th>\n",
       "    </tr>\n",
       "  </thead>\n",
       "  <tbody>\n",
       "    <tr>\n",
       "      <th>0</th>\n",
       "      <td>Fiscal</td>\n",
       "      <td>2015</td>\n",
       "      <td>42853</td>\n",
       "      <td>92288.22</td>\n",
       "      <td>267.45</td>\n",
       "      <td>267.45</td>\n",
       "      <td>92823.12</td>\n",
       "      <td>20700.20</td>\n",
       "      <td>12500.56</td>\n",
       "      <td>7605.75</td>\n",
       "      <td>40806.51</td>\n",
       "      <td>133629.63</td>\n",
       "    </tr>\n",
       "    <tr>\n",
       "      <th>1</th>\n",
       "      <td>Calendar</td>\n",
       "      <td>2015</td>\n",
       "      <td>28248</td>\n",
       "      <td>1466.38</td>\n",
       "      <td>348.23</td>\n",
       "      <td>0.00</td>\n",
       "      <td>1814.61</td>\n",
       "      <td>0.00</td>\n",
       "      <td>442.03</td>\n",
       "      <td>141.59</td>\n",
       "      <td>583.62</td>\n",
       "      <td>2398.23</td>\n",
       "    </tr>\n",
       "    <tr>\n",
       "      <th>2</th>\n",
       "      <td>Fiscal</td>\n",
       "      <td>2014</td>\n",
       "      <td>30651</td>\n",
       "      <td>76536.95</td>\n",
       "      <td>13583.72</td>\n",
       "      <td>10855.94</td>\n",
       "      <td>100976.61</td>\n",
       "      <td>18632.19</td>\n",
       "      <td>12464.61</td>\n",
       "      <td>8011.41</td>\n",
       "      <td>39108.21</td>\n",
       "      <td>140084.82</td>\n",
       "    </tr>\n",
       "    <tr>\n",
       "      <th>3</th>\n",
       "      <td>Fiscal</td>\n",
       "      <td>2014</td>\n",
       "      <td>19473</td>\n",
       "      <td>45659.88</td>\n",
       "      <td>0.00</td>\n",
       "      <td>1625.37</td>\n",
       "      <td>47285.25</td>\n",
       "      <td>10081.20</td>\n",
       "      <td>0.00</td>\n",
       "      <td>3936.63</td>\n",
       "      <td>14017.83</td>\n",
       "      <td>61303.08</td>\n",
       "    </tr>\n",
       "    <tr>\n",
       "      <th>4</th>\n",
       "      <td>Fiscal</td>\n",
       "      <td>2013</td>\n",
       "      <td>7176</td>\n",
       "      <td>41832.00</td>\n",
       "      <td>0.00</td>\n",
       "      <td>0.00</td>\n",
       "      <td>41832.00</td>\n",
       "      <td>7617.60</td>\n",
       "      <td>5908.52</td>\n",
       "      <td>3254.50</td>\n",
       "      <td>16780.62</td>\n",
       "      <td>58612.62</td>\n",
       "    </tr>\n",
       "  </tbody>\n",
       "</table>\n",
       "</div>"
      ],
      "text/plain": [
       "  Year_Type  Year  Employee_Identifier  Salaries  Overtime  Other_Salaries  \\\n",
       "0    Fiscal  2015                42853  92288.22    267.45          267.45   \n",
       "1  Calendar  2015                28248   1466.38    348.23            0.00   \n",
       "2    Fiscal  2014                30651  76536.95  13583.72        10855.94   \n",
       "3    Fiscal  2014                19473  45659.88      0.00         1625.37   \n",
       "4    Fiscal  2013                 7176  41832.00      0.00            0.00   \n",
       "\n",
       "   Total_Salary  Retirement  Health/Dental  Other_Benefits  Total_Benefits  \\\n",
       "0      92823.12    20700.20       12500.56         7605.75        40806.51   \n",
       "1       1814.61        0.00         442.03          141.59          583.62   \n",
       "2     100976.61    18632.19       12464.61         8011.41        39108.21   \n",
       "3      47285.25    10081.20           0.00         3936.63        14017.83   \n",
       "4      41832.00     7617.60        5908.52         3254.50        16780.62   \n",
       "\n",
       "   Total_Compensation  \n",
       "0           133629.63  \n",
       "1             2398.23  \n",
       "2           140084.82  \n",
       "3            61303.08  \n",
       "4            58612.62  "
      ]
     },
     "execution_count": 12,
     "metadata": {},
     "output_type": "execute_result"
    }
   ],
   "source": [
    "#importing dataframe \n",
    "df_compensation=pd.read_csv(\"employee_compensation.csv\")\n",
    "df_compensation.head()"
   ]
  },
  {
   "cell_type": "code",
   "execution_count": 13,
   "id": "2625210b",
   "metadata": {},
   "outputs": [
    {
     "data": {
      "text/plain": [
       "(50000, 12)"
      ]
     },
     "execution_count": 13,
     "metadata": {},
     "output_type": "execute_result"
    }
   ],
   "source": [
    "df_compensation.shape"
   ]
  },
  {
   "cell_type": "code",
   "execution_count": 14,
   "id": "df5e0fdf",
   "metadata": {},
   "outputs": [
    {
     "data": {
      "text/plain": [
       "600000"
      ]
     },
     "execution_count": 14,
     "metadata": {},
     "output_type": "execute_result"
    }
   ],
   "source": [
    "df_compensation.size"
   ]
  },
  {
   "cell_type": "code",
   "execution_count": 15,
   "id": "424971be",
   "metadata": {
    "scrolled": true
   },
   "outputs": [
    {
     "name": "stdout",
     "output_type": "stream",
     "text": [
      "<class 'pandas.core.frame.DataFrame'>\n",
      "RangeIndex: 50000 entries, 0 to 49999\n",
      "Data columns (total 12 columns):\n",
      " #   Column               Non-Null Count  Dtype  \n",
      "---  ------               --------------  -----  \n",
      " 0   Year_Type            50000 non-null  object \n",
      " 1   Year                 50000 non-null  int64  \n",
      " 2   Employee_Identifier  50000 non-null  int64  \n",
      " 3   Salaries             50000 non-null  float64\n",
      " 4   Overtime             50000 non-null  float64\n",
      " 5   Other_Salaries       50000 non-null  float64\n",
      " 6   Total_Salary         50000 non-null  float64\n",
      " 7   Retirement           50000 non-null  float64\n",
      " 8   Health/Dental        50000 non-null  float64\n",
      " 9   Other_Benefits       50000 non-null  float64\n",
      " 10  Total_Benefits       50000 non-null  float64\n",
      " 11  Total_Compensation   50000 non-null  float64\n",
      "dtypes: float64(9), int64(2), object(1)\n",
      "memory usage: 4.6+ MB\n"
     ]
    }
   ],
   "source": [
    "# use 'info()' to understand the dataset\n",
    "df_compensation.info()"
   ]
  },
  {
   "cell_type": "code",
   "execution_count": 16,
   "id": "0f7ad4bb",
   "metadata": {},
   "outputs": [
    {
     "data": {
      "text/plain": [
       "Fiscal      28665\n",
       "Calendar    21335\n",
       "Name: Year_Type, dtype: int64"
      ]
     },
     "execution_count": 16,
     "metadata": {},
     "output_type": "execute_result"
    }
   ],
   "source": [
    "#checking for year \n",
    "df_compensation.Year_Type.value_counts()"
   ]
  },
  {
   "cell_type": "code",
   "execution_count": 17,
   "id": "537d3f40",
   "metadata": {},
   "outputs": [
    {
     "data": {
      "text/plain": [
       "2015    14699\n",
       "2014    14155\n",
       "2013    13605\n",
       "2016     7541\n",
       "Name: Year, dtype: int64"
      ]
     },
     "execution_count": 17,
     "metadata": {},
     "output_type": "execute_result"
    }
   ],
   "source": [
    "#checking for year \n",
    "df_compensation.Year.value_counts()"
   ]
  },
  {
   "cell_type": "code",
   "execution_count": 18,
   "id": "c078234f",
   "metadata": {},
   "outputs": [],
   "source": [
    "#changing to object\n",
    "df_compensation['Year'] = df_compensation['Year'].astype(object)"
   ]
  },
  {
   "cell_type": "code",
   "execution_count": 19,
   "id": "5346cd5a",
   "metadata": {
    "scrolled": false
   },
   "outputs": [
    {
     "data": {
      "text/plain": [
       "Year_Type               object\n",
       "Year                    object\n",
       "Employee_Identifier      int64\n",
       "Salaries               float64\n",
       "Overtime               float64\n",
       "Other_Salaries         float64\n",
       "Total_Salary           float64\n",
       "Retirement             float64\n",
       "Health/Dental          float64\n",
       "Other_Benefits         float64\n",
       "Total_Benefits         float64\n",
       "Total_Compensation     float64\n",
       "dtype: object"
      ]
     },
     "execution_count": 19,
     "metadata": {},
     "output_type": "execute_result"
    }
   ],
   "source": [
    "# recheck the data types using 'dtypes'\n",
    "df_compensation.dtypes"
   ]
  },
  {
   "cell_type": "code",
   "execution_count": 20,
   "id": "c81bc437",
   "metadata": {},
   "outputs": [
    {
     "data": {
      "text/plain": [
       "Index(['Year_Type', 'Year', 'Employee_Identifier', 'Salaries', 'Overtime',\n",
       "       'Other_Salaries', 'Total_Salary', 'Retirement', 'Health/Dental',\n",
       "       'Other_Benefits', 'Total_Benefits', 'Total_Compensation'],\n",
       "      dtype='object')"
      ]
     },
     "execution_count": 20,
     "metadata": {},
     "output_type": "execute_result"
    }
   ],
   "source": [
    "df_compensation.columns"
   ]
  },
  {
   "cell_type": "markdown",
   "id": "7a34f443",
   "metadata": {},
   "source": [
    "### Remove insignificant variables"
   ]
  },
  {
   "cell_type": "code",
   "execution_count": 21,
   "id": "eaf3b62d",
   "metadata": {},
   "outputs": [],
   "source": [
    "df_compensation = df_compensation.drop('Employee_Identifier',axis=1)"
   ]
  },
  {
   "cell_type": "markdown",
   "id": "e208fdbf",
   "metadata": {},
   "source": [
    "### Outlier treatment"
   ]
  },
  {
   "cell_type": "code",
   "execution_count": 27,
   "id": "57ace130",
   "metadata": {
    "scrolled": false
   },
   "outputs": [
    {
     "data": {
      "image/png": "[encoded data removed]",
      "text/plain": [
       "<Figure size 1080x576 with 1 Axes>"
      ]
     },
     "metadata": {
      "needs_background": "light"
     },
     "output_type": "display_data"
    }
   ],
   "source": [
    "plt.figure(figsize = (15,8))\n",
    "df_compensation.boxplot()\n",
    "plt.xticks(rotation=90);"
   ]
  },
  {
   "cell_type": "markdown",
   "id": "3930c862",
   "metadata": {},
   "source": [
    "- Notice that the variables 'Salaries', 'Total_Salary' and 'Total_Compensation' have a quite large range as compared to the other variables. \n",
    "- Thus, it is difficult to see the outliers in such variables.\n",
    "- So, we plot the boxplots of independent variables again by not considering the variables 'Salaries', 'Total_Salary' and 'Total_Compensation'. The variable Health/Dental has no outliers."
   ]
  },
  {
   "cell_type": "code",
   "execution_count": 15,
   "id": "5c00efb1",
   "metadata": {
    "scrolled": false
   },
   "outputs": [
    {
     "data": {
      "image/png": "[encoded data removed]",
      "text/plain": [
       "<Figure size 1080x576 with 1 Axes>"
      ]
     },
     "metadata": {
      "needs_background": "light"
     },
     "output_type": "display_data"
    }
   ],
   "source": [
    "plt.figure(figsize = (15,8))\n",
    "df_compensation.loc[:,['Overtime', 'Other_Salaries', 'Retirement', 'Other_Benefits', 'Total_Benefits']].boxplot();"
   ]
  },
  {
   "cell_type": "code",
   "execution_count": 29,
   "id": "24feeed1",
   "metadata": {},
   "outputs": [],
   "source": [
    "df_num=df_compensation.select_dtypes(include=int)"
   ]
  },
  {
   "cell_type": "code",
   "execution_count": null,
   "id": "c848a08c",
   "metadata": {},
   "outputs": [],
   "source": [
    "#use sns #take home "
   ]
  },
  {
   "cell_type": "code",
   "execution_count": 31,
   "id": "7e375836",
   "metadata": {},
   "outputs": [
    {
     "data": {
      "text/plain": [
       "Year_Type             0\n",
       "Year                  0\n",
       "Salaries              0\n",
       "Overtime              0\n",
       "Other_Salaries        0\n",
       "Total_Salary          0\n",
       "Retirement            0\n",
       "Health/Dental         0\n",
       "Other_Benefits        0\n",
       "Total_Benefits        0\n",
       "Total_Compensation    0\n",
       "dtype: int64"
      ]
     },
     "execution_count": 31,
     "metadata": {},
     "output_type": "execute_result"
    }
   ],
   "source": [
    "df_compensation.isnull().sum()"
   ]
  },
  {
   "cell_type": "code",
   "execution_count": 16,
   "id": "5b2c4ce8",
   "metadata": {},
   "outputs": [
    {
     "data": {
      "text/plain": [
       "(37721, 11)"
      ]
     },
     "execution_count": 16,
     "metadata": {},
     "output_type": "execute_result"
    }
   ],
   "source": [
    "# calculate the first quartile\n",
    "Q1 = df_compensation.quantile(0.25)\n",
    "\n",
    "# calculate the third quartile\n",
    "Q3 = df_compensation.quantile(0.75)\n",
    "\n",
    "# The Interquartile Range (IQR) is defined as the difference between the third and first quartile\n",
    "# calculate IQR for each numeric variable\n",
    "IQR = Q3 - Q1\n",
    "\n",
    "# retrieve the dataframe without the outliers\n",
    "# '~' returns the values that do not satisfy the given conditions \n",
    "# i.e. it returns values between the range [Q1-1.5*IQR, Q3+1.5*IQR]\n",
    "# '|' is used as 'OR' operator on multiple conditions   \n",
    "# 'any(axis=1)' checks the entire row for atleast one 'True' entry (those rows represents outliers in the data)\n",
    "df_compensation = df_compensation[~((df_compensation < (Q1 - 1.5 * IQR)) | (df_compensation > (Q3 + 1.5 * IQR))).any(axis=1)]\n",
    "\n",
    "# check the shape of the data\n",
    "df_compensation.shape"
   ]
  },
  {
   "cell_type": "code",
   "execution_count": null,
   "id": "8c5ef98a",
   "metadata": {},
   "outputs": [],
   "source": [
    "#np.where # take home\n",
    "\n"
   ]
  },
  {
   "cell_type": "code",
   "execution_count": 26,
   "id": "133264d7",
   "metadata": {},
   "outputs": [],
   "source": [
    "df_num =df_compensation.select_dtypes(include = np.number)\n",
    "\n"
   ]
  },
  {
   "cell_type": "code",
   "execution_count": 27,
   "id": "01a43175",
   "metadata": {},
   "outputs": [
    {
     "data": {
      "text/html": [
       "<div>\n",
       "<style scoped>\n",
       "    .dataframe tbody tr th:only-of-type {\n",
       "        vertical-align: middle;\n",
       "    }\n",
       "\n",
       "    .dataframe tbody tr th {\n",
       "        vertical-align: top;\n",
       "    }\n",
       "\n",
       "    .dataframe thead th {\n",
       "        text-align: right;\n",
       "    }\n",
       "</style>\n",
       "<table border=\"1\" class=\"dataframe\">\n",
       "  <thead>\n",
       "    <tr style=\"text-align: right;\">\n",
       "      <th></th>\n",
       "      <th>Salaries</th>\n",
       "      <th>Overtime</th>\n",
       "      <th>Other_Salaries</th>\n",
       "      <th>Total_Salary</th>\n",
       "      <th>Retirement</th>\n",
       "      <th>Health/Dental</th>\n",
       "      <th>Other_Benefits</th>\n",
       "      <th>Total_Benefits</th>\n",
       "      <th>Total_Compensation</th>\n",
       "    </tr>\n",
       "  </thead>\n",
       "  <tbody>\n",
       "    <tr>\n",
       "      <th>0</th>\n",
       "      <td>92288.22</td>\n",
       "      <td>267.45000</td>\n",
       "      <td>267.45</td>\n",
       "      <td>92823.12</td>\n",
       "      <td>20700.20</td>\n",
       "      <td>12500.56</td>\n",
       "      <td>7605.75</td>\n",
       "      <td>40806.51</td>\n",
       "      <td>133629.63</td>\n",
       "    </tr>\n",
       "    <tr>\n",
       "      <th>1</th>\n",
       "      <td>1466.38</td>\n",
       "      <td>348.23000</td>\n",
       "      <td>0.00</td>\n",
       "      <td>1814.61</td>\n",
       "      <td>0.00</td>\n",
       "      <td>442.03</td>\n",
       "      <td>141.59</td>\n",
       "      <td>583.62</td>\n",
       "      <td>2398.23</td>\n",
       "    </tr>\n",
       "    <tr>\n",
       "      <th>2</th>\n",
       "      <td>76536.95</td>\n",
       "      <td>6622.20625</td>\n",
       "      <td>10855.94</td>\n",
       "      <td>100976.61</td>\n",
       "      <td>18632.19</td>\n",
       "      <td>12464.61</td>\n",
       "      <td>8011.41</td>\n",
       "      <td>39108.21</td>\n",
       "      <td>140084.82</td>\n",
       "    </tr>\n",
       "    <tr>\n",
       "      <th>3</th>\n",
       "      <td>45659.88</td>\n",
       "      <td>0.00000</td>\n",
       "      <td>1625.37</td>\n",
       "      <td>47285.25</td>\n",
       "      <td>10081.20</td>\n",
       "      <td>0.00</td>\n",
       "      <td>3936.63</td>\n",
       "      <td>14017.83</td>\n",
       "      <td>61303.08</td>\n",
       "    </tr>\n",
       "    <tr>\n",
       "      <th>4</th>\n",
       "      <td>41832.00</td>\n",
       "      <td>0.00000</td>\n",
       "      <td>0.00</td>\n",
       "      <td>41832.00</td>\n",
       "      <td>7617.60</td>\n",
       "      <td>5908.52</td>\n",
       "      <td>3254.50</td>\n",
       "      <td>16780.62</td>\n",
       "      <td>58612.62</td>\n",
       "    </tr>\n",
       "    <tr>\n",
       "      <th>...</th>\n",
       "      <td>...</td>\n",
       "      <td>...</td>\n",
       "      <td>...</td>\n",
       "      <td>...</td>\n",
       "      <td>...</td>\n",
       "      <td>...</td>\n",
       "      <td>...</td>\n",
       "      <td>...</td>\n",
       "      <td>...</td>\n",
       "    </tr>\n",
       "    <tr>\n",
       "      <th>49995</th>\n",
       "      <td>100222.50</td>\n",
       "      <td>6622.20625</td>\n",
       "      <td>600.00</td>\n",
       "      <td>117988.63</td>\n",
       "      <td>18763.05</td>\n",
       "      <td>13068.80</td>\n",
       "      <td>9406.86</td>\n",
       "      <td>41238.71</td>\n",
       "      <td>159227.34</td>\n",
       "    </tr>\n",
       "    <tr>\n",
       "      <th>49996</th>\n",
       "      <td>1787.41</td>\n",
       "      <td>0.00000</td>\n",
       "      <td>0.00</td>\n",
       "      <td>1787.41</td>\n",
       "      <td>0.00</td>\n",
       "      <td>563.31</td>\n",
       "      <td>145.36</td>\n",
       "      <td>708.67</td>\n",
       "      <td>2496.08</td>\n",
       "    </tr>\n",
       "    <tr>\n",
       "      <th>49997</th>\n",
       "      <td>36552.83</td>\n",
       "      <td>0.00000</td>\n",
       "      <td>0.00</td>\n",
       "      <td>36552.83</td>\n",
       "      <td>6802.48</td>\n",
       "      <td>6855.83</td>\n",
       "      <td>3071.63</td>\n",
       "      <td>16729.94</td>\n",
       "      <td>53282.77</td>\n",
       "    </tr>\n",
       "    <tr>\n",
       "      <th>49998</th>\n",
       "      <td>46995.30</td>\n",
       "      <td>0.00000</td>\n",
       "      <td>10943.14</td>\n",
       "      <td>57938.44</td>\n",
       "      <td>8840.98</td>\n",
       "      <td>10624.64</td>\n",
       "      <td>4706.37</td>\n",
       "      <td>24171.99</td>\n",
       "      <td>82110.43</td>\n",
       "    </tr>\n",
       "    <tr>\n",
       "      <th>49999</th>\n",
       "      <td>69268.81</td>\n",
       "      <td>0.00000</td>\n",
       "      <td>1648.09</td>\n",
       "      <td>70916.90</td>\n",
       "      <td>15119.46</td>\n",
       "      <td>12464.61</td>\n",
       "      <td>5853.52</td>\n",
       "      <td>33437.59</td>\n",
       "      <td>104354.49</td>\n",
       "    </tr>\n",
       "  </tbody>\n",
       "</table>\n",
       "<p>50000 rows × 9 columns</p>\n",
       "</div>"
      ],
      "text/plain": [
       "        Salaries    Overtime  Other_Salaries  Total_Salary  Retirement  \\\n",
       "0       92288.22   267.45000          267.45      92823.12    20700.20   \n",
       "1        1466.38   348.23000            0.00       1814.61        0.00   \n",
       "2       76536.95  6622.20625        10855.94     100976.61    18632.19   \n",
       "3       45659.88     0.00000         1625.37      47285.25    10081.20   \n",
       "4       41832.00     0.00000            0.00      41832.00     7617.60   \n",
       "...          ...         ...             ...           ...         ...   \n",
       "49995  100222.50  6622.20625          600.00     117988.63    18763.05   \n",
       "49996    1787.41     0.00000            0.00       1787.41        0.00   \n",
       "49997   36552.83     0.00000            0.00      36552.83     6802.48   \n",
       "49998   46995.30     0.00000        10943.14      57938.44     8840.98   \n",
       "49999   69268.81     0.00000         1648.09      70916.90    15119.46   \n",
       "\n",
       "       Health/Dental  Other_Benefits  Total_Benefits  Total_Compensation  \n",
       "0           12500.56         7605.75        40806.51           133629.63  \n",
       "1             442.03          141.59          583.62             2398.23  \n",
       "2           12464.61         8011.41        39108.21           140084.82  \n",
       "3               0.00         3936.63        14017.83            61303.08  \n",
       "4            5908.52         3254.50        16780.62            58612.62  \n",
       "...              ...             ...             ...                 ...  \n",
       "49995       13068.80         9406.86        41238.71           159227.34  \n",
       "49996         563.31          145.36          708.67             2496.08  \n",
       "49997        6855.83         3071.63        16729.94            53282.77  \n",
       "49998       10624.64         4706.37        24171.99            82110.43  \n",
       "49999       12464.61         5853.52        33437.59           104354.49  \n",
       "\n",
       "[50000 rows x 9 columns]"
      ]
     },
     "execution_count": 27,
     "metadata": {},
     "output_type": "execute_result"
    }
   ],
   "source": [
    "for i in df_num.columns:\n",
    "    q1=df_num[i].quantile(0.25)\n",
    "    q3=df_num[i].quantile(0.75)\n",
    "    iqr=q3-q1\n",
    "    ul=q3+(1.5*iqr)\n",
    "    ll=q1-(1.5*iqr)\n",
    "    df_num[i]=np.where(df_num[i]>ul,ul,df_num[i])\n",
    "    df_num[i]=np.where(df_num[i]<ll,ll,df_num[i])\n",
    "df_num"
   ]
  },
  {
   "cell_type": "code",
   "execution_count": 28,
   "id": "ef516999",
   "metadata": {},
   "outputs": [
    {
     "data": {
      "image/png": "[encoded data removed]",
      "text/plain": [
       "<Figure size 1080x576 with 1 Axes>"
      ]
     },
     "metadata": {
      "needs_background": "light"
     },
     "output_type": "display_data"
    }
   ],
   "source": [
    "plt.figure(figsize = (15,8))\n",
    "df_num.boxplot();"
   ]
  },
  {
   "cell_type": "code",
   "execution_count": null,
   "id": "5e76fdee",
   "metadata": {},
   "outputs": [],
   "source": [
    "df_cat=df_compensation.select_dtypes(include = object)"
   ]
  },
  {
   "cell_type": "code",
   "execution_count": null,
   "id": "a9e86164",
   "metadata": {},
   "outputs": [],
   "source": []
  },
  {
   "cell_type": "code",
   "execution_count": null,
   "id": "e6fb8107",
   "metadata": {},
   "outputs": [],
   "source": []
  },
  {
   "cell_type": "code",
   "execution_count": null,
   "id": "36a40737",
   "metadata": {},
   "outputs": [],
   "source": []
  },
  {
   "cell_type": "markdown",
   "id": "d8afb118",
   "metadata": {},
   "source": [
    "### Scaling the data "
   ]
  },
  {
   "cell_type": "code",
   "execution_count": 18,
   "id": "cea96f7c",
   "metadata": {},
   "outputs": [],
   "source": [
    "df_compensation_1=df_compensation.copy()\n",
    "df_compensation_2=df_compensation.copy()"
   ]
  },
  {
   "cell_type": "code",
   "execution_count": 19,
   "id": "5c796046",
   "metadata": {},
   "outputs": [
    {
     "data": {
      "text/html": [
       "<div>\n",
       "<style scoped>\n",
       "    .dataframe tbody tr th:only-of-type {\n",
       "        vertical-align: middle;\n",
       "    }\n",
       "\n",
       "    .dataframe tbody tr th {\n",
       "        vertical-align: top;\n",
       "    }\n",
       "\n",
       "    .dataframe thead th {\n",
       "        text-align: right;\n",
       "    }\n",
       "</style>\n",
       "<table border=\"1\" class=\"dataframe\">\n",
       "  <thead>\n",
       "    <tr style=\"text-align: right;\">\n",
       "      <th></th>\n",
       "      <th>Year_Type</th>\n",
       "      <th>Year</th>\n",
       "      <th>Salaries</th>\n",
       "      <th>Overtime</th>\n",
       "      <th>Other_Salaries</th>\n",
       "      <th>Total_Salary</th>\n",
       "      <th>Retirement</th>\n",
       "      <th>Health/Dental</th>\n",
       "      <th>Other_Benefits</th>\n",
       "      <th>Total_Benefits</th>\n",
       "      <th>Total_Compensation</th>\n",
       "    </tr>\n",
       "  </thead>\n",
       "  <tbody>\n",
       "    <tr>\n",
       "      <th>0</th>\n",
       "      <td>Fiscal</td>\n",
       "      <td>2015</td>\n",
       "      <td>92288.22</td>\n",
       "      <td>267.45</td>\n",
       "      <td>267.45</td>\n",
       "      <td>92823.12</td>\n",
       "      <td>20700.20</td>\n",
       "      <td>12500.56</td>\n",
       "      <td>7605.75</td>\n",
       "      <td>40806.51</td>\n",
       "      <td>133629.63</td>\n",
       "    </tr>\n",
       "    <tr>\n",
       "      <th>1</th>\n",
       "      <td>Calendar</td>\n",
       "      <td>2015</td>\n",
       "      <td>1466.38</td>\n",
       "      <td>348.23</td>\n",
       "      <td>0.00</td>\n",
       "      <td>1814.61</td>\n",
       "      <td>0.00</td>\n",
       "      <td>442.03</td>\n",
       "      <td>141.59</td>\n",
       "      <td>583.62</td>\n",
       "      <td>2398.23</td>\n",
       "    </tr>\n",
       "    <tr>\n",
       "      <th>3</th>\n",
       "      <td>Fiscal</td>\n",
       "      <td>2014</td>\n",
       "      <td>45659.88</td>\n",
       "      <td>0.00</td>\n",
       "      <td>1625.37</td>\n",
       "      <td>47285.25</td>\n",
       "      <td>10081.20</td>\n",
       "      <td>0.00</td>\n",
       "      <td>3936.63</td>\n",
       "      <td>14017.83</td>\n",
       "      <td>61303.08</td>\n",
       "    </tr>\n",
       "    <tr>\n",
       "      <th>4</th>\n",
       "      <td>Fiscal</td>\n",
       "      <td>2013</td>\n",
       "      <td>41832.00</td>\n",
       "      <td>0.00</td>\n",
       "      <td>0.00</td>\n",
       "      <td>41832.00</td>\n",
       "      <td>7617.60</td>\n",
       "      <td>5908.52</td>\n",
       "      <td>3254.50</td>\n",
       "      <td>16780.62</td>\n",
       "      <td>58612.62</td>\n",
       "    </tr>\n",
       "    <tr>\n",
       "      <th>5</th>\n",
       "      <td>Calendar</td>\n",
       "      <td>2013</td>\n",
       "      <td>74132.00</td>\n",
       "      <td>0.00</td>\n",
       "      <td>1443.42</td>\n",
       "      <td>75575.42</td>\n",
       "      <td>14851.23</td>\n",
       "      <td>12888.34</td>\n",
       "      <td>6233.85</td>\n",
       "      <td>33973.42</td>\n",
       "      <td>109548.84</td>\n",
       "    </tr>\n",
       "  </tbody>\n",
       "</table>\n",
       "</div>"
      ],
      "text/plain": [
       "  Year_Type  Year  Salaries  Overtime  Other_Salaries  Total_Salary  \\\n",
       "0    Fiscal  2015  92288.22    267.45          267.45      92823.12   \n",
       "1  Calendar  2015   1466.38    348.23            0.00       1814.61   \n",
       "3    Fiscal  2014  45659.88      0.00         1625.37      47285.25   \n",
       "4    Fiscal  2013  41832.00      0.00            0.00      41832.00   \n",
       "5  Calendar  2013  74132.00      0.00         1443.42      75575.42   \n",
       "\n",
       "   Retirement  Health/Dental  Other_Benefits  Total_Benefits  \\\n",
       "0    20700.20       12500.56         7605.75        40806.51   \n",
       "1        0.00         442.03          141.59          583.62   \n",
       "3    10081.20           0.00         3936.63        14017.83   \n",
       "4     7617.60        5908.52         3254.50        16780.62   \n",
       "5    14851.23       12888.34         6233.85        33973.42   \n",
       "\n",
       "   Total_Compensation  \n",
       "0           133629.63  \n",
       "1             2398.23  \n",
       "3            61303.08  \n",
       "4            58612.62  \n",
       "5           109548.84  "
      ]
     },
     "execution_count": 19,
     "metadata": {},
     "output_type": "execute_result"
    }
   ],
   "source": [
    "df_compensation_1.head()"
   ]
  },
  {
   "cell_type": "code",
   "execution_count": 20,
   "id": "54ed97b8",
   "metadata": {
    "scrolled": true
   },
   "outputs": [
    {
     "data": {
      "text/html": [
       "<div>\n",
       "<style scoped>\n",
       "    .dataframe tbody tr th:only-of-type {\n",
       "        vertical-align: middle;\n",
       "    }\n",
       "\n",
       "    .dataframe tbody tr th {\n",
       "        vertical-align: top;\n",
       "    }\n",
       "\n",
       "    .dataframe thead th {\n",
       "        text-align: right;\n",
       "    }\n",
       "</style>\n",
       "<table border=\"1\" class=\"dataframe\">\n",
       "  <thead>\n",
       "    <tr style=\"text-align: right;\">\n",
       "      <th></th>\n",
       "      <th>Salaries</th>\n",
       "      <th>Overtime</th>\n",
       "      <th>Other_Salaries</th>\n",
       "      <th>Total_Salary</th>\n",
       "      <th>Retirement</th>\n",
       "      <th>Health/Dental</th>\n",
       "      <th>Other_Benefits</th>\n",
       "      <th>Total_Benefits</th>\n",
       "      <th>Total_Compensation</th>\n",
       "    </tr>\n",
       "  </thead>\n",
       "  <tbody>\n",
       "    <tr>\n",
       "      <th>0</th>\n",
       "      <td>92288.22</td>\n",
       "      <td>267.45</td>\n",
       "      <td>267.45</td>\n",
       "      <td>92823.12</td>\n",
       "      <td>20700.20</td>\n",
       "      <td>12500.56</td>\n",
       "      <td>7605.75</td>\n",
       "      <td>40806.51</td>\n",
       "      <td>133629.63</td>\n",
       "    </tr>\n",
       "    <tr>\n",
       "      <th>1</th>\n",
       "      <td>1466.38</td>\n",
       "      <td>348.23</td>\n",
       "      <td>0.00</td>\n",
       "      <td>1814.61</td>\n",
       "      <td>0.00</td>\n",
       "      <td>442.03</td>\n",
       "      <td>141.59</td>\n",
       "      <td>583.62</td>\n",
       "      <td>2398.23</td>\n",
       "    </tr>\n",
       "    <tr>\n",
       "      <th>3</th>\n",
       "      <td>45659.88</td>\n",
       "      <td>0.00</td>\n",
       "      <td>1625.37</td>\n",
       "      <td>47285.25</td>\n",
       "      <td>10081.20</td>\n",
       "      <td>0.00</td>\n",
       "      <td>3936.63</td>\n",
       "      <td>14017.83</td>\n",
       "      <td>61303.08</td>\n",
       "    </tr>\n",
       "    <tr>\n",
       "      <th>4</th>\n",
       "      <td>41832.00</td>\n",
       "      <td>0.00</td>\n",
       "      <td>0.00</td>\n",
       "      <td>41832.00</td>\n",
       "      <td>7617.60</td>\n",
       "      <td>5908.52</td>\n",
       "      <td>3254.50</td>\n",
       "      <td>16780.62</td>\n",
       "      <td>58612.62</td>\n",
       "    </tr>\n",
       "    <tr>\n",
       "      <th>5</th>\n",
       "      <td>74132.00</td>\n",
       "      <td>0.00</td>\n",
       "      <td>1443.42</td>\n",
       "      <td>75575.42</td>\n",
       "      <td>14851.23</td>\n",
       "      <td>12888.34</td>\n",
       "      <td>6233.85</td>\n",
       "      <td>33973.42</td>\n",
       "      <td>109548.84</td>\n",
       "    </tr>\n",
       "  </tbody>\n",
       "</table>\n",
       "</div>"
      ],
      "text/plain": [
       "   Salaries  Overtime  Other_Salaries  Total_Salary  Retirement  \\\n",
       "0  92288.22    267.45          267.45      92823.12    20700.20   \n",
       "1   1466.38    348.23            0.00       1814.61        0.00   \n",
       "3  45659.88      0.00         1625.37      47285.25    10081.20   \n",
       "4  41832.00      0.00            0.00      41832.00     7617.60   \n",
       "5  74132.00      0.00         1443.42      75575.42    14851.23   \n",
       "\n",
       "   Health/Dental  Other_Benefits  Total_Benefits  Total_Compensation  \n",
       "0       12500.56         7605.75        40806.51           133629.63  \n",
       "1         442.03          141.59          583.62             2398.23  \n",
       "3           0.00         3936.63        14017.83            61303.08  \n",
       "4        5908.52         3254.50        16780.62            58612.62  \n",
       "5       12888.34         6233.85        33973.42           109548.84  "
      ]
     },
     "execution_count": 20,
     "metadata": {},
     "output_type": "execute_result"
    }
   ],
   "source": [
    "# scale the independent numeric variables\n",
    "df_compensation_1.iloc[:, 2:11].head()"
   ]
  },
  {
   "cell_type": "markdown",
   "id": "07d1120b",
   "metadata": {},
   "source": [
    "## Using Standard Scaler for scaling "
   ]
  },
  {
   "cell_type": "code",
   "execution_count": 19,
   "id": "a288521e",
   "metadata": {
    "scrolled": true
   },
   "outputs": [
    {
     "data": {
      "text/html": [
       "<div>\n",
       "<style scoped>\n",
       "    .dataframe tbody tr th:only-of-type {\n",
       "        vertical-align: middle;\n",
       "    }\n",
       "\n",
       "    .dataframe tbody tr th {\n",
       "        vertical-align: top;\n",
       "    }\n",
       "\n",
       "    .dataframe thead th {\n",
       "        text-align: right;\n",
       "    }\n",
       "</style>\n",
       "<table border=\"1\" class=\"dataframe\">\n",
       "  <thead>\n",
       "    <tr style=\"text-align: right;\">\n",
       "      <th></th>\n",
       "      <th>Salaries</th>\n",
       "      <th>Overtime</th>\n",
       "      <th>Other_Salaries</th>\n",
       "      <th>Total_Salary</th>\n",
       "      <th>Retirement</th>\n",
       "      <th>Health/Dental</th>\n",
       "      <th>Other_Benefits</th>\n",
       "      <th>Total_Benefits</th>\n",
       "      <th>Total_Compensation</th>\n",
       "    </tr>\n",
       "  </thead>\n",
       "  <tbody>\n",
       "    <tr>\n",
       "      <th>0</th>\n",
       "      <td>0.983488</td>\n",
       "      <td>-0.228091</td>\n",
       "      <td>-0.474919</td>\n",
       "      <td>0.926912</td>\n",
       "      <td>1.178494</td>\n",
       "      <td>0.916565</td>\n",
       "      <td>1.145315</td>\n",
       "      <td>1.160922</td>\n",
       "      <td>1.001727</td>\n",
       "    </tr>\n",
       "    <tr>\n",
       "      <th>1</th>\n",
       "      <td>-1.252266</td>\n",
       "      <td>-0.167552</td>\n",
       "      <td>-0.587276</td>\n",
       "      <td>-1.263215</td>\n",
       "      <td>-1.180529</td>\n",
       "      <td>-1.491462</td>\n",
       "      <td>-1.259970</td>\n",
       "      <td>-1.365191</td>\n",
       "      <td>-1.304472</td>\n",
       "    </tr>\n",
       "    <tr>\n",
       "      <th>3</th>\n",
       "      <td>-0.164358</td>\n",
       "      <td>-0.428525</td>\n",
       "      <td>0.095551</td>\n",
       "      <td>-0.168961</td>\n",
       "      <td>-0.031662</td>\n",
       "      <td>-1.579733</td>\n",
       "      <td>-0.037039</td>\n",
       "      <td>-0.521484</td>\n",
       "      <td>-0.269306</td>\n",
       "    </tr>\n",
       "    <tr>\n",
       "      <th>4</th>\n",
       "      <td>-0.258589</td>\n",
       "      <td>-0.428525</td>\n",
       "      <td>-0.587276</td>\n",
       "      <td>-0.300194</td>\n",
       "      <td>-0.312417</td>\n",
       "      <td>-0.399832</td>\n",
       "      <td>-0.256852</td>\n",
       "      <td>-0.347973</td>\n",
       "      <td>-0.316586</td>\n",
       "    </tr>\n",
       "    <tr>\n",
       "      <th>5</th>\n",
       "      <td>0.536538</td>\n",
       "      <td>-0.428525</td>\n",
       "      <td>0.019113</td>\n",
       "      <td>0.511845</td>\n",
       "      <td>0.511937</td>\n",
       "      <td>0.994002</td>\n",
       "      <td>0.703228</td>\n",
       "      <td>0.731784</td>\n",
       "      <td>0.578543</td>\n",
       "    </tr>\n",
       "  </tbody>\n",
       "</table>\n",
       "</div>"
      ],
      "text/plain": [
       "   Salaries  Overtime  Other_Salaries  Total_Salary  Retirement  \\\n",
       "0  0.983488 -0.228091       -0.474919      0.926912    1.178494   \n",
       "1 -1.252266 -0.167552       -0.587276     -1.263215   -1.180529   \n",
       "3 -0.164358 -0.428525        0.095551     -0.168961   -0.031662   \n",
       "4 -0.258589 -0.428525       -0.587276     -0.300194   -0.312417   \n",
       "5  0.536538 -0.428525        0.019113      0.511845    0.511937   \n",
       "\n",
       "   Health/Dental  Other_Benefits  Total_Benefits  Total_Compensation  \n",
       "0       0.916565        1.145315        1.160922            1.001727  \n",
       "1      -1.491462       -1.259970       -1.365191           -1.304472  \n",
       "3      -1.579733       -0.037039       -0.521484           -0.269306  \n",
       "4      -0.399832       -0.256852       -0.347973           -0.316586  \n",
       "5       0.994002        0.703228        0.731784            0.578543  "
      ]
     },
     "execution_count": 19,
     "metadata": {},
     "output_type": "execute_result"
    }
   ],
   "source": [
    "#using formula \n",
    "df_compensation_1.iloc[:, 2:11] = df_compensation_1.iloc[:, 2:11].apply(lambda rec: (rec - rec.mean()) / rec.std())\n",
    "\n",
    "df_compensation_1.iloc[:, 2:11].head()"
   ]
  },
  {
   "cell_type": "code",
   "execution_count": 20,
   "id": "e2573908",
   "metadata": {},
   "outputs": [],
   "source": [
    "ss=StandardScaler()"
   ]
  },
  {
   "cell_type": "code",
   "execution_count": 21,
   "id": "4ab40ff7",
   "metadata": {},
   "outputs": [],
   "source": [
    "#using code\n",
    "df_compensation_2.iloc[:, 2:11]=ss.fit_transform(df_compensation_2.iloc[:, 2:11])"
   ]
  },
  {
   "cell_type": "code",
   "execution_count": 23,
   "id": "8f1a10ad",
   "metadata": {},
   "outputs": [
    {
     "data": {
      "text/html": [
       "<div>\n",
       "<style scoped>\n",
       "    .dataframe tbody tr th:only-of-type {\n",
       "        vertical-align: middle;\n",
       "    }\n",
       "\n",
       "    .dataframe tbody tr th {\n",
       "        vertical-align: top;\n",
       "    }\n",
       "\n",
       "    .dataframe thead th {\n",
       "        text-align: right;\n",
       "    }\n",
       "</style>\n",
       "<table border=\"1\" class=\"dataframe\">\n",
       "  <thead>\n",
       "    <tr style=\"text-align: right;\">\n",
       "      <th></th>\n",
       "      <th>Salaries</th>\n",
       "      <th>Overtime</th>\n",
       "      <th>Other_Salaries</th>\n",
       "      <th>Total_Salary</th>\n",
       "      <th>Retirement</th>\n",
       "      <th>Health/Dental</th>\n",
       "      <th>Other_Benefits</th>\n",
       "      <th>Total_Benefits</th>\n",
       "      <th>Total_Compensation</th>\n",
       "    </tr>\n",
       "  </thead>\n",
       "  <tbody>\n",
       "    <tr>\n",
       "      <th>0</th>\n",
       "      <td>0.983501</td>\n",
       "      <td>-0.228094</td>\n",
       "      <td>-0.474925</td>\n",
       "      <td>0.926924</td>\n",
       "      <td>1.178509</td>\n",
       "      <td>0.916577</td>\n",
       "      <td>1.145330</td>\n",
       "      <td>1.160937</td>\n",
       "      <td>1.001741</td>\n",
       "    </tr>\n",
       "    <tr>\n",
       "      <th>1</th>\n",
       "      <td>-1.252282</td>\n",
       "      <td>-0.167554</td>\n",
       "      <td>-0.587284</td>\n",
       "      <td>-1.263232</td>\n",
       "      <td>-1.180545</td>\n",
       "      <td>-1.491481</td>\n",
       "      <td>-1.259987</td>\n",
       "      <td>-1.365209</td>\n",
       "      <td>-1.304489</td>\n",
       "    </tr>\n",
       "    <tr>\n",
       "      <th>3</th>\n",
       "      <td>-0.164360</td>\n",
       "      <td>-0.428531</td>\n",
       "      <td>0.095552</td>\n",
       "      <td>-0.168963</td>\n",
       "      <td>-0.031662</td>\n",
       "      <td>-1.579754</td>\n",
       "      <td>-0.037040</td>\n",
       "      <td>-0.521491</td>\n",
       "      <td>-0.269309</td>\n",
       "    </tr>\n",
       "    <tr>\n",
       "      <th>4</th>\n",
       "      <td>-0.258592</td>\n",
       "      <td>-0.428531</td>\n",
       "      <td>-0.587284</td>\n",
       "      <td>-0.300198</td>\n",
       "      <td>-0.312421</td>\n",
       "      <td>-0.399837</td>\n",
       "      <td>-0.256855</td>\n",
       "      <td>-0.347977</td>\n",
       "      <td>-0.316591</td>\n",
       "    </tr>\n",
       "    <tr>\n",
       "      <th>5</th>\n",
       "      <td>0.536545</td>\n",
       "      <td>-0.428531</td>\n",
       "      <td>0.019113</td>\n",
       "      <td>0.511851</td>\n",
       "      <td>0.511944</td>\n",
       "      <td>0.994015</td>\n",
       "      <td>0.703237</td>\n",
       "      <td>0.731794</td>\n",
       "      <td>0.578551</td>\n",
       "    </tr>\n",
       "  </tbody>\n",
       "</table>\n",
       "</div>"
      ],
      "text/plain": [
       "   Salaries  Overtime  Other_Salaries  Total_Salary  Retirement  \\\n",
       "0  0.983501 -0.228094       -0.474925      0.926924    1.178509   \n",
       "1 -1.252282 -0.167554       -0.587284     -1.263232   -1.180545   \n",
       "3 -0.164360 -0.428531        0.095552     -0.168963   -0.031662   \n",
       "4 -0.258592 -0.428531       -0.587284     -0.300198   -0.312421   \n",
       "5  0.536545 -0.428531        0.019113      0.511851    0.511944   \n",
       "\n",
       "   Health/Dental  Other_Benefits  Total_Benefits  Total_Compensation  \n",
       "0       0.916577        1.145330        1.160937            1.001741  \n",
       "1      -1.491481       -1.259987       -1.365209           -1.304489  \n",
       "3      -1.579754       -0.037040       -0.521491           -0.269309  \n",
       "4      -0.399837       -0.256855       -0.347977           -0.316591  \n",
       "5       0.994015        0.703237        0.731794            0.578551  "
      ]
     },
     "execution_count": 23,
     "metadata": {},
     "output_type": "execute_result"
    }
   ],
   "source": [
    "df_compensation_2.iloc[:, 2:11].head()"
   ]
  },
  {
   "cell_type": "markdown",
   "id": "a2ffaf98",
   "metadata": {},
   "source": [
    "# Model building"
   ]
  },
  {
   "cell_type": "markdown",
   "id": "99efbf82",
   "metadata": {},
   "source": [
    "### Simple linear regression Model"
   ]
  },
  {
   "cell_type": "code",
   "execution_count": 26,
   "id": "e29b7f26",
   "metadata": {},
   "outputs": [],
   "source": [
    "x=df_compensation_1[\"Total_Benefits\"]\n",
    "y=df_compensation_1[\"Total_Compensation\"]"
   ]
  },
  {
   "cell_type": "code",
   "execution_count": 31,
   "id": "19a0841d",
   "metadata": {},
   "outputs": [],
   "source": [
    "#splitting the data set into train and test data set \n",
    "xtrain,xtest,ytrain,ytest=train_test_split(x,y,train_size=0.7,test_size=0.3,random_state=1)"
   ]
  },
  {
   "cell_type": "code",
   "execution_count": 32,
   "id": "283eab86",
   "metadata": {},
   "outputs": [
    {
     "name": "stdout",
     "output_type": "stream",
     "text": [
      "x_train (26404,)\n",
      "y_train (26404,)\n",
      "x_test (11317,)\n",
      "y_test (11317,)\n"
     ]
    }
   ],
   "source": [
    "#checking the size of train and test data\n",
    "print('x_train', xtrain.shape)\n",
    "print('y_train', ytrain.shape)\n",
    "\n",
    "# print dimension of test set\n",
    "print('x_test', xtest.shape)\n",
    "print('y_test', ytest.shape)"
   ]
  },
  {
   "cell_type": "code",
   "execution_count": 30,
   "id": "3997d2f7",
   "metadata": {},
   "outputs": [],
   "source": [
    "#Building a simple linear regression model \n",
    "#aading constant value - B0 - Beta not value\n",
    "xtrain_con=sm.add_constant(xtrain)\n",
    "xtest_con=sm.add_constant(xtest)"
   ]
  },
  {
   "cell_type": "code",
   "execution_count": 31,
   "id": "5069c816",
   "metadata": {},
   "outputs": [
    {
     "data": {
      "text/html": [
       "<div>\n",
       "<style scoped>\n",
       "    .dataframe tbody tr th:only-of-type {\n",
       "        vertical-align: middle;\n",
       "    }\n",
       "\n",
       "    .dataframe tbody tr th {\n",
       "        vertical-align: top;\n",
       "    }\n",
       "\n",
       "    .dataframe thead th {\n",
       "        text-align: right;\n",
       "    }\n",
       "</style>\n",
       "<table border=\"1\" class=\"dataframe\">\n",
       "  <thead>\n",
       "    <tr style=\"text-align: right;\">\n",
       "      <th></th>\n",
       "      <th>const</th>\n",
       "      <th>Total_Benefits</th>\n",
       "    </tr>\n",
       "  </thead>\n",
       "  <tbody>\n",
       "    <tr>\n",
       "      <th>7580</th>\n",
       "      <td>1.0</td>\n",
       "      <td>0.354816</td>\n",
       "    </tr>\n",
       "    <tr>\n",
       "      <th>15923</th>\n",
       "      <td>1.0</td>\n",
       "      <td>1.316932</td>\n",
       "    </tr>\n",
       "    <tr>\n",
       "      <th>5380</th>\n",
       "      <td>1.0</td>\n",
       "      <td>0.242893</td>\n",
       "    </tr>\n",
       "    <tr>\n",
       "      <th>9580</th>\n",
       "      <td>1.0</td>\n",
       "      <td>-0.352773</td>\n",
       "    </tr>\n",
       "    <tr>\n",
       "      <th>3690</th>\n",
       "      <td>1.0</td>\n",
       "      <td>-1.353940</td>\n",
       "    </tr>\n",
       "    <tr>\n",
       "      <th>...</th>\n",
       "      <td>...</td>\n",
       "      <td>...</td>\n",
       "    </tr>\n",
       "    <tr>\n",
       "      <th>10391</th>\n",
       "      <td>1.0</td>\n",
       "      <td>1.522861</td>\n",
       "    </tr>\n",
       "    <tr>\n",
       "      <th>43031</th>\n",
       "      <td>1.0</td>\n",
       "      <td>-0.361594</td>\n",
       "    </tr>\n",
       "    <tr>\n",
       "      <th>6909</th>\n",
       "      <td>1.0</td>\n",
       "      <td>1.034111</td>\n",
       "    </tr>\n",
       "    <tr>\n",
       "      <th>16191</th>\n",
       "      <td>1.0</td>\n",
       "      <td>0.118453</td>\n",
       "    </tr>\n",
       "    <tr>\n",
       "      <th>43708</th>\n",
       "      <td>1.0</td>\n",
       "      <td>0.533251</td>\n",
       "    </tr>\n",
       "  </tbody>\n",
       "</table>\n",
       "<p>26404 rows × 2 columns</p>\n",
       "</div>"
      ],
      "text/plain": [
       "       const  Total_Benefits\n",
       "7580     1.0        0.354816\n",
       "15923    1.0        1.316932\n",
       "5380     1.0        0.242893\n",
       "9580     1.0       -0.352773\n",
       "3690     1.0       -1.353940\n",
       "...      ...             ...\n",
       "10391    1.0        1.522861\n",
       "43031    1.0       -0.361594\n",
       "6909     1.0        1.034111\n",
       "16191    1.0        0.118453\n",
       "43708    1.0        0.533251\n",
       "\n",
       "[26404 rows x 2 columns]"
      ]
     },
     "execution_count": 31,
     "metadata": {},
     "output_type": "execute_result"
    }
   ],
   "source": [
    "pd.DataFrame(xtrain_con)"
   ]
  },
  {
   "cell_type": "code",
   "execution_count": 33,
   "id": "dbe6670f",
   "metadata": {},
   "outputs": [],
   "source": [
    "#Building model\n",
    "SLR_model= sm.OLS(ytrain, xtrain).fit()"
   ]
  },
  {
   "cell_type": "code",
   "execution_count": 34,
   "id": "6f4d5687",
   "metadata": {
    "scrolled": false
   },
   "outputs": [
    {
     "data": {
      "text/html": [
       "<table class=\"simpletable\">\n",
       "<caption>OLS Regression Results</caption>\n",
       "<tr>\n",
       "  <th>Dep. Variable:</th>    <td>Total_Compensation</td> <th>  R-squared (uncentered):</th>      <td>   0.947</td> \n",
       "</tr>\n",
       "<tr>\n",
       "  <th>Model:</th>                    <td>OLS</td>        <th>  Adj. R-squared (uncentered):</th> <td>   0.947</td> \n",
       "</tr>\n",
       "<tr>\n",
       "  <th>Method:</th>              <td>Least Squares</td>   <th>  F-statistic:       </th>          <td>4.730e+05</td>\n",
       "</tr>\n",
       "<tr>\n",
       "  <th>Date:</th>              <td>Tue, 20 Jun 2023</td>  <th>  Prob (F-statistic):</th>           <td>  0.00</td>  \n",
       "</tr>\n",
       "<tr>\n",
       "  <th>Time:</th>                  <td>18:51:49</td>      <th>  Log-Likelihood:    </th>          <td>  1460.8</td> \n",
       "</tr>\n",
       "<tr>\n",
       "  <th>No. Observations:</th>       <td> 26404</td>       <th>  AIC:               </th>          <td>  -2920.</td> \n",
       "</tr>\n",
       "<tr>\n",
       "  <th>Df Residuals:</th>           <td> 26403</td>       <th>  BIC:               </th>          <td>  -2911.</td> \n",
       "</tr>\n",
       "<tr>\n",
       "  <th>Df Model:</th>               <td>     1</td>       <th>                     </th>              <td> </td>    \n",
       "</tr>\n",
       "<tr>\n",
       "  <th>Covariance Type:</th>       <td>nonrobust</td>     <th>                     </th>              <td> </td>    \n",
       "</tr>\n",
       "</table>\n",
       "<table class=\"simpletable\">\n",
       "<tr>\n",
       "         <td></td>           <th>coef</th>     <th>std err</th>      <th>t</th>      <th>P>|t|</th>  <th>[0.025</th>    <th>0.975]</th>  \n",
       "</tr>\n",
       "<tr>\n",
       "  <th>Total_Benefits</th> <td>    0.9731</td> <td>    0.001</td> <td>  687.728</td> <td> 0.000</td> <td>    0.970</td> <td>    0.976</td>\n",
       "</tr>\n",
       "</table>\n",
       "<table class=\"simpletable\">\n",
       "<tr>\n",
       "  <th>Omnibus:</th>       <td>12899.291</td> <th>  Durbin-Watson:     </th>  <td>   1.998</td> \n",
       "</tr>\n",
       "<tr>\n",
       "  <th>Prob(Omnibus):</th>  <td> 0.000</td>   <th>  Jarque-Bera (JB):  </th> <td>145525.864</td>\n",
       "</tr>\n",
       "<tr>\n",
       "  <th>Skew:</th>           <td> 2.077</td>   <th>  Prob(JB):          </th>  <td>    0.00</td> \n",
       "</tr>\n",
       "<tr>\n",
       "  <th>Kurtosis:</th>       <td>13.725</td>   <th>  Cond. No.          </th>  <td>    1.00</td> \n",
       "</tr>\n",
       "</table><br/><br/>Notes:<br/>[1] R² is computed without centering (uncentered) since the model does not contain a constant.<br/>[2] Standard Errors assume that the covariance matrix of the errors is correctly specified."
      ],
      "text/plain": [
       "<class 'statsmodels.iolib.summary.Summary'>\n",
       "\"\"\"\n",
       "                                 OLS Regression Results                                \n",
       "=======================================================================================\n",
       "Dep. Variable:     Total_Compensation   R-squared (uncentered):                   0.947\n",
       "Model:                            OLS   Adj. R-squared (uncentered):              0.947\n",
       "Method:                 Least Squares   F-statistic:                          4.730e+05\n",
       "Date:                Tue, 20 Jun 2023   Prob (F-statistic):                        0.00\n",
       "Time:                        18:51:49   Log-Likelihood:                          1460.8\n",
       "No. Observations:               26404   AIC:                                     -2920.\n",
       "Df Residuals:                   26403   BIC:                                     -2911.\n",
       "Df Model:                           1                                                  \n",
       "Covariance Type:            nonrobust                                                  \n",
       "==================================================================================\n",
       "                     coef    std err          t      P>|t|      [0.025      0.975]\n",
       "----------------------------------------------------------------------------------\n",
       "Total_Benefits     0.9731      0.001    687.728      0.000       0.970       0.976\n",
       "==============================================================================\n",
       "Omnibus:                    12899.291   Durbin-Watson:                   1.998\n",
       "Prob(Omnibus):                  0.000   Jarque-Bera (JB):           145525.864\n",
       "Skew:                           2.077   Prob(JB):                         0.00\n",
       "Kurtosis:                      13.725   Cond. No.                         1.00\n",
       "==============================================================================\n",
       "\n",
       "Notes:\n",
       "[1] R² is computed without centering (uncentered) since the model does not contain a constant.\n",
       "[2] Standard Errors assume that the covariance matrix of the errors is correctly specified.\n",
       "\"\"\""
      ]
     },
     "execution_count": 34,
     "metadata": {},
     "output_type": "execute_result"
    }
   ],
   "source": [
    "SLR_model.summary()"
   ]
  },
  {
   "cell_type": "markdown",
   "id": "2601c020",
   "metadata": {
    "id": "x9-pGJRUCsxN"
   },
   "source": [
    "**Interpretation:** The R-squared value obtained from this model is 94.7 which means that the above model explains 94.7% of the variation in the Total_Compensation. \n",
    "\n",
    "The `Durbin-Watson` test is used to check the autocorrelation between the residuals.\n",
    "\n",
    "If the Durbin-Watson test statistic is near to 2: no autocorrelation<br>\n",
    "If the Durbin-Watson test statistic is between 0 and 2: positive autocorrelation <br>\n",
    "If the Durbin-Watson test statistic is between 2 and 4: negative autocorrelation\n",
    "\n",
    "The summary output shows that the value of the test statistic is close to 2 (= 1.998) which means there is no autocorrelation.\n",
    "\n",
    "The `Jarque-Bera` test is used to check the normality of the residuals. Here, the p-value of the test is less than 0.05; that implies the residuals are not normally distributed.\n",
    "\n",
    "The 'Cond. No' (= 1) represents the `Condition Number (CN)` which is used to check the multicollinearity. \n",
    "\n",
    "If CN < 100: no multicollinearity<br>\n",
    "If CN is between 100 and 1000: moderate multicollinearity<br>\n",
    "If CN > 1000: severe multicollinearity\n",
    "\n",
    "Thus, it can be seen that there is no multicollinearity in the data."
   ]
  },
  {
   "cell_type": "markdown",
   "id": "cad68a3a",
   "metadata": {
    "id": "o5ahvY-BCsxN"
   },
   "source": [
    "**Calculate the predicted Total_Compensation for train data using the above model.**"
   ]
  },
  {
   "cell_type": "markdown",
   "id": "060f03ec",
   "metadata": {
    "id": "5QrNIxDbCsxO"
   },
   "source": [
    "Use the above dataframe to predict the Total_Compensation."
   ]
  },
  {
   "cell_type": "code",
   "execution_count": 35,
   "id": "ee17eb9f",
   "metadata": {},
   "outputs": [
    {
     "data": {
      "text/plain": [
       "7580     0.345271\n",
       "15923    1.281504\n",
       "5380     0.236358\n",
       "9580    -0.343282\n",
       "3690    -1.317516\n",
       "dtype: float64"
      ]
     },
     "execution_count": 35,
     "metadata": {},
     "output_type": "execute_result"
    }
   ],
   "source": [
    "# predict the Total_Compensation using 'predict()' on training data\n",
    "y_train_pred = SLR_model.predict(xtrain)\n",
    "\n",
    "# display the first five predicted values \n",
    "y_train_pred.head()"
   ]
  },
  {
   "cell_type": "markdown",
   "id": "209a7aa4",
   "metadata": {
    "id": "Ml2xcf2XCsxP"
   },
   "source": [
    "Now we have actual and predicted values of the target variable for training dataset (y_train_slr and y_train_pred respectively)"
   ]
  },
  {
   "cell_type": "markdown",
   "id": "aaf0af69",
   "metadata": {
    "id": "eLkJMEHfCsxP"
   },
   "source": [
    "<a id=\"mv\"></a>\n",
    "## 4.2 Measures of Variation"
   ]
  },
  {
   "cell_type": "markdown",
   "id": "2f4fd14f",
   "metadata": {
    "id": "ViUanZeOCsxP"
   },
   "source": [
    "**Residual:** It is calculated as the difference between the actual and predicted value of the dependent variable."
   ]
  },
  {
   "cell_type": "markdown",
   "id": "49a71487",
   "metadata": {
    "id": "FbCvqJcnCsxQ"
   },
   "source": [
    "<a id=\"ssr\"></a>\n",
    "### 4.2.1  Sum of Squared Residuals (SSR)"
   ]
  },
  {
   "cell_type": "markdown",
   "id": "f4e15405",
   "metadata": {
    "id": "UARfg08vCsxQ"
   },
   "source": [
    "It is defined as the sum of the squared difference between the predicted value and the mean of the dependent variable."
   ]
  },
  {
   "cell_type": "code",
   "execution_count": 54,
   "id": "e47b8695",
   "metadata": {
    "id": "XNnZzUAiCsxQ",
    "outputId": "70bd5d9d-ffa2-414f-b887-0d0870afb513"
   },
   "outputs": [
    {
     "data": {
      "text/plain": [
       "24792.30012403018"
      ]
     },
     "execution_count": 54,
     "metadata": {},
     "output_type": "execute_result"
    }
   ],
   "source": [
    "# calculate the SSR on train dataset\n",
    "ssr = np.sum((y_train_pred - ytrain.mean())**2)\n",
    "ssr"
   ]
  },
  {
   "cell_type": "markdown",
   "id": "3093cd93",
   "metadata": {
    "id": "UZK5UvlYCsxR"
   },
   "source": [
    "<a id=\"sse\"></a>\n",
    "### 4.2.2 Sum of Squared Error (SSE)"
   ]
  },
  {
   "cell_type": "markdown",
   "id": "08cfcd08",
   "metadata": {
    "id": "u5WLNC6zCsxR"
   },
   "source": [
    "It is defined as the sum of the squared difference between the actual value and the predicted value."
   ]
  },
  {
   "cell_type": "code",
   "execution_count": 55,
   "id": "8620e718",
   "metadata": {
    "id": "VLPmds05CsxR",
    "outputId": "c16f1422-ab80-491c-e6ec-d81a25984b65"
   },
   "outputs": [
    {
     "data": {
      "text/plain": [
       "1384.0108558748952"
      ]
     },
     "execution_count": 55,
     "metadata": {},
     "output_type": "execute_result"
    }
   ],
   "source": [
    "# calculate the SSE on train dataset\n",
    "sse = np.sum((ytrain - y_train_pred)**2)\n",
    "sse"
   ]
  },
  {
   "cell_type": "markdown",
   "id": "e5395339",
   "metadata": {
    "id": "k_jGun_RCsxS"
   },
   "source": [
    "<a id=\"sst\"></a>\n",
    "### 4.2.3  Sum of Squared Total (SST)"
   ]
  },
  {
   "cell_type": "markdown",
   "id": "11a6ee6f",
   "metadata": {
    "id": "zp1WbwV3CsxS"
   },
   "source": [
    "It is the sum of the squared difference between the actual value and the mean of the dependent variable."
   ]
  },
  {
   "cell_type": "code",
   "execution_count": 56,
   "id": "00019874",
   "metadata": {
    "id": "UnJtCP2fCsxS",
    "outputId": "20adac29-86d3-4d77-d3ca-a83865a44e59"
   },
   "outputs": [
    {
     "data": {
      "text/plain": [
       "26176.329730532045"
      ]
     },
     "execution_count": 56,
     "metadata": {},
     "output_type": "execute_result"
    }
   ],
   "source": [
    "# calculate the SST on train dataset\n",
    "sst = np.sum((ytrain - ytrain.mean())**2)\n",
    "sst"
   ]
  },
  {
   "cell_type": "code",
   "execution_count": 57,
   "id": "116ed239",
   "metadata": {
    "id": "pdmFJpgnCsxT",
    "outputId": "95033af6-f159-4151-92dd-820351e476c3"
   },
   "outputs": [
    {
     "data": {
      "text/plain": [
       "26176.310979905073"
      ]
     },
     "execution_count": 57,
     "metadata": {},
     "output_type": "execute_result"
    }
   ],
   "source": [
    "# add the values of SSE and SSR\n",
    "sse + ssr"
   ]
  },
  {
   "cell_type": "markdown",
   "id": "b79c6e6a",
   "metadata": {
    "id": "Vf4ABs2GCsxT"
   },
   "source": [
    "**Interpretation:** From the abve putput, we can verify that SST (Total variation) is the sum of SSR and SSE."
   ]
  },
  {
   "cell_type": "markdown",
   "id": "90cedb14",
   "metadata": {
    "id": "m92CHMPpCsxT"
   },
   "source": [
    "<a id=\"r2\"></a>\n",
    "### 4.2.4 Coefficient of Determination (R-Squared)"
   ]
  },
  {
   "cell_type": "markdown",
   "id": "ed6eb507",
   "metadata": {
    "id": "GAN0SFOVCsxU"
   },
   "source": [
    "The coefficient of determination explains the percentage of variation in the dependent variable that the independent variables explain collectively."
   ]
  },
  {
   "cell_type": "code",
   "execution_count": 58,
   "id": "31162711",
   "metadata": {
    "id": "mFe96e0OCsxU",
    "outputId": "8eb9c297-2b75-4f6b-bbfc-b9adf5daa192"
   },
   "outputs": [
    {
     "data": {
      "text/plain": [
       "0.9471276313315786"
      ]
     },
     "execution_count": 58,
     "metadata": {},
     "output_type": "execute_result"
    }
   ],
   "source": [
    "# calculate R-Squared on train dataset\n",
    "# use 'rsquared' method from statsmodel\n",
    "r_sq = SLR_model.rsquared\n",
    "\n",
    "# print the R-squared value\n",
    "r_sq"
   ]
  },
  {
   "cell_type": "markdown",
   "id": "c796a20c",
   "metadata": {
    "id": "wRq-J4viCsxU"
   },
   "source": [
    "Now, we can also calculate the R-squared value using the formula (SSR/SST)."
   ]
  },
  {
   "cell_type": "code",
   "execution_count": 59,
   "id": "97424658",
   "metadata": {
    "id": "bLcfpsirCsxV",
    "outputId": "7e4bd87b-faae-4047-ba13-4960a9562c7a",
    "scrolled": true
   },
   "outputs": [
    {
     "data": {
      "text/plain": [
       "0.9471266743371002"
      ]
     },
     "execution_count": 59,
     "metadata": {},
     "output_type": "execute_result"
    }
   ],
   "source": [
    "# calculate R-Squared on train dataset using the formula\n",
    "r_sq = ssr/sst\n",
    "\n",
    "# print the R-squared value\n",
    "r_sq"
   ]
  },
  {
   "cell_type": "markdown",
   "id": "511bea12",
   "metadata": {
    "id": "HltbLEG0CsxV"
   },
   "source": [
    "**Interpretation:** From the above output we can conclude that our model explains 94.71% variation in the Total_Compensation. We can also obtain this value from the summary of the model."
   ]
  },
  {
   "cell_type": "code",
   "execution_count": 65,
   "id": "39a3b566",
   "metadata": {},
   "outputs": [
    {
     "data": {
      "image/png": "[encoded data removed]",
      "text/plain": [
       "<Figure size 432x288 with 1 Axes>"
      ]
     },
     "metadata": {
      "needs_background": "light"
     },
     "output_type": "display_data"
    }
   ],
   "source": [
    "sns.regplot(x = xtrain, y = ytrain);"
   ]
  },
  {
   "cell_type": "markdown",
   "id": "7fa77fd4",
   "metadata": {},
   "source": [
    "## Multiple Linear regression model"
   ]
  },
  {
   "cell_type": "markdown",
   "id": "332c10b9",
   "metadata": {
    "id": "p6CdEY7dCsxg"
   },
   "source": [
    "It is used to study the linear relationship between a dependent (target) variable and two or more independent variables. We can use this technique to study the effect of multiple variables on the target variable."
   ]
  },
  {
   "cell_type": "markdown",
   "id": "cef1bce0",
   "metadata": {
    "id": "KXH4n_zVCsxh"
   },
   "source": [
    "<a id=\"before\"></a>\n",
    "## 5.1 Assumptions Before MLR Model"
   ]
  },
  {
   "cell_type": "markdown",
   "id": "f9e99848",
   "metadata": {
    "id": "IS-erNvmCsxh"
   },
   "source": [
    "There are several assumptions of linear regression. We can check two of them before building the regression model. Let us check the following assumptions in this section:<br>\n",
    "1. Assumption on Dependent Variable<br>\n",
    "2. No or little multicollinearity<br>"
   ]
  },
  {
   "cell_type": "markdown",
   "id": "f4a28f99",
   "metadata": {
    "id": "hSUAhLoLCsxh"
   },
   "source": [
    "Let us create the dataframes for independent and target variable to check the assumptions of linear regression."
   ]
  },
  {
   "cell_type": "code",
   "execution_count": 30,
   "id": "595d1991",
   "metadata": {},
   "outputs": [
    {
     "data": {
      "text/html": [
       "<div>\n",
       "<style scoped>\n",
       "    .dataframe tbody tr th:only-of-type {\n",
       "        vertical-align: middle;\n",
       "    }\n",
       "\n",
       "    .dataframe tbody tr th {\n",
       "        vertical-align: top;\n",
       "    }\n",
       "\n",
       "    .dataframe thead th {\n",
       "        text-align: right;\n",
       "    }\n",
       "</style>\n",
       "<table border=\"1\" class=\"dataframe\">\n",
       "  <thead>\n",
       "    <tr style=\"text-align: right;\">\n",
       "      <th></th>\n",
       "      <th>Year_Type</th>\n",
       "      <th>Year</th>\n",
       "      <th>Employee_Identifier</th>\n",
       "      <th>Salaries</th>\n",
       "      <th>Overtime</th>\n",
       "      <th>Other_Salaries</th>\n",
       "      <th>Total_Salary</th>\n",
       "      <th>Retirement</th>\n",
       "      <th>Health/Dental</th>\n",
       "      <th>Other_Benefits</th>\n",
       "      <th>Total_Benefits</th>\n",
       "      <th>Total_Compensation</th>\n",
       "    </tr>\n",
       "  </thead>\n",
       "  <tbody>\n",
       "    <tr>\n",
       "      <th>0</th>\n",
       "      <td>Fiscal</td>\n",
       "      <td>2015</td>\n",
       "      <td>42853</td>\n",
       "      <td>92288.22</td>\n",
       "      <td>267.45</td>\n",
       "      <td>267.45</td>\n",
       "      <td>92823.12</td>\n",
       "      <td>20700.20</td>\n",
       "      <td>12500.56</td>\n",
       "      <td>7605.75</td>\n",
       "      <td>40806.51</td>\n",
       "      <td>133629.63</td>\n",
       "    </tr>\n",
       "    <tr>\n",
       "      <th>1</th>\n",
       "      <td>Calendar</td>\n",
       "      <td>2015</td>\n",
       "      <td>28248</td>\n",
       "      <td>1466.38</td>\n",
       "      <td>348.23</td>\n",
       "      <td>0.00</td>\n",
       "      <td>1814.61</td>\n",
       "      <td>0.00</td>\n",
       "      <td>442.03</td>\n",
       "      <td>141.59</td>\n",
       "      <td>583.62</td>\n",
       "      <td>2398.23</td>\n",
       "    </tr>\n",
       "    <tr>\n",
       "      <th>2</th>\n",
       "      <td>Fiscal</td>\n",
       "      <td>2014</td>\n",
       "      <td>30651</td>\n",
       "      <td>76536.95</td>\n",
       "      <td>13583.72</td>\n",
       "      <td>10855.94</td>\n",
       "      <td>100976.61</td>\n",
       "      <td>18632.19</td>\n",
       "      <td>12464.61</td>\n",
       "      <td>8011.41</td>\n",
       "      <td>39108.21</td>\n",
       "      <td>140084.82</td>\n",
       "    </tr>\n",
       "    <tr>\n",
       "      <th>3</th>\n",
       "      <td>Fiscal</td>\n",
       "      <td>2014</td>\n",
       "      <td>19473</td>\n",
       "      <td>45659.88</td>\n",
       "      <td>0.00</td>\n",
       "      <td>1625.37</td>\n",
       "      <td>47285.25</td>\n",
       "      <td>10081.20</td>\n",
       "      <td>0.00</td>\n",
       "      <td>3936.63</td>\n",
       "      <td>14017.83</td>\n",
       "      <td>61303.08</td>\n",
       "    </tr>\n",
       "    <tr>\n",
       "      <th>4</th>\n",
       "      <td>Fiscal</td>\n",
       "      <td>2013</td>\n",
       "      <td>7176</td>\n",
       "      <td>41832.00</td>\n",
       "      <td>0.00</td>\n",
       "      <td>0.00</td>\n",
       "      <td>41832.00</td>\n",
       "      <td>7617.60</td>\n",
       "      <td>5908.52</td>\n",
       "      <td>3254.50</td>\n",
       "      <td>16780.62</td>\n",
       "      <td>58612.62</td>\n",
       "    </tr>\n",
       "  </tbody>\n",
       "</table>\n",
       "</div>"
      ],
      "text/plain": [
       "  Year_Type  Year  Employee_Identifier  Salaries  Overtime  Other_Salaries  \\\n",
       "0    Fiscal  2015                42853  92288.22    267.45          267.45   \n",
       "1  Calendar  2015                28248   1466.38    348.23            0.00   \n",
       "2    Fiscal  2014                30651  76536.95  13583.72        10855.94   \n",
       "3    Fiscal  2014                19473  45659.88      0.00         1625.37   \n",
       "4    Fiscal  2013                 7176  41832.00      0.00            0.00   \n",
       "\n",
       "   Total_Salary  Retirement  Health/Dental  Other_Benefits  Total_Benefits  \\\n",
       "0      92823.12    20700.20       12500.56         7605.75        40806.51   \n",
       "1       1814.61        0.00         442.03          141.59          583.62   \n",
       "2     100976.61    18632.19       12464.61         8011.41        39108.21   \n",
       "3      47285.25    10081.20           0.00         3936.63        14017.83   \n",
       "4      41832.00     7617.60        5908.52         3254.50        16780.62   \n",
       "\n",
       "   Total_Compensation  \n",
       "0           133629.63  \n",
       "1             2398.23  \n",
       "2           140084.82  \n",
       "3            61303.08  \n",
       "4            58612.62  "
      ]
     },
     "execution_count": 30,
     "metadata": {},
     "output_type": "execute_result"
    }
   ],
   "source": [
    "df_compensation=pd.read_csv(\"employee_compensation.csv\")\n",
    "df_compensation.head()"
   ]
  },
  {
   "cell_type": "code",
   "execution_count": 29,
   "id": "148f6ebe",
   "metadata": {
    "id": "6kTK52ADCsxi"
   },
   "outputs": [],
   "source": [
    "# create dataframe of features by dropping the target variable\n",
    "# 'axis = 1' drops the corresponding column(s)\n",
    "df_feature = df_compensation.drop('Total_Compensation', axis = 1)\n",
    "\n",
    "# create dataframe of target variable\n",
    "df_target = df_compensation['Total_Compensation']"
   ]
  },
  {
   "cell_type": "markdown",
   "id": "b900edc4",
   "metadata": {
    "id": "KPWSbSUbCsxi"
   },
   "source": [
    "<a id=\"dep_num\"></a>\n",
    "### 5.1.1 Assumption on Dependent Variable"
   ]
  },
  {
   "cell_type": "markdown",
   "id": "07d13a0d",
   "metadata": {
    "id": "AaIbgtYdCsxi"
   },
   "source": [
    "The assumption for linear regression is that the dependent (target) variable should be numeric. In our dataset, the variable 'Total_Compensation' is the target/dependent variable.  "
   ]
  },
  {
   "cell_type": "code",
   "execution_count": null,
   "id": "164d3df6",
   "metadata": {
    "id": "PZG6tvhoCsxi",
    "outputId": "63e1dffd-301c-4401-980a-eed9f3c66ee5"
   },
   "outputs": [
    {
     "data": {
      "text/plain": [
       "dtype('float64')"
      ]
     },
     "execution_count": 37,
     "metadata": {},
     "output_type": "execute_result"
    }
   ],
   "source": [
    "# check the data type of dependent variable\n",
    "df_target.dtype"
   ]
  },
  {
   "cell_type": "markdown",
   "id": "ccd301e2",
   "metadata": {
    "id": "9j0tpdH8Csxj"
   },
   "source": [
    "**Interpretation:** The output shows that the data type of target variable is 'float64'. i.e. the dependent variable is numeric."
   ]
  },
  {
   "cell_type": "markdown",
   "id": "3c881d81",
   "metadata": {
    "id": "LEMFhyd9Csxj"
   },
   "source": [
    "<a id=\"no_multi\"></a>\n",
    "### 5.1.2 No or Little Multicollinearity"
   ]
  },
  {
   "cell_type": "markdown",
   "id": "09ca357f",
   "metadata": {
    "id": "Tgtvr_DhCsxj"
   },
   "source": [
    "Whenever there are a large number of independent variables present in the dataset, there is a possibility that such independent variables will be strongly correlated. The presence of a strong correlation between the independent variables is called multicollinearity.\n",
    "\n",
    "The presence of multicollinearity can destabilize the model. Thus, the existence of multicollinearity must be detected and corrected actions should be taken.\n",
    "\n",
    "If we use dummy variables to encode a categorical variable and do not omit the parent column, then this results in a strong correlation between the dummy variables and the parent column."
   ]
  },
  {
   "cell_type": "markdown",
   "id": "ab3e01c3",
   "metadata": {
    "id": "rkW9pdCVCsxk"
   },
   "source": [
    "<a id=\"corr\"></a>\n",
    "#### 5.1.2.1 Correlation Matrix"
   ]
  },
  {
   "cell_type": "markdown",
   "id": "fc826467",
   "metadata": {
    "id": "8XazRhRyCsxk"
   },
   "source": [
    "Let us plot the heatmap to visualize the correlation matrix of the independent variables. The variables with a high correlation may induce multicollinearity in the data."
   ]
  },
  {
   "cell_type": "code",
   "execution_count": null,
   "id": "14f92e37",
   "metadata": {
    "id": "ncs9Q2djCsxk",
    "outputId": "5abb649e-5e9d-4bda-f025-a0a33ab8e0ca",
    "scrolled": false
   },
   "outputs": [
    {
     "data": {
      "image/png": "[encoded data removed]",
      "text/plain": [
       "<Figure size 1440x720 with 2 Axes>"
      ]
     },
     "metadata": {
      "needs_background": "light"
     },
     "output_type": "display_data"
    }
   ],
   "source": [
    "# set the plot size using figure()\n",
    "# pass width and height in inches to 'figsize' \n",
    "plt.figure(figsize = (20,10))\n",
    "\n",
    "# plot the heat map\n",
    "# corr(): give the correlation matrix\n",
    "# annot: prints the correlation values in the chart\n",
    "# annot_kws: used to set the font size of the annotation\n",
    "sns.heatmap(df_feature.corr(), annot = True, annot_kws = {\"size\": 11})\n",
    "\n",
    "# rotation = 'horizontal' rotates the y-axis labels horizontally\n",
    "# set text size using 'fontsize'\n",
    "plt.yticks(rotation = 'horizontal', fontsize = 15)\n",
    "plt.xticks(fontsize = 15)\n",
    "\n",
    "# display the plot\n",
    "plt.show()"
   ]
  },
  {
   "cell_type": "markdown",
   "id": "992fcad3",
   "metadata": {
    "id": "GDHV9TUWCsxl"
   },
   "source": [
    "Identify the variables with a correlation greater than 0.6 and less than -0.6."
   ]
  },
  {
   "cell_type": "code",
   "execution_count": null,
   "id": "5d221bda",
   "metadata": {
    "id": "t6jfJmGWCsxm",
    "outputId": "922ad79d-46bd-4475-fdcc-419705488bf2",
    "scrolled": false
   },
   "outputs": [
    {
     "data": {
      "image/png": "[encoded data removed]",
      "text/plain": [
       "<Figure size 1440x720 with 2 Axes>"
      ]
     },
     "metadata": {
      "needs_background": "light"
     },
     "output_type": "display_data"
    }
   ],
   "source": [
    "# set the plot size using figure()\n",
    "# pass width and height in inches to 'figsize' \n",
    "plt.figure(figsize = (20,10))\n",
    "\n",
    "# plot the heat map\n",
    "# corr(): give the correlation matrix\n",
    "# annot: prints the correlation values in the chart\n",
    "# annot_kws: sets the font size of the annotation\n",
    "sns.heatmap(df_feature.corr()[np.abs(df_feature.corr()) > 0.6], annot = True, annot_kws = {\"size\": 11})\n",
    "\n",
    "# rotate the y-axis labels\n",
    "# set text size using 'fontsize'\n",
    "plt.yticks(rotation = 'horizontal', fontsize = 15)\n",
    "plt.xticks(fontsize = 15)\n",
    "\n",
    "# display the plot\n",
    "plt.show()"
   ]
  },
  {
   "cell_type": "markdown",
   "id": "0dc10ceb",
   "metadata": {
    "id": "llolu612Csxm"
   },
   "source": [
    "**Interpretation:** The above heatmap, show the variables having a strong positive/negative correlation. The variables with dark blue shade represent the strong positive correlation and the ones with lighter shade represent the strong negative correlation."
   ]
  },
  {
   "cell_type": "markdown",
   "id": "51bbbf69",
   "metadata": {
    "id": "jg0Wp9OHCsxn"
   },
   "source": [
    "<a id=\"vif\"></a>\n",
    "#### 5.1.2.2 Variance Inflation Factor (VIF)"
   ]
  },
  {
   "cell_type": "markdown",
   "id": "80454cc5",
   "metadata": {
    "id": "d8rWP7GvCsxn"
   },
   "source": [
    "The Variance Inflation Factor (VIF) is used to detect the presence of multicollinearity between the features. The value of VIF equal to 1 indicates that no features are correlated. We calculate VIF of the numerical independent variables.   \n",
    "\n",
    "Steps to calculate VIF:<br>\n",
    "1. Regress one independent variable (say V<sub>i</sub>) on all the remaining independent variables (say V<sub>j</sub>, j ≠ i)\n",
    "2. Calculate R-squared of the regression model\n",
    "3. Calculate VIF for the variable V<sub>i</sub> using the formula:\n",
    "<p style='text-indent:29em'> <strong> VIF = 1 / (1 - R-squared)</strong>  </p><br>\n",
    "4. Repeate the steps 1 to 3 to calculate VIF of each independent variable"
   ]
  },
  {
   "cell_type": "code",
   "execution_count": null,
   "id": "1c4e00f5",
   "metadata": {
    "id": "1cBglW0QCsxo",
    "outputId": "68e67b6b-06f8-40bc-e62c-b0e6fe725e69"
   },
   "outputs": [
    {
     "data": {
      "text/html": [
       "<div>\n",
       "<style scoped>\n",
       "    .dataframe tbody tr th:only-of-type {\n",
       "        vertical-align: middle;\n",
       "    }\n",
       "\n",
       "    .dataframe tbody tr th {\n",
       "        vertical-align: top;\n",
       "    }\n",
       "\n",
       "    .dataframe thead th {\n",
       "        text-align: right;\n",
       "    }\n",
       "</style>\n",
       "<table border=\"1\" class=\"dataframe\">\n",
       "  <thead>\n",
       "    <tr style=\"text-align: right;\">\n",
       "      <th></th>\n",
       "      <th>Salaries</th>\n",
       "      <th>Overtime</th>\n",
       "      <th>Other_Salaries</th>\n",
       "      <th>Total_Salary</th>\n",
       "      <th>Retirement</th>\n",
       "      <th>Health/Dental</th>\n",
       "      <th>Other_Benefits</th>\n",
       "      <th>Total_Benefits</th>\n",
       "    </tr>\n",
       "  </thead>\n",
       "  <tbody>\n",
       "    <tr>\n",
       "      <th>0</th>\n",
       "      <td>0.983488</td>\n",
       "      <td>-0.228091</td>\n",
       "      <td>-0.474919</td>\n",
       "      <td>0.926912</td>\n",
       "      <td>1.178494</td>\n",
       "      <td>0.916565</td>\n",
       "      <td>1.145315</td>\n",
       "      <td>1.160922</td>\n",
       "    </tr>\n",
       "    <tr>\n",
       "      <th>1</th>\n",
       "      <td>-1.252266</td>\n",
       "      <td>-0.167552</td>\n",
       "      <td>-0.587276</td>\n",
       "      <td>-1.263215</td>\n",
       "      <td>-1.180529</td>\n",
       "      <td>-1.491462</td>\n",
       "      <td>-1.259970</td>\n",
       "      <td>-1.365191</td>\n",
       "    </tr>\n",
       "    <tr>\n",
       "      <th>3</th>\n",
       "      <td>-0.164358</td>\n",
       "      <td>-0.428525</td>\n",
       "      <td>0.095551</td>\n",
       "      <td>-0.168961</td>\n",
       "      <td>-0.031662</td>\n",
       "      <td>-1.579733</td>\n",
       "      <td>-0.037039</td>\n",
       "      <td>-0.521484</td>\n",
       "    </tr>\n",
       "    <tr>\n",
       "      <th>4</th>\n",
       "      <td>-0.258589</td>\n",
       "      <td>-0.428525</td>\n",
       "      <td>-0.587276</td>\n",
       "      <td>-0.300194</td>\n",
       "      <td>-0.312417</td>\n",
       "      <td>-0.399832</td>\n",
       "      <td>-0.256852</td>\n",
       "      <td>-0.347973</td>\n",
       "    </tr>\n",
       "    <tr>\n",
       "      <th>5</th>\n",
       "      <td>0.536538</td>\n",
       "      <td>-0.428525</td>\n",
       "      <td>0.019113</td>\n",
       "      <td>0.511845</td>\n",
       "      <td>0.511937</td>\n",
       "      <td>0.994002</td>\n",
       "      <td>0.703228</td>\n",
       "      <td>0.731784</td>\n",
       "    </tr>\n",
       "  </tbody>\n",
       "</table>\n",
       "</div>"
      ],
      "text/plain": [
       "   Salaries  Overtime  Other_Salaries  Total_Salary  Retirement  \\\n",
       "0  0.983488 -0.228091       -0.474919      0.926912    1.178494   \n",
       "1 -1.252266 -0.167552       -0.587276     -1.263215   -1.180529   \n",
       "3 -0.164358 -0.428525        0.095551     -0.168961   -0.031662   \n",
       "4 -0.258589 -0.428525       -0.587276     -0.300194   -0.312417   \n",
       "5  0.536538 -0.428525        0.019113      0.511845    0.511937   \n",
       "\n",
       "   Health/Dental  Other_Benefits  Total_Benefits  \n",
       "0       0.916565        1.145315        1.160922  \n",
       "1      -1.491462       -1.259970       -1.365191  \n",
       "3      -1.579733       -0.037039       -0.521484  \n",
       "4      -0.399832       -0.256852       -0.347973  \n",
       "5       0.994002        0.703228        0.731784  "
      ]
     },
     "execution_count": 40,
     "metadata": {},
     "output_type": "execute_result"
    }
   ],
   "source": [
    "# filter the numerical features in the dataset\n",
    "df_numeric_features_vif = df_feature.select_dtypes(include=[np.number])\n",
    "\n",
    "# display the first five observations\n",
    "df_numeric_features_vif.head()"
   ]
  },
  {
   "cell_type": "markdown",
   "id": "1834a9bf",
   "metadata": {
    "id": "3KD7iQRLCsxp"
   },
   "source": [
    "#### Calculate the VIF for each numeric variable."
   ]
  },
  {
   "cell_type": "code",
   "execution_count": null,
   "id": "547d9350",
   "metadata": {
    "id": "9Ru0xvz-Csxq",
    "outputId": "b4ed7c2e-d656-4c0c-d0bf-69f882631984"
   },
   "outputs": [
    {
     "data": {
      "text/html": [
       "<div>\n",
       "<style scoped>\n",
       "    .dataframe tbody tr th:only-of-type {\n",
       "        vertical-align: middle;\n",
       "    }\n",
       "\n",
       "    .dataframe tbody tr th {\n",
       "        vertical-align: top;\n",
       "    }\n",
       "\n",
       "    .dataframe thead th {\n",
       "        text-align: right;\n",
       "    }\n",
       "</style>\n",
       "<table border=\"1\" class=\"dataframe\">\n",
       "  <thead>\n",
       "    <tr style=\"text-align: right;\">\n",
       "      <th></th>\n",
       "      <th>VIF_Factor</th>\n",
       "      <th>Features</th>\n",
       "    </tr>\n",
       "  </thead>\n",
       "  <tbody>\n",
       "    <tr>\n",
       "      <th>0</th>\n",
       "      <td>302871086.960378</td>\n",
       "      <td>Total_Benefits</td>\n",
       "    </tr>\n",
       "    <tr>\n",
       "      <th>1</th>\n",
       "      <td>276118967.664109</td>\n",
       "      <td>Health/Dental</td>\n",
       "    </tr>\n",
       "    <tr>\n",
       "      <th>2</th>\n",
       "      <td>55639360.247011</td>\n",
       "      <td>Retirement</td>\n",
       "    </tr>\n",
       "    <tr>\n",
       "      <th>3</th>\n",
       "      <td>32109901.454055</td>\n",
       "      <td>Other_Benefits</td>\n",
       "    </tr>\n",
       "    <tr>\n",
       "      <th>4</th>\n",
       "      <td>30982752.278689</td>\n",
       "      <td>Overtime</td>\n",
       "    </tr>\n",
       "    <tr>\n",
       "      <th>5</th>\n",
       "      <td>29613799.212063</td>\n",
       "      <td>Total_Salary</td>\n",
       "    </tr>\n",
       "    <tr>\n",
       "      <th>6</th>\n",
       "      <td>14713019.966631</td>\n",
       "      <td>Other_Salaries</td>\n",
       "    </tr>\n",
       "    <tr>\n",
       "      <th>7</th>\n",
       "      <td>4599754.026275</td>\n",
       "      <td>Salaries</td>\n",
       "    </tr>\n",
       "  </tbody>\n",
       "</table>\n",
       "</div>"
      ],
      "text/plain": [
       "        VIF_Factor        Features\n",
       "0 302871086.960378  Total_Benefits\n",
       "1 276118967.664109   Health/Dental\n",
       "2  55639360.247011      Retirement\n",
       "3  32109901.454055  Other_Benefits\n",
       "4  30982752.278689        Overtime\n",
       "5  29613799.212063    Total_Salary\n",
       "6  14713019.966631  Other_Salaries\n",
       "7   4599754.026275        Salaries"
      ]
     },
     "execution_count": 41,
     "metadata": {},
     "output_type": "execute_result"
    }
   ],
   "source": [
    "# create an empty dataframe to store the VIF for each variable\n",
    "vif = pd.DataFrame()\n",
    "\n",
    "# calculate VIF using list comprehension \n",
    "# use for loop to access each variable \n",
    "# calculate VIF for each variable and create a column 'VIF_Factor' to store the values \n",
    "vif[\"VIF_Factor\"] = [variance_inflation_factor(df_numeric_features_vif.values, i) for i in range(df_numeric_features_vif.shape[1])]\n",
    "\n",
    "# create a column of variable names\n",
    "vif[\"Features\"] = df_numeric_features_vif.columns\n",
    "\n",
    "# sort the dataframe based on the values of VIF_Factor in descending order\n",
    "# 'ascending = False' sorts the data in descending order\n",
    "# 'reset_index' resets the index of the dataframe\n",
    "# 'drop = True' drops the previous index\n",
    "vif.sort_values('VIF_Factor', ascending = False).reset_index(drop = True)"
   ]
  },
  {
   "cell_type": "markdown",
   "id": "ac4517a7",
   "metadata": {
    "id": "wtz0ZuBiCsxq"
   },
   "source": [
    "The output shows that the variable 'Total_Benefits' has the highest VIF. Now, we use the `for loop` to find VIF and remove the variables with VIF greater than 10. We set the threshold to 10, as we wish to remove the variable for which the remaining variables explain more than 90% of the variation. One can choose the threshold  other than 10. (it depends on the business requirements)"
   ]
  },
  {
   "cell_type": "code",
   "execution_count": null,
   "id": "c91af6b1",
   "metadata": {},
   "outputs": [],
   "source": []
  }
 ],
 "metadata": {
  "kernelspec": {
   "display_name": "Python 3 (ipykernel)",
   "language": "python",
   "name": "python3"
  },
  "language_info": {
   "codemirror_mode": {
    "name": "ipython",
    "version": 3
   },
   "file_extension": ".py",
   "mimetype": "text/x-python",
   "name": "python",
   "nbconvert_exporter": "python",
   "pygments_lexer": "ipython3",
   "version": "3.9.7"
  }
 },
 "nbformat": 4,
 "nbformat_minor": 5
}
