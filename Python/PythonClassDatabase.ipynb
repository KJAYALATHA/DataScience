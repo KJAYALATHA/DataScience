{
 "cells": [
  {
   "cell_type": "code",
   "execution_count": null,
   "id": "13d2a2c3",
   "metadata": {},
   "outputs": [],
   "source": [
    "sql - stuructured query language DDL - data definition language,DML - data manupulation language,DQL - data query language,DCL,TCL"
   ]
  },
  {
   "cell_type": "code",
   "execution_count": null,
   "id": "b4cdfc66",
   "metadata": {},
   "outputs": [],
   "source": [
    "#DDL to sturucturee a database or table create,alter,drop,truncate"
   ]
  },
  {
   "cell_type": "code",
   "execution_count": null,
   "id": "e4d130ce",
   "metadata": {},
   "outputs": [],
   "source": [
    "#DML - insert,update ,delete"
   ]
  },
  {
   "cell_type": "code",
   "execution_count": null,
   "id": "7496809e",
   "metadata": {},
   "outputs": [],
   "source": [
    "#DQL - select"
   ]
  },
  {
   "cell_type": "code",
   "execution_count": null,
   "id": "8d1e885b",
   "metadata": {},
   "outputs": [],
   "source": [
    "create database databasename -to create a database"
   ]
  },
  {
   "cell_type": "code",
   "execution_count": null,
   "id": "3632043a",
   "metadata": {},
   "outputs": [],
   "source": [
    "#insert into tablename (Id,Name,age) values (1,\"jaya\",23)\n",
    "#update tablename set columnname = value where(condition)\n",
    "#delete from tablename where(condition)"
   ]
  },
  {
   "cell_type": "code",
   "execution_count": 12,
   "id": "bcf85f2b",
   "metadata": {},
   "outputs": [],
   "source": [
    "import mysql.connector    #to integrate python with mysql we use mysql.connector package"
   ]
  },
  {
   "cell_type": "code",
   "execution_count": 13,
   "id": "7fe63f51",
   "metadata": {},
   "outputs": [],
   "source": [
    "con = mysql.connector.connect(host=\"localhost\",user = \"root\",password = \"admin\",database = \"BesantOnlineBatch\")"
   ]
  },
  {
   "cell_type": "code",
   "execution_count": null,
   "id": "bdafb169",
   "metadata": {},
   "outputs": [],
   "source": [
    "#CRUD\n",
    "\n",
    "\n",
    "#insert\n",
    "def insert(ID,Name,age):\n",
    "    res = con.cursor()\n",
    "    sql = \"insert into Student (ID,Name,age) values (%s,%s,%s)\"\n",
    "    data = (ID, Name, age)\n",
    "    res.execute(sql, data)\n",
    "    con.commit()\n",
    "    print(\"Data Insert Success\")\n",
    "    \n",
    "\n",
    "insert(3,\"shobana\",43)\n",
    "\n"
   ]
  },
  {
   "cell_type": "code",
   "execution_count": 17,
   "id": "b0c19c76",
   "metadata": {},
   "outputs": [
    {
     "name": "stdout",
     "output_type": "stream",
     "text": [
      "[(1, 'Jaya', 23), (3, 'shobana', 43)]\n"
     ]
    }
   ],
   "source": [
    "def select():\n",
    "    res = con.cursor()\n",
    "    sql = \"SELECT * from Student\"\n",
    "    res.execute(sql)\n",
    "    # result=res.fetchone()\n",
    "    #result=res.fetchmany(2)\n",
    "    result = res.fetchall()\n",
    "    print(result)\n",
    "    \n",
    "select()"
   ]
  },
  {
   "cell_type": "code",
   "execution_count": 9,
   "id": "c750a560",
   "metadata": {},
   "outputs": [
    {
     "name": "stdout",
     "output_type": "stream",
     "text": [
      "Data Update Success\n"
     ]
    }
   ],
   "source": [
    "def update(ID, Name,age,Id):\n",
    "    res = con.cursor()\n",
    "    sql = \"update Student set ID=%s,Name=%s,age=%s where ID=%s\"\n",
    "    user = (ID,Name,age,Id)\n",
    "    res.execute(sql, user)\n",
    "    con.commit()\n",
    "    print(\"Data Update Success\")\n",
    "    \n",
    "    \n",
    "update(6,\"Mahendiran\",23,2)"
   ]
  },
  {
   "cell_type": "code",
   "execution_count": 16,
   "id": "6de56508",
   "metadata": {},
   "outputs": [
    {
     "name": "stdout",
     "output_type": "stream",
     "text": [
      "Data Delete Success\n"
     ]
    }
   ],
   "source": [
    "def delete(ID):\n",
    "    res = con.cursor()\n",
    "    sql = \"delete from Student where Id=%s\"\n",
    "    user = (ID,)\n",
    "    res.execute(sql, user)\n",
    "    con.commit()\n",
    "    print(\"Data Delete Success\")\n",
    "    \n",
    "delete(6)\n",
    "    \n",
    "    "
   ]
  },
  {
   "cell_type": "code",
   "execution_count": null,
   "id": "eab69cd6",
   "metadata": {},
   "outputs": [],
   "source": []
  }
 ],
 "metadata": {
  "kernelspec": {
   "display_name": "Python 3 (ipykernel)",
   "language": "python",
   "name": "python3"
  },
  "language_info": {
   "codemirror_mode": {
    "name": "ipython",
    "version": 3
   },
   "file_extension": ".py",
   "mimetype": "text/x-python",
   "name": "python",
   "nbconvert_exporter": "python",
   "pygments_lexer": "ipython3",
   "version": "3.9.7"
  }
 },
 "nbformat": 4,
 "nbformat_minor": 5
}
