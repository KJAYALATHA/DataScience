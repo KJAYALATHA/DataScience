{
 "cells": [
  {
   "cell_type": "markdown",
   "id": "1918c620",
   "metadata": {},
   "source": [
    "# Python basics"
   ]
  },
  {
   "cell_type": "code",
   "execution_count": 1,
   "id": "5bceedf2",
   "metadata": {},
   "outputs": [],
   "source": [
    "name= \"sam altman\""
   ]
  },
  {
   "cell_type": "code",
   "execution_count": 2,
   "id": "fc6ca28b",
   "metadata": {},
   "outputs": [],
   "source": [
    "age= 37\n",
    "#assigning age with value 37 - code commenting"
   ]
  },
  {
   "cell_type": "code",
   "execution_count": 3,
   "id": "fdcd2fcd",
   "metadata": {},
   "outputs": [],
   "source": [
    "salary = 100000000.755"
   ]
  },
  {
   "cell_type": "code",
   "execution_count": 4,
   "id": "da672059",
   "metadata": {},
   "outputs": [
    {
     "name": "stdout",
     "output_type": "stream",
     "text": [
      "sam altman\n"
     ]
    }
   ],
   "source": [
    "print(name)"
   ]
  },
  {
   "cell_type": "code",
   "execution_count": 5,
   "id": "557311f9",
   "metadata": {},
   "outputs": [
    {
     "name": "stdout",
     "output_type": "stream",
     "text": [
      "sam altman\n"
     ]
    }
   ],
   "source": [
    "print('sam altman')"
   ]
  },
  {
   "cell_type": "code",
   "execution_count": 6,
   "id": "6fdf94eb",
   "metadata": {},
   "outputs": [
    {
     "name": "stdout",
     "output_type": "stream",
     "text": [
      "sam altman\n"
     ]
    }
   ],
   "source": [
    "print(\"sam altman\")"
   ]
  },
  {
   "cell_type": "code",
   "execution_count": 7,
   "id": "427498d3",
   "metadata": {},
   "outputs": [
    {
     "name": "stdout",
     "output_type": "stream",
     "text": [
      "sam altman is 37 years old\n"
     ]
    }
   ],
   "source": [
    "print(name,\"is\",age,\"years old\")"
   ]
  },
  {
   "cell_type": "code",
   "execution_count": 8,
   "id": "6a679804",
   "metadata": {},
   "outputs": [
    {
     "data": {
      "text/plain": [
       "'a2'"
      ]
     },
     "execution_count": 8,
     "metadata": {},
     "output_type": "execute_result"
    }
   ],
   "source": [
    "s1='a'\n",
    "s2='2'\n",
    "s1+s2"
   ]
  },
  {
   "cell_type": "code",
   "execution_count": 9,
   "id": "b8e61a1b",
   "metadata": {},
   "outputs": [
    {
     "name": "stdout",
     "output_type": "stream",
     "text": [
      "a2\n"
     ]
    }
   ],
   "source": [
    "print(s1+s2)"
   ]
  },
  {
   "cell_type": "code",
   "execution_count": 10,
   "id": "c2786b35",
   "metadata": {},
   "outputs": [],
   "source": [
    "friend_name =name"
   ]
  },
  {
   "cell_type": "code",
   "execution_count": 11,
   "id": "7826cf87",
   "metadata": {},
   "outputs": [
    {
     "data": {
      "text/plain": [
       "'sam altman'"
      ]
     },
     "execution_count": 11,
     "metadata": {},
     "output_type": "execute_result"
    }
   ],
   "source": [
    "friend_name"
   ]
  },
  {
   "cell_type": "markdown",
   "id": "92b40213",
   "metadata": {},
   "source": [
    "### multiple variables with same value"
   ]
  },
  {
   "cell_type": "code",
   "execution_count": 12,
   "id": "2e782f8c",
   "metadata": {},
   "outputs": [
    {
     "name": "stdout",
     "output_type": "stream",
     "text": [
      "20\n",
      "20\n"
     ]
    },
    {
     "data": {
      "text/plain": [
       "20"
      ]
     },
     "execution_count": 12,
     "metadata": {},
     "output_type": "execute_result"
    }
   ],
   "source": [
    "a=b=c=20\n",
    "print(a)\n",
    "b\n",
    "print(c)\n",
    "a,b,c\n",
    "b"
   ]
  },
  {
   "cell_type": "code",
   "execution_count": 13,
   "id": "7c5c5804",
   "metadata": {},
   "outputs": [
    {
     "name": "stdout",
     "output_type": "stream",
     "text": [
      "20\n",
      "20\n",
      "20\n"
     ]
    }
   ],
   "source": [
    "print(a)\n",
    "print(b)\n",
    "print(c)"
   ]
  },
  {
   "cell_type": "markdown",
   "id": "0f5392c5",
   "metadata": {},
   "source": [
    "## multiple variables with different values"
   ]
  },
  {
   "cell_type": "code",
   "execution_count": 2,
   "id": "4f8eca20",
   "metadata": {},
   "outputs": [],
   "source": [
    "age,savings=25,50000"
   ]
  },
  {
   "cell_type": "code",
   "execution_count": 3,
   "id": "f9175db1",
   "metadata": {},
   "outputs": [
    {
     "data": {
      "text/plain": [
       "25"
      ]
     },
     "execution_count": 3,
     "metadata": {},
     "output_type": "execute_result"
    }
   ],
   "source": [
    "age"
   ]
  },
  {
   "cell_type": "code",
   "execution_count": 4,
   "id": "2a586266",
   "metadata": {},
   "outputs": [
    {
     "ename": "NameError",
     "evalue": "name 'dddf' is not defined",
     "output_type": "error",
     "traceback": [
      "\u001b[1;31m---------------------------------------------------------------------------\u001b[0m",
      "\u001b[1;31mNameError\u001b[0m                                 Traceback (most recent call last)",
      "\u001b[1;32m~\\AppData\\Local\\Temp/ipykernel_11240/3185612101.py\u001b[0m in \u001b[0;36m<module>\u001b[1;34m\u001b[0m\n\u001b[0;32m      1\u001b[0m \u001b[1;31m#dont rin\u001b[0m\u001b[1;33m\u001b[0m\u001b[1;33m\u001b[0m\u001b[0m\n\u001b[1;32m----> 2\u001b[1;33m \u001b[0mdddf\u001b[0m \u001b[1;31m#kfff\u001b[0m\u001b[1;33m\u001b[0m\u001b[1;33m\u001b[0m\u001b[0m\n\u001b[0m\u001b[0;32m      3\u001b[0m \u001b[0msjaad\u001b[0m \u001b[1;31m#jkf\u001b[0m\u001b[1;33m\u001b[0m\u001b[1;33m\u001b[0m\u001b[0m\n",
      "\u001b[1;31mNameError\u001b[0m: name 'dddf' is not defined"
     ]
    }
   ],
   "source": []
  },
  {
   "cell_type": "code",
   "execution_count": 5,
   "id": "91a89c8b",
   "metadata": {},
   "outputs": [
    {
     "data": {
      "text/plain": [
       "50000"
      ]
     },
     "execution_count": 5,
     "metadata": {},
     "output_type": "execute_result"
    }
   ],
   "source": [
    "savings"
   ]
  },
  {
   "cell_type": "code",
   "execution_count": 6,
   "id": "43342bf2",
   "metadata": {},
   "outputs": [
    {
     "ename": "NameError",
     "evalue": "name 'income' is not defined",
     "output_type": "error",
     "traceback": [
      "\u001b[1;31m---------------------------------------------------------------------------\u001b[0m",
      "\u001b[1;31mNameError\u001b[0m                                 Traceback (most recent call last)",
      "\u001b[1;32m~\\AppData\\Local\\Temp/ipykernel_11240/8958666.py\u001b[0m in \u001b[0;36m<module>\u001b[1;34m\u001b[0m\n\u001b[1;32m----> 1\u001b[1;33m \u001b[0mage\u001b[0m\u001b[1;33m,\u001b[0m\u001b[0mincome\u001b[0m\u001b[1;33m,\u001b[0m\u001b[0msavings\u001b[0m\u001b[1;33m\u001b[0m\u001b[1;33m\u001b[0m\u001b[0m\n\u001b[0m",
      "\u001b[1;31mNameError\u001b[0m: name 'income' is not defined"
     ]
    }
   ],
   "source": [
    "age,income,savings"
   ]
  },
  {
   "cell_type": "code",
   "execution_count": 7,
   "id": "eacc595a",
   "metadata": {},
   "outputs": [
    {
     "ename": "NameError",
     "evalue": "name 'income' is not defined",
     "output_type": "error",
     "traceback": [
      "\u001b[1;31m---------------------------------------------------------------------------\u001b[0m",
      "\u001b[1;31mNameError\u001b[0m                                 Traceback (most recent call last)",
      "\u001b[1;32m~\\AppData\\Local\\Temp/ipykernel_11240/2484115431.py\u001b[0m in \u001b[0;36m<module>\u001b[1;34m\u001b[0m\n\u001b[1;32m----> 1\u001b[1;33m \u001b[0mincome\u001b[0m\u001b[1;33m\u001b[0m\u001b[1;33m\u001b[0m\u001b[0m\n\u001b[0m",
      "\u001b[1;31mNameError\u001b[0m: name 'income' is not defined"
     ]
    }
   ],
   "source": [
    "income"
   ]
  },
  {
   "cell_type": "markdown",
   "id": "4448388e",
   "metadata": {},
   "source": [
    "# 03-04-2023"
   ]
  },
  {
   "cell_type": "markdown",
   "id": "8b519ad8",
   "metadata": {},
   "source": [
    "#### Data Types\n",
    "- numeric - int, float, complex\n",
    "- string\n",
    "- boolean\n",
    "- collection of data types\n"
   ]
  },
  {
   "cell_type": "code",
   "execution_count": 1,
   "id": "77d7c47b",
   "metadata": {},
   "outputs": [
    {
     "data": {
      "text/plain": [
       "int"
      ]
     },
     "execution_count": 1,
     "metadata": {},
     "output_type": "execute_result"
    }
   ],
   "source": [
    "#int\n",
    "#using type function to check the type of variable \n",
    "a=10\n",
    "type(a)"
   ]
  },
  {
   "cell_type": "code",
   "execution_count": 2,
   "id": "c5a091be",
   "metadata": {},
   "outputs": [
    {
     "data": {
      "text/plain": [
       "float"
      ]
     },
     "execution_count": 2,
     "metadata": {},
     "output_type": "execute_result"
    }
   ],
   "source": [
    "#float\n",
    "b=10.2\n",
    "type(b)"
   ]
  },
  {
   "cell_type": "code",
   "execution_count": 3,
   "id": "6aa91d41",
   "metadata": {},
   "outputs": [
    {
     "data": {
      "text/plain": [
       "str"
      ]
     },
     "execution_count": 3,
     "metadata": {},
     "output_type": "execute_result"
    }
   ],
   "source": [
    "#string\n",
    "c=\"sam\"\n",
    "type(c)"
   ]
  },
  {
   "cell_type": "code",
   "execution_count": 4,
   "id": "a596eb38",
   "metadata": {},
   "outputs": [
    {
     "data": {
      "text/plain": [
       "(bool, bool)"
      ]
     },
     "execution_count": 4,
     "metadata": {},
     "output_type": "execute_result"
    }
   ],
   "source": [
    "#boolean\n",
    "d=True\n",
    "e=False\n",
    "type(d),type(e)"
   ]
  },
  {
   "cell_type": "markdown",
   "id": "64044fdf",
   "metadata": {},
   "source": [
    "## Data type conversion\n",
    "- Implicit conversion\n",
    ": Conversion done by Python interpreter\n",
    "- Explicit Conversion\n",
    ": Conversion that is user-defined that forces an expression to be of specific data type"
   ]
  },
  {
   "cell_type": "code",
   "execution_count": 5,
   "id": "4a565575",
   "metadata": {},
   "outputs": [
    {
     "data": {
      "text/plain": [
       "float"
      ]
     },
     "execution_count": 5,
     "metadata": {},
     "output_type": "execute_result"
    }
   ],
   "source": [
    "#Implicit conversion\n",
    "a=10\n",
    "b=2.5\n",
    "c=a+b\n",
    "type(c)"
   ]
  },
  {
   "cell_type": "code",
   "execution_count": 6,
   "id": "878f464e",
   "metadata": {},
   "outputs": [
    {
     "ename": "TypeError",
     "evalue": "unsupported operand type(s) for +: 'int' and 'str'",
     "output_type": "error",
     "traceback": [
      "\u001b[1;31m---------------------------------------------------------------------------\u001b[0m",
      "\u001b[1;31mTypeError\u001b[0m                                 Traceback (most recent call last)",
      "\u001b[1;32m~\\AppData\\Local\\Temp/ipykernel_26812/1477051303.py\u001b[0m in \u001b[0;36m<module>\u001b[1;34m\u001b[0m\n\u001b[0;32m      1\u001b[0m \u001b[0ma\u001b[0m\u001b[1;33m=\u001b[0m\u001b[1;36m10\u001b[0m\u001b[1;33m\u001b[0m\u001b[1;33m\u001b[0m\u001b[0m\n\u001b[0;32m      2\u001b[0m \u001b[0mb\u001b[0m\u001b[1;33m=\u001b[0m\u001b[1;34m\"2\"\u001b[0m\u001b[1;33m\u001b[0m\u001b[1;33m\u001b[0m\u001b[0m\n\u001b[1;32m----> 3\u001b[1;33m \u001b[0mc\u001b[0m\u001b[1;33m=\u001b[0m\u001b[0ma\u001b[0m\u001b[1;33m+\u001b[0m\u001b[0mb\u001b[0m\u001b[1;33m\u001b[0m\u001b[1;33m\u001b[0m\u001b[0m\n\u001b[0m\u001b[0;32m      4\u001b[0m \u001b[0mtype\u001b[0m\u001b[1;33m(\u001b[0m\u001b[0mc\u001b[0m\u001b[1;33m)\u001b[0m\u001b[1;33m\u001b[0m\u001b[1;33m\u001b[0m\u001b[0m\n",
      "\u001b[1;31mTypeError\u001b[0m: unsupported operand type(s) for +: 'int' and 'str'"
     ]
    }
   ],
   "source": [
    "#explicit conversion\n",
    "a=10\n",
    "b=\"2\"\n",
    "c=a+b\n",
    "type(c)"
   ]
  },
  {
   "cell_type": "code",
   "execution_count": 8,
   "id": "64266bf9",
   "metadata": {},
   "outputs": [
    {
     "data": {
      "text/plain": [
       "int"
      ]
     },
     "execution_count": 8,
     "metadata": {},
     "output_type": "execute_result"
    }
   ],
   "source": [
    "a=10\n",
    "b=\"2\"\n",
    "c=a+int(b)\n",
    "type(c)"
   ]
  },
  {
   "cell_type": "markdown",
   "id": "6e407c6c",
   "metadata": {},
   "source": [
    "## Type casting\n",
    "- int\n",
    "- float\n",
    "- string\n",
    "- boolean"
   ]
  },
  {
   "cell_type": "code",
   "execution_count": 9,
   "id": "203f75b2",
   "metadata": {},
   "outputs": [
    {
     "name": "stdout",
     "output_type": "stream",
     "text": [
      "<class 'float'>\n"
     ]
    }
   ],
   "source": [
    "#int\n",
    "a=1000.25\n",
    "print(type(a))"
   ]
  },
  {
   "cell_type": "code",
   "execution_count": 10,
   "id": "20dd3654",
   "metadata": {},
   "outputs": [
    {
     "name": "stdout",
     "output_type": "stream",
     "text": [
      "1000\n",
      "<class 'int'>\n"
     ]
    }
   ],
   "source": [
    "a=1000.25\n",
    "a=int(a)\n",
    "print(a)\n",
    "print(type(a))"
   ]
  },
  {
   "cell_type": "code",
   "execution_count": 11,
   "id": "cba7a19f",
   "metadata": {},
   "outputs": [
    {
     "name": "stdout",
     "output_type": "stream",
     "text": [
      "25.0\n"
     ]
    },
    {
     "data": {
      "text/plain": [
       "float"
      ]
     },
     "execution_count": 11,
     "metadata": {},
     "output_type": "execute_result"
    }
   ],
   "source": [
    "#float\n",
    "age=25\n",
    "age=float(25)\n",
    "print(age)\n",
    "type(age)"
   ]
  },
  {
   "cell_type": "code",
   "execution_count": 25,
   "id": "ecce6ee1",
   "metadata": {},
   "outputs": [
    {
     "name": "stdout",
     "output_type": "stream",
     "text": [
      "False\n"
     ]
    },
    {
     "data": {
      "text/plain": [
       "True"
      ]
     },
     "execution_count": 25,
     "metadata": {},
     "output_type": "execute_result"
    }
   ],
   "source": [
    "#boolean \n",
    "x=0\n",
    "y=1\n",
    "print(bool(x))\n",
    "bool(y)\n",
    "#any values apart from zero will be True values - both positive and negative numbers"
   ]
  },
  {
   "cell_type": "markdown",
   "id": "08f302a7",
   "metadata": {},
   "source": [
    "## Functions in Python\n",
    "- A function is a block of code that runs when called\n",
    "- A function has a name.\n",
    "- A function can take input(s), known as input parameters\n",
    "- Types: Inbuilt functions and userdefined functions\n",
    "- Examples - print, type, sum, min, max, id "
   ]
  },
  {
   "cell_type": "markdown",
   "id": "2d863c29",
   "metadata": {},
   "source": [
    "## Print Function"
   ]
  },
  {
   "cell_type": "code",
   "execution_count": 14,
   "id": "4d4914c0",
   "metadata": {},
   "outputs": [
    {
     "name": "stdout",
     "output_type": "stream",
     "text": [
      "Hello\n",
      "Hello Hi\n"
     ]
    }
   ],
   "source": [
    "print(\"Hello\")\n",
    "print(\"Hello\",\"Hi\")\n"
   ]
  },
  {
   "cell_type": "code",
   "execution_count": 15,
   "id": "1e69f50d",
   "metadata": {},
   "outputs": [
    {
     "name": "stdout",
     "output_type": "stream",
     "text": [
      "Hello\n",
      "\n",
      "\n",
      "Hi\n"
     ]
    }
   ],
   "source": [
    "#adding new line \n",
    "print(\"Hello\")\n",
    "print(\"\\n\")\n",
    "print(\"Hi\")"
   ]
  },
  {
   "cell_type": "code",
   "execution_count": 19,
   "id": "2098a09c",
   "metadata": {},
   "outputs": [
    {
     "name": "stdout",
     "output_type": "stream",
     "text": [
      "Hello \n",
      " Hi\n"
     ]
    }
   ],
   "source": [
    "print(\"Hello\",\"\\n Hi\")"
   ]
  },
  {
   "cell_type": "code",
   "execution_count": 20,
   "id": "2b663742",
   "metadata": {
    "scrolled": true
   },
   "outputs": [
    {
     "name": "stdout",
     "output_type": "stream",
     "text": [
      "Hello \n",
      "Hi\n"
     ]
    }
   ],
   "source": [
    "print(\"Hello\",\"\\nHi\")"
   ]
  },
  {
   "cell_type": "code",
   "execution_count": 21,
   "id": "c405b61d",
   "metadata": {},
   "outputs": [
    {
     "name": "stdout",
     "output_type": "stream",
     "text": [
      "('mango', 'apple', 'grapes')\n"
     ]
    }
   ],
   "source": [
    "#strings in a variable\n",
    "fruits=\"mango\",\"apple\",\"grapes\"\n",
    "print(fruits)"
   ]
  },
  {
   "cell_type": "code",
   "execution_count": 22,
   "id": "953c4b31",
   "metadata": {},
   "outputs": [
    {
     "data": {
      "text/plain": [
       "tuple"
      ]
     },
     "execution_count": 22,
     "metadata": {},
     "output_type": "execute_result"
    }
   ],
   "source": [
    "type(fruits)"
   ]
  },
  {
   "cell_type": "markdown",
   "id": "fd1ac412",
   "metadata": {},
   "source": [
    "## Operators in Python\n",
    "- Arithmetic operators - +, -, *, /, //, %, **\n",
    "- Relational operators - >, <, >=, <=, ==\n",
    "- Logical operators - OR, AND, NOT\n",
    "- Membership operators - in, not in \n",
    "- Bitwise operators - & (and) , |(or)\n",
    "- Assignment operators:\n",
    "\n",
    "\n",
    "- a += b is same as a = a + b\n",
    "- a *= b is same as a = a * b\n",
    "- a /= b is same as a = a / b\n",
    "- a %= b is same as a = a % b\n",
    "- a **= b is same as a = a ** b\n",
    "- a //= b is same as a = a // b"
   ]
  },
  {
   "cell_type": "markdown",
   "id": "afa90d85",
   "metadata": {},
   "source": [
    "## Arithmetic operators"
   ]
  },
  {
   "cell_type": "code",
   "execution_count": null,
   "id": "006e6db3",
   "metadata": {},
   "outputs": [],
   "source": []
  },
  {
   "cell_type": "markdown",
   "id": "bb15226c",
   "metadata": {},
   "source": [
    "# 04-04-2023"
   ]
  },
  {
   "cell_type": "markdown",
   "id": "4592fcd0",
   "metadata": {},
   "source": [
    "## Relational Operators"
   ]
  },
  {
   "cell_type": "code",
   "execution_count": 23,
   "id": "0ee12d38",
   "metadata": {},
   "outputs": [
    {
     "name": "stdout",
     "output_type": "stream",
     "text": [
      "positive number\n"
     ]
    }
   ],
   "source": [
    "num=3\n",
    "if num>0:\n",
    "    print(\"positive number\")"
   ]
  },
  {
   "cell_type": "code",
   "execution_count": 27,
   "id": "0340b9c0",
   "metadata": {},
   "outputs": [
    {
     "name": "stdout",
     "output_type": "stream",
     "text": [
      "negative number\n"
     ]
    }
   ],
   "source": [
    "num=-1\n",
    "if num>=0:\n",
    "    print(\"positive number or zero\")\n",
    "else:\n",
    "    print(\"negative number\")\n"
   ]
  },
  {
   "cell_type": "markdown",
   "id": "f8d52ad5",
   "metadata": {},
   "source": [
    "## Logical operators\n",
    "- AND\n",
    "- OR"
   ]
  },
  {
   "cell_type": "code",
   "execution_count": 4,
   "id": "125123d0",
   "metadata": {},
   "outputs": [
    {
     "data": {
      "text/plain": [
       "False"
      ]
     },
     "execution_count": 4,
     "metadata": {},
     "output_type": "execute_result"
    }
   ],
   "source": [
    "#AND\n",
    "x=True\n",
    "y=False\n",
    "x and y"
   ]
  },
  {
   "cell_type": "code",
   "execution_count": 7,
   "id": "9493280a",
   "metadata": {},
   "outputs": [
    {
     "data": {
      "text/plain": [
       "False"
      ]
     },
     "execution_count": 7,
     "metadata": {},
     "output_type": "execute_result"
    }
   ],
   "source": [
    "num=9\n",
    "(num%3==0) and (num<1)"
   ]
  },
  {
   "cell_type": "code",
   "execution_count": 5,
   "id": "9495a994",
   "metadata": {},
   "outputs": [
    {
     "data": {
      "text/plain": [
       "True"
      ]
     },
     "execution_count": 5,
     "metadata": {},
     "output_type": "execute_result"
    }
   ],
   "source": [
    "#OR\n",
    "x or y"
   ]
  },
  {
   "cell_type": "code",
   "execution_count": 9,
   "id": "1a382ed1",
   "metadata": {},
   "outputs": [
    {
     "data": {
      "text/plain": [
       "True"
      ]
     },
     "execution_count": 9,
     "metadata": {},
     "output_type": "execute_result"
    }
   ],
   "source": [
    "num=9\n",
    "(num%3==0) or (num<1)"
   ]
  },
  {
   "cell_type": "markdown",
   "id": "7e3a5491",
   "metadata": {},
   "source": [
    "## Membership operators\n",
    "- in\n",
    "- not in "
   ]
  },
  {
   "cell_type": "code",
   "execution_count": 1,
   "id": "82f497d0",
   "metadata": {},
   "outputs": [
    {
     "data": {
      "text/plain": [
       "True"
      ]
     },
     "execution_count": 1,
     "metadata": {},
     "output_type": "execute_result"
    }
   ],
   "source": [
    "string=\"Hello\"\n",
    "var=\"o\"\n",
    "var in string"
   ]
  },
  {
   "cell_type": "code",
   "execution_count": 3,
   "id": "10bf21d5",
   "metadata": {},
   "outputs": [
    {
     "name": "stdout",
     "output_type": "stream",
     "text": [
      "True\n"
     ]
    }
   ],
   "source": [
    "print(var in string)"
   ]
  },
  {
   "cell_type": "code",
   "execution_count": 2,
   "id": "f5832f60",
   "metadata": {
    "scrolled": true
   },
   "outputs": [
    {
     "data": {
      "text/plain": [
       "False"
      ]
     },
     "execution_count": 2,
     "metadata": {},
     "output_type": "execute_result"
    }
   ],
   "source": [
    "string=\"Hello\"\n",
    "var=\"o\"\n",
    "var not in string"
   ]
  },
  {
   "cell_type": "markdown",
   "id": "a2a58bfd",
   "metadata": {},
   "source": [
    "## Bitwise operators\n",
    "- & (fucntion as and)\n",
    "- | (function as or)"
   ]
  },
  {
   "cell_type": "code",
   "execution_count": 11,
   "id": "75cb4d6f",
   "metadata": {},
   "outputs": [
    {
     "data": {
      "text/plain": [
       "False"
      ]
     },
     "execution_count": 11,
     "metadata": {},
     "output_type": "execute_result"
    }
   ],
   "source": [
    "num=9 #and \n",
    "(num%3==0) & (num<1)"
   ]
  },
  {
   "cell_type": "code",
   "execution_count": 10,
   "id": "a89ddce2",
   "metadata": {},
   "outputs": [
    {
     "data": {
      "text/plain": [
       "True"
      ]
     },
     "execution_count": 10,
     "metadata": {},
     "output_type": "execute_result"
    }
   ],
   "source": [
    "num=9 #or\n",
    "(num%3==0) | (num<1)"
   ]
  },
  {
   "cell_type": "markdown",
   "id": "ae1e503e",
   "metadata": {},
   "source": [
    "## Data Slicing"
   ]
  },
  {
   "cell_type": "code",
   "execution_count": null,
   "id": "9c865fcc",
   "metadata": {},
   "outputs": [],
   "source": []
  },
  {
   "cell_type": "markdown",
   "id": "8ca09de4",
   "metadata": {},
   "source": [
    "## Runtime Variable"
   ]
  },
  {
   "cell_type": "code",
   "execution_count": 3,
   "id": "87e013c0",
   "metadata": {},
   "outputs": [
    {
     "name": "stdout",
     "output_type": "stream",
     "text": [
      "Enter your nameElon\n",
      "welcome Elon\n"
     ]
    }
   ],
   "source": [
    "name=input(\"Enter your name\")\n",
    "print(\"welcome\",name)"
   ]
  },
  {
   "cell_type": "markdown",
   "id": "dd6d06a6",
   "metadata": {},
   "source": [
    "# 05-04-2023"
   ]
  },
  {
   "cell_type": "markdown",
   "id": "5893f949",
   "metadata": {},
   "source": [
    "## String Handling"
   ]
  },
  {
   "cell_type": "code",
   "execution_count": 5,
   "id": "f3c515ca",
   "metadata": {},
   "outputs": [],
   "source": [
    "a=\"elon musk\""
   ]
  },
  {
   "cell_type": "code",
   "execution_count": 6,
   "id": "77537700",
   "metadata": {},
   "outputs": [
    {
     "data": {
      "text/plain": [
       "'Elon musk'"
      ]
     },
     "execution_count": 6,
     "metadata": {},
     "output_type": "execute_result"
    }
   ],
   "source": [
    "# replace method\n",
    "a.replace(\"e\",\"E\")\n",
    "\n",
    "\n",
    "#variable.replace(which to replace, replace with)\n",
    "#replace method will not change the original value in the variable"
   ]
  },
  {
   "cell_type": "code",
   "execution_count": 7,
   "id": "1decd613",
   "metadata": {},
   "outputs": [
    {
     "data": {
      "text/plain": [
       "'elon musk'"
      ]
     },
     "execution_count": 7,
     "metadata": {},
     "output_type": "execute_result"
    }
   ],
   "source": [
    "a"
   ]
  },
  {
   "cell_type": "code",
   "execution_count": 8,
   "id": "31740e7b",
   "metadata": {},
   "outputs": [
    {
     "data": {
      "text/plain": [
       "'ELON MUSK'"
      ]
     },
     "execution_count": 8,
     "metadata": {},
     "output_type": "execute_result"
    }
   ],
   "source": [
    "#upper method\n",
    "a.upper()\n",
    "#isupper() - for comparison"
   ]
  },
  {
   "cell_type": "code",
   "execution_count": 17,
   "id": "e4bb8989",
   "metadata": {},
   "outputs": [
    {
     "data": {
      "text/plain": [
       "'elon musk'"
      ]
     },
     "execution_count": 17,
     "metadata": {},
     "output_type": "execute_result"
    }
   ],
   "source": [
    "#lower method\n",
    "a.lower()\n",
    "#islower() - for comparison"
   ]
  },
  {
   "cell_type": "code",
   "execution_count": 9,
   "id": "9c133889",
   "metadata": {},
   "outputs": [
    {
     "data": {
      "text/plain": [
       "'Elon Musk'"
      ]
     },
     "execution_count": 9,
     "metadata": {},
     "output_type": "execute_result"
    }
   ],
   "source": [
    "#title method\n",
    "a.title()"
   ]
  },
  {
   "cell_type": "code",
   "execution_count": 8,
   "id": "48921c5c",
   "metadata": {},
   "outputs": [],
   "source": [
    "#join method\n",
    "date=\"05\",\"04\",\"2023\"\n",
    "sep=\"-\""
   ]
  },
  {
   "cell_type": "code",
   "execution_count": 9,
   "id": "87c4e385",
   "metadata": {},
   "outputs": [
    {
     "data": {
      "text/plain": [
       "'05-04-2023'"
      ]
     },
     "execution_count": 9,
     "metadata": {},
     "output_type": "execute_result"
    }
   ],
   "source": [
    "sep.join(date)"
   ]
  },
  {
   "cell_type": "code",
   "execution_count": 20,
   "id": "57c61e76",
   "metadata": {},
   "outputs": [],
   "source": [
    "#split method\n",
    "text=\"mango dates lays\"\n"
   ]
  },
  {
   "cell_type": "code",
   "execution_count": 24,
   "id": "3f380c3b",
   "metadata": {},
   "outputs": [
    {
     "data": {
      "text/plain": [
       "['mango', 'dates', 'lays']"
      ]
     },
     "execution_count": 24,
     "metadata": {},
     "output_type": "execute_result"
    }
   ],
   "source": [
    "text.split(\" \")"
   ]
  },
  {
   "cell_type": "code",
   "execution_count": 37,
   "id": "fe5ff158",
   "metadata": {},
   "outputs": [
    {
     "data": {
      "text/plain": [
       "'sam'"
      ]
     },
     "execution_count": 37,
     "metadata": {},
     "output_type": "execute_result"
    }
   ],
   "source": [
    "#strip method\n",
    "text=\"**sam\"\n",
    "text.strip(\"*\")"
   ]
  },
  {
   "cell_type": "code",
   "execution_count": 25,
   "id": "3adc2e01",
   "metadata": {},
   "outputs": [
    {
     "data": {
      "text/plain": [
       "'sam'"
      ]
     },
     "execution_count": 25,
     "metadata": {},
     "output_type": "execute_result"
    }
   ],
   "source": [
    "text=\"**sam***\"\n",
    "text.strip(\"*\")"
   ]
  },
  {
   "cell_type": "code",
   "execution_count": 26,
   "id": "706345d4",
   "metadata": {},
   "outputs": [
    {
     "data": {
      "text/plain": [
       "'sam*altman'"
      ]
     },
     "execution_count": 26,
     "metadata": {},
     "output_type": "execute_result"
    }
   ],
   "source": [
    "text=\"**sam*altman**\"\n",
    "text.strip(\"*\")"
   ]
  },
  {
   "cell_type": "code",
   "execution_count": 27,
   "id": "e8bb574a",
   "metadata": {},
   "outputs": [
    {
     "data": {
      "text/plain": [
       "'sam altman'"
      ]
     },
     "execution_count": 27,
     "metadata": {},
     "output_type": "execute_result"
    }
   ],
   "source": [
    "text=\"**??sam altman**%\"\n",
    "text.strip(\"&^%$#%*?\")"
   ]
  },
  {
   "cell_type": "markdown",
   "id": "2163e00d",
   "metadata": {},
   "source": [
    "## Python Flow control\n",
    "\n",
    "- Any program has a flow.\n",
    "- The flow is the order in which the program’s code executes.\n",
    "- The control flow of a Python program is controlled by:\n",
    "1. Conditional Statements\n",
    "2. Loops\n",
    "3. Function Calls"
   ]
  },
  {
   "cell_type": "markdown",
   "id": "fcf32f6a",
   "metadata": {},
   "source": [
    "## Conditional Statements\n",
    "- if\n",
    "- if-else\n",
    "- elif\n",
    "- the conditional statements ends with colon"
   ]
  },
  {
   "cell_type": "markdown",
   "id": "f76994e3",
   "metadata": {},
   "source": [
    "### The if-statement\n",
    "\n",
    "- Sometimes we want to execute a code only if a certain condition is true.\n",
    "- The if statement is used in Python for decision making.\n",
    "- An \"if statement\" is written by using the if keyword."
   ]
  },
  {
   "cell_type": "code",
   "execution_count": 29,
   "id": "737f27ab",
   "metadata": {},
   "outputs": [
    {
     "name": "stdout",
     "output_type": "stream",
     "text": [
      "3 is a Positive number\n"
     ]
    }
   ],
   "source": [
    "num=3\n",
    "if num>0: #the conditional statements ends with colon\n",
    "    print(num,\"is a Positive number\")"
   ]
  },
  {
   "cell_type": "markdown",
   "id": "4576bf62",
   "metadata": {},
   "source": [
    "### The if-else statement\n",
    "- The ‘if..else’ statement evaluates a test expression and will execute the code that is part of the ‘if’ expression if the test expression True.\n",
    "- If the test expression is False, the code that is part of the ‘else’ expression is\n",
    "executed"
   ]
  },
  {
   "cell_type": "code",
   "execution_count": 34,
   "id": "10519678",
   "metadata": {},
   "outputs": [
    {
     "name": "stdout",
     "output_type": "stream",
     "text": [
      "-1 is a negative number\n"
     ]
    }
   ],
   "source": [
    "num=-1\n",
    "if num>=0:\n",
    "    print(num,\"is a positive number or zero\")\n",
    "else:\n",
    "    print(num,\"is a negative number\")\n",
    "#no condition should be given for else condition"
   ]
  },
  {
   "cell_type": "markdown",
   "id": "bc73b372",
   "metadata": {},
   "source": [
    "## Loops\n",
    "- For loop\n",
    "- While loop"
   ]
  },
  {
   "cell_type": "markdown",
   "id": "0b369cad",
   "metadata": {},
   "source": [
    "### For loop\n",
    "- The ‘for loop’ in Python is used to iterate over the items of a sequence object like list, tuple, string and other iterable objects.\n",
    "- The iteration continues until we reach the last item in the sequence object."
   ]
  },
  {
   "cell_type": "code",
   "execution_count": 31,
   "id": "2f8ffffc",
   "metadata": {},
   "outputs": [
    {
     "name": "stdout",
     "output_type": "stream",
     "text": [
      "1\n",
      "4\n",
      "9\n",
      "16\n",
      "25\n",
      "36\n",
      "49\n",
      "64\n",
      "81\n",
      "100\n"
     ]
    }
   ],
   "source": [
    "#print number 1 to 10\n",
    "for i in range(1,11):\n",
    "    print(i**2)"
   ]
  },
  {
   "cell_type": "code",
   "execution_count": null,
   "id": "97599ad5",
   "metadata": {},
   "outputs": [],
   "source": [
    "#print sum of numbers from 1 to 10"
   ]
  },
  {
   "cell_type": "markdown",
   "id": "f50046b8",
   "metadata": {},
   "source": [
    "### While loop\n",
    "- Will be seen in later class"
   ]
  },
  {
   "cell_type": "markdown",
   "id": "a187576a",
   "metadata": {},
   "source": [
    "# Collection of Data types or Python Objects\n",
    "- List\n",
    "- Tuple\n",
    "- Set\n",
    "- Dictionary"
   ]
  },
  {
   "cell_type": "markdown",
   "id": "c7e720ba",
   "metadata": {},
   "source": [
    "## List\n",
    "- A list is a container object\n",
    "- Heterogeneous sequence of elements \n",
    "- Can have duplicates\n",
    "- Mutable\n",
    "- Elements are separated by comma, enclosed in [ ] parenthesis\n",
    "- Supports the following:\n",
    "- Append new elements\n",
    "- Concatenate\n",
    "- Access using indexes or values\n",
    "- len(), min(), max(), in , not in "
   ]
  },
  {
   "cell_type": "code",
   "execution_count": 32,
   "id": "6379bd9a",
   "metadata": {},
   "outputs": [
    {
     "data": {
      "text/plain": [
       "list"
      ]
     },
     "execution_count": 32,
     "metadata": {},
     "output_type": "execute_result"
    }
   ],
   "source": [
    "people=[\"Bill gates\",\"steve jobs\"]\n",
    "type(people)"
   ]
  },
  {
   "cell_type": "code",
   "execution_count": 33,
   "id": "6fae9dbf",
   "metadata": {},
   "outputs": [
    {
     "data": {
      "text/plain": [
       "list"
      ]
     },
     "execution_count": 33,
     "metadata": {},
     "output_type": "execute_result"
    }
   ],
   "source": [
    "people1=[\"Bill gates\",\"steve jobs\",20,30,20.22]\n",
    "type(people1)"
   ]
  },
  {
   "cell_type": "code",
   "execution_count": 34,
   "id": "3aaa5ee0",
   "metadata": {},
   "outputs": [
    {
     "data": {
      "text/plain": [
       "list"
      ]
     },
     "execution_count": 34,
     "metadata": {},
     "output_type": "execute_result"
    }
   ],
   "source": [
    "#nested list \n",
    "# a list inside a list\n",
    "cus=[\"Penny\",[18,23,40],[\"book\"]]\n",
    "type(cus)"
   ]
  },
  {
   "cell_type": "code",
   "execution_count": 38,
   "id": "3af76e89",
   "metadata": {},
   "outputs": [
    {
     "data": {
      "text/plain": [
       "3"
      ]
     },
     "execution_count": 38,
     "metadata": {},
     "output_type": "execute_result"
    }
   ],
   "source": [
    "len(cus[1])"
   ]
  },
  {
   "cell_type": "code",
   "execution_count": 36,
   "id": "f24b2ff9",
   "metadata": {},
   "outputs": [
    {
     "data": {
      "text/plain": [
       "3"
      ]
     },
     "execution_count": 36,
     "metadata": {},
     "output_type": "execute_result"
    }
   ],
   "source": [
    "len(cus[1])"
   ]
  },
  {
   "cell_type": "markdown",
   "id": "89869ff3",
   "metadata": {},
   "source": [
    "#### Adding elements to the list\n",
    "- append \n",
    "- extend\n",
    "- concatenation using +\n",
    "- insert (index, value)"
   ]
  },
  {
   "cell_type": "code",
   "execution_count": 43,
   "id": "faa55530",
   "metadata": {},
   "outputs": [],
   "source": [
    "#concatentate the list\n",
    "a=[1,2,4,5]\n",
    "b=[\"a\",\"b\",\"c\"]"
   ]
  },
  {
   "cell_type": "code",
   "execution_count": 40,
   "id": "0bb54492",
   "metadata": {},
   "outputs": [
    {
     "data": {
      "text/plain": [
       "[1, 2, 4, 5, 'a', 'b', 'c']"
      ]
     },
     "execution_count": 40,
     "metadata": {},
     "output_type": "execute_result"
    }
   ],
   "source": [
    "a+b"
   ]
  },
  {
   "cell_type": "code",
   "execution_count": 41,
   "id": "96fe7f90",
   "metadata": {},
   "outputs": [],
   "source": [
    "#append method - adds as a unchanged item at the end of the list ()\n",
    "a.append(b)"
   ]
  },
  {
   "cell_type": "code",
   "execution_count": 42,
   "id": "557a6501",
   "metadata": {
    "scrolled": true
   },
   "outputs": [
    {
     "data": {
      "text/plain": [
       "[1, 2, 4, 5, ['a', 'b', 'c']]"
      ]
     },
     "execution_count": 42,
     "metadata": {},
     "output_type": "execute_result"
    }
   ],
   "source": [
    "a"
   ]
  },
  {
   "cell_type": "code",
   "execution_count": null,
   "id": "b72f7c74",
   "metadata": {},
   "outputs": [],
   "source": []
  },
  {
   "cell_type": "code",
   "execution_count": 44,
   "id": "cae00e07",
   "metadata": {},
   "outputs": [
    {
     "data": {
      "text/plain": [
       "[1, 2, 4, 5]"
      ]
     },
     "execution_count": 44,
     "metadata": {},
     "output_type": "execute_result"
    }
   ],
   "source": [
    "a"
   ]
  },
  {
   "cell_type": "code",
   "execution_count": 45,
   "id": "bc7f6db6",
   "metadata": {},
   "outputs": [],
   "source": [
    "#entend\n",
    "a.extend(b)"
   ]
  },
  {
   "cell_type": "code",
   "execution_count": 46,
   "id": "36fdbc50",
   "metadata": {},
   "outputs": [
    {
     "data": {
      "text/plain": [
       "[1, 2, 4, 5, 'a', 'b', 'c']"
      ]
     },
     "execution_count": 46,
     "metadata": {},
     "output_type": "execute_result"
    }
   ],
   "source": [
    "a"
   ]
  },
  {
   "cell_type": "code",
   "execution_count": 47,
   "id": "20223b19",
   "metadata": {},
   "outputs": [],
   "source": [
    "l1=[1,2,3]\n",
    "l2=2,3"
   ]
  },
  {
   "cell_type": "code",
   "execution_count": 48,
   "id": "6fef04ac",
   "metadata": {},
   "outputs": [],
   "source": [
    "l1.append(l2)"
   ]
  },
  {
   "cell_type": "code",
   "execution_count": 49,
   "id": "e2082730",
   "metadata": {},
   "outputs": [
    {
     "data": {
      "text/plain": [
       "[1, 2, 3, (2, 3)]"
      ]
     },
     "execution_count": 49,
     "metadata": {},
     "output_type": "execute_result"
    }
   ],
   "source": [
    "l1"
   ]
  },
  {
   "cell_type": "code",
   "execution_count": 78,
   "id": "f1a36b10",
   "metadata": {},
   "outputs": [
    {
     "data": {
      "text/plain": [
       "4"
      ]
     },
     "execution_count": 78,
     "metadata": {},
     "output_type": "execute_result"
    }
   ],
   "source": [
    "len(l1)"
   ]
  },
  {
   "cell_type": "code",
   "execution_count": 79,
   "id": "b704ef55",
   "metadata": {
    "scrolled": true
   },
   "outputs": [
    {
     "data": {
      "text/plain": [
       "(2, 3)"
      ]
     },
     "execution_count": 79,
     "metadata": {},
     "output_type": "execute_result"
    }
   ],
   "source": [
    "l1[3]"
   ]
  },
  {
   "cell_type": "code",
   "execution_count": 85,
   "id": "9d8ad9cf",
   "metadata": {},
   "outputs": [
    {
     "data": {
      "text/plain": [
       "[1, 2, 3, (2, 3)]"
      ]
     },
     "execution_count": 85,
     "metadata": {},
     "output_type": "execute_result"
    }
   ],
   "source": [
    "l1"
   ]
  },
  {
   "cell_type": "code",
   "execution_count": 50,
   "id": "83eed986",
   "metadata": {},
   "outputs": [],
   "source": [
    "#extend method -\n",
    "l3=[1,2,3]\n",
    "l4=4,5\n",
    "l3.extend(l4)"
   ]
  },
  {
   "cell_type": "code",
   "execution_count": 51,
   "id": "5545386e",
   "metadata": {},
   "outputs": [
    {
     "data": {
      "text/plain": [
       "[1, 2, 3, 4, 5]"
      ]
     },
     "execution_count": 51,
     "metadata": {},
     "output_type": "execute_result"
    }
   ],
   "source": [
    "l3"
   ]
  },
  {
   "cell_type": "code",
   "execution_count": 52,
   "id": "fed06349",
   "metadata": {},
   "outputs": [
    {
     "data": {
      "text/plain": [
       "5"
      ]
     },
     "execution_count": 52,
     "metadata": {},
     "output_type": "execute_result"
    }
   ],
   "source": [
    "len(l3)"
   ]
  },
  {
   "cell_type": "code",
   "execution_count": 53,
   "id": "b65fc435",
   "metadata": {},
   "outputs": [
    {
     "data": {
      "text/plain": [
       "4"
      ]
     },
     "execution_count": 53,
     "metadata": {},
     "output_type": "execute_result"
    }
   ],
   "source": [
    "l3[3]"
   ]
  },
  {
   "cell_type": "code",
   "execution_count": 86,
   "id": "5decfab4",
   "metadata": {},
   "outputs": [
    {
     "data": {
      "text/plain": [
       "[1, 2, 3, 4, 5]"
      ]
     },
     "execution_count": 86,
     "metadata": {},
     "output_type": "execute_result"
    }
   ],
   "source": [
    "l3"
   ]
  },
  {
   "cell_type": "markdown",
   "id": "6ada40da",
   "metadata": {},
   "source": [
    "### difference between Append and extend\n",
    "- Append : An iterable provided as a parameter appends to the end of the list unchanged as a single entry\n",
    "- Extend : When an iterable is provided as an input, every one of its elements is appended to the end of the list."
   ]
  },
  {
   "cell_type": "markdown",
   "id": "24012ac3",
   "metadata": {},
   "source": [
    "#### Inserting elements to the list"
   ]
  },
  {
   "cell_type": "code",
   "execution_count": 55,
   "id": "cc3ee760",
   "metadata": {},
   "outputs": [],
   "source": [
    "jobs=[\"data analyst\",\"data engineers\",\"data scientist\"]"
   ]
  },
  {
   "cell_type": "code",
   "execution_count": 56,
   "id": "24bbbf7f",
   "metadata": {},
   "outputs": [],
   "source": [
    "#insert - (index, value)\n",
    "jobs.insert(1,\"business analyst\")"
   ]
  },
  {
   "cell_type": "code",
   "execution_count": 57,
   "id": "67b86aa6",
   "metadata": {},
   "outputs": [
    {
     "data": {
      "text/plain": [
       "['data analyst', 'business analyst', 'data engineers', 'data scientist']"
      ]
     },
     "execution_count": 57,
     "metadata": {},
     "output_type": "execute_result"
    }
   ],
   "source": [
    "jobs"
   ]
  },
  {
   "cell_type": "markdown",
   "id": "8f756577",
   "metadata": {},
   "source": [
    "### remove elements from the list"
   ]
  },
  {
   "cell_type": "code",
   "execution_count": 58,
   "id": "cf0fb6c8",
   "metadata": {},
   "outputs": [],
   "source": [
    "#remove all elements.clear\n",
    "ct=[\"mean\",\"median\",\"mode\"]"
   ]
  },
  {
   "cell_type": "code",
   "execution_count": 59,
   "id": "dbb08711",
   "metadata": {},
   "outputs": [],
   "source": [
    "ct.clear()"
   ]
  },
  {
   "cell_type": "code",
   "execution_count": 60,
   "id": "e6582aac",
   "metadata": {},
   "outputs": [
    {
     "data": {
      "text/plain": [
       "[]"
      ]
     },
     "execution_count": 60,
     "metadata": {},
     "output_type": "execute_result"
    }
   ],
   "source": [
    "ct"
   ]
  },
  {
   "cell_type": "code",
   "execution_count": 64,
   "id": "cae20685",
   "metadata": {},
   "outputs": [],
   "source": [
    "ct=[\"mean\",\"median\",\"mode\"]"
   ]
  },
  {
   "cell_type": "code",
   "execution_count": 62,
   "id": "12791898",
   "metadata": {},
   "outputs": [
    {
     "data": {
      "text/plain": [
       "'median'"
      ]
     },
     "execution_count": 62,
     "metadata": {},
     "output_type": "execute_result"
    }
   ],
   "source": [
    "#remove an element\n",
    "#using .pop - uses index position\n",
    "#original varible is changed\n",
    "ct.pop(1)"
   ]
  },
  {
   "cell_type": "code",
   "execution_count": 63,
   "id": "24cea060",
   "metadata": {},
   "outputs": [
    {
     "data": {
      "text/plain": [
       "['mean', 'mode']"
      ]
     },
     "execution_count": 63,
     "metadata": {},
     "output_type": "execute_result"
    }
   ],
   "source": [
    "ct"
   ]
  },
  {
   "cell_type": "code",
   "execution_count": 65,
   "id": "2fcdc4c7",
   "metadata": {},
   "outputs": [],
   "source": [
    "#remove an element\n",
    "#using .remove - uses the name of the element\n",
    "#original varible is changed\n",
    "ct.remove(\"mode\")"
   ]
  },
  {
   "cell_type": "code",
   "execution_count": 66,
   "id": "e8d4ce46",
   "metadata": {
    "scrolled": true
   },
   "outputs": [
    {
     "data": {
      "text/plain": [
       "['mean', 'median']"
      ]
     },
     "execution_count": 66,
     "metadata": {},
     "output_type": "execute_result"
    }
   ],
   "source": [
    "ct"
   ]
  },
  {
   "cell_type": "code",
   "execution_count": 69,
   "id": "70331dde",
   "metadata": {},
   "outputs": [],
   "source": [
    "a=[1,2,3,4]\n"
   ]
  },
  {
   "cell_type": "code",
   "execution_count": 70,
   "id": "d66f860c",
   "metadata": {
    "scrolled": true
   },
   "outputs": [
    {
     "data": {
      "text/plain": [
       "1"
      ]
     },
     "execution_count": 70,
     "metadata": {},
     "output_type": "execute_result"
    }
   ],
   "source": [
    "a.pop(0)"
   ]
  },
  {
   "cell_type": "code",
   "execution_count": 71,
   "id": "33194631",
   "metadata": {},
   "outputs": [
    {
     "data": {
      "text/plain": [
       "[2, 3, 4]"
      ]
     },
     "execution_count": 71,
     "metadata": {},
     "output_type": "execute_result"
    }
   ],
   "source": [
    "a"
   ]
  },
  {
   "cell_type": "code",
   "execution_count": 72,
   "id": "25c09e2c",
   "metadata": {},
   "outputs": [],
   "source": [
    "a.remove(4)"
   ]
  },
  {
   "cell_type": "code",
   "execution_count": 73,
   "id": "346b42c7",
   "metadata": {},
   "outputs": [
    {
     "data": {
      "text/plain": [
       "[2, 3]"
      ]
     },
     "execution_count": 73,
     "metadata": {},
     "output_type": "execute_result"
    }
   ],
   "source": [
    "a"
   ]
  },
  {
   "cell_type": "markdown",
   "id": "53969e42",
   "metadata": {},
   "source": [
    "#### Sorting a list\n",
    "- sort\n",
    "- sorted\n",
    "- decending order\n",
    "- Note: List with mixed data types can't be sorted"
   ]
  },
  {
   "cell_type": "code",
   "execution_count": 82,
   "id": "2c65b173",
   "metadata": {},
   "outputs": [],
   "source": [
    "price=[120, 140, 234, 560, 223.4]"
   ]
  },
  {
   "cell_type": "code",
   "execution_count": 75,
   "id": "42951555",
   "metadata": {},
   "outputs": [],
   "source": [
    "#sort\n",
    "#if there're no output, changes are done in the original variable\n",
    "price.sort()"
   ]
  },
  {
   "cell_type": "code",
   "execution_count": 76,
   "id": "4595e95d",
   "metadata": {},
   "outputs": [
    {
     "data": {
      "text/plain": [
       "[120, 140, 223.4, 234, 560]"
      ]
     },
     "execution_count": 76,
     "metadata": {},
     "output_type": "execute_result"
    }
   ],
   "source": [
    "price"
   ]
  },
  {
   "cell_type": "code",
   "execution_count": 78,
   "id": "d8c012f3",
   "metadata": {
    "scrolled": true
   },
   "outputs": [
    {
     "data": {
      "text/plain": [
       "[120, 140, 223.4, 234, 560]"
      ]
     },
     "execution_count": 78,
     "metadata": {},
     "output_type": "execute_result"
    }
   ],
   "source": [
    "#sorted\n",
    "#no change is done in original variable\n",
    "sorted(price)"
   ]
  },
  {
   "cell_type": "code",
   "execution_count": 79,
   "id": "7ba6408d",
   "metadata": {},
   "outputs": [
    {
     "data": {
      "text/plain": [
       "[120, 140, 234, 560, 223.4]"
      ]
     },
     "execution_count": 79,
     "metadata": {},
     "output_type": "execute_result"
    }
   ],
   "source": [
    "price"
   ]
  },
  {
   "cell_type": "markdown",
   "id": "3db93ee0",
   "metadata": {},
   "source": [
    "#### Methods to reverse a list\n",
    "- .reverse\n",
    "- sort(reverse=True)\n",
    "- Slicing the list [:  :  -1]"
   ]
  },
  {
   "cell_type": "code",
   "execution_count": 118,
   "id": "1144e629",
   "metadata": {},
   "outputs": [],
   "source": [
    "price=[120, 140, 234, 560, 223.4,1000]"
   ]
  },
  {
   "cell_type": "code",
   "execution_count": 79,
   "id": "7d8dea67",
   "metadata": {},
   "outputs": [
    {
     "data": {
      "text/plain": [
       "[120, 140, 234, 560, 223.4]"
      ]
     },
     "execution_count": 79,
     "metadata": {},
     "output_type": "execute_result"
    }
   ],
   "source": [
    "price"
   ]
  },
  {
   "cell_type": "code",
   "execution_count": 80,
   "id": "79340ee7",
   "metadata": {},
   "outputs": [],
   "source": [
    "#decending order\n",
    "price.sort(reverse=True)"
   ]
  },
  {
   "cell_type": "code",
   "execution_count": 81,
   "id": "d4d05674",
   "metadata": {
    "scrolled": true
   },
   "outputs": [
    {
     "data": {
      "text/plain": [
       "[560, 234, 223.4, 140, 120]"
      ]
     },
     "execution_count": 81,
     "metadata": {},
     "output_type": "execute_result"
    }
   ],
   "source": [
    "price"
   ]
  },
  {
   "cell_type": "code",
   "execution_count": 83,
   "id": "80729aea",
   "metadata": {
    "scrolled": true
   },
   "outputs": [
    {
     "data": {
      "text/plain": [
       "[120, 140, 234, 560, 223.4]"
      ]
     },
     "execution_count": 83,
     "metadata": {},
     "output_type": "execute_result"
    }
   ],
   "source": [
    "price"
   ]
  },
  {
   "cell_type": "code",
   "execution_count": 85,
   "id": "f6c13765",
   "metadata": {},
   "outputs": [
    {
     "data": {
      "text/plain": [
       "[560, 234, 223.4, 140, 120]"
      ]
     },
     "execution_count": 85,
     "metadata": {},
     "output_type": "execute_result"
    }
   ],
   "source": [
    "sorted(price,reverse=True)"
   ]
  },
  {
   "cell_type": "code",
   "execution_count": 86,
   "id": "44027e5f",
   "metadata": {},
   "outputs": [
    {
     "ename": "TypeError",
     "evalue": "'<' not supported between instances of 'int' and 'str'",
     "output_type": "error",
     "traceback": [
      "\u001b[1;31m---------------------------------------------------------------------------\u001b[0m",
      "\u001b[1;31mTypeError\u001b[0m                                 Traceback (most recent call last)",
      "\u001b[1;32m~\\AppData\\Local\\Temp/ipykernel_3528/3291893577.py\u001b[0m in \u001b[0;36m<module>\u001b[1;34m\u001b[0m\n\u001b[0;32m      1\u001b[0m \u001b[1;31m#mixed data type\u001b[0m\u001b[1;33m\u001b[0m\u001b[1;33m\u001b[0m\u001b[0m\n\u001b[0;32m      2\u001b[0m \u001b[0maa\u001b[0m\u001b[1;33m=\u001b[0m\u001b[1;33m[\u001b[0m\u001b[1;34m\"a\"\u001b[0m\u001b[1;33m,\u001b[0m\u001b[1;36m1\u001b[0m\u001b[1;33m,\u001b[0m\u001b[1;36m1.2\u001b[0m\u001b[1;33m]\u001b[0m\u001b[1;33m\u001b[0m\u001b[1;33m\u001b[0m\u001b[0m\n\u001b[1;32m----> 3\u001b[1;33m \u001b[0maa\u001b[0m\u001b[1;33m.\u001b[0m\u001b[0msort\u001b[0m\u001b[1;33m(\u001b[0m\u001b[1;33m)\u001b[0m\u001b[1;33m\u001b[0m\u001b[1;33m\u001b[0m\u001b[0m\n\u001b[0m",
      "\u001b[1;31mTypeError\u001b[0m: '<' not supported between instances of 'int' and 'str'"
     ]
    }
   ],
   "source": [
    "#mixed data type\n",
    "#sort can't be used for mixed data types\n",
    "aa=[\"a\",1,1.2]\n",
    "aa.sort()"
   ]
  },
  {
   "cell_type": "code",
   "execution_count": 93,
   "id": "fb01e8c2",
   "metadata": {},
   "outputs": [],
   "source": [
    "aa=[\"ZZ\",\"aa\",\"z\",\"cc\",\"1\"]\n",
    "#when numbers are given with strings along with uppercase and lowercase letters\n",
    "#sort order - numbers, uppercase letters, lowercase letters"
   ]
  },
  {
   "cell_type": "code",
   "execution_count": 94,
   "id": "237141d0",
   "metadata": {},
   "outputs": [],
   "source": [
    "aa.sort()"
   ]
  },
  {
   "cell_type": "code",
   "execution_count": 95,
   "id": "096d5e9c",
   "metadata": {},
   "outputs": [
    {
     "data": {
      "text/plain": [
       "['1', 'ZZ', 'aa', 'cc', 'z']"
      ]
     },
     "execution_count": 95,
     "metadata": {},
     "output_type": "execute_result"
    }
   ],
   "source": [
    "aa"
   ]
  },
  {
   "cell_type": "code",
   "execution_count": 97,
   "id": "4611c878",
   "metadata": {},
   "outputs": [
    {
     "data": {
      "text/plain": [
       "3"
      ]
     },
     "execution_count": 97,
     "metadata": {},
     "output_type": "execute_result"
    }
   ],
   "source": [
    "#count the number of occurence\n",
    "p=[1,2,3,44,22,11,22,22,11,0]\n",
    "p.count(22)"
   ]
  },
  {
   "cell_type": "code",
   "execution_count": 98,
   "id": "735287bc",
   "metadata": {},
   "outputs": [
    {
     "data": {
      "text/plain": [
       "3"
      ]
     },
     "execution_count": 98,
     "metadata": {},
     "output_type": "execute_result"
    }
   ],
   "source": [
    "p1=[\"a\",\"b\",\"b\",\"b\"]\n",
    "p1.count(\"b\")"
   ]
  },
  {
   "cell_type": "code",
   "execution_count": 102,
   "id": "673fd339",
   "metadata": {},
   "outputs": [
    {
     "data": {
      "text/plain": [
       "[1, 2, 3, 44, 22, 11, 22, 22, 11, 0]"
      ]
     },
     "execution_count": 102,
     "metadata": {},
     "output_type": "execute_result"
    }
   ],
   "source": [
    "#Returning the index position of an object\n",
    "p"
   ]
  },
  {
   "cell_type": "code",
   "execution_count": 103,
   "id": "1d892f6e",
   "metadata": {},
   "outputs": [
    {
     "data": {
      "text/plain": [
       "3"
      ]
     },
     "execution_count": 103,
     "metadata": {},
     "output_type": "execute_result"
    }
   ],
   "source": [
    "p[2]"
   ]
  },
  {
   "cell_type": "code",
   "execution_count": 104,
   "id": "971700f4",
   "metadata": {},
   "outputs": [
    {
     "data": {
      "text/plain": [
       "4"
      ]
     },
     "execution_count": 104,
     "metadata": {},
     "output_type": "execute_result"
    }
   ],
   "source": [
    "#.index will return the index position of the element in the list\n",
    "p.index(22)"
   ]
  },
  {
   "cell_type": "markdown",
   "id": "1d29e364",
   "metadata": {},
   "source": [
    "#### membership operators"
   ]
  },
  {
   "cell_type": "code",
   "execution_count": 107,
   "id": "6144c2cf",
   "metadata": {},
   "outputs": [],
   "source": [
    "#membership operators\n",
    "price=[120,140,234,560,223.4]"
   ]
  },
  {
   "cell_type": "code",
   "execution_count": 108,
   "id": "11f0bfbc",
   "metadata": {
    "scrolled": true
   },
   "outputs": [
    {
     "data": {
      "text/plain": [
       "True"
      ]
     },
     "execution_count": 108,
     "metadata": {},
     "output_type": "execute_result"
    }
   ],
   "source": [
    "140 in price"
   ]
  },
  {
   "cell_type": "code",
   "execution_count": 109,
   "id": "48391f2f",
   "metadata": {},
   "outputs": [
    {
     "data": {
      "text/plain": [
       "False"
      ]
     },
     "execution_count": 109,
     "metadata": {},
     "output_type": "execute_result"
    }
   ],
   "source": [
    "141 in price"
   ]
  },
  {
   "cell_type": "code",
   "execution_count": 110,
   "id": "cdfe61c8",
   "metadata": {},
   "outputs": [
    {
     "name": "stdout",
     "output_type": "stream",
     "text": [
      "120\n",
      "140\n",
      "234\n",
      "560\n",
      "223.4\n"
     ]
    }
   ],
   "source": [
    "#iterating all elements of list\n",
    "for i in price:\n",
    "    print(i)"
   ]
  },
  {
   "cell_type": "code",
   "execution_count": 111,
   "id": "cf8804a8",
   "metadata": {},
   "outputs": [
    {
     "data": {
      "text/plain": [
       "5"
      ]
     },
     "execution_count": 111,
     "metadata": {},
     "output_type": "execute_result"
    }
   ],
   "source": [
    "#to find the length of the list\n",
    "len(price)"
   ]
  },
  {
   "cell_type": "code",
   "execution_count": 112,
   "id": "ec0a418d",
   "metadata": {},
   "outputs": [
    {
     "data": {
      "text/plain": [
       "120"
      ]
     },
     "execution_count": 112,
     "metadata": {},
     "output_type": "execute_result"
    }
   ],
   "source": [
    "#to find the minimum value of the list\n",
    "min(price)"
   ]
  },
  {
   "cell_type": "code",
   "execution_count": 113,
   "id": "de985c12",
   "metadata": {},
   "outputs": [
    {
     "data": {
      "text/plain": [
       "560"
      ]
     },
     "execution_count": 113,
     "metadata": {},
     "output_type": "execute_result"
    }
   ],
   "source": [
    "#to find the maximum value of the list\n",
    "max(price)"
   ]
  },
  {
   "cell_type": "code",
   "execution_count": 120,
   "id": "47c44ef2",
   "metadata": {},
   "outputs": [
    {
     "data": {
      "text/plain": [
       "1277.4"
      ]
     },
     "execution_count": 120,
     "metadata": {},
     "output_type": "execute_result"
    }
   ],
   "source": [
    "sum(price)"
   ]
  },
  {
   "cell_type": "code",
   "execution_count": 125,
   "id": "7e9c209e",
   "metadata": {
    "scrolled": true
   },
   "outputs": [
    {
     "data": {
      "text/plain": [
       "3"
      ]
     },
     "execution_count": 125,
     "metadata": {},
     "output_type": "execute_result"
    }
   ],
   "source": [
    "sum([1,2])"
   ]
  },
  {
   "cell_type": "code",
   "execution_count": null,
   "id": "11d71dfb",
   "metadata": {},
   "outputs": [],
   "source": []
  },
  {
   "cell_type": "code",
   "execution_count": 114,
   "id": "e351a04b",
   "metadata": {
    "scrolled": true
   },
   "outputs": [
    {
     "ename": "TypeError",
     "evalue": "'<' not supported between instances of 'str' and 'int'",
     "output_type": "error",
     "traceback": [
      "\u001b[1;31m---------------------------------------------------------------------------\u001b[0m",
      "\u001b[1;31mTypeError\u001b[0m                                 Traceback (most recent call last)",
      "\u001b[1;32m~\\AppData\\Local\\Temp/ipykernel_3528/996163030.py\u001b[0m in \u001b[0;36m<module>\u001b[1;34m\u001b[0m\n\u001b[0;32m      1\u001b[0m \u001b[1;31m#min and max can't work in mixed data types\u001b[0m\u001b[1;33m\u001b[0m\u001b[1;33m\u001b[0m\u001b[0m\n\u001b[0;32m      2\u001b[0m \u001b[0mprice1\u001b[0m\u001b[1;33m=\u001b[0m\u001b[1;33m[\u001b[0m\u001b[1;36m120\u001b[0m\u001b[1;33m,\u001b[0m\u001b[1;34m\"140\"\u001b[0m\u001b[1;33m,\u001b[0m\u001b[1;36m234\u001b[0m\u001b[1;33m,\u001b[0m\u001b[1;34m\"560\"\u001b[0m\u001b[1;33m,\u001b[0m\u001b[1;36m223.4\u001b[0m\u001b[1;33m]\u001b[0m\u001b[1;33m\u001b[0m\u001b[1;33m\u001b[0m\u001b[0m\n\u001b[1;32m----> 3\u001b[1;33m \u001b[0mmin\u001b[0m\u001b[1;33m(\u001b[0m\u001b[0mprice1\u001b[0m\u001b[1;33m)\u001b[0m\u001b[1;33m\u001b[0m\u001b[1;33m\u001b[0m\u001b[0m\n\u001b[0m",
      "\u001b[1;31mTypeError\u001b[0m: '<' not supported between instances of 'str' and 'int'"
     ]
    }
   ],
   "source": [
    "#min and max can't work in mixed data types\n",
    "price1=[120,\"140\",234,\"560\",223.4]\n",
    "min(price1)"
   ]
  },
  {
   "cell_type": "code",
   "execution_count": 115,
   "id": "3c832da2",
   "metadata": {
    "scrolled": true
   },
   "outputs": [
    {
     "ename": "TypeError",
     "evalue": "'>' not supported between instances of 'str' and 'int'",
     "output_type": "error",
     "traceback": [
      "\u001b[1;31m---------------------------------------------------------------------------\u001b[0m",
      "\u001b[1;31mTypeError\u001b[0m                                 Traceback (most recent call last)",
      "\u001b[1;32m~\\AppData\\Local\\Temp/ipykernel_3528/809421845.py\u001b[0m in \u001b[0;36m<module>\u001b[1;34m\u001b[0m\n\u001b[1;32m----> 1\u001b[1;33m \u001b[0mmax\u001b[0m\u001b[1;33m(\u001b[0m\u001b[0mprice1\u001b[0m\u001b[1;33m)\u001b[0m\u001b[1;33m\u001b[0m\u001b[1;33m\u001b[0m\u001b[0m\n\u001b[0m",
      "\u001b[1;31mTypeError\u001b[0m: '>' not supported between instances of 'str' and 'int'"
     ]
    }
   ],
   "source": [
    "max(price1)"
   ]
  },
  {
   "cell_type": "markdown",
   "id": "f3035781",
   "metadata": {},
   "source": [
    "#### slicing a list"
   ]
  },
  {
   "cell_type": "code",
   "execution_count": 116,
   "id": "37a56c6e",
   "metadata": {},
   "outputs": [
    {
     "data": {
      "text/plain": [
       "[120, 140, 234, 560, 223.4]"
      ]
     },
     "execution_count": 116,
     "metadata": {},
     "output_type": "execute_result"
    }
   ],
   "source": [
    "price"
   ]
  },
  {
   "cell_type": "code",
   "execution_count": 117,
   "id": "aa367711",
   "metadata": {},
   "outputs": [
    {
     "data": {
      "text/plain": [
       "[120, 140, 234, 560, 223.4]"
      ]
     },
     "execution_count": 117,
     "metadata": {},
     "output_type": "execute_result"
    }
   ],
   "source": [
    "price[:]"
   ]
  },
  {
   "cell_type": "code",
   "execution_count": 118,
   "id": "4ea1db9d",
   "metadata": {
    "scrolled": true
   },
   "outputs": [
    {
     "data": {
      "text/plain": [
       "[140, 234, 560, 223.4]"
      ]
     },
     "execution_count": 118,
     "metadata": {},
     "output_type": "execute_result"
    }
   ],
   "source": [
    "price[1:]"
   ]
  },
  {
   "cell_type": "code",
   "execution_count": 119,
   "id": "e6b1e053",
   "metadata": {},
   "outputs": [
    {
     "data": {
      "text/plain": [
       "[223.4, 560, 234, 140, 120]"
      ]
     },
     "execution_count": 119,
     "metadata": {},
     "output_type": "execute_result"
    }
   ],
   "source": [
    "price[::-1]\n",
    "#reversing a list using slicing will reverse the list, but won't sort "
   ]
  },
  {
   "cell_type": "markdown",
   "id": "05bdc546",
   "metadata": {},
   "source": [
    "# Tuple\n",
    "- Heterogeneous sequence of elements\n",
    "- Can have duplicates\n",
    "- Immutable\n",
    "- Elements are separated by comma, enclosed in ( ) parenthesis\n",
    "- Supported operations:\n",
    "- in, not in\n",
    "- len(), min(), max()\n",
    "- Compare\n",
    "- Concatenate, Slice, Index\n",
    "- Because tuple is immutable, a tuple needs lesser\n",
    "memory than lists."
   ]
  },
  {
   "cell_type": "code",
   "execution_count": 126,
   "id": "aafa0e63",
   "metadata": {},
   "outputs": [
    {
     "data": {
      "text/plain": [
       "tuple"
      ]
     },
     "execution_count": 126,
     "metadata": {},
     "output_type": "execute_result"
    }
   ],
   "source": [
    "#checking the type \n",
    "os=\"linux\",\"windows\",\"Unix\",\"ubundu\"\n",
    "type(os)"
   ]
  },
  {
   "cell_type": "code",
   "execution_count": 127,
   "id": "9c72d40b",
   "metadata": {},
   "outputs": [
    {
     "data": {
      "text/plain": [
       "tuple"
      ]
     },
     "execution_count": 127,
     "metadata": {},
     "output_type": "execute_result"
    }
   ],
   "source": [
    "pricet=(10,44,22,34,\"choco\",998.3)\n",
    "type(pricet)"
   ]
  },
  {
   "cell_type": "code",
   "execution_count": 128,
   "id": "6683ab83",
   "metadata": {},
   "outputs": [
    {
     "data": {
      "text/plain": [
       "('linux', 'windows', 'Unix', 'ubundu', 10, 44, 22, 34, 'choco', 998.3)"
      ]
     },
     "execution_count": 128,
     "metadata": {},
     "output_type": "execute_result"
    }
   ],
   "source": [
    "#concatenation\n",
    "os+pricet"
   ]
  },
  {
   "cell_type": "code",
   "execution_count": 129,
   "id": "4ce1b5d7",
   "metadata": {},
   "outputs": [],
   "source": [
    "#adding elements to a list inside a tuple\n",
    "l1=\"a\",\"b\",\"c\",[1,2,3]\n"
   ]
  },
  {
   "cell_type": "code",
   "execution_count": 130,
   "id": "f5f6b1fb",
   "metadata": {
    "scrolled": true
   },
   "outputs": [
    {
     "data": {
      "text/plain": [
       "4"
      ]
     },
     "execution_count": 130,
     "metadata": {},
     "output_type": "execute_result"
    }
   ],
   "source": [
    "len(l1)"
   ]
  },
  {
   "cell_type": "code",
   "execution_count": 133,
   "id": "010c5868",
   "metadata": {},
   "outputs": [
    {
     "data": {
      "text/plain": [
       "'a'"
      ]
     },
     "execution_count": 133,
     "metadata": {},
     "output_type": "execute_result"
    }
   ],
   "source": [
    "l1[0]"
   ]
  },
  {
   "cell_type": "code",
   "execution_count": 134,
   "id": "474d8f35",
   "metadata": {
    "scrolled": true
   },
   "outputs": [
    {
     "data": {
      "text/plain": [
       "str"
      ]
     },
     "execution_count": 134,
     "metadata": {},
     "output_type": "execute_result"
    }
   ],
   "source": [
    "type(l1[0])"
   ]
  },
  {
   "cell_type": "code",
   "execution_count": 135,
   "id": "fa001e44",
   "metadata": {},
   "outputs": [
    {
     "data": {
      "text/plain": [
       "('a', 'b', 'c')"
      ]
     },
     "execution_count": 135,
     "metadata": {},
     "output_type": "execute_result"
    }
   ],
   "source": [
    "l1[0:3]"
   ]
  },
  {
   "cell_type": "code",
   "execution_count": 136,
   "id": "322a4023",
   "metadata": {},
   "outputs": [
    {
     "data": {
      "text/plain": [
       "tuple"
      ]
     },
     "execution_count": 136,
     "metadata": {},
     "output_type": "execute_result"
    }
   ],
   "source": [
    "type(l1[0:3])"
   ]
  },
  {
   "cell_type": "code",
   "execution_count": 138,
   "id": "b92f555c",
   "metadata": {
    "scrolled": true
   },
   "outputs": [
    {
     "data": {
      "text/plain": [
       "[1, 2, 3, 4]"
      ]
     },
     "execution_count": 138,
     "metadata": {},
     "output_type": "execute_result"
    }
   ],
   "source": [
    "l1[-1]"
   ]
  },
  {
   "cell_type": "code",
   "execution_count": 139,
   "id": "17571fcc",
   "metadata": {},
   "outputs": [
    {
     "data": {
      "text/plain": [
       "list"
      ]
     },
     "execution_count": 139,
     "metadata": {},
     "output_type": "execute_result"
    }
   ],
   "source": [
    "type(l1[-1])"
   ]
  },
  {
   "cell_type": "code",
   "execution_count": 131,
   "id": "9e7b9989",
   "metadata": {},
   "outputs": [],
   "source": [
    "l1[3].append(4)"
   ]
  },
  {
   "cell_type": "code",
   "execution_count": 132,
   "id": "e8e55745",
   "metadata": {
    "scrolled": true
   },
   "outputs": [
    {
     "data": {
      "text/plain": [
       "('a', 'b', 'c', [1, 2, 3, 4])"
      ]
     },
     "execution_count": 132,
     "metadata": {},
     "output_type": "execute_result"
    }
   ],
   "source": [
    "l1"
   ]
  },
  {
   "cell_type": "code",
   "execution_count": 140,
   "id": "6e2feebf",
   "metadata": {},
   "outputs": [
    {
     "data": {
      "text/plain": [
       "tuple"
      ]
     },
     "execution_count": 140,
     "metadata": {},
     "output_type": "execute_result"
    }
   ],
   "source": [
    "type(l1)"
   ]
  },
  {
   "cell_type": "code",
   "execution_count": 142,
   "id": "b8cbdd61",
   "metadata": {},
   "outputs": [],
   "source": [
    "l3=2,3,4,5"
   ]
  },
  {
   "cell_type": "code",
   "execution_count": 144,
   "id": "7b1c51c3",
   "metadata": {},
   "outputs": [
    {
     "data": {
      "text/plain": [
       "(2, 5, 14)"
      ]
     },
     "execution_count": 144,
     "metadata": {},
     "output_type": "execute_result"
    }
   ],
   "source": [
    "min(l3),max(l3),sum(l3)"
   ]
  },
  {
   "cell_type": "code",
   "execution_count": 147,
   "id": "db6a3013",
   "metadata": {},
   "outputs": [
    {
     "name": "stdout",
     "output_type": "stream",
     "text": [
      "2\n",
      "5\n",
      "14\n"
     ]
    }
   ],
   "source": [
    "print(min(l3))\n",
    "print(max(l3))\n",
    "print(sum(l3))"
   ]
  },
  {
   "cell_type": "markdown",
   "id": "4d6971f0",
   "metadata": {},
   "source": [
    "# SET\n",
    "- Sets are very similar to list data structures\n",
    "- Do not allow duplicates\n",
    "- Unordered collections of homogeneous elements\n",
    "- Sets are generally used to remove duplicate elements from a list\n",
    "\n",
    "Sets supports the following operations:\n",
    "○ Intersection\n",
    "○ Union\n",
    "○ Difference\n",
    "○ Symmetric Difference"
   ]
  },
  {
   "attachments": {
    "set.JPG": {
     "image/jpeg": "[encoded data removed]"
    }
   },
   "cell_type": "markdown",
   "id": "b6e2613b",
   "metadata": {},
   "source": [
    "![set.JPG](attachment:set.JPG)"
   ]
  },
  {
   "cell_type": "code",
   "execution_count": 180,
   "id": "c685d1bd",
   "metadata": {},
   "outputs": [
    {
     "data": {
      "text/plain": [
       "{1, 2, 3, 4, 5, 6}"
      ]
     },
     "execution_count": 180,
     "metadata": {},
     "output_type": "execute_result"
    }
   ],
   "source": [
    "a={1,2,3,3,4,5,6,6}\n",
    "a"
   ]
  },
  {
   "cell_type": "code",
   "execution_count": null,
   "id": "9b987ecb",
   "metadata": {},
   "outputs": [],
   "source": []
  },
  {
   "cell_type": "code",
   "execution_count": 156,
   "id": "83ea77fd",
   "metadata": {},
   "outputs": [],
   "source": [
    "a=\"Data beats emotions\""
   ]
  },
  {
   "cell_type": "code",
   "execution_count": 157,
   "id": "d9a11e0b",
   "metadata": {},
   "outputs": [],
   "source": [
    "b=\"Data is the new oil\""
   ]
  },
  {
   "cell_type": "code",
   "execution_count": 158,
   "id": "9e5e6e74",
   "metadata": {},
   "outputs": [],
   "source": [
    "a_words=set(a.split(\" \"))\n",
    "b_words=set(b.split(\" \"))"
   ]
  },
  {
   "cell_type": "code",
   "execution_count": 155,
   "id": "7ec34603",
   "metadata": {},
   "outputs": [
    {
     "data": {
      "text/plain": [
       "'Data beats emotionsData is the new oil'"
      ]
     },
     "execution_count": 155,
     "metadata": {},
     "output_type": "execute_result"
    }
   ],
   "source": [
    "a+b"
   ]
  },
  {
   "cell_type": "code",
   "execution_count": 166,
   "id": "d3291d8f",
   "metadata": {},
   "outputs": [
    {
     "data": {
      "text/plain": [
       "{'Data', 'beats', 'emotions', 'is', 'new', 'oil', 'the'}"
      ]
     },
     "execution_count": 166,
     "metadata": {},
     "output_type": "execute_result"
    }
   ],
   "source": [
    "#union\n",
    "a_words.union(b_words)"
   ]
  },
  {
   "cell_type": "code",
   "execution_count": 167,
   "id": "cae978ca",
   "metadata": {},
   "outputs": [
    {
     "data": {
      "text/plain": [
       "{'Data'}"
      ]
     },
     "execution_count": 167,
     "metadata": {},
     "output_type": "execute_result"
    }
   ],
   "source": [
    "#intersection\n",
    "a_words.intersection(b_words)"
   ]
  },
  {
   "cell_type": "code",
   "execution_count": 168,
   "id": "7f9f942d",
   "metadata": {},
   "outputs": [
    {
     "data": {
      "text/plain": [
       "{'beats', 'emotions'}"
      ]
     },
     "execution_count": 168,
     "metadata": {},
     "output_type": "execute_result"
    }
   ],
   "source": [
    "#difference\n",
    "a_words.difference(b_words)"
   ]
  },
  {
   "cell_type": "code",
   "execution_count": 169,
   "id": "83e7b574",
   "metadata": {},
   "outputs": [
    {
     "data": {
      "text/plain": [
       "{'is', 'new', 'oil', 'the'}"
      ]
     },
     "execution_count": 169,
     "metadata": {},
     "output_type": "execute_result"
    }
   ],
   "source": [
    "#difference\n",
    "b_words.difference(a_words)"
   ]
  },
  {
   "cell_type": "code",
   "execution_count": 170,
   "id": "44e8accf",
   "metadata": {
    "scrolled": true
   },
   "outputs": [
    {
     "data": {
      "text/plain": [
       "{'beats', 'emotions', 'is', 'new', 'oil', 'the'}"
      ]
     },
     "execution_count": 170,
     "metadata": {},
     "output_type": "execute_result"
    }
   ],
   "source": [
    "#symmetric_difference\n",
    "a_words.symmetric_difference(b_words)"
   ]
  },
  {
   "cell_type": "markdown",
   "id": "624f5a34",
   "metadata": {},
   "source": [
    "## Doubts"
   ]
  },
  {
   "cell_type": "code",
   "execution_count": 171,
   "id": "85dee388",
   "metadata": {},
   "outputs": [
    {
     "ename": "TypeError",
     "evalue": "can only concatenate list (not \"tuple\") to list",
     "output_type": "error",
     "traceback": [
      "\u001b[1;31m---------------------------------------------------------------------------\u001b[0m",
      "\u001b[1;31mTypeError\u001b[0m                                 Traceback (most recent call last)",
      "\u001b[1;32m~\\AppData\\Local\\Temp/ipykernel_3528/2936305289.py\u001b[0m in \u001b[0;36m<module>\u001b[1;34m\u001b[0m\n\u001b[0;32m      1\u001b[0m \u001b[0mt\u001b[0m\u001b[1;33m=\u001b[0m\u001b[1;33m[\u001b[0m\u001b[1;36m1\u001b[0m\u001b[1;33m,\u001b[0m\u001b[1;36m2\u001b[0m\u001b[1;33m,\u001b[0m\u001b[1;36m3\u001b[0m\u001b[1;33m]\u001b[0m\u001b[1;33m\u001b[0m\u001b[1;33m\u001b[0m\u001b[0m\n\u001b[0;32m      2\u001b[0m \u001b[0mt1\u001b[0m\u001b[1;33m=\u001b[0m\u001b[1;36m4\u001b[0m\u001b[1;33m,\u001b[0m\u001b[1;36m5\u001b[0m\u001b[1;33m,\u001b[0m\u001b[1;36m6\u001b[0m\u001b[1;33m\u001b[0m\u001b[1;33m\u001b[0m\u001b[0m\n\u001b[1;32m----> 3\u001b[1;33m \u001b[0mt\u001b[0m\u001b[1;33m+\u001b[0m\u001b[0mt1\u001b[0m\u001b[1;33m\u001b[0m\u001b[1;33m\u001b[0m\u001b[0m\n\u001b[0m",
      "\u001b[1;31mTypeError\u001b[0m: can only concatenate list (not \"tuple\") to list"
     ]
    }
   ],
   "source": [
    "#can we add a tuple to a list\n",
    "t=[1,2,3]\n",
    "t1=4,5,6\n",
    "t+t1"
   ]
  },
  {
   "cell_type": "code",
   "execution_count": 172,
   "id": "d911c47b",
   "metadata": {},
   "outputs": [],
   "source": [
    "#a tuple can be inserted to a list\n",
    "t.insert(3,t1)"
   ]
  },
  {
   "cell_type": "code",
   "execution_count": 173,
   "id": "b903ca4b",
   "metadata": {},
   "outputs": [
    {
     "data": {
      "text/plain": [
       "[1, 2, 3, (4, 5, 6)]"
      ]
     },
     "execution_count": 173,
     "metadata": {},
     "output_type": "execute_result"
    }
   ],
   "source": [
    "t"
   ]
  },
  {
   "cell_type": "code",
   "execution_count": 174,
   "id": "683dbd41",
   "metadata": {},
   "outputs": [],
   "source": [
    "#a tuple can be appended to a list\n",
    "t.append(t1)"
   ]
  },
  {
   "cell_type": "code",
   "execution_count": 175,
   "id": "e6ad70b4",
   "metadata": {},
   "outputs": [
    {
     "data": {
      "text/plain": [
       "[1, 2, 3, (4, 5, 6), (4, 5, 6)]"
      ]
     },
     "execution_count": 175,
     "metadata": {},
     "output_type": "execute_result"
    }
   ],
   "source": [
    "t"
   ]
  },
  {
   "cell_type": "code",
   "execution_count": 177,
   "id": "b4a380e7",
   "metadata": {},
   "outputs": [],
   "source": [
    "t.extend(t1)"
   ]
  },
  {
   "cell_type": "code",
   "execution_count": 178,
   "id": "aaf8350f",
   "metadata": {},
   "outputs": [
    {
     "data": {
      "text/plain": [
       "[1, 2, 3, (4, 5, 6), (4, 5, 6), 4, 5, 6]"
      ]
     },
     "execution_count": 178,
     "metadata": {},
     "output_type": "execute_result"
    }
   ],
   "source": [
    "t"
   ]
  },
  {
   "cell_type": "code",
   "execution_count": 176,
   "id": "f0b97807",
   "metadata": {},
   "outputs": [
    {
     "ename": "AttributeError",
     "evalue": "'tuple' object has no attribute 'append'",
     "output_type": "error",
     "traceback": [
      "\u001b[1;31m---------------------------------------------------------------------------\u001b[0m",
      "\u001b[1;31mAttributeError\u001b[0m                            Traceback (most recent call last)",
      "\u001b[1;32m~\\AppData\\Local\\Temp/ipykernel_3528/455308387.py\u001b[0m in \u001b[0;36m<module>\u001b[1;34m\u001b[0m\n\u001b[1;32m----> 1\u001b[1;33m \u001b[0mt1\u001b[0m\u001b[1;33m.\u001b[0m\u001b[0mappend\u001b[0m\u001b[1;33m(\u001b[0m\u001b[0mt\u001b[0m\u001b[1;33m)\u001b[0m\u001b[1;33m\u001b[0m\u001b[1;33m\u001b[0m\u001b[0m\n\u001b[0m",
      "\u001b[1;31mAttributeError\u001b[0m: 'tuple' object has no attribute 'append'"
     ]
    }
   ],
   "source": [
    "t1.append(t)"
   ]
  },
  {
   "cell_type": "code",
   "execution_count": 183,
   "id": "0ff98787",
   "metadata": {},
   "outputs": [
    {
     "data": {
      "text/plain": [
       "{1, 2, 3, 4, 5, 6}"
      ]
     },
     "execution_count": 183,
     "metadata": {},
     "output_type": "execute_result"
    }
   ],
   "source": [
    "#how to get value in a set\n",
    "#convert set to list\n",
    "a"
   ]
  },
  {
   "cell_type": "code",
   "execution_count": 182,
   "id": "c39d2017",
   "metadata": {},
   "outputs": [
    {
     "ename": "TypeError",
     "evalue": "'set' object is not subscriptable",
     "output_type": "error",
     "traceback": [
      "\u001b[1;31m---------------------------------------------------------------------------\u001b[0m",
      "\u001b[1;31mTypeError\u001b[0m                                 Traceback (most recent call last)",
      "\u001b[1;32m~\\AppData\\Local\\Temp/ipykernel_3528/240059899.py\u001b[0m in \u001b[0;36m<module>\u001b[1;34m\u001b[0m\n\u001b[1;32m----> 1\u001b[1;33m \u001b[0ma\u001b[0m\u001b[1;33m[\u001b[0m\u001b[1;36m1\u001b[0m\u001b[1;33m]\u001b[0m\u001b[1;33m\u001b[0m\u001b[1;33m\u001b[0m\u001b[0m\n\u001b[0m",
      "\u001b[1;31mTypeError\u001b[0m: 'set' object is not subscriptable"
     ]
    }
   ],
   "source": [
    "a[1]"
   ]
  },
  {
   "cell_type": "code",
   "execution_count": 184,
   "id": "60558a40",
   "metadata": {},
   "outputs": [],
   "source": [
    "a_list=list(a)"
   ]
  },
  {
   "cell_type": "code",
   "execution_count": 185,
   "id": "e2bcc2db",
   "metadata": {},
   "outputs": [
    {
     "data": {
      "text/plain": [
       "[1, 2, 3, 4, 5, 6]"
      ]
     },
     "execution_count": 185,
     "metadata": {},
     "output_type": "execute_result"
    }
   ],
   "source": [
    "a_list"
   ]
  },
  {
   "cell_type": "code",
   "execution_count": 186,
   "id": "c933b8b4",
   "metadata": {},
   "outputs": [],
   "source": [
    "a=set(a_list)"
   ]
  },
  {
   "cell_type": "code",
   "execution_count": 189,
   "id": "b563b0c8",
   "metadata": {},
   "outputs": [],
   "source": [
    "t=[1,23,4]\n",
    "t2=9,8,7"
   ]
  },
  {
   "cell_type": "code",
   "execution_count": 190,
   "id": "17765e5e",
   "metadata": {},
   "outputs": [
    {
     "ename": "AttributeError",
     "evalue": "'tuple' object has no attribute 'extend'",
     "output_type": "error",
     "traceback": [
      "\u001b[1;31m---------------------------------------------------------------------------\u001b[0m",
      "\u001b[1;31mAttributeError\u001b[0m                            Traceback (most recent call last)",
      "\u001b[1;32m~\\AppData\\Local\\Temp/ipykernel_3528/1809595215.py\u001b[0m in \u001b[0;36m<module>\u001b[1;34m\u001b[0m\n\u001b[1;32m----> 1\u001b[1;33m \u001b[0mt2\u001b[0m\u001b[1;33m.\u001b[0m\u001b[0mextend\u001b[0m\u001b[1;33m(\u001b[0m\u001b[0mt\u001b[0m\u001b[1;33m)\u001b[0m\u001b[1;33m\u001b[0m\u001b[1;33m\u001b[0m\u001b[0m\n\u001b[0m",
      "\u001b[1;31mAttributeError\u001b[0m: 'tuple' object has no attribute 'extend'"
     ]
    }
   ],
   "source": [
    "t2.extend(t)"
   ]
  },
  {
   "cell_type": "code",
   "execution_count": 191,
   "id": "66896cbe",
   "metadata": {},
   "outputs": [],
   "source": [
    "t.append(t2)"
   ]
  },
  {
   "cell_type": "code",
   "execution_count": 192,
   "id": "798c5952",
   "metadata": {},
   "outputs": [
    {
     "data": {
      "text/plain": [
       "[1, 23, 4, (9, 8, 7)]"
      ]
     },
     "execution_count": 192,
     "metadata": {},
     "output_type": "execute_result"
    }
   ],
   "source": [
    "t"
   ]
  },
  {
   "cell_type": "markdown",
   "id": "73bcaa85",
   "metadata": {},
   "source": [
    "# 06-04-2023"
   ]
  },
  {
   "cell_type": "markdown",
   "id": "6a7f853c",
   "metadata": {},
   "source": [
    "## Dictionary\n",
    "- A Python dictionary is a mapping of unique keys to values\n",
    "- Use {} curly brackets to construct the dictionary\n",
    "- [] square brackets to index it\n",
    "- Dictionaries are mutable\n",
    "- We will learn how to:\n",
    "- Access values in a dictionary\n",
    "- Update dictionary\n",
    "- Delete dictionary elements"
   ]
  },
  {
   "cell_type": "code",
   "execution_count": 1,
   "id": "4e1c699d",
   "metadata": {},
   "outputs": [],
   "source": [
    "# a dictionary contains a key and a value\n",
    "# the combination of key and value is called an item\n",
    "elon={\"name\":\"Elon musk\",\"companies\":[\"Tesla\",\"SpaceX\",\"Twitter\"]}"
   ]
  },
  {
   "cell_type": "code",
   "execution_count": 4,
   "id": "09e1a6e3",
   "metadata": {},
   "outputs": [
    {
     "data": {
      "text/plain": [
       "['Tesla', 'SpaceX', 'Twitter']"
      ]
     },
     "execution_count": 4,
     "metadata": {},
     "output_type": "execute_result"
    }
   ],
   "source": [
    "#indexing can be done by giving the values of keys\n",
    "elon[\"companies\"]"
   ]
  },
  {
   "cell_type": "code",
   "execution_count": 5,
   "id": "04764fef",
   "metadata": {},
   "outputs": [
    {
     "data": {
      "text/plain": [
       "dict_items([('name', 'Elon musk'), ('companies', ['Tesla', 'SpaceX', 'Twitter'])])"
      ]
     },
     "execution_count": 5,
     "metadata": {},
     "output_type": "execute_result"
    }
   ],
   "source": [
    "#checking the items\n",
    "#item returns the combination of key and values\n",
    "elon.items()"
   ]
  },
  {
   "cell_type": "code",
   "execution_count": 38,
   "id": "12895a20",
   "metadata": {},
   "outputs": [],
   "source": [
    "#creating a dictionary object\n",
    "books={\"R\":480,\"Python\":650,\"Stats\":780,\"ML\":650}"
   ]
  },
  {
   "cell_type": "code",
   "execution_count": 7,
   "id": "82834105",
   "metadata": {},
   "outputs": [
    {
     "name": "stdout",
     "output_type": "stream",
     "text": [
      "{'R': 480, 'Python': 650, 'Stats': 780, 'ML': 650}\n"
     ]
    }
   ],
   "source": [
    "print(books)"
   ]
  },
  {
   "cell_type": "code",
   "execution_count": 8,
   "id": "2af2d63d",
   "metadata": {},
   "outputs": [
    {
     "data": {
      "text/plain": [
       "dict_keys(['R', 'Python', 'Stats', 'ML'])"
      ]
     },
     "execution_count": 8,
     "metadata": {},
     "output_type": "execute_result"
    }
   ],
   "source": [
    "#getting the keys alone\n",
    "books.keys()"
   ]
  },
  {
   "cell_type": "code",
   "execution_count": 9,
   "id": "9859b563",
   "metadata": {
    "scrolled": true
   },
   "outputs": [
    {
     "data": {
      "text/plain": [
       "dict_values([480, 650, 780, 650])"
      ]
     },
     "execution_count": 9,
     "metadata": {},
     "output_type": "execute_result"
    }
   ],
   "source": [
    "#getting the values alone\n",
    "books.values()"
   ]
  },
  {
   "cell_type": "markdown",
   "id": "732f2ee8",
   "metadata": {},
   "source": [
    "### retriving the values "
   ]
  },
  {
   "cell_type": "code",
   "execution_count": 10,
   "id": "09f363dc",
   "metadata": {},
   "outputs": [
    {
     "data": {
      "text/plain": [
       "{'R': 480, 'Python': 650, 'Stats': 780, 'ML': 650}"
      ]
     },
     "execution_count": 10,
     "metadata": {},
     "output_type": "execute_result"
    }
   ],
   "source": [
    "books"
   ]
  },
  {
   "cell_type": "code",
   "execution_count": 11,
   "id": "03c428fb",
   "metadata": {},
   "outputs": [
    {
     "data": {
      "text/plain": [
       "480"
      ]
     },
     "execution_count": 11,
     "metadata": {},
     "output_type": "execute_result"
    }
   ],
   "source": [
    "#retriving the values using keys by slicing\n",
    "books[\"R\"]"
   ]
  },
  {
   "cell_type": "code",
   "execution_count": 12,
   "id": "b085e00a",
   "metadata": {},
   "outputs": [
    {
     "data": {
      "text/plain": [
       "480"
      ]
     },
     "execution_count": 12,
     "metadata": {},
     "output_type": "execute_result"
    }
   ],
   "source": [
    "#get method is used to get the value of the key\n",
    "books.get(\"R\")"
   ]
  },
  {
   "cell_type": "code",
   "execution_count": 13,
   "id": "c0fa8614",
   "metadata": {},
   "outputs": [],
   "source": [
    "#retriving values which is not in the dictionary\n",
    "books.get(\"A\")"
   ]
  },
  {
   "cell_type": "code",
   "execution_count": 14,
   "id": "07eb1e87",
   "metadata": {},
   "outputs": [
    {
     "name": "stdout",
     "output_type": "stream",
     "text": [
      "None\n"
     ]
    }
   ],
   "source": [
    "print(books.get(\"A\"))"
   ]
  },
  {
   "cell_type": "markdown",
   "id": "d10b3fce",
   "metadata": {},
   "source": [
    "### Nested Dictionary"
   ]
  },
  {
   "cell_type": "code",
   "execution_count": 15,
   "id": "9f30aaac",
   "metadata": {},
   "outputs": [],
   "source": [
    "booksn={\"python\":{\"chapter\":\"Intro to python\"}}"
   ]
  },
  {
   "cell_type": "code",
   "execution_count": 16,
   "id": "13050d3e",
   "metadata": {
    "scrolled": true
   },
   "outputs": [
    {
     "data": {
      "text/plain": [
       "{'chapter': 'Intro to python'}"
      ]
     },
     "execution_count": 16,
     "metadata": {},
     "output_type": "execute_result"
    }
   ],
   "source": [
    "booksn[\"python\"]"
   ]
  },
  {
   "cell_type": "code",
   "execution_count": 18,
   "id": "1d60c9b8",
   "metadata": {},
   "outputs": [
    {
     "data": {
      "text/plain": [
       "'Intro to python'"
      ]
     },
     "execution_count": 18,
     "metadata": {},
     "output_type": "execute_result"
    }
   ],
   "source": [
    "booksn[\"python\"][\"chapter\"]"
   ]
  },
  {
   "cell_type": "markdown",
   "id": "0b9ba441",
   "metadata": {},
   "source": [
    "#### Adding elements to the dictionary"
   ]
  },
  {
   "cell_type": "code",
   "execution_count": 19,
   "id": "1b97af40",
   "metadata": {},
   "outputs": [
    {
     "data": {
      "text/plain": [
       "{'R': 480, 'Python': 650, 'Stats': 780, 'ML': 650}"
      ]
     },
     "execution_count": 19,
     "metadata": {},
     "output_type": "execute_result"
    }
   ],
   "source": [
    "books"
   ]
  },
  {
   "cell_type": "code",
   "execution_count": 20,
   "id": "0fef3796",
   "metadata": {},
   "outputs": [],
   "source": [
    "books[\"Marvel\"]=850"
   ]
  },
  {
   "cell_type": "code",
   "execution_count": 21,
   "id": "0d2a380d",
   "metadata": {
    "scrolled": true
   },
   "outputs": [
    {
     "data": {
      "text/plain": [
       "{'R': 480, 'Python': 650, 'Stats': 780, 'ML': 650, 'Marvel': 850}"
      ]
     },
     "execution_count": 21,
     "metadata": {},
     "output_type": "execute_result"
    }
   ],
   "source": [
    "books"
   ]
  },
  {
   "cell_type": "code",
   "execution_count": 24,
   "id": "c545889d",
   "metadata": {},
   "outputs": [],
   "source": [
    "#using update method to add elements\n",
    "books.update({\"DC\":500})"
   ]
  },
  {
   "cell_type": "code",
   "execution_count": 25,
   "id": "a7c2a760",
   "metadata": {
    "scrolled": true
   },
   "outputs": [
    {
     "data": {
      "text/plain": [
       "{'R': 480, 'Python': 650, 'Stats': 780, 'ML': 650, 'Marvel': 850, 'DC': 500}"
      ]
     },
     "execution_count": 25,
     "metadata": {},
     "output_type": "execute_result"
    }
   ],
   "source": [
    "books"
   ]
  },
  {
   "cell_type": "code",
   "execution_count": 27,
   "id": "25045437",
   "metadata": {},
   "outputs": [],
   "source": [
    "books.update({\"Marvel\":1000})"
   ]
  },
  {
   "cell_type": "code",
   "execution_count": 28,
   "id": "8b4cc94f",
   "metadata": {},
   "outputs": [
    {
     "data": {
      "text/plain": [
       "{'R': 480, 'Python': 650, 'Stats': 780, 'ML': 650, 'Marvel': 1000, 'DC': 500}"
      ]
     },
     "execution_count": 28,
     "metadata": {},
     "output_type": "execute_result"
    }
   ],
   "source": [
    "books"
   ]
  },
  {
   "cell_type": "code",
   "execution_count": 93,
   "id": "16a9b7ef",
   "metadata": {},
   "outputs": [
    {
     "ename": "ValueError",
     "evalue": "dictionary update sequence element #0 has length 1; 2 is required",
     "output_type": "error",
     "traceback": [
      "\u001b[1;31m---------------------------------------------------------------------------\u001b[0m",
      "\u001b[1;31mValueError\u001b[0m                                Traceback (most recent call last)",
      "\u001b[1;32m~\\AppData\\Local\\Temp/ipykernel_26644/1687080780.py\u001b[0m in \u001b[0;36m<module>\u001b[1;34m\u001b[0m\n\u001b[0;32m      1\u001b[0m \u001b[0ml\u001b[0m\u001b[1;33m=\u001b[0m\u001b[1;33m{\u001b[0m\u001b[1;33m}\u001b[0m\u001b[1;33m\u001b[0m\u001b[1;33m\u001b[0m\u001b[0m\n\u001b[0;32m      2\u001b[0m \u001b[1;32mfor\u001b[0m \u001b[0mi\u001b[0m \u001b[1;32min\u001b[0m \u001b[0mbooks\u001b[0m\u001b[1;33m.\u001b[0m\u001b[0mitems\u001b[0m\u001b[1;33m(\u001b[0m\u001b[1;33m)\u001b[0m\u001b[1;33m:\u001b[0m\u001b[1;33m\u001b[0m\u001b[1;33m\u001b[0m\u001b[0m\n\u001b[1;32m----> 3\u001b[1;33m     \u001b[0ml\u001b[0m\u001b[1;33m.\u001b[0m\u001b[0mupdate\u001b[0m\u001b[1;33m(\u001b[0m\u001b[0mi\u001b[0m\u001b[1;33m)\u001b[0m\u001b[1;33m\u001b[0m\u001b[1;33m\u001b[0m\u001b[0m\n\u001b[0m\u001b[0;32m      4\u001b[0m     \u001b[0mprint\u001b[0m\u001b[1;33m(\u001b[0m\u001b[0ml\u001b[0m\u001b[1;33m)\u001b[0m\u001b[1;33m\u001b[0m\u001b[1;33m\u001b[0m\u001b[0m\n",
      "\u001b[1;31mValueError\u001b[0m: dictionary update sequence element #0 has length 1; 2 is required"
     ]
    }
   ],
   "source": [
    "l={}\n",
    "for i in books.items():\n",
    "    l.update(i)\n",
    "    print(l)"
   ]
  },
  {
   "cell_type": "markdown",
   "id": "435dfb73",
   "metadata": {},
   "source": [
    "### remove elements from the dictionary"
   ]
  },
  {
   "cell_type": "code",
   "execution_count": 29,
   "id": "461457d2",
   "metadata": {},
   "outputs": [
    {
     "data": {
      "text/plain": [
       "{'R': 480, 'Python': 650, 'Stats': 780, 'ML': 650, 'Marvel': 1000, 'DC': 500}"
      ]
     },
     "execution_count": 29,
     "metadata": {},
     "output_type": "execute_result"
    }
   ],
   "source": [
    "books"
   ]
  },
  {
   "cell_type": "code",
   "execution_count": 30,
   "id": "ae57e485",
   "metadata": {},
   "outputs": [],
   "source": [
    "# remove a dictionary\n",
    "#using del\n",
    "del books"
   ]
  },
  {
   "cell_type": "code",
   "execution_count": 31,
   "id": "c43f8f15",
   "metadata": {},
   "outputs": [
    {
     "ename": "NameError",
     "evalue": "name 'books' is not defined",
     "output_type": "error",
     "traceback": [
      "\u001b[1;31m---------------------------------------------------------------------------\u001b[0m",
      "\u001b[1;31mNameError\u001b[0m                                 Traceback (most recent call last)",
      "\u001b[1;32m~\\AppData\\Local\\Temp/ipykernel_25376/2954869093.py\u001b[0m in \u001b[0;36m<module>\u001b[1;34m\u001b[0m\n\u001b[1;32m----> 1\u001b[1;33m \u001b[0mbooks\u001b[0m\u001b[1;33m\u001b[0m\u001b[1;33m\u001b[0m\u001b[0m\n\u001b[0m",
      "\u001b[1;31mNameError\u001b[0m: name 'books' is not defined"
     ]
    }
   ],
   "source": [
    "books"
   ]
  },
  {
   "cell_type": "code",
   "execution_count": 36,
   "id": "deb689a8",
   "metadata": {},
   "outputs": [],
   "source": [
    "#remove all the elements alone and not the variable\n",
    "#.clear method\n",
    "books.clear()"
   ]
  },
  {
   "cell_type": "code",
   "execution_count": 34,
   "id": "e8ff6aed",
   "metadata": {},
   "outputs": [],
   "source": [
    "#remove an item from the dictionary\n",
    "#using del['key']\n",
    "del books[\"Stats\"]"
   ]
  },
  {
   "cell_type": "code",
   "execution_count": 37,
   "id": "ca34b727",
   "metadata": {},
   "outputs": [
    {
     "data": {
      "text/plain": [
       "{}"
      ]
     },
     "execution_count": 37,
     "metadata": {},
     "output_type": "execute_result"
    }
   ],
   "source": [
    "books"
   ]
  },
  {
   "cell_type": "code",
   "execution_count": 39,
   "id": "1568ac4f",
   "metadata": {},
   "outputs": [
    {
     "data": {
      "text/plain": [
       "{'R': 480, 'Python': 650, 'Stats': 780, 'ML': 650}"
      ]
     },
     "execution_count": 39,
     "metadata": {},
     "output_type": "execute_result"
    }
   ],
   "source": [
    "#changing dictionary to list\n",
    "books"
   ]
  },
  {
   "cell_type": "code",
   "execution_count": 40,
   "id": "2f8fa64c",
   "metadata": {},
   "outputs": [
    {
     "data": {
      "text/plain": [
       "['R', 'Python', 'Stats', 'ML']"
      ]
     },
     "execution_count": 40,
     "metadata": {},
     "output_type": "execute_result"
    }
   ],
   "source": [
    "#type casting\n",
    "list(books)"
   ]
  },
  {
   "cell_type": "code",
   "execution_count": 42,
   "id": "04730f7f",
   "metadata": {
    "scrolled": true
   },
   "outputs": [
    {
     "data": {
      "text/plain": [
       "[('R', 480), ('Python', 650), ('Stats', 780), ('ML', 650)]"
      ]
     },
     "execution_count": 42,
     "metadata": {},
     "output_type": "execute_result"
    }
   ],
   "source": [
    "list(books.items())"
   ]
  },
  {
   "cell_type": "code",
   "execution_count": 43,
   "id": "b7cd6dac",
   "metadata": {
    "scrolled": true
   },
   "outputs": [
    {
     "data": {
      "text/plain": [
       "[480, 650, 780, 650]"
      ]
     },
     "execution_count": 43,
     "metadata": {},
     "output_type": "execute_result"
    }
   ],
   "source": [
    "list(books.values())"
   ]
  },
  {
   "cell_type": "markdown",
   "id": "6ce07deb",
   "metadata": {},
   "source": [
    "### Adding items in the middle of the dictionary"
   ]
  },
  {
   "cell_type": "code",
   "execution_count": 66,
   "id": "02195e9f",
   "metadata": {},
   "outputs": [],
   "source": [
    "d= {'Name': 'Zara', 'Age': 7, 'Class': 'First'}\n",
    "#we need to insert phone number in 3rd position i.e., index 2\n",
    "#since in dictionary, items can be added at the last\n",
    "# we are converting dictionary into list\n",
    "d_list=list(d.items())\n",
    "#take home"
   ]
  },
  {
   "cell_type": "code",
   "execution_count": 72,
   "id": "6be5249d",
   "metadata": {
    "scrolled": true
   },
   "outputs": [
    {
     "data": {
      "text/plain": [
       "['Name', 'Age', 'Class']"
      ]
     },
     "execution_count": 72,
     "metadata": {},
     "output_type": "execute_result"
    }
   ],
   "source": [
    "list(d)"
   ]
  },
  {
   "cell_type": "code",
   "execution_count": 75,
   "id": "9606a17a",
   "metadata": {},
   "outputs": [
    {
     "data": {
      "text/plain": [
       "tuple"
      ]
     },
     "execution_count": 75,
     "metadata": {},
     "output_type": "execute_result"
    }
   ],
   "source": [
    "list(d.items())[0]"
   ]
  },
  {
   "cell_type": "code",
   "execution_count": 67,
   "id": "87c219ce",
   "metadata": {},
   "outputs": [],
   "source": [
    "#setting the index postion to be inserted\n",
    "#using .index to find the index\n",
    "index=list(d.keys()).index(\"Class\")"
   ]
  },
  {
   "cell_type": "code",
   "execution_count": 68,
   "id": "2a66b116",
   "metadata": {},
   "outputs": [
    {
     "data": {
      "text/plain": [
       "2"
      ]
     },
     "execution_count": 68,
     "metadata": {},
     "output_type": "execute_result"
    }
   ],
   "source": [
    "index"
   ]
  },
  {
   "cell_type": "code",
   "execution_count": 69,
   "id": "79f3d8aa",
   "metadata": {},
   "outputs": [],
   "source": [
    "d_list.insert(index,('Phone', '123-456-7890'))"
   ]
  },
  {
   "cell_type": "code",
   "execution_count": 70,
   "id": "2fab4a91",
   "metadata": {},
   "outputs": [
    {
     "data": {
      "text/plain": [
       "[('Name', 'Zara'), ('Age', 7), ('Phone', '123-456-7890'), ('Class', 'First')]"
      ]
     },
     "execution_count": 70,
     "metadata": {},
     "output_type": "execute_result"
    }
   ],
   "source": [
    "d_list"
   ]
  },
  {
   "cell_type": "code",
   "execution_count": 71,
   "id": "79bf88ab",
   "metadata": {
    "scrolled": true
   },
   "outputs": [
    {
     "data": {
      "text/plain": [
       "{'Name': 'Zara', 'Age': 7, 'Phone': '123-456-7890', 'Class': 'First'}"
      ]
     },
     "execution_count": 71,
     "metadata": {},
     "output_type": "execute_result"
    }
   ],
   "source": [
    "dict(d_list)"
   ]
  },
  {
   "cell_type": "markdown",
   "id": "ed844618",
   "metadata": {},
   "source": [
    "### handling duplicates"
   ]
  },
  {
   "cell_type": "code",
   "execution_count": 44,
   "id": "a0f3cc57",
   "metadata": {},
   "outputs": [
    {
     "data": {
      "text/plain": [
       "{'pen': 40, 'book': 90}"
      ]
     },
     "execution_count": 44,
     "metadata": {},
     "output_type": "execute_result"
    }
   ],
   "source": [
    "sales={\"pen\":20,\"pen\":40,\"book\":90}\n",
    "sales"
   ]
  },
  {
   "cell_type": "markdown",
   "id": "8555959c",
   "metadata": {},
   "source": [
    "### creating dictionary using two lists"
   ]
  },
  {
   "cell_type": "code",
   "execution_count": 48,
   "id": "fb12c736",
   "metadata": {},
   "outputs": [],
   "source": [
    "country=[\"India\",\"China\",\"England\"]\n",
    "capital=[\"New Delhi\",\"Beijing\",\"London\"]"
   ]
  },
  {
   "cell_type": "code",
   "execution_count": 53,
   "id": "39cd2cff",
   "metadata": {},
   "outputs": [
    {
     "data": {
      "text/plain": [
       "{'India': 'New Delhi', 'China': 'Beijing', 'England': 'London'}"
      ]
     },
     "execution_count": 53,
     "metadata": {},
     "output_type": "execute_result"
    }
   ],
   "source": [
    "#using zip\n",
    "dict(zip(country,capital))"
   ]
  },
  {
   "cell_type": "code",
   "execution_count": 56,
   "id": "9731853e",
   "metadata": {},
   "outputs": [
    {
     "data": {
      "text/plain": [
       "{'India': 'New Delhi', 'China': 'Beijing', 'England': 'London'}"
      ]
     },
     "execution_count": 56,
     "metadata": {},
     "output_type": "execute_result"
    }
   ],
   "source": [
    "dict(zip(country,capital))"
   ]
  },
  {
   "cell_type": "markdown",
   "id": "5edabba9",
   "metadata": {},
   "source": [
    "## Create a dictionary to find the words and their counts in a sentence"
   ]
  },
  {
   "cell_type": "code",
   "execution_count": 76,
   "id": "61d34c0d",
   "metadata": {},
   "outputs": [],
   "source": [
    "text=\"man made money money made man money made man mad\""
   ]
  },
  {
   "cell_type": "code",
   "execution_count": 110,
   "id": "d66069f6",
   "metadata": {},
   "outputs": [
    {
     "data": {
      "text/plain": [
       "{'man': 3, 'made': 3, 'money': 3, 'mad': 1}"
      ]
     },
     "execution_count": 110,
     "metadata": {},
     "output_type": "execute_result"
    }
   ],
   "source": [
    "o={}#creating an empty dict to store the output\n",
    "for i in text.split(\" \"):#spliting the words in the string\n",
    "    if i not in o:\n",
    "        o[i]=1#rememeber how we add values to the dictionary\n",
    "    else:\n",
    "        o[i]=o[i]+1\n",
    "o\n",
    "#take home using update"
   ]
  },
  {
   "cell_type": "code",
   "execution_count": 77,
   "id": "e5f41ae7",
   "metadata": {},
   "outputs": [
    {
     "data": {
      "text/plain": [
       "['man', 'made', 'money', 'money', 'made', 'man', 'money', 'made', 'man', 'mad']"
      ]
     },
     "execution_count": 77,
     "metadata": {},
     "output_type": "execute_result"
    }
   ],
   "source": [
    "text.split(\" \")"
   ]
  },
  {
   "cell_type": "markdown",
   "id": "4f505b72",
   "metadata": {},
   "source": [
    "## slicing in dictionary"
   ]
  },
  {
   "cell_type": "code",
   "execution_count": 64,
   "id": "b012ea15",
   "metadata": {},
   "outputs": [
    {
     "data": {
      "text/plain": [
       "{'a': 1, 'b': 2}"
      ]
     },
     "execution_count": 64,
     "metadata": {},
     "output_type": "execute_result"
    }
   ],
   "source": [
    "#using itertools\n",
    "import itertools\n",
    "d1={\"a\":1,\"b\":2,\"c\":3}\n",
    "dict(itertools.islice(d1.items(),2))\n",
    "#the number inside the slice represents the number of items to be slice"
   ]
  },
  {
   "cell_type": "markdown",
   "id": "5ce75ac7",
   "metadata": {},
   "source": [
    "### differetiating functions and method\n",
    "- int,float,str,sum,complex,min,max,len,input,list,tuple,dict,set\n",
    "- append,extend"
   ]
  },
  {
   "cell_type": "code",
   "execution_count": 125,
   "id": "b155d8f9",
   "metadata": {},
   "outputs": [
    {
     "data": {
      "text/plain": [
       "{'b': 2}"
      ]
     },
     "execution_count": 125,
     "metadata": {},
     "output_type": "execute_result"
    }
   ],
   "source": [
    "#using list comprehension\n",
    "k=[\"b\"]\n",
    "dict([(i,j) for i,j in d1.items() if i in k])"
   ]
  },
  {
   "cell_type": "markdown",
   "id": "5cc0dd73",
   "metadata": {},
   "source": [
    "# Conditional statements:\n",
    "- If statement\n",
    "- If-else statement\n",
    "- If elif else statement\n",
    "- Nested if-else\n",
    "- Nested if\n",
    "\n",
    "# Loops\n",
    "- For Loop\n",
    "- While Loop\n",
    "\n",
    "# List Comprehension"
   ]
  },
  {
   "cell_type": "markdown",
   "id": "a4085ca3",
   "metadata": {},
   "source": [
    "### Conditional statements:\n",
    "○ If statement\n",
    "○ If-else statement\n",
    "○ If elif else statement\n",
    "○ Nested if-else"
   ]
  },
  {
   "cell_type": "markdown",
   "id": "7cc1f724",
   "metadata": {},
   "source": [
    "## If statement"
   ]
  },
  {
   "cell_type": "code",
   "execution_count": 68,
   "id": "0f710e5b",
   "metadata": {},
   "outputs": [
    {
     "name": "stdout",
     "output_type": "stream",
     "text": [
      "It is true\n"
     ]
    }
   ],
   "source": [
    "if (4**2>=16):\n",
    "    print(\"It is true\")"
   ]
  },
  {
   "cell_type": "code",
   "execution_count": 72,
   "id": "3a85caa8",
   "metadata": {},
   "outputs": [
    {
     "name": "stdout",
     "output_type": "stream",
     "text": [
      "The given number is between 0 to 100\n"
     ]
    }
   ],
   "source": [
    "value=50\n",
    "if (value>0) and (value<100):\n",
    "    print(\"The given number is between 0 to 100\")\n",
    "    \n",
    "#since the else condition is not given, for the unfavourable inputs, the code wont work"
   ]
  },
  {
   "cell_type": "code",
   "execution_count": 76,
   "id": "ce61ebb8",
   "metadata": {},
   "outputs": [
    {
     "name": "stdout",
     "output_type": "stream",
     "text": [
      "The given number is above 100\n"
     ]
    }
   ],
   "source": [
    "#if - else\n",
    "value=200\n",
    "if (value>0) and (value<100):\n",
    "    print(\"The given number is between 0 to 100\")\n",
    "else:\n",
    "    print(\"The given number is above 100\")\n",
    "    \n",
    "#since the else condition is not given, for the unfavourable inputs, the code wont work"
   ]
  },
  {
   "cell_type": "code",
   "execution_count": 80,
   "id": "b28e84cb",
   "metadata": {},
   "outputs": [
    {
     "name": "stdout",
     "output_type": "stream",
     "text": [
      "Enter the number:-2\n",
      "The given number is less than 0\n"
     ]
    }
   ],
   "source": [
    "#if - else\n",
    "value=int(input(\"Enter the number:\"))#runtime variable or take input from the user\n",
    "if (value>0) and (value<100):\n",
    "    print(\"The given number is between 0 to 100\")\n",
    "elif value<0:\n",
    "    print(\"The given number is less than 0\")\n",
    "else:\n",
    "    print(\"The given number is above 100\")\n",
    "    \n",
    "#since the else condition is not given, for the unfavourable inputs, the code wont work"
   ]
  },
  {
   "cell_type": "markdown",
   "id": "9da9dd82",
   "metadata": {},
   "source": [
    "### If- else Statement\n",
    "- The statement(s) under ‘else:’ are executed when the condition in ‘if ’ is not satisfies, ie., the boolean output is ‘False’"
   ]
  },
  {
   "cell_type": "code",
   "execution_count": 83,
   "id": "170cc4a2",
   "metadata": {},
   "outputs": [
    {
     "name": "stdout",
     "output_type": "stream",
     "text": [
      "Who's the CEO of Twitter :Elon Musk\n",
      "Correct\n"
     ]
    }
   ],
   "source": [
    "name=input(\"Who's the CEO of Twitter :\")\n",
    "if name==\"Elon Musk\":\n",
    "    print(\"Correct\")\n",
    "else:\n",
    "    print(\"wrong\")"
   ]
  },
  {
   "cell_type": "code",
   "execution_count": 86,
   "id": "810945c8",
   "metadata": {},
   "outputs": [
    {
     "name": "stdout",
     "output_type": "stream",
     "text": [
      "Who's the CEO of Twitter :ELON MUSK\n",
      "Correct\n"
     ]
    }
   ],
   "source": [
    "name=input(\"Who's the CEO of Twitter :\")\n",
    "if name.title()==\"Elon Musk\":#using title method to compare the input\n",
    "    print(\"Correct\")\n",
    "else:\n",
    "    print(\"wrong\")"
   ]
  },
  {
   "cell_type": "code",
   "execution_count": 88,
   "id": "36bbc121",
   "metadata": {},
   "outputs": [
    {
     "name": "stdout",
     "output_type": "stream",
     "text": [
      "Enter the radius :3\n",
      "The circumference of the circle is 18.84\n"
     ]
    }
   ],
   "source": [
    "#circumference of the circle\n",
    "#2*3.14*r\n",
    "radius=input(\"Enter the radius :\")\n",
    "print(\"The circumference of the circle is\",2*3.14*int(radius))"
   ]
  },
  {
   "cell_type": "code",
   "execution_count": 89,
   "id": "c205e21e",
   "metadata": {},
   "outputs": [
    {
     "name": "stdout",
     "output_type": "stream",
     "text": [
      "Enter the radius :3\n",
      "The circumference of the circle is 18.84\n"
     ]
    }
   ],
   "source": [
    "#circumference of the circle\n",
    "#2*3.14*r\n",
    "radius=input(\"Enter the radius :\")\n",
    "radius=int(radius)\n",
    "print(\"The circumference of the circle is\",2*3.14*radius)"
   ]
  },
  {
   "cell_type": "markdown",
   "id": "701f5b25",
   "metadata": {},
   "source": [
    "### If elif else Statement\n",
    "- Elif statement is used to control multiple conditions only if the given if condition false\n",
    "- It's similar to an if-else statement and the only exception is that in else we are not checking the condition but in elif, we check the condition"
   ]
  },
  {
   "cell_type": "code",
   "execution_count": 91,
   "id": "4b822cfd",
   "metadata": {},
   "outputs": [
    {
     "name": "stdout",
     "output_type": "stream",
     "text": [
      "Enter your age :3\n",
      "Ticket price is 300\n"
     ]
    }
   ],
   "source": [
    "#age and ticket price\n",
    "age=int(input(\"Enter your age :\"))\n",
    "if age > 0 and age <3:\n",
    "    print(\"Free ticket\")\n",
    "elif age > 3 and age <=10:\n",
    "    print(\"Ticket price is 200\")\n",
    "elif age >10 and age <=20:\n",
    "    print(\"Ticket price is 250\")\n",
    "else:\n",
    "    print(\"Ticket price is 300\")\n",
    "#since we didn't assign value which is equal to 3, it takes condition of else"
   ]
  },
  {
   "cell_type": "code",
   "execution_count": 93,
   "id": "45a27956",
   "metadata": {},
   "outputs": [
    {
     "name": "stdout",
     "output_type": "stream",
     "text": [
      "Enter your age :3\n",
      "Free ticket\n"
     ]
    }
   ],
   "source": [
    "#age and ticket price\n",
    "age=int(input(\"Enter your age :\"))\n",
    "if age > 0 and age <=3:\n",
    "    print(\"Free ticket\")\n",
    "elif age > 3 and age <=10:\n",
    "    print(\"Ticket price is 200\")\n",
    "elif age >10 and age <=20:\n",
    "    print(\"Ticket price is 250\")\n",
    "else:\n",
    "    print(\"Ticket price is 300\")"
   ]
  },
  {
   "cell_type": "markdown",
   "id": "0d304f53",
   "metadata": {},
   "source": [
    "### Nested If-else statement\n",
    "- The ‘if’ statements are within the body of another if statement\n",
    "- The else condition of the first \"if\" has an else conditon under which another \"if \" and \"else\" condition comes \n"
   ]
  },
  {
   "cell_type": "code",
   "execution_count": 95,
   "id": "7804c8a6",
   "metadata": {},
   "outputs": [
    {
     "name": "stdout",
     "output_type": "stream",
     "text": [
      "y is the largest number\n"
     ]
    }
   ],
   "source": [
    "#find the largest number among three numbers\n",
    "x=234\n",
    "y=453\n",
    "z=223\n",
    "if x>y:\n",
    "    print(\"x is the largest number\")\n",
    "else:\n",
    "    if y>z:\n",
    "        print(\"y is the largest number\")\n",
    "    else:\n",
    "        (\"z is the largest number\")"
   ]
  },
  {
   "cell_type": "code",
   "execution_count": null,
   "id": "a2c4631a",
   "metadata": {},
   "outputs": [],
   "source": [
    "#winning number\n",
    "w_num=27\n",
    "num="
   ]
  },
  {
   "cell_type": "markdown",
   "id": "704e6a14",
   "metadata": {},
   "source": [
    "### Nested If statement\n",
    "- The ‘if’ statements are within the body of another if statement\n",
    "- The statements in this manner are called ‘nested if- statements’\n",
    "- If the first ‘if’ condition is satisfied then the program executes the commands within that ‘if’"
   ]
  },
  {
   "cell_type": "code",
   "execution_count": 99,
   "id": "ddb87652",
   "metadata": {},
   "outputs": [
    {
     "name": "stdout",
     "output_type": "stream",
     "text": [
      "Enter the userid :aA\n",
      "Enter the password :AA\n",
      "Either userid or pass word is wrong\n"
     ]
    }
   ],
   "source": [
    "#user id, password, logged in \n",
    "user_id=input(\"Enter the userid :\")\n",
    "password=input(\"Enter the password :\")\n",
    "if user_id==\"ABC\":\n",
    "    if password==\"1234\":\n",
    "        print(\"welcome,you had logged in\")\n",
    "else:\n",
    "    print(\"Either userid or pass word is wrong\")"
   ]
  },
  {
   "cell_type": "markdown",
   "id": "e3bc41bc",
   "metadata": {},
   "source": [
    "# Loops\n",
    "- Python Iterables : Iterable is a Python object that is capable of returning its elements (or members) one by one\n",
    "- Iteration : Iteration is a general term for taking each item from a sequence one after another\n",
    "- For Loop \n",
    "- While loop\n",
    "- break and continue"
   ]
  },
  {
   "cell_type": "markdown",
   "id": "7c8abfd2",
   "metadata": {},
   "source": [
    "### For Loop\n",
    "- The ‘for loop’ is used to iterate over the elements of a sequence (list, dictionary, tuple, string) or other iterable objects."
   ]
  },
  {
   "cell_type": "code",
   "execution_count": 103,
   "id": "b5ef0681",
   "metadata": {
    "scrolled": true
   },
   "outputs": [
    {
     "name": "stdout",
     "output_type": "stream",
     "text": [
      "10\n",
      "12\n",
      "23\n",
      "45\n"
     ]
    }
   ],
   "source": [
    "#read a range of age\n",
    "#list iteration\n",
    "age=[10,12,23,45]\n",
    "for i in age:\n",
    "    print(i)"
   ]
  },
  {
   "cell_type": "code",
   "execution_count": 122,
   "id": "45a4544d",
   "metadata": {},
   "outputs": [
    {
     "name": "stdout",
     "output_type": "stream",
     "text": [
      "India\n",
      "India\n",
      "India\n",
      "India\n",
      "India\n"
     ]
    }
   ],
   "source": [
    "#range of strings\n",
    "n=\"India\"\n",
    "for i in n:\n",
    "    print(n)# n will return the value of n not i"
   ]
  },
  {
   "cell_type": "code",
   "execution_count": 121,
   "id": "32db5791",
   "metadata": {},
   "outputs": [
    {
     "name": "stdout",
     "output_type": "stream",
     "text": [
      "I\n",
      "n\n",
      "d\n",
      "i\n",
      "a\n"
     ]
    }
   ],
   "source": [
    "#range of strings\n",
    "n=\"India\"\n",
    "for i in n:\n",
    "    print(i)"
   ]
  },
  {
   "cell_type": "code",
   "execution_count": 119,
   "id": "f1d18f3c",
   "metadata": {},
   "outputs": [
    {
     "name": "stdout",
     "output_type": "stream",
     "text": [
      "1\n",
      "2\n",
      "3\n",
      "a\n",
      "11.2\n"
     ]
    }
   ],
   "source": [
    "#iteraing tuple\n",
    "a=1,2,3,\"a\",11.2\n",
    "for i in a:\n",
    "    print(i)"
   ]
  },
  {
   "cell_type": "code",
   "execution_count": 123,
   "id": "08d4f01c",
   "metadata": {},
   "outputs": [
    {
     "name": "stdout",
     "output_type": "stream",
     "text": [
      "['learn', 'data', 'science']\n",
      "[101, 22, 998]\n",
      "[12.23, 45.32]\n"
     ]
    }
   ],
   "source": [
    "#list of list\n",
    "lol=[[\"learn\",\"data\",\"science\"],[101,22,998],[12.23,45.32]]\n",
    "for i in lol:\n",
    "    print(i)"
   ]
  },
  {
   "cell_type": "code",
   "execution_count": 125,
   "id": "d7270602",
   "metadata": {},
   "outputs": [
    {
     "name": "stdout",
     "output_type": "stream",
     "text": [
      "learn\n",
      "data\n",
      "science\n",
      "101\n",
      "22\n",
      "998\n",
      "12.23\n",
      "45.32\n"
     ]
    }
   ],
   "source": [
    "#Nested for loop with list of lists\n",
    "lol\n",
    "for i in lol:\n",
    "    for j in i:\n",
    "        print(j)"
   ]
  },
  {
   "cell_type": "code",
   "execution_count": 126,
   "id": "508ed6a2",
   "metadata": {},
   "outputs": [
    {
     "name": "stdout",
     "output_type": "stream",
     "text": [
      "1\n",
      "2\n",
      "3\n",
      "4\n",
      "5\n",
      "6\n",
      "7\n",
      "8\n",
      "9\n",
      "10\n"
     ]
    }
   ],
   "source": [
    "#print numbers from 1 to 10\n",
    "for i in range(1,11):\n",
    "    print(i)"
   ]
  },
  {
   "cell_type": "code",
   "execution_count": 129,
   "id": "6681e40b",
   "metadata": {},
   "outputs": [
    {
     "name": "stdout",
     "output_type": "stream",
     "text": [
      "0\n",
      "2\n",
      "4\n",
      "6\n",
      "8\n",
      "10\n"
     ]
    }
   ],
   "source": [
    "#print numbers from 0 to 10 step by 2\n",
    "for i in range(0,11,2):\n",
    "    print(i)"
   ]
  },
  {
   "cell_type": "code",
   "execution_count": 130,
   "id": "8483c845",
   "metadata": {},
   "outputs": [
    {
     "name": "stdout",
     "output_type": "stream",
     "text": [
      "0\n",
      "2\n",
      "4\n",
      "6\n",
      "8\n",
      "10\n"
     ]
    }
   ],
   "source": [
    "#print numbers from 0 to 10 step by 2\n",
    "for i in range(0,12,2):# check the stop value of the range\n",
    "    print(i)"
   ]
  },
  {
   "cell_type": "code",
   "execution_count": 131,
   "id": "10b02bdd",
   "metadata": {},
   "outputs": [],
   "source": [
    "#print numbers from 100 to 0 backward with a step of 10\n",
    "for i in range(0,100,-10):\n",
    "    print(i)\n",
    "#in case of iteration with negative step value, the output will be in negative\n",
    "#(0-10)= -10"
   ]
  },
  {
   "cell_type": "code",
   "execution_count": 133,
   "id": "528c4927",
   "metadata": {},
   "outputs": [
    {
     "name": "stdout",
     "output_type": "stream",
     "text": [
      "100\n",
      "90\n",
      "80\n",
      "70\n",
      "60\n",
      "50\n",
      "40\n",
      "30\n",
      "20\n",
      "10\n"
     ]
    }
   ],
   "source": [
    "for i in range(100,0,-10):\n",
    "    print(i)"
   ]
  },
  {
   "cell_type": "code",
   "execution_count": 134,
   "id": "2882c3e5",
   "metadata": {},
   "outputs": [
    {
     "name": "stdout",
     "output_type": "stream",
     "text": [
      "1\n",
      "4\n",
      "9\n",
      "16\n",
      "25\n",
      "36\n",
      "49\n",
      "64\n",
      "81\n",
      "100\n"
     ]
    }
   ],
   "source": [
    "#print square of numbers from 1 to 10\n",
    "for i in range(1,11):\n",
    "    print(i*i)"
   ]
  },
  {
   "cell_type": "markdown",
   "id": "2f66fa57",
   "metadata": {},
   "source": [
    "### for loop in dictionary"
   ]
  },
  {
   "cell_type": "code",
   "execution_count": 135,
   "id": "5f332f01",
   "metadata": {},
   "outputs": [],
   "source": [
    "emp={\"Name\":\"Larry page\",\"Job\":\"Co founder\",\"Age\":50}"
   ]
  },
  {
   "cell_type": "code",
   "execution_count": 137,
   "id": "16ce95c1",
   "metadata": {},
   "outputs": [
    {
     "name": "stdout",
     "output_type": "stream",
     "text": [
      "('Name', 'Larry page')\n",
      "('Job', 'Co founder')\n",
      "('Age', 50)\n"
     ]
    }
   ],
   "source": [
    "#items\n",
    "for i in emp.items():\n",
    "    print(i)"
   ]
  },
  {
   "cell_type": "code",
   "execution_count": 138,
   "id": "3b306077",
   "metadata": {},
   "outputs": [
    {
     "name": "stdout",
     "output_type": "stream",
     "text": [
      "Name\n",
      "Job\n",
      "Age\n"
     ]
    }
   ],
   "source": [
    "#keys\n",
    "for i in emp.keys():\n",
    "    print(i)"
   ]
  },
  {
   "cell_type": "code",
   "execution_count": 139,
   "id": "f783f01f",
   "metadata": {},
   "outputs": [
    {
     "name": "stdout",
     "output_type": "stream",
     "text": [
      "Larry page\n",
      "Co founder\n",
      "50\n"
     ]
    }
   ],
   "source": [
    "#values\n",
    "for i in emp.values():\n",
    "    print(i)"
   ]
  },
  {
   "cell_type": "code",
   "execution_count": 150,
   "id": "a31c474a",
   "metadata": {},
   "outputs": [],
   "source": [
    "#adding dictionary to a list\n",
    "#homework\n"
   ]
  },
  {
   "cell_type": "markdown",
   "id": "46d67916",
   "metadata": {},
   "source": [
    "### For loop with conditional statements"
   ]
  },
  {
   "cell_type": "code",
   "execution_count": 140,
   "id": "34629568",
   "metadata": {
    "scrolled": true
   },
   "outputs": [
    {
     "name": "stdout",
     "output_type": "stream",
     "text": [
      "0\n",
      "3\n",
      "6\n",
      "9\n",
      "12\n",
      "15\n",
      "18\n"
     ]
    }
   ],
   "source": [
    "#get the list of numbers divided by 3 from range(0,20)\n",
    "for i in range(0,21):\n",
    "    if i%3==0:\n",
    "        print(i)"
   ]
  },
  {
   "cell_type": "code",
   "execution_count": 141,
   "id": "65388a87",
   "metadata": {},
   "outputs": [
    {
     "name": "stdout",
     "output_type": "stream",
     "text": [
      "0\n",
      "3\n",
      "6\n",
      "9\n",
      "12\n",
      "15\n",
      "18\n"
     ]
    }
   ],
   "source": [
    "#using step\n",
    "for i in range(0,21,3):\n",
    "        print(i)"
   ]
  },
  {
   "cell_type": "code",
   "execution_count": 142,
   "id": "04202e0d",
   "metadata": {},
   "outputs": [
    {
     "name": "stdout",
     "output_type": "stream",
     "text": [
      "iphone grey\n",
      "iphone white\n",
      "iphone silver\n",
      "Mac grey\n",
      "Mac white\n",
      "Mac silver\n",
      "ipad grey\n",
      "ipad white\n",
      "ipad silver\n"
     ]
    }
   ],
   "source": [
    "#nested loop\n",
    "#get all the combination of the products and colors\n",
    "product=[\"iphone\",\"Mac\",\"ipad\"]\n",
    "color=[\"grey\",\"white\",\"silver\"]\n",
    "for i in product:\n",
    "    for j in color:\n",
    "        print(i,j)"
   ]
  },
  {
   "cell_type": "code",
   "execution_count": 161,
   "id": "39c6c9f1",
   "metadata": {},
   "outputs": [],
   "source": [
    "#Calculating sum of numbers as int\n",
    "#homework"
   ]
  },
  {
   "cell_type": "markdown",
   "id": "d57bac16",
   "metadata": {},
   "source": [
    "### List Comprehension\n",
    "- A list comprehension provides a concise way to create another list\n",
    "- Using list comprehensions reduces the number of code lines making it. It look more elegant\n",
    "- It is possible to use conditions in a list comprehension\n",
    "- The list comprehension always returns a list"
   ]
  },
  {
   "attachments": {
    "lc.JPG": {
     "image/jpeg": "[encoded data removed]"
    }
   },
   "cell_type": "markdown",
   "id": "db389ee7",
   "metadata": {},
   "source": [
    "![lc.JPG](attachment:lc.JPG)"
   ]
  },
  {
   "cell_type": "markdown",
   "id": "c8ccdeea",
   "metadata": {},
   "source": [
    "#### for loop vs List comp"
   ]
  },
  {
   "cell_type": "code",
   "execution_count": 143,
   "id": "ca47cec0",
   "metadata": {},
   "outputs": [
    {
     "name": "stdout",
     "output_type": "stream",
     "text": [
      "0\n",
      "1\n",
      "4\n",
      "9\n",
      "16\n"
     ]
    }
   ],
   "source": [
    "#square of numbers in range(5) using for loop\n",
    "for i in range(5):\n",
    "    print(i*i)"
   ]
  },
  {
   "cell_type": "code",
   "execution_count": 144,
   "id": "8a725cdb",
   "metadata": {},
   "outputs": [
    {
     "data": {
      "text/plain": [
       "[0, 1, 4, 9, 16]"
      ]
     },
     "execution_count": 144,
     "metadata": {},
     "output_type": "execute_result"
    }
   ],
   "source": [
    "#square of numbers in range(5) using List comprehension\n",
    "[i*i for i in range(5)]"
   ]
  },
  {
   "cell_type": "code",
   "execution_count": 8,
   "id": "d05e26d2",
   "metadata": {},
   "outputs": [],
   "source": [
    "#Read the first letter of each word using list comprehension\n",
    "slr=[\"Logistic\",\"Decision Tree\",\"Random forest\",\"Naive Bayes\"]"
   ]
  },
  {
   "cell_type": "code",
   "execution_count": 151,
   "id": "0a945881",
   "metadata": {},
   "outputs": [
    {
     "data": {
      "text/plain": [
       "['L', 'D', 'R', 'N']"
      ]
     },
     "execution_count": 151,
     "metadata": {},
     "output_type": "execute_result"
    }
   ],
   "source": [
    "[i[0] for i in slr]\n",
    "#you can extract any number of letters\n",
    "#using string slicing "
   ]
  },
  {
   "cell_type": "code",
   "execution_count": 153,
   "id": "3bee5b72",
   "metadata": {},
   "outputs": [],
   "source": [
    "#mapping\n",
    "#Iteration over more than one iterable in a list using list comprehension\n",
    "# usinf 2 fors in a single code\n",
    "slr\n",
    "rating=[100,200,300,400]"
   ]
  },
  {
   "cell_type": "code",
   "execution_count": 154,
   "id": "f3a16ee4",
   "metadata": {
    "scrolled": true
   },
   "outputs": [
    {
     "data": {
      "text/plain": [
       "[('Logistic', 100),\n",
       " ('Logistic', 200),\n",
       " ('Logistic', 300),\n",
       " ('Logistic', 400),\n",
       " ('Decision Tree', 100),\n",
       " ('Decision Tree', 200),\n",
       " ('Decision Tree', 300),\n",
       " ('Decision Tree', 400),\n",
       " ('Random forest', 100),\n",
       " ('Random forest', 200),\n",
       " ('Random forest', 300),\n",
       " ('Random forest', 400),\n",
       " ('Naive Bayes', 100),\n",
       " ('Naive Bayes', 200),\n",
       " ('Naive Bayes', 300),\n",
       " ('Naive Bayes', 400)]"
      ]
     },
     "execution_count": 154,
     "metadata": {},
     "output_type": "execute_result"
    }
   ],
   "source": [
    "[(i,j) for i in slr for j in rating]"
   ]
  },
  {
   "cell_type": "code",
   "execution_count": 158,
   "id": "41352fa8",
   "metadata": {},
   "outputs": [
    {
     "data": {
      "text/plain": [
       "{'Logistic': 100,\n",
       " 'Decision Tree': 200,\n",
       " 'Random forest': 300,\n",
       " 'Naive Bayes': 400}"
      ]
     },
     "execution_count": 158,
     "metadata": {},
     "output_type": "execute_result"
    }
   ],
   "source": [
    "slr,rating\n",
    "dict(zip(slr,rating))"
   ]
  },
  {
   "cell_type": "markdown",
   "id": "8c70faa5",
   "metadata": {},
   "source": [
    "### List comprehension using conditional logic"
   ]
  },
  {
   "cell_type": "code",
   "execution_count": 159,
   "id": "a1ddb795",
   "metadata": {},
   "outputs": [],
   "source": [
    "prices=[56,32,44,56,77,12,33,45]"
   ]
  },
  {
   "cell_type": "code",
   "execution_count": 160,
   "id": "467db00b",
   "metadata": {},
   "outputs": [
    {
     "data": {
      "text/plain": [
       "[56, 56, 77]"
      ]
     },
     "execution_count": 160,
     "metadata": {},
     "output_type": "execute_result"
    }
   ],
   "source": [
    "\n",
    "[i for i in prices if i >50]"
   ]
  },
  {
   "cell_type": "code",
   "execution_count": 161,
   "id": "b57fc5c7",
   "metadata": {
    "scrolled": true
   },
   "outputs": [
    {
     "ename": "SyntaxError",
     "evalue": "invalid syntax (Temp/ipykernel_25376/1846656320.py, line 2)",
     "output_type": "error",
     "traceback": [
      "\u001b[1;36m  File \u001b[1;32m\"C:\\Users\\ADMIN\\AppData\\Local\\Temp/ipykernel_25376/1846656320.py\"\u001b[1;36m, line \u001b[1;32m2\u001b[0m\n\u001b[1;33m    [i for i in prices if i>50 else 0]\u001b[0m\n\u001b[1;37m                               ^\u001b[0m\n\u001b[1;31mSyntaxError\u001b[0m\u001b[1;31m:\u001b[0m invalid syntax\n"
     ]
    }
   ],
   "source": [
    "#[i if i>50 else 0 for i in prices]\n",
    "[i for i in prices if i>50 else 0]"
   ]
  },
  {
   "cell_type": "code",
   "execution_count": 162,
   "id": "e61a3923",
   "metadata": {},
   "outputs": [
    {
     "data": {
      "text/plain": [
       "[True, False, False, True, True, False, False, False]"
      ]
     },
     "execution_count": 162,
     "metadata": {},
     "output_type": "execute_result"
    }
   ],
   "source": [
    "#mistakes\n",
    "#[i if i>50 else 0 for i in prices]\n",
    "[i>50 for i in prices ]"
   ]
  },
  {
   "cell_type": "code",
   "execution_count": 163,
   "id": "99b7d9b7",
   "metadata": {},
   "outputs": [
    {
     "data": {
      "text/plain": [
       "[56, 0, 0, 56, 77, 0, 0, 0]"
      ]
     },
     "execution_count": 163,
     "metadata": {},
     "output_type": "execute_result"
    }
   ],
   "source": [
    "#[i if i>50 else 0 for i in prices]\n",
    "[i if i>50 else 0 for i in prices]"
   ]
  },
  {
   "cell_type": "code",
   "execution_count": 164,
   "id": "09a74540",
   "metadata": {
    "scrolled": true
   },
   "outputs": [
    {
     "data": {
      "text/plain": [
       "[56, 32, 44, 56, 77, 12, 33, 45]"
      ]
     },
     "execution_count": 164,
     "metadata": {},
     "output_type": "execute_result"
    }
   ],
   "source": [
    "prices"
   ]
  },
  {
   "cell_type": "code",
   "execution_count": 165,
   "id": "8e79320b",
   "metadata": {},
   "outputs": [
    {
     "data": {
      "text/plain": [
       "[1, 0, 0, 1, 1, 0, 0, 0]"
      ]
     },
     "execution_count": 165,
     "metadata": {},
     "output_type": "execute_result"
    }
   ],
   "source": [
    "#[1 if i>50 else 0 for i in prices]\n",
    "[1 if i>50 else 0 for i in prices]"
   ]
  },
  {
   "cell_type": "code",
   "execution_count": 168,
   "id": "d4ce57c2",
   "metadata": {},
   "outputs": [
    {
     "data": {
      "text/plain": [
       "[False, 0, 0, False, False, 0, 0, 0]"
      ]
     },
     "execution_count": 168,
     "metadata": {},
     "output_type": "execute_result"
    }
   ],
   "source": [
    "#understandings\n",
    "[i==1 if i>50 else 0 for i in prices]"
   ]
  },
  {
   "cell_type": "markdown",
   "id": "7a51e5ca",
   "metadata": {},
   "source": [
    "#### Extract all the digits from the string using list comprehension"
   ]
  },
  {
   "cell_type": "code",
   "execution_count": 10,
   "id": "df0e8438",
   "metadata": {},
   "outputs": [],
   "source": [
    "text= \"I used to have 4 idlis on weekdays and 6 idlis on weekend along with 2 dosas with 1 cup of milk\""
   ]
  },
  {
   "cell_type": "markdown",
   "id": "9ed60c9a",
   "metadata": {},
   "source": [
    "#### Find strings in a list that are longer than 4 character using list comprehension"
   ]
  },
  {
   "cell_type": "code",
   "execution_count": 9,
   "id": "d248816b",
   "metadata": {},
   "outputs": [
    {
     "data": {
      "text/plain": [
       "['Logistic', 'Decision Tree', 'Random forest', 'Naive Bayes']"
      ]
     },
     "execution_count": 9,
     "metadata": {},
     "output_type": "execute_result"
    }
   ],
   "source": [
    "slr"
   ]
  },
  {
   "cell_type": "code",
   "execution_count": 173,
   "id": "17f57e77",
   "metadata": {},
   "outputs": [
    {
     "data": {
      "text/plain": [
       "['Decision Tree', 'Random forest', 'Naive Bayes']"
      ]
     },
     "execution_count": 173,
     "metadata": {},
     "output_type": "execute_result"
    }
   ],
   "source": [
    "[i for i in slr if len(i)>10]"
   ]
  },
  {
   "cell_type": "code",
   "execution_count": 174,
   "id": "430babbd",
   "metadata": {},
   "outputs": [
    {
     "data": {
      "text/plain": [
       "['Decis', 'Rando', 'Naive']"
      ]
     },
     "execution_count": 174,
     "metadata": {},
     "output_type": "execute_result"
    }
   ],
   "source": [
    "[i[:5] for i in slr if len(i)>10]\n",
    "#print first 5 letters and the length of the words is more than 10"
   ]
  },
  {
   "cell_type": "markdown",
   "id": "069a8d3c",
   "metadata": {},
   "source": [
    "## What makes list comprehension faster?\n",
    "- A list comprehension helps reduce three lines of code into a single line of code.\n",
    "- Python allocates the list’s memory before appending the elements to the list.\n",
    "- This helps avoid resize of the memory at runtime\n",
    "- This makes a list comprehension faster."
   ]
  },
  {
   "cell_type": "code",
   "execution_count": 11,
   "id": "b4385e4a",
   "metadata": {},
   "outputs": [
    {
     "data": {
      "text/plain": [
       "'I used to have 4 idlis on weekdays and 6 idlis on weekend along with 2 dosas with 1 cup of milk'"
      ]
     },
     "execution_count": 11,
     "metadata": {},
     "output_type": "execute_result"
    }
   ],
   "source": [
    "text"
   ]
  },
  {
   "cell_type": "code",
   "execution_count": 179,
   "id": "bb75e08f",
   "metadata": {},
   "outputs": [
    {
     "data": {
      "text/plain": [
       "1820931363152"
      ]
     },
     "execution_count": 179,
     "metadata": {},
     "output_type": "execute_result"
    }
   ],
   "source": [
    "id(text)"
   ]
  },
  {
   "cell_type": "markdown",
   "id": "68de209f",
   "metadata": {},
   "source": [
    "### Other methods to check the string:\n",
    "- .isalpha()\n",
    "- isalnum()\n",
    "- isdigit()"
   ]
  },
  {
   "cell_type": "code",
   "execution_count": 12,
   "id": "1d66182d",
   "metadata": {},
   "outputs": [
    {
     "data": {
      "text/plain": [
       "'I used to have 4 idlis on weekdays and 6 idlis on weekend along with 2 dosas with 1 cup of milk'"
      ]
     },
     "execution_count": 12,
     "metadata": {},
     "output_type": "execute_result"
    }
   ],
   "source": [
    "text"
   ]
  },
  {
   "cell_type": "code",
   "execution_count": 14,
   "id": "6ddcb774",
   "metadata": {},
   "outputs": [
    {
     "data": {
      "text/plain": [
       "['4', '6', '2', '1']"
      ]
     },
     "execution_count": 14,
     "metadata": {},
     "output_type": "execute_result"
    }
   ],
   "source": [
    "[i for i in text if i.isdigit()==True]"
   ]
  },
  {
   "cell_type": "code",
   "execution_count": 15,
   "id": "4f59b0bc",
   "metadata": {},
   "outputs": [
    {
     "data": {
      "text/plain": [
       "['4', '6', '2', '1']"
      ]
     },
     "execution_count": 15,
     "metadata": {},
     "output_type": "execute_result"
    }
   ],
   "source": [
    "[i for i in text if i.isdigit()]"
   ]
  },
  {
   "cell_type": "code",
   "execution_count": 17,
   "id": "59344e36",
   "metadata": {},
   "outputs": [
    {
     "data": {
      "text/plain": [
       "['I',\n",
       " 'u',\n",
       " 's',\n",
       " 'e',\n",
       " 'd',\n",
       " 't',\n",
       " 'o',\n",
       " 'h',\n",
       " 'a',\n",
       " 'v',\n",
       " 'e',\n",
       " 'i',\n",
       " 'd',\n",
       " 'l',\n",
       " 'i',\n",
       " 's',\n",
       " 'o',\n",
       " 'n',\n",
       " 'w',\n",
       " 'e',\n",
       " 'e',\n",
       " 'k',\n",
       " 'd',\n",
       " 'a',\n",
       " 'y',\n",
       " 's',\n",
       " 'a',\n",
       " 'n',\n",
       " 'd',\n",
       " 'i',\n",
       " 'd',\n",
       " 'l',\n",
       " 'i',\n",
       " 's',\n",
       " 'o',\n",
       " 'n',\n",
       " 'w',\n",
       " 'e',\n",
       " 'e',\n",
       " 'k',\n",
       " 'e',\n",
       " 'n',\n",
       " 'd',\n",
       " 'a',\n",
       " 'l',\n",
       " 'o',\n",
       " 'n',\n",
       " 'g',\n",
       " 'w',\n",
       " 'i',\n",
       " 't',\n",
       " 'h',\n",
       " 'd',\n",
       " 'o',\n",
       " 's',\n",
       " 'a',\n",
       " 's',\n",
       " 'w',\n",
       " 'i',\n",
       " 't',\n",
       " 'h',\n",
       " 'c',\n",
       " 'u',\n",
       " 'p',\n",
       " 'o',\n",
       " 'f',\n",
       " 'm',\n",
       " 'i',\n",
       " 'l',\n",
       " 'k']"
      ]
     },
     "execution_count": 17,
     "metadata": {},
     "output_type": "execute_result"
    }
   ],
   "source": [
    "#gives only alphabets\n",
    "[i for i in text if i.isalpha()]"
   ]
  },
  {
   "cell_type": "code",
   "execution_count": 19,
   "id": "d528836e",
   "metadata": {},
   "outputs": [
    {
     "name": "stdout",
     "output_type": "stream",
     "text": [
      "['I', 'u', 's', 'e', 'd', 't', 'o', 'h', 'a', 'v', 'e', '4', 'i', 'd', 'l', 'i', 's', 'o', 'n', 'w', 'e', 'e', 'k', 'd', 'a', 'y', 's', 'a', 'n', 'd', '6', 'i', 'd', 'l', 'i', 's', 'o', 'n', 'w', 'e', 'e', 'k', 'e', 'n', 'd', 'a', 'l', 'o', 'n', 'g', 'w', 'i', 't', 'h', '2', 'd', 'o', 's', 'a', 's', 'w', 'i', 't', 'h', '1', 'c', 'u', 'p', 'o', 'f', 'm', 'i', 'l', 'k']\n"
     ]
    }
   ],
   "source": [
    "\n",
    "l=[i for i in text if i.isalnum()]\n",
    "print(l)"
   ]
  },
  {
   "cell_type": "markdown",
   "id": "44171c31",
   "metadata": {},
   "source": [
    "## Break, Continue\n",
    "### Exiting a Loop\n",
    "- Loops in Python allows us to automate and repeat tasks.\n",
    "- But at times, due to certain factors, we may want to:\n",
    "- Exit a loop completely when a certain condition is met\n",
    "- Skip part of a loop before moving to next\n",
    "\n",
    "#### Break\n",
    "- The ‘break’ statement ends the current loop and resumes execution at the next statement.\n",
    "\n",
    "#### Continue\n",
    "\n",
    "- The ‘continue’ statement in Python ignores all the remaining statements in the iteration of the current loop and moves the control back to the beginning of the loop."
   ]
  },
  {
   "cell_type": "code",
   "execution_count": 21,
   "id": "94ebd62e",
   "metadata": {},
   "outputs": [
    {
     "name": "stdout",
     "output_type": "stream",
     "text": [
      "1\n",
      "2\n"
     ]
    }
   ],
   "source": [
    "#break\n",
    "l=[1,2,3,4,5]\n",
    "for i in l:\n",
    "    if i==3:\n",
    "        break\n",
    "    print(i)"
   ]
  },
  {
   "cell_type": "code",
   "execution_count": 3,
   "id": "d1b7c117",
   "metadata": {},
   "outputs": [
    {
     "name": "stdout",
     "output_type": "stream",
     "text": [
      "1\n",
      "2\n",
      "4\n",
      "5\n"
     ]
    }
   ],
   "source": [
    "#continue\n",
    "l=[1,2,3,4,5]\n",
    "for i in l:\n",
    "    if i==3:\n",
    "        continue\n",
    "    print(i)"
   ]
  },
  {
   "cell_type": "markdown",
   "id": "2862b2aa",
   "metadata": {},
   "source": [
    "# Python Functions\n",
    "- User-Defined Functions\n",
    "- Lambda Function\n",
    "- Recursive Function ( will be seen at last)"
   ]
  },
  {
   "cell_type": "markdown",
   "id": "df0a0f27",
   "metadata": {},
   "source": [
    "## User-Defined Functions\n",
    "- A function that a user defines in a program is known as user defined function\n",
    "- A user can give any name to a user-defined function. However a function name should not have space or special character\n",
    "- You cannot use the Python keywords as function name\n",
    "- The def keyword - In python, a user-defined function is created using the def keyword, followed by the function name."
   ]
  },
  {
   "cell_type": "code",
   "execution_count": 22,
   "id": "5fbe2eeb",
   "metadata": {},
   "outputs": [],
   "source": [
    "#define a fucntion called greeting without arguements\n",
    "def greetings():\n",
    "    print(\"Hello, have a wonderful day\")"
   ]
  },
  {
   "cell_type": "code",
   "execution_count": 24,
   "id": "e23251af",
   "metadata": {},
   "outputs": [
    {
     "name": "stdout",
     "output_type": "stream",
     "text": [
      "Hello, have a wonderful day\n"
     ]
    }
   ],
   "source": [
    "greetings()"
   ]
  },
  {
   "cell_type": "code",
   "execution_count": 29,
   "id": "8f93b10f",
   "metadata": {},
   "outputs": [
    {
     "ename": "TypeError",
     "evalue": "greetings() takes 0 positional arguments but 1 was given",
     "output_type": "error",
     "traceback": [
      "\u001b[1;31m---------------------------------------------------------------------------\u001b[0m",
      "\u001b[1;31mTypeError\u001b[0m                                 Traceback (most recent call last)",
      "\u001b[1;32m~\\AppData\\Local\\Temp/ipykernel_12020/1655449806.py\u001b[0m in \u001b[0;36m<module>\u001b[1;34m\u001b[0m\n\u001b[0;32m      1\u001b[0m \u001b[1;31m#call the fucntion\u001b[0m\u001b[1;33m\u001b[0m\u001b[1;33m\u001b[0m\u001b[0m\n\u001b[1;32m----> 2\u001b[1;33m \u001b[0mgreetings\u001b[0m\u001b[1;33m(\u001b[0m\u001b[1;34m\"elon\"\u001b[0m\u001b[1;33m)\u001b[0m\u001b[1;33m\u001b[0m\u001b[1;33m\u001b[0m\u001b[0m\n\u001b[0m",
      "\u001b[1;31mTypeError\u001b[0m: greetings() takes 0 positional arguments but 1 was given"
     ]
    }
   ],
   "source": [
    "#call the fucntion\n",
    "greetings(\"elon\")"
   ]
  },
  {
   "cell_type": "code",
   "execution_count": 25,
   "id": "81a80856",
   "metadata": {},
   "outputs": [],
   "source": [
    "#define a fucntion with arguments\n",
    "def hello(name):\n",
    "    print(\"Hello\",name,\"have a wonderful day\")"
   ]
  },
  {
   "cell_type": "code",
   "execution_count": 27,
   "id": "6eee151d",
   "metadata": {},
   "outputs": [
    {
     "name": "stdout",
     "output_type": "stream",
     "text": [
      "Hello Elon have a wonderful day\n"
     ]
    }
   ],
   "source": [
    "#call with arguements\n",
    "hello(\"Elon\")"
   ]
  },
  {
   "cell_type": "code",
   "execution_count": 28,
   "id": "64c37a2c",
   "metadata": {},
   "outputs": [
    {
     "ename": "TypeError",
     "evalue": "hello() missing 1 required positional argument: 'name'",
     "output_type": "error",
     "traceback": [
      "\u001b[1;31m---------------------------------------------------------------------------\u001b[0m",
      "\u001b[1;31mTypeError\u001b[0m                                 Traceback (most recent call last)",
      "\u001b[1;32m~\\AppData\\Local\\Temp/ipykernel_12020/287548519.py\u001b[0m in \u001b[0;36m<module>\u001b[1;34m\u001b[0m\n\u001b[0;32m      1\u001b[0m \u001b[1;31m#call without arguements\u001b[0m\u001b[1;33m\u001b[0m\u001b[1;33m\u001b[0m\u001b[0m\n\u001b[1;32m----> 2\u001b[1;33m \u001b[0mhello\u001b[0m\u001b[1;33m(\u001b[0m\u001b[1;33m)\u001b[0m\u001b[1;33m\u001b[0m\u001b[1;33m\u001b[0m\u001b[0m\n\u001b[0m",
      "\u001b[1;31mTypeError\u001b[0m: hello() missing 1 required positional argument: 'name'"
     ]
    }
   ],
   "source": [
    "#call without arguements\n",
    "hello()"
   ]
  },
  {
   "cell_type": "code",
   "execution_count": 30,
   "id": "6fc92926",
   "metadata": {
    "scrolled": true
   },
   "outputs": [],
   "source": [
    "#using return\n",
    "#product of 2 numbers\n",
    "def prod(x,y):\n",
    "    return x*y"
   ]
  },
  {
   "cell_type": "code",
   "execution_count": 35,
   "id": "d78ad93b",
   "metadata": {},
   "outputs": [
    {
     "name": "stdout",
     "output_type": "stream",
     "text": [
      "Hello elon have a wonderful day\n"
     ]
    }
   ],
   "source": [
    "hello(\"elon\")"
   ]
  },
  {
   "cell_type": "code",
   "execution_count": 37,
   "id": "c04a3ea1",
   "metadata": {},
   "outputs": [],
   "source": [
    "#define a fucntion with arguments\n",
    "def hellor(name):\n",
    "    return \"Hello\",name,\"have a wonderful day\""
   ]
  },
  {
   "cell_type": "code",
   "execution_count": 38,
   "id": "7a614cd9",
   "metadata": {},
   "outputs": [
    {
     "data": {
      "text/plain": [
       "('Hello', 'elon', 'have a wonderful day')"
      ]
     },
     "execution_count": 38,
     "metadata": {},
     "output_type": "execute_result"
    }
   ],
   "source": [
    "hellor(\"elon\")"
   ]
  },
  {
   "cell_type": "code",
   "execution_count": 31,
   "id": "dd917608",
   "metadata": {},
   "outputs": [
    {
     "data": {
      "text/plain": [
       "20"
      ]
     },
     "execution_count": 31,
     "metadata": {},
     "output_type": "execute_result"
    }
   ],
   "source": [
    "prod(4,5)"
   ]
  },
  {
   "cell_type": "code",
   "execution_count": 32,
   "id": "19c707f7",
   "metadata": {},
   "outputs": [],
   "source": [
    "def prodp(x,y):\n",
    "    print(x*y)"
   ]
  },
  {
   "cell_type": "code",
   "execution_count": 33,
   "id": "ec3e22de",
   "metadata": {},
   "outputs": [
    {
     "name": "stdout",
     "output_type": "stream",
     "text": [
      "25\n"
     ]
    }
   ],
   "source": [
    "prodp(5,5)"
   ]
  },
  {
   "cell_type": "markdown",
   "id": "99bba911",
   "metadata": {},
   "source": [
    "#### A function without any return value\n",
    "- We use the return keyword in the function but we do not mention what to return.\n",
    "- Hence the function returns no value"
   ]
  },
  {
   "cell_type": "markdown",
   "id": "27ae4bf4",
   "metadata": {},
   "source": [
    "#### when to use colon\n",
    "conditional statements:\n",
    "- if\n",
    "- elif\n",
    "- else\n",
    "\n",
    "### User defined fucntuon\n",
    "- def\n",
    "\n",
    "#### loops\n",
    "- for\n",
    "- while"
   ]
  },
  {
   "cell_type": "code",
   "execution_count": 41,
   "id": "1ec201ee",
   "metadata": {},
   "outputs": [],
   "source": [
    "def prod1(x,y):\n",
    "    mul=x*y\n",
    "    return ()"
   ]
  },
  {
   "cell_type": "code",
   "execution_count": 42,
   "id": "a8251888",
   "metadata": {},
   "outputs": [
    {
     "data": {
      "text/plain": [
       "()"
      ]
     },
     "execution_count": 42,
     "metadata": {},
     "output_type": "execute_result"
    }
   ],
   "source": [
    "prod1(2,2)\n",
    "#it returns no value"
   ]
  },
  {
   "cell_type": "code",
   "execution_count": 45,
   "id": "03304c30",
   "metadata": {},
   "outputs": [],
   "source": [
    "def prod1(x,y):\n",
    "    mul=x*y\n",
    "    return mul"
   ]
  },
  {
   "cell_type": "code",
   "execution_count": 46,
   "id": "8ec6b03e",
   "metadata": {},
   "outputs": [
    {
     "data": {
      "text/plain": [
       "4"
      ]
     },
     "execution_count": 46,
     "metadata": {},
     "output_type": "execute_result"
    }
   ],
   "source": [
    "prod1(2,2)\n"
   ]
  },
  {
   "cell_type": "markdown",
   "id": "63f40d7c",
   "metadata": {},
   "source": [
    "#### points to remember\n",
    "- keyword def\n",
    "- brackets for print\n",
    "- no print required for return\n",
    "- if the output is in string, it is preferred to use print\n",
    "- print can also be used for outputs with integers"
   ]
  },
  {
   "cell_type": "markdown",
   "id": "b7cbb79d",
   "metadata": {},
   "source": [
    "#### A function without return keyword\n",
    "- When We don't use the return keyword in the function, it will just execute the statements inside that function"
   ]
  },
  {
   "cell_type": "code",
   "execution_count": 43,
   "id": "1e8b03d1",
   "metadata": {},
   "outputs": [],
   "source": [
    "def prod2(x,y):\n",
    "    mul=x*y\n",
    "    print(mul)"
   ]
  },
  {
   "cell_type": "code",
   "execution_count": 44,
   "id": "86d29a66",
   "metadata": {},
   "outputs": [
    {
     "name": "stdout",
     "output_type": "stream",
     "text": [
      "4\n"
     ]
    }
   ],
   "source": [
    "prod2(2,2)"
   ]
  },
  {
   "cell_type": "markdown",
   "id": "5dd4cc49",
   "metadata": {},
   "source": [
    "### Lambda Function\n",
    "- The lambda is a keyword\n",
    "- It is a simple one-line function\n",
    "- No def or return keyword to be used with a lambda function"
   ]
  },
  {
   "attachments": {
    "lambda.png": {
     "image/png": "[encoded data removed]"
    }
   },
   "cell_type": "markdown",
   "id": "aea8e0cc",
   "metadata": {},
   "source": [
    "![lambda.png](attachment:lambda.png)"
   ]
  },
  {
   "attachments": {
    "lambda.JPG": {
     "image/jpeg": "[encoded data removed]"
    }
   },
   "cell_type": "markdown",
   "id": "063941a4",
   "metadata": {},
   "source": [
    "![lambda.JPG](attachment:lambda.JPG)"
   ]
  },
  {
   "cell_type": "code",
   "execution_count": 47,
   "id": "d9733504",
   "metadata": {},
   "outputs": [],
   "source": [
    "#normal code vs lambda fucntion\n",
    "def func(x,y):\n",
    "    if x>y:\n",
    "        return x\n",
    "    else:\n",
    "        return y\n"
   ]
  },
  {
   "cell_type": "code",
   "execution_count": 48,
   "id": "595e2724",
   "metadata": {},
   "outputs": [
    {
     "data": {
      "text/plain": [
       "5"
      ]
     },
     "execution_count": 48,
     "metadata": {},
     "output_type": "execute_result"
    }
   ],
   "source": [
    "func(3,5)"
   ]
  },
  {
   "cell_type": "code",
   "execution_count": 49,
   "id": "5d573bc6",
   "metadata": {},
   "outputs": [],
   "source": [
    "#lambda code\n",
    "func1=lambda x,y :x if x>y else y"
   ]
  },
  {
   "cell_type": "code",
   "execution_count": 50,
   "id": "f82a460c",
   "metadata": {
    "scrolled": true
   },
   "outputs": [
    {
     "data": {
      "text/plain": [
       "5"
      ]
     },
     "execution_count": 50,
     "metadata": {},
     "output_type": "execute_result"
    }
   ],
   "source": [
    "func1(3,5)"
   ]
  },
  {
   "cell_type": "code",
   "execution_count": 55,
   "id": "a2751446",
   "metadata": {},
   "outputs": [
    {
     "data": {
      "text/plain": [
       "3"
      ]
     },
     "execution_count": 55,
     "metadata": {},
     "output_type": "execute_result"
    }
   ],
   "source": [
    "func1(3,3)"
   ]
  },
  {
   "cell_type": "code",
   "execution_count": 56,
   "id": "367d102a",
   "metadata": {},
   "outputs": [],
   "source": [
    "func2=lambda x,y : x if x>=y else y"
   ]
  },
  {
   "cell_type": "code",
   "execution_count": 57,
   "id": "f93af26f",
   "metadata": {},
   "outputs": [
    {
     "data": {
      "text/plain": [
       "2"
      ]
     },
     "execution_count": 57,
     "metadata": {},
     "output_type": "execute_result"
    }
   ],
   "source": [
    "func2(2,2)"
   ]
  },
  {
   "cell_type": "code",
   "execution_count": 53,
   "id": "436fa5f0",
   "metadata": {},
   "outputs": [],
   "source": [
    "#lambda code\n",
    "func_1=lambda x,y :z if z>y else z"
   ]
  },
  {
   "cell_type": "code",
   "execution_count": 54,
   "id": "a2f571e5",
   "metadata": {},
   "outputs": [
    {
     "ename": "NameError",
     "evalue": "name 'z' is not defined",
     "output_type": "error",
     "traceback": [
      "\u001b[1;31m---------------------------------------------------------------------------\u001b[0m",
      "\u001b[1;31mNameError\u001b[0m                                 Traceback (most recent call last)",
      "\u001b[1;32m~\\AppData\\Local\\Temp/ipykernel_12020/2771541604.py\u001b[0m in \u001b[0;36m<module>\u001b[1;34m\u001b[0m\n\u001b[1;32m----> 1\u001b[1;33m \u001b[0mfunc_1\u001b[0m\u001b[1;33m(\u001b[0m\u001b[1;36m1\u001b[0m\u001b[1;33m,\u001b[0m\u001b[1;36m2\u001b[0m\u001b[1;33m)\u001b[0m\u001b[1;33m\u001b[0m\u001b[1;33m\u001b[0m\u001b[0m\n\u001b[0m",
      "\u001b[1;32m~\\AppData\\Local\\Temp/ipykernel_12020/2567768675.py\u001b[0m in \u001b[0;36m<lambda>\u001b[1;34m(x, y)\u001b[0m\n\u001b[0;32m      1\u001b[0m \u001b[1;31m#lambda code\u001b[0m\u001b[1;33m\u001b[0m\u001b[1;33m\u001b[0m\u001b[0m\n\u001b[1;32m----> 2\u001b[1;33m \u001b[0mfunc_1\u001b[0m\u001b[1;33m=\u001b[0m\u001b[1;32mlambda\u001b[0m \u001b[0mx\u001b[0m\u001b[1;33m,\u001b[0m\u001b[0my\u001b[0m \u001b[1;33m:\u001b[0m\u001b[0mz\u001b[0m \u001b[1;32mif\u001b[0m \u001b[0mz\u001b[0m\u001b[1;33m>\u001b[0m\u001b[0my\u001b[0m \u001b[1;32melse\u001b[0m \u001b[0mz\u001b[0m\u001b[1;33m\u001b[0m\u001b[1;33m\u001b[0m\u001b[0m\n\u001b[0m",
      "\u001b[1;31mNameError\u001b[0m: name 'z' is not defined"
     ]
    }
   ],
   "source": [
    "func_1(1,2)"
   ]
  },
  {
   "cell_type": "markdown",
   "id": "7ac25ca3",
   "metadata": {},
   "source": [
    "#### The lambda() with map()\n",
    "- map() functions expect a function_object, in our case a lambda function,and a sequence (iterables, such as list, dictionary, etc.)\n",
    "- map comes under list"
   ]
  },
  {
   "cell_type": "code",
   "execution_count": 60,
   "id": "9df2ac8b",
   "metadata": {},
   "outputs": [
    {
     "data": {
      "text/plain": [
       "[2, 4, 6, 8]"
      ]
     },
     "execution_count": 60,
     "metadata": {},
     "output_type": "execute_result"
    }
   ],
   "source": [
    "list1=[1,2,3,4]\n",
    "list(map(lambda i:i*2,list1))\n",
    "#map takes 2 arguments - one function and the sequence"
   ]
  },
  {
   "cell_type": "code",
   "execution_count": 5,
   "id": "a56cc95c",
   "metadata": {},
   "outputs": [
    {
     "data": {
      "text/plain": [
       "[[4, 4, 4, 4, 4, 4], [5, 5, 5, 5, 5, 5], [6, 6, 6, 6, 6, 6]]"
      ]
     },
     "execution_count": 5,
     "metadata": {},
     "output_type": "execute_result"
    }
   ],
   "source": [
    "#for multiple sequence\n",
    "l1=[4,4,4]\n",
    "l2=[5,5,5]\n",
    "l3=[6,6,6]\n",
    "list(map(lambda i:i*2,(l1,l2,l3)))"
   ]
  },
  {
   "cell_type": "markdown",
   "id": "052d6795",
   "metadata": {},
   "source": [
    "### The lambda() with filter()\n",
    "- The filter() function expects two arguments: function_object(lambda) and an iterable.\n",
    "- It returns only those elements for which the function_object returns true.\n",
    "- Unlike map(), the filter() function can only have one iterable as input"
   ]
  },
  {
   "cell_type": "code",
   "execution_count": 62,
   "id": "93223b25",
   "metadata": {},
   "outputs": [
    {
     "name": "stdout",
     "output_type": "stream",
     "text": [
      "[True, False, False, True, False, False, True, False, False, True, False, False, True, False, False]\n"
     ]
    }
   ],
   "source": [
    "l=list(range(15))\n",
    "print(list(map(lambda i:i%3==0,l)))"
   ]
  },
  {
   "cell_type": "code",
   "execution_count": 63,
   "id": "6af5f460",
   "metadata": {},
   "outputs": [
    {
     "data": {
      "text/plain": [
       "[0, 3, 6, 9, 12]"
      ]
     },
     "execution_count": 63,
     "metadata": {},
     "output_type": "execute_result"
    }
   ],
   "source": [
    "l=list(range(15))\n",
    "list(filter(lambda i:i%3==0,l))"
   ]
  },
  {
   "cell_type": "code",
   "execution_count": 68,
   "id": "18315869",
   "metadata": {},
   "outputs": [
    {
     "name": "stdout",
     "output_type": "stream",
     "text": [
      "0\n",
      "1\n",
      "2\n",
      "3\n",
      "4\n",
      "5\n",
      "6\n",
      "7\n",
      "8\n",
      "9\n",
      "10\n",
      "11\n",
      "12\n",
      "13\n",
      "14\n"
     ]
    }
   ],
   "source": [
    "a=range(15)\n",
    "for i in a:\n",
    "    print(i)"
   ]
  },
  {
   "cell_type": "markdown",
   "id": "918e4e13",
   "metadata": {},
   "source": [
    "#### The lambda() with reduce()\n",
    "- The reduce() function in Python takes in a function and a sequence as argument.\n",
    "- This performs a repetitive operation over the pairs of the sequence object.\n",
    "- from functools import reduce"
   ]
  },
  {
   "cell_type": "code",
   "execution_count": 72,
   "id": "48a18c10",
   "metadata": {},
   "outputs": [],
   "source": [
    "from functools import reduce"
   ]
  },
  {
   "cell_type": "code",
   "execution_count": 73,
   "id": "e9a8678a",
   "metadata": {},
   "outputs": [
    {
     "data": {
      "text/plain": [
       "[0, 1, 2, 3, 4, 5, 6, 7, 8, 9, 10, 11, 12, 13, 14]"
      ]
     },
     "execution_count": 73,
     "metadata": {},
     "output_type": "execute_result"
    }
   ],
   "source": [
    "l"
   ]
  },
  {
   "cell_type": "code",
   "execution_count": 74,
   "id": "ba3d89e8",
   "metadata": {},
   "outputs": [
    {
     "data": {
      "text/plain": [
       "105"
      ]
     },
     "execution_count": 74,
     "metadata": {},
     "output_type": "execute_result"
    }
   ],
   "source": [
    "reduce(lambda i,j:i+j,l)"
   ]
  },
  {
   "cell_type": "markdown",
   "id": "e5cedcb1",
   "metadata": {},
   "source": [
    "#### The lambda() with accumulate()\n",
    "- The accumulate() function in Python takes in a function and a sequence object as an argument.\n",
    "- Unlike reduce(), it returns a sequence containing the intermediate results\n",
    "- from itertools import accumulate"
   ]
  },
  {
   "cell_type": "code",
   "execution_count": 77,
   "id": "368a8407",
   "metadata": {},
   "outputs": [
    {
     "data": {
      "text/plain": [
       "[0, 1, 3, 6, 10, 15, 21, 28, 36, 45, 55, 66, 78, 91, 105]"
      ]
     },
     "execution_count": 77,
     "metadata": {},
     "output_type": "execute_result"
    }
   ],
   "source": [
    "from itertools import accumulate\n",
    "#first iterable\n",
    "list(accumulate(l,lambda i,j:i+j))"
   ]
  },
  {
   "attachments": {
    "reduce.JPG": {
     "image/jpeg": "[encoded data removed]"
    }
   },
   "cell_type": "markdown",
   "id": "0291b1c9",
   "metadata": {},
   "source": [
    "![reduce.JPG](attachment:reduce.JPG)"
   ]
  },
  {
   "cell_type": "code",
   "execution_count": null,
   "id": "293210c9",
   "metadata": {},
   "outputs": [],
   "source": [
    "#factorial"
   ]
  },
  {
   "cell_type": "code",
   "execution_count": 4,
   "id": "e4edfbd5",
   "metadata": {},
   "outputs": [
    {
     "name": "stdout",
     "output_type": "stream",
     "text": [
      "6\n",
      "the factorial of 6 is 720\n"
     ]
    }
   ],
   "source": [
    "num=int(input())\n",
    "fact=1\n",
    "if num==1:\n",
    "    print(\"The factorial of\",num,\"is\",1)\n",
    "elif num==0:\n",
    "    print(\"the factorial of\",num,\"is\",0)\n",
    "elif num<1:\n",
    "    print(\"print a positive number\")\n",
    "else:\n",
    "    for i in range(1,num+1):\n",
    "        fact=fact*i\n",
    "    print('the factorial of',num,\"is\",fact)\n",
    "#take home"
   ]
  },
  {
   "cell_type": "code",
   "execution_count": null,
   "id": "3eeda143",
   "metadata": {},
   "outputs": [],
   "source": []
  }
 ],
 "metadata": {
  "kernelspec": {
   "display_name": "Python 3 (ipykernel)",
   "language": "python",
   "name": "python3"
  },
  "language_info": {
   "codemirror_mode": {
    "name": "ipython",
    "version": 3
   },
   "file_extension": ".py",
   "mimetype": "text/x-python",
   "name": "python",
   "nbconvert_exporter": "python",
   "pygments_lexer": "ipython3",
   "version": "3.9.7"
  }
 },
 "nbformat": 4,
 "nbformat_minor": 5
}
