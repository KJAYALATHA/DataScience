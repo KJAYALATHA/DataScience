{
 "cells": [
  {
   "cell_type": "markdown",
   "id": "53b4495b",
   "metadata": {},
   "source": [
    "### Exploratory Data Analysis (EDA)\n",
    "- EDA is a process of analyzing the datasets to summarize their main features using\n",
    "numerical and visual methods"
   ]
  },
  {
   "cell_type": "code",
   "execution_count": 2,
   "id": "fe6047ba",
   "metadata": {},
   "outputs": [],
   "source": [
    "import numpy as np\n",
    "import pandas as pd\n",
    "import warnings\n",
    "warnings.filterwarnings(\"ignore\")\n",
    "import matplotlib.pyplot as plt\n",
    "import seaborn as sns"
   ]
  },
  {
   "cell_type": "code",
   "execution_count": 2,
   "id": "98bc529d",
   "metadata": {},
   "outputs": [
    {
     "data": {
      "text/plain": [
       "['anagrams',\n",
       " 'anscombe',\n",
       " 'attention',\n",
       " 'brain_networks',\n",
       " 'car_crashes',\n",
       " 'diamonds',\n",
       " 'dots',\n",
       " 'dowjones',\n",
       " 'exercise',\n",
       " 'flights',\n",
       " 'fmri',\n",
       " 'geyser',\n",
       " 'glue',\n",
       " 'healthexp',\n",
       " 'iris',\n",
       " 'mpg',\n",
       " 'penguins',\n",
       " 'planets',\n",
       " 'seaice',\n",
       " 'taxis',\n",
       " 'tips',\n",
       " 'titanic']"
      ]
     },
     "execution_count": 2,
     "metadata": {},
     "output_type": "execute_result"
    }
   ],
   "source": [
    "sns.get_dataset_names()"
   ]
  },
  {
   "cell_type": "markdown",
   "id": "530d196a",
   "metadata": {
    "id": "jhvoZcJwlLNC"
   },
   "source": [
    "We shall use the `k-circlemartsales` dataset. The data description is as follows:\n",
    "\n",
    "**Item_Identifier:** Unique product ID assigned to every distinct item\n",
    "\n",
    "**Item_Weight:** Weight of the product\n",
    "\n",
    "**Item_Fat_Content:** Describes whether the product is low in fat or not\n",
    "\n",
    "**Item_Visibility:** Total display area allocated to the particular product (in %)\n",
    "\n",
    "**Item_Type:** Describes the food category to which the item belongs\n",
    "\n",
    "**Item_MRP:** Maximum Retail Price (list price) of the product\n",
    "\n",
    "**Outlet_Identifier:** Unique store ID assigned. It consists of an alphanumeric string of length 6\n",
    "\n",
    "**Outlet_Establishment_Year:** The establishment year of the store\n",
    "\n",
    "**Outlet_Size:** Size of the store in terms of ground area covered\n",
    "\n",
    "**Outlet_Location_Type:** Size of the city in which the store is located\n",
    "\n",
    "**Outlet_Type:** Is the outlet just a grocery store or a supermarket\n",
    "\n",
    "**Profit:** Profit of the item sold (in %)\n",
    "\n",
    "**Item_Outlet_Sales**: Sales of the product (target variable)"
   ]
  },
  {
   "cell_type": "code",
   "execution_count": 3,
   "id": "c9ea36ae",
   "metadata": {
    "scrolled": true
   },
   "outputs": [
    {
     "data": {
      "text/html": [
       "<div>\n",
       "<style scoped>\n",
       "    .dataframe tbody tr th:only-of-type {\n",
       "        vertical-align: middle;\n",
       "    }\n",
       "\n",
       "    .dataframe tbody tr th {\n",
       "        vertical-align: top;\n",
       "    }\n",
       "\n",
       "    .dataframe thead th {\n",
       "        text-align: right;\n",
       "    }\n",
       "</style>\n",
       "<table border=\"1\" class=\"dataframe\">\n",
       "  <thead>\n",
       "    <tr style=\"text-align: right;\">\n",
       "      <th></th>\n",
       "      <th>survived</th>\n",
       "      <th>pclass</th>\n",
       "      <th>sex</th>\n",
       "      <th>age</th>\n",
       "      <th>sibsp</th>\n",
       "      <th>parch</th>\n",
       "      <th>fare</th>\n",
       "      <th>embarked</th>\n",
       "      <th>class</th>\n",
       "      <th>who</th>\n",
       "      <th>adult_male</th>\n",
       "      <th>deck</th>\n",
       "      <th>embark_town</th>\n",
       "      <th>alive</th>\n",
       "      <th>alone</th>\n",
       "    </tr>\n",
       "  </thead>\n",
       "  <tbody>\n",
       "    <tr>\n",
       "      <th>0</th>\n",
       "      <td>0</td>\n",
       "      <td>3</td>\n",
       "      <td>male</td>\n",
       "      <td>22.0</td>\n",
       "      <td>1</td>\n",
       "      <td>0</td>\n",
       "      <td>7.2500</td>\n",
       "      <td>S</td>\n",
       "      <td>Third</td>\n",
       "      <td>man</td>\n",
       "      <td>True</td>\n",
       "      <td>NaN</td>\n",
       "      <td>Southampton</td>\n",
       "      <td>no</td>\n",
       "      <td>False</td>\n",
       "    </tr>\n",
       "    <tr>\n",
       "      <th>1</th>\n",
       "      <td>1</td>\n",
       "      <td>1</td>\n",
       "      <td>female</td>\n",
       "      <td>38.0</td>\n",
       "      <td>1</td>\n",
       "      <td>0</td>\n",
       "      <td>71.2833</td>\n",
       "      <td>C</td>\n",
       "      <td>First</td>\n",
       "      <td>woman</td>\n",
       "      <td>False</td>\n",
       "      <td>C</td>\n",
       "      <td>Cherbourg</td>\n",
       "      <td>yes</td>\n",
       "      <td>False</td>\n",
       "    </tr>\n",
       "    <tr>\n",
       "      <th>2</th>\n",
       "      <td>1</td>\n",
       "      <td>3</td>\n",
       "      <td>female</td>\n",
       "      <td>26.0</td>\n",
       "      <td>0</td>\n",
       "      <td>0</td>\n",
       "      <td>7.9250</td>\n",
       "      <td>S</td>\n",
       "      <td>Third</td>\n",
       "      <td>woman</td>\n",
       "      <td>False</td>\n",
       "      <td>NaN</td>\n",
       "      <td>Southampton</td>\n",
       "      <td>yes</td>\n",
       "      <td>True</td>\n",
       "    </tr>\n",
       "    <tr>\n",
       "      <th>3</th>\n",
       "      <td>1</td>\n",
       "      <td>1</td>\n",
       "      <td>female</td>\n",
       "      <td>35.0</td>\n",
       "      <td>1</td>\n",
       "      <td>0</td>\n",
       "      <td>53.1000</td>\n",
       "      <td>S</td>\n",
       "      <td>First</td>\n",
       "      <td>woman</td>\n",
       "      <td>False</td>\n",
       "      <td>C</td>\n",
       "      <td>Southampton</td>\n",
       "      <td>yes</td>\n",
       "      <td>False</td>\n",
       "    </tr>\n",
       "    <tr>\n",
       "      <th>4</th>\n",
       "      <td>0</td>\n",
       "      <td>3</td>\n",
       "      <td>male</td>\n",
       "      <td>35.0</td>\n",
       "      <td>0</td>\n",
       "      <td>0</td>\n",
       "      <td>8.0500</td>\n",
       "      <td>S</td>\n",
       "      <td>Third</td>\n",
       "      <td>man</td>\n",
       "      <td>True</td>\n",
       "      <td>NaN</td>\n",
       "      <td>Southampton</td>\n",
       "      <td>no</td>\n",
       "      <td>True</td>\n",
       "    </tr>\n",
       "  </tbody>\n",
       "</table>\n",
       "</div>"
      ],
      "text/plain": [
       "   survived  pclass     sex   age  sibsp  parch     fare embarked  class  \\\n",
       "0         0       3    male  22.0      1      0   7.2500        S  Third   \n",
       "1         1       1  female  38.0      1      0  71.2833        C  First   \n",
       "2         1       3  female  26.0      0      0   7.9250        S  Third   \n",
       "3         1       1  female  35.0      1      0  53.1000        S  First   \n",
       "4         0       3    male  35.0      0      0   8.0500        S  Third   \n",
       "\n",
       "     who  adult_male deck  embark_town alive  alone  \n",
       "0    man        True  NaN  Southampton    no  False  \n",
       "1  woman       False    C    Cherbourg   yes  False  \n",
       "2  woman       False  NaN  Southampton   yes   True  \n",
       "3  woman       False    C  Southampton   yes  False  \n",
       "4    man        True  NaN  Southampton    no   True  "
      ]
     },
     "execution_count": 3,
     "metadata": {},
     "output_type": "execute_result"
    }
   ],
   "source": [
    "sns.load_dataset(\"titanic\").head()"
   ]
  },
  {
   "cell_type": "markdown",
   "id": "cb0bef25",
   "metadata": {},
   "source": [
    "# Missing Value Treatment"
   ]
  },
  {
   "cell_type": "code",
   "execution_count": 4,
   "id": "91f83bb5",
   "metadata": {},
   "outputs": [
    {
     "data": {
      "text/html": [
       "<div>\n",
       "<style scoped>\n",
       "    .dataframe tbody tr th:only-of-type {\n",
       "        vertical-align: middle;\n",
       "    }\n",
       "\n",
       "    .dataframe tbody tr th {\n",
       "        vertical-align: top;\n",
       "    }\n",
       "\n",
       "    .dataframe thead th {\n",
       "        text-align: right;\n",
       "    }\n",
       "</style>\n",
       "<table border=\"1\" class=\"dataframe\">\n",
       "  <thead>\n",
       "    <tr style=\"text-align: right;\">\n",
       "      <th></th>\n",
       "      <th>Unnamed: 0</th>\n",
       "      <th>Item_Identifier</th>\n",
       "      <th>Item_Weight</th>\n",
       "      <th>Item_Fat_Content</th>\n",
       "      <th>Item_Visibility</th>\n",
       "      <th>Item_Type</th>\n",
       "      <th>Item_MRP</th>\n",
       "      <th>Outlet_Identifier</th>\n",
       "      <th>Outlet_Establishment_Year</th>\n",
       "      <th>Outlet_Size</th>\n",
       "      <th>Outlet_Location_Type</th>\n",
       "      <th>Outlet_Type</th>\n",
       "      <th>Item_Outlet_Sales</th>\n",
       "      <th>Profit</th>\n",
       "    </tr>\n",
       "  </thead>\n",
       "  <tbody>\n",
       "    <tr>\n",
       "      <th>0</th>\n",
       "      <td>0</td>\n",
       "      <td>FDA15</td>\n",
       "      <td>9.30</td>\n",
       "      <td>Low Fat</td>\n",
       "      <td>0.016047</td>\n",
       "      <td>Dairy</td>\n",
       "      <td>249.8</td>\n",
       "      <td>OUT049</td>\n",
       "      <td>1999</td>\n",
       "      <td>Medium</td>\n",
       "      <td>Tier 2</td>\n",
       "      <td>Supermarket Type1</td>\n",
       "      <td>3735.1380</td>\n",
       "      <td>11.5</td>\n",
       "    </tr>\n",
       "    <tr>\n",
       "      <th>1</th>\n",
       "      <td>1</td>\n",
       "      <td>DRC01</td>\n",
       "      <td>5.92</td>\n",
       "      <td>Regular</td>\n",
       "      <td>0.019278</td>\n",
       "      <td>Soft Drinks</td>\n",
       "      <td>48.3</td>\n",
       "      <td>OUT018</td>\n",
       "      <td>2009</td>\n",
       "      <td>Medium</td>\n",
       "      <td>Tier 2</td>\n",
       "      <td>Supermarket Type2</td>\n",
       "      <td>443.4228</td>\n",
       "      <td>14.3</td>\n",
       "    </tr>\n",
       "    <tr>\n",
       "      <th>2</th>\n",
       "      <td>2</td>\n",
       "      <td>FDN15</td>\n",
       "      <td>17.50</td>\n",
       "      <td>Low Fat</td>\n",
       "      <td>0.016760</td>\n",
       "      <td>Meat</td>\n",
       "      <td>141.6</td>\n",
       "      <td>OUT049</td>\n",
       "      <td>1999</td>\n",
       "      <td>Medium</td>\n",
       "      <td>Tier 2</td>\n",
       "      <td>Supermarket Type1</td>\n",
       "      <td>2097.2700</td>\n",
       "      <td>14.5</td>\n",
       "    </tr>\n",
       "    <tr>\n",
       "      <th>3</th>\n",
       "      <td>3</td>\n",
       "      <td>FDX07</td>\n",
       "      <td>19.20</td>\n",
       "      <td>Regular</td>\n",
       "      <td>0.000000</td>\n",
       "      <td>Fruits and Vegetables</td>\n",
       "      <td>182.1</td>\n",
       "      <td>OUT010</td>\n",
       "      <td>1998</td>\n",
       "      <td>NaN</td>\n",
       "      <td>NaN</td>\n",
       "      <td>Grocery Store</td>\n",
       "      <td>732.3800</td>\n",
       "      <td>13.6</td>\n",
       "    </tr>\n",
       "    <tr>\n",
       "      <th>4</th>\n",
       "      <td>4</td>\n",
       "      <td>NCD19</td>\n",
       "      <td>8.93</td>\n",
       "      <td>Low Fat</td>\n",
       "      <td>0.000000</td>\n",
       "      <td>Household</td>\n",
       "      <td>53.9</td>\n",
       "      <td>OUT013</td>\n",
       "      <td>1987</td>\n",
       "      <td>High</td>\n",
       "      <td>Tier 3</td>\n",
       "      <td>Supermarket Type1</td>\n",
       "      <td>994.7052</td>\n",
       "      <td>14.1</td>\n",
       "    </tr>\n",
       "  </tbody>\n",
       "</table>\n",
       "</div>"
      ],
      "text/plain": [
       "   Unnamed: 0 Item_Identifier  Item_Weight Item_Fat_Content  Item_Visibility  \\\n",
       "0           0           FDA15         9.30          Low Fat         0.016047   \n",
       "1           1           DRC01         5.92          Regular         0.019278   \n",
       "2           2           FDN15        17.50          Low Fat         0.016760   \n",
       "3           3           FDX07        19.20          Regular         0.000000   \n",
       "4           4           NCD19         8.93          Low Fat         0.000000   \n",
       "\n",
       "               Item_Type  Item_MRP Outlet_Identifier  \\\n",
       "0                  Dairy     249.8            OUT049   \n",
       "1            Soft Drinks      48.3            OUT018   \n",
       "2                   Meat     141.6            OUT049   \n",
       "3  Fruits and Vegetables     182.1            OUT010   \n",
       "4              Household      53.9            OUT013   \n",
       "\n",
       "   Outlet_Establishment_Year Outlet_Size Outlet_Location_Type  \\\n",
       "0                       1999      Medium               Tier 2   \n",
       "1                       2009      Medium               Tier 2   \n",
       "2                       1999      Medium               Tier 2   \n",
       "3                       1998         NaN                  NaN   \n",
       "4                       1987        High               Tier 3   \n",
       "\n",
       "         Outlet_Type  Item_Outlet_Sales  Profit  \n",
       "0  Supermarket Type1          3735.1380    11.5  \n",
       "1  Supermarket Type2           443.4228    14.3  \n",
       "2  Supermarket Type1          2097.2700    14.5  \n",
       "3      Grocery Store           732.3800    13.6  \n",
       "4  Supermarket Type1           994.7052    14.1  "
      ]
     },
     "execution_count": 4,
     "metadata": {},
     "output_type": "execute_result"
    }
   ],
   "source": [
    "# read the data\n",
    "df_sales = pd.read_csv(\"k-circlesales-cleaned.csv\")\n",
    "\n",
    "# check first five rows of data\n",
    "df_sales.head()"
   ]
  },
  {
   "cell_type": "code",
   "execution_count": 5,
   "id": "f615bfc5",
   "metadata": {},
   "outputs": [
    {
     "data": {
      "text/plain": [
       "(8523, 14)"
      ]
     },
     "execution_count": 5,
     "metadata": {},
     "output_type": "execute_result"
    }
   ],
   "source": [
    "df_sales.shape"
   ]
  },
  {
   "cell_type": "code",
   "execution_count": 6,
   "id": "565408da",
   "metadata": {
    "scrolled": true
   },
   "outputs": [
    {
     "data": {
      "text/plain": [
       "Unnamed: 0                      0\n",
       "Item_Identifier                 0\n",
       "Item_Weight                   749\n",
       "Item_Fat_Content                0\n",
       "Item_Visibility                 0\n",
       "Item_Type                       0\n",
       "Item_MRP                        0\n",
       "Outlet_Identifier               0\n",
       "Outlet_Establishment_Year       0\n",
       "Outlet_Size                  2410\n",
       "Outlet_Location_Type         2050\n",
       "Outlet_Type                     0\n",
       "Item_Outlet_Sales               0\n",
       "Profit                          0\n",
       "dtype: int64"
      ]
     },
     "execution_count": 6,
     "metadata": {},
     "output_type": "execute_result"
    }
   ],
   "source": [
    "df_sales.isnull().sum()"
   ]
  },
  {
   "cell_type": "code",
   "execution_count": 7,
   "id": "a2cbef7a",
   "metadata": {},
   "outputs": [
    {
     "data": {
      "text/plain": [
       "Unnamed: 0                    0.000000\n",
       "Item_Identifier               0.000000\n",
       "Item_Weight                   8.787985\n",
       "Item_Fat_Content              0.000000\n",
       "Item_Visibility               0.000000\n",
       "Item_Type                     0.000000\n",
       "Item_MRP                      0.000000\n",
       "Outlet_Identifier             0.000000\n",
       "Outlet_Establishment_Year     0.000000\n",
       "Outlet_Size                  28.276428\n",
       "Outlet_Location_Type         24.052564\n",
       "Outlet_Type                   0.000000\n",
       "Item_Outlet_Sales             0.000000\n",
       "Profit                        0.000000\n",
       "dtype: float64"
      ]
     },
     "execution_count": 7,
     "metadata": {},
     "output_type": "execute_result"
    }
   ],
   "source": [
    "#finding the percentage of null values in each column\n",
    "df_sales.isnull().sum()/len(df_sales)*100"
   ]
  },
  {
   "cell_type": "markdown",
   "id": "0c9cc2ee",
   "metadata": {
    "id": "NV-ezCNHlLNI"
   },
   "source": [
    "<a id=\"summary\"></a>\n",
    "## 1. Data Summary\n",
    "\n",
    "Let us first check the summary of the dataset"
   ]
  },
  {
   "cell_type": "code",
   "execution_count": 8,
   "id": "6d87e5c7",
   "metadata": {
    "scrolled": false
   },
   "outputs": [
    {
     "name": "stdout",
     "output_type": "stream",
     "text": [
      "<class 'pandas.core.frame.DataFrame'>\n",
      "RangeIndex: 8523 entries, 0 to 8522\n",
      "Data columns (total 14 columns):\n",
      " #   Column                     Non-Null Count  Dtype  \n",
      "---  ------                     --------------  -----  \n",
      " 0   Unnamed: 0                 8523 non-null   int64  \n",
      " 1   Item_Identifier            8523 non-null   object \n",
      " 2   Item_Weight                7774 non-null   float64\n",
      " 3   Item_Fat_Content           8523 non-null   object \n",
      " 4   Item_Visibility            8523 non-null   float64\n",
      " 5   Item_Type                  8523 non-null   object \n",
      " 6   Item_MRP                   8523 non-null   float64\n",
      " 7   Outlet_Identifier          8523 non-null   object \n",
      " 8   Outlet_Establishment_Year  8523 non-null   int64  \n",
      " 9   Outlet_Size                6113 non-null   object \n",
      " 10  Outlet_Location_Type       6473 non-null   object \n",
      " 11  Outlet_Type                8523 non-null   object \n",
      " 12  Item_Outlet_Sales          8523 non-null   float64\n",
      " 13  Profit                     8523 non-null   float64\n",
      "dtypes: float64(5), int64(2), object(7)\n",
      "memory usage: 932.3+ KB\n"
     ]
    }
   ],
   "source": [
    "# summary of all the variable in the dataset\n",
    "df_sales.info()"
   ]
  },
  {
   "cell_type": "markdown",
   "id": "93691830",
   "metadata": {
    "id": "EfY_3bhylLNO"
   },
   "source": [
    "**The statistical summary of numeric variables:**"
   ]
  },
  {
   "cell_type": "code",
   "execution_count": 9,
   "id": "24604fb9",
   "metadata": {
    "scrolled": true
   },
   "outputs": [
    {
     "data": {
      "text/html": [
       "<div>\n",
       "<style scoped>\n",
       "    .dataframe tbody tr th:only-of-type {\n",
       "        vertical-align: middle;\n",
       "    }\n",
       "\n",
       "    .dataframe tbody tr th {\n",
       "        vertical-align: top;\n",
       "    }\n",
       "\n",
       "    .dataframe thead th {\n",
       "        text-align: right;\n",
       "    }\n",
       "</style>\n",
       "<table border=\"1\" class=\"dataframe\">\n",
       "  <thead>\n",
       "    <tr style=\"text-align: right;\">\n",
       "      <th></th>\n",
       "      <th>Unnamed: 0</th>\n",
       "      <th>Item_Weight</th>\n",
       "      <th>Item_Visibility</th>\n",
       "      <th>Item_MRP</th>\n",
       "      <th>Outlet_Establishment_Year</th>\n",
       "      <th>Item_Outlet_Sales</th>\n",
       "      <th>Profit</th>\n",
       "    </tr>\n",
       "  </thead>\n",
       "  <tbody>\n",
       "    <tr>\n",
       "      <th>count</th>\n",
       "      <td>8523.000000</td>\n",
       "      <td>7774.000000</td>\n",
       "      <td>8523.000000</td>\n",
       "      <td>8523.000000</td>\n",
       "      <td>8523.000000</td>\n",
       "      <td>8523.000000</td>\n",
       "      <td>8523.000000</td>\n",
       "    </tr>\n",
       "    <tr>\n",
       "      <th>mean</th>\n",
       "      <td>4261.000000</td>\n",
       "      <td>11.676740</td>\n",
       "      <td>0.066132</td>\n",
       "      <td>140.998838</td>\n",
       "      <td>1997.831867</td>\n",
       "      <td>2181.288914</td>\n",
       "      <td>13.414514</td>\n",
       "    </tr>\n",
       "    <tr>\n",
       "      <th>std</th>\n",
       "      <td>2460.522505</td>\n",
       "      <td>5.776851</td>\n",
       "      <td>0.051598</td>\n",
       "      <td>62.258099</td>\n",
       "      <td>8.371760</td>\n",
       "      <td>1706.499616</td>\n",
       "      <td>1.701840</td>\n",
       "    </tr>\n",
       "    <tr>\n",
       "      <th>min</th>\n",
       "      <td>0.000000</td>\n",
       "      <td>0.000000</td>\n",
       "      <td>0.000000</td>\n",
       "      <td>31.300000</td>\n",
       "      <td>1985.000000</td>\n",
       "      <td>33.290000</td>\n",
       "      <td>0.100000</td>\n",
       "    </tr>\n",
       "    <tr>\n",
       "      <th>25%</th>\n",
       "      <td>2130.500000</td>\n",
       "      <td>7.720000</td>\n",
       "      <td>0.026989</td>\n",
       "      <td>93.800000</td>\n",
       "      <td>1987.000000</td>\n",
       "      <td>834.247400</td>\n",
       "      <td>13.150000</td>\n",
       "    </tr>\n",
       "    <tr>\n",
       "      <th>50%</th>\n",
       "      <td>4261.000000</td>\n",
       "      <td>11.800000</td>\n",
       "      <td>0.053931</td>\n",
       "      <td>142.700000</td>\n",
       "      <td>1999.000000</td>\n",
       "      <td>1794.331000</td>\n",
       "      <td>13.900000</td>\n",
       "    </tr>\n",
       "    <tr>\n",
       "      <th>75%</th>\n",
       "      <td>6391.500000</td>\n",
       "      <td>16.500000</td>\n",
       "      <td>0.094585</td>\n",
       "      <td>185.650000</td>\n",
       "      <td>2004.000000</td>\n",
       "      <td>3101.296400</td>\n",
       "      <td>14.300000</td>\n",
       "    </tr>\n",
       "    <tr>\n",
       "      <th>max</th>\n",
       "      <td>8522.000000</td>\n",
       "      <td>21.350000</td>\n",
       "      <td>0.328391</td>\n",
       "      <td>266.900000</td>\n",
       "      <td>2009.000000</td>\n",
       "      <td>13086.964800</td>\n",
       "      <td>24.000000</td>\n",
       "    </tr>\n",
       "  </tbody>\n",
       "</table>\n",
       "</div>"
      ],
      "text/plain": [
       "        Unnamed: 0  Item_Weight  Item_Visibility     Item_MRP  \\\n",
       "count  8523.000000  7774.000000      8523.000000  8523.000000   \n",
       "mean   4261.000000    11.676740         0.066132   140.998838   \n",
       "std    2460.522505     5.776851         0.051598    62.258099   \n",
       "min       0.000000     0.000000         0.000000    31.300000   \n",
       "25%    2130.500000     7.720000         0.026989    93.800000   \n",
       "50%    4261.000000    11.800000         0.053931   142.700000   \n",
       "75%    6391.500000    16.500000         0.094585   185.650000   \n",
       "max    8522.000000    21.350000         0.328391   266.900000   \n",
       "\n",
       "       Outlet_Establishment_Year  Item_Outlet_Sales       Profit  \n",
       "count                8523.000000        8523.000000  8523.000000  \n",
       "mean                 1997.831867        2181.288914    13.414514  \n",
       "std                     8.371760        1706.499616     1.701840  \n",
       "min                  1985.000000          33.290000     0.100000  \n",
       "25%                  1987.000000         834.247400    13.150000  \n",
       "50%                  1999.000000        1794.331000    13.900000  \n",
       "75%                  2004.000000        3101.296400    14.300000  \n",
       "max                  2009.000000       13086.964800    24.000000  "
      ]
     },
     "execution_count": 9,
     "metadata": {},
     "output_type": "execute_result"
    }
   ],
   "source": [
    "df_sales.describe()"
   ]
  },
  {
   "cell_type": "markdown",
   "id": "fc05c54d",
   "metadata": {
    "id": "fQJyKVBdlLNS"
   },
   "source": [
    "**Interpretation:** The variable representing the weight of the product sold has a minimum of 0, which is absurd. It implies the data has missing values where the value `0` is present. For a numeric variable, python does not consider the `0` value as a missing value. <br>\n",
    "Also, for the variable representing item visibility, has minimum value zero. It indicates that the variable has missing data. A customer needs to know the product before purchase."
   ]
  },
  {
   "cell_type": "code",
   "execution_count": 10,
   "id": "942ca58c",
   "metadata": {},
   "outputs": [
    {
     "data": {
      "text/html": [
       "<div>\n",
       "<style scoped>\n",
       "    .dataframe tbody tr th:only-of-type {\n",
       "        vertical-align: middle;\n",
       "    }\n",
       "\n",
       "    .dataframe tbody tr th {\n",
       "        vertical-align: top;\n",
       "    }\n",
       "\n",
       "    .dataframe thead th {\n",
       "        text-align: right;\n",
       "    }\n",
       "</style>\n",
       "<table border=\"1\" class=\"dataframe\">\n",
       "  <thead>\n",
       "    <tr style=\"text-align: right;\">\n",
       "      <th></th>\n",
       "      <th>Item_Identifier</th>\n",
       "      <th>Item_Fat_Content</th>\n",
       "      <th>Item_Type</th>\n",
       "      <th>Outlet_Identifier</th>\n",
       "      <th>Outlet_Size</th>\n",
       "      <th>Outlet_Location_Type</th>\n",
       "      <th>Outlet_Type</th>\n",
       "    </tr>\n",
       "  </thead>\n",
       "  <tbody>\n",
       "    <tr>\n",
       "      <th>count</th>\n",
       "      <td>8523</td>\n",
       "      <td>8523</td>\n",
       "      <td>8523</td>\n",
       "      <td>8523</td>\n",
       "      <td>6113</td>\n",
       "      <td>6473</td>\n",
       "      <td>8523</td>\n",
       "    </tr>\n",
       "    <tr>\n",
       "      <th>unique</th>\n",
       "      <td>1559</td>\n",
       "      <td>2</td>\n",
       "      <td>16</td>\n",
       "      <td>10</td>\n",
       "      <td>3</td>\n",
       "      <td>8</td>\n",
       "      <td>4</td>\n",
       "    </tr>\n",
       "    <tr>\n",
       "      <th>top</th>\n",
       "      <td>FDW13</td>\n",
       "      <td>Low Fat</td>\n",
       "      <td>Fruits and Vegetables</td>\n",
       "      <td>OUT027</td>\n",
       "      <td>Medium</td>\n",
       "      <td>Tier 2</td>\n",
       "      <td>Supermarket Type1</td>\n",
       "    </tr>\n",
       "    <tr>\n",
       "      <th>freq</th>\n",
       "      <td>10</td>\n",
       "      <td>5517</td>\n",
       "      <td>1232</td>\n",
       "      <td>935</td>\n",
       "      <td>2793</td>\n",
       "      <td>2793</td>\n",
       "      <td>5577</td>\n",
       "    </tr>\n",
       "  </tbody>\n",
       "</table>\n",
       "</div>"
      ],
      "text/plain": [
       "       Item_Identifier Item_Fat_Content              Item_Type  \\\n",
       "count             8523             8523                   8523   \n",
       "unique            1559                2                     16   \n",
       "top              FDW13          Low Fat  Fruits and Vegetables   \n",
       "freq                10             5517                   1232   \n",
       "\n",
       "       Outlet_Identifier Outlet_Size Outlet_Location_Type        Outlet_Type  \n",
       "count               8523        6113                 6473               8523  \n",
       "unique                10           3                    8                  4  \n",
       "top               OUT027      Medium               Tier 2  Supermarket Type1  \n",
       "freq                 935        2793                 2793               5577  "
      ]
     },
     "execution_count": 10,
     "metadata": {},
     "output_type": "execute_result"
    }
   ],
   "source": [
    "df_sales.describe(include = \"object\")"
   ]
  },
  {
   "cell_type": "markdown",
   "id": "4546a959",
   "metadata": {
    "id": "2xpglFgMlLNW"
   },
   "source": [
    "**Interpretation:** Note that the variables representing outlet size and type of outlet location have counts less than 8523 (the number of observations in the data). It implies that there are missing values in the two variables."
   ]
  },
  {
   "cell_type": "code",
   "execution_count": 11,
   "id": "41d478e3",
   "metadata": {},
   "outputs": [
    {
     "data": {
      "text/plain": [
       "Unnamed: 0                      0\n",
       "Item_Identifier                 0\n",
       "Item_Weight                   749\n",
       "Item_Fat_Content                0\n",
       "Item_Visibility                 0\n",
       "Item_Type                       0\n",
       "Item_MRP                        0\n",
       "Outlet_Identifier               0\n",
       "Outlet_Establishment_Year       0\n",
       "Outlet_Size                  2410\n",
       "Outlet_Location_Type         2050\n",
       "Outlet_Type                     0\n",
       "Item_Outlet_Sales               0\n",
       "Profit                          0\n",
       "dtype: int64"
      ]
     },
     "execution_count": 11,
     "metadata": {},
     "output_type": "execute_result"
    }
   ],
   "source": [
    "missing_values = df_sales.isnull().sum()\n",
    "\n",
    "# print the missing values\n",
    "missing_values"
   ]
  },
  {
   "cell_type": "code",
   "execution_count": 12,
   "id": "8663cb69",
   "metadata": {},
   "outputs": [
    {
     "data": {
      "image/png": "[encoded data removed]",
      "text/plain": [
       "<Figure size 432x288 with 1 Axes>"
      ]
     },
     "metadata": {
      "needs_background": "light"
     },
     "output_type": "display_data"
    }
   ],
   "source": [
    "sns.heatmap(df_sales.isnull(), cbar = False);"
   ]
  },
  {
   "cell_type": "markdown",
   "id": "06f5e04e",
   "metadata": {
    "id": "fg5elcXVlLNf"
   },
   "source": [
    "We see that there are three variables that have missing data. Let us find the percentage of missing data in each variable. Also note that, we have seen variable `Item_Visibility` has missing values represented by 0, and are not detected by python."
   ]
  },
  {
   "cell_type": "markdown",
   "id": "2c5d1249",
   "metadata": {
    "id": "opj-Zb5tlLNg"
   },
   "source": [
    "**Interpretation:** The variable representing the outlet size has 28.2% missing data. \n",
    "\n",
    "If more than 70% of the data is missing we exclude the column from further analysis. You may take your own decision to exclude a column based on the percentage of missing values."
   ]
  },
  {
   "cell_type": "markdown",
   "id": "9db65464",
   "metadata": {},
   "source": [
    "### Dropping"
   ]
  },
  {
   "cell_type": "code",
   "execution_count": 13,
   "id": "d419dd3c",
   "metadata": {},
   "outputs": [
    {
     "data": {
      "text/plain": [
       "(8523, 14)"
      ]
     },
     "execution_count": 13,
     "metadata": {},
     "output_type": "execute_result"
    }
   ],
   "source": [
    "df_sales.shape"
   ]
  },
  {
   "cell_type": "code",
   "execution_count": 14,
   "id": "c2b191ee",
   "metadata": {},
   "outputs": [
    {
     "data": {
      "text/plain": [
       "(5364, 14)"
      ]
     },
     "execution_count": 14,
     "metadata": {},
     "output_type": "execute_result"
    }
   ],
   "source": [
    "# drop the rows having missing values\n",
    "df_sales_drop = df_sales.dropna()\n",
    "\n",
    "# display the dataframe\n",
    "df_sales_drop.shape"
   ]
  },
  {
   "cell_type": "markdown",
   "id": "697e5e30",
   "metadata": {
    "id": "EWALj1gvlLNj"
   },
   "source": [
    "**Interpretation:** There are only 5364 rows in the resultant data, that is nearly 63% of the data. The remaining 37% of the data is lost. \n",
    "\n",
    "In order to avoid such a loss of data, we will consider each variable separately and impute the missing values."
   ]
  },
  {
   "cell_type": "code",
   "execution_count": 15,
   "id": "519df9cc",
   "metadata": {},
   "outputs": [],
   "source": [
    "# make a copy of the dataframe so that we can use it afterwards if required\n",
    "df_sales2 = df_sales.copy()"
   ]
  },
  {
   "cell_type": "code",
   "execution_count": 16,
   "id": "c28a80c1",
   "metadata": {},
   "outputs": [
    {
     "data": {
      "text/html": [
       "<div>\n",
       "<style scoped>\n",
       "    .dataframe tbody tr th:only-of-type {\n",
       "        vertical-align: middle;\n",
       "    }\n",
       "\n",
       "    .dataframe tbody tr th {\n",
       "        vertical-align: top;\n",
       "    }\n",
       "\n",
       "    .dataframe thead th {\n",
       "        text-align: right;\n",
       "    }\n",
       "</style>\n",
       "<table border=\"1\" class=\"dataframe\">\n",
       "  <thead>\n",
       "    <tr style=\"text-align: right;\">\n",
       "      <th></th>\n",
       "      <th>Unnamed: 0</th>\n",
       "      <th>Item_Identifier</th>\n",
       "      <th>Item_Weight</th>\n",
       "      <th>Item_Fat_Content</th>\n",
       "      <th>Item_Visibility</th>\n",
       "      <th>Item_Type</th>\n",
       "      <th>Item_MRP</th>\n",
       "      <th>Outlet_Identifier</th>\n",
       "      <th>Outlet_Establishment_Year</th>\n",
       "      <th>Outlet_Size</th>\n",
       "      <th>Outlet_Location_Type</th>\n",
       "      <th>Outlet_Type</th>\n",
       "      <th>Item_Outlet_Sales</th>\n",
       "      <th>Profit</th>\n",
       "    </tr>\n",
       "  </thead>\n",
       "  <tbody>\n",
       "    <tr>\n",
       "      <th>0</th>\n",
       "      <td>0</td>\n",
       "      <td>FDA15</td>\n",
       "      <td>9.30</td>\n",
       "      <td>Low Fat</td>\n",
       "      <td>0.016047</td>\n",
       "      <td>Dairy</td>\n",
       "      <td>249.8</td>\n",
       "      <td>OUT049</td>\n",
       "      <td>1999</td>\n",
       "      <td>Medium</td>\n",
       "      <td>Tier 2</td>\n",
       "      <td>Supermarket Type1</td>\n",
       "      <td>3735.1380</td>\n",
       "      <td>11.5</td>\n",
       "    </tr>\n",
       "    <tr>\n",
       "      <th>1</th>\n",
       "      <td>1</td>\n",
       "      <td>DRC01</td>\n",
       "      <td>5.92</td>\n",
       "      <td>Regular</td>\n",
       "      <td>0.019278</td>\n",
       "      <td>Soft Drinks</td>\n",
       "      <td>48.3</td>\n",
       "      <td>OUT018</td>\n",
       "      <td>2009</td>\n",
       "      <td>Medium</td>\n",
       "      <td>Tier 2</td>\n",
       "      <td>Supermarket Type2</td>\n",
       "      <td>443.4228</td>\n",
       "      <td>14.3</td>\n",
       "    </tr>\n",
       "    <tr>\n",
       "      <th>2</th>\n",
       "      <td>2</td>\n",
       "      <td>FDN15</td>\n",
       "      <td>17.50</td>\n",
       "      <td>Low Fat</td>\n",
       "      <td>0.016760</td>\n",
       "      <td>Meat</td>\n",
       "      <td>141.6</td>\n",
       "      <td>OUT049</td>\n",
       "      <td>1999</td>\n",
       "      <td>Medium</td>\n",
       "      <td>Tier 2</td>\n",
       "      <td>Supermarket Type1</td>\n",
       "      <td>2097.2700</td>\n",
       "      <td>14.5</td>\n",
       "    </tr>\n",
       "    <tr>\n",
       "      <th>3</th>\n",
       "      <td>3</td>\n",
       "      <td>FDX07</td>\n",
       "      <td>19.20</td>\n",
       "      <td>Regular</td>\n",
       "      <td>0.000000</td>\n",
       "      <td>Fruits and Vegetables</td>\n",
       "      <td>182.1</td>\n",
       "      <td>OUT010</td>\n",
       "      <td>1998</td>\n",
       "      <td>NaN</td>\n",
       "      <td>NaN</td>\n",
       "      <td>Grocery Store</td>\n",
       "      <td>732.3800</td>\n",
       "      <td>13.6</td>\n",
       "    </tr>\n",
       "    <tr>\n",
       "      <th>4</th>\n",
       "      <td>4</td>\n",
       "      <td>NCD19</td>\n",
       "      <td>8.93</td>\n",
       "      <td>Low Fat</td>\n",
       "      <td>0.000000</td>\n",
       "      <td>Household</td>\n",
       "      <td>53.9</td>\n",
       "      <td>OUT013</td>\n",
       "      <td>1987</td>\n",
       "      <td>High</td>\n",
       "      <td>Tier 3</td>\n",
       "      <td>Supermarket Type1</td>\n",
       "      <td>994.7052</td>\n",
       "      <td>14.1</td>\n",
       "    </tr>\n",
       "  </tbody>\n",
       "</table>\n",
       "</div>"
      ],
      "text/plain": [
       "   Unnamed: 0 Item_Identifier  Item_Weight Item_Fat_Content  Item_Visibility  \\\n",
       "0           0           FDA15         9.30          Low Fat         0.016047   \n",
       "1           1           DRC01         5.92          Regular         0.019278   \n",
       "2           2           FDN15        17.50          Low Fat         0.016760   \n",
       "3           3           FDX07        19.20          Regular         0.000000   \n",
       "4           4           NCD19         8.93          Low Fat         0.000000   \n",
       "\n",
       "               Item_Type  Item_MRP Outlet_Identifier  \\\n",
       "0                  Dairy     249.8            OUT049   \n",
       "1            Soft Drinks      48.3            OUT018   \n",
       "2                   Meat     141.6            OUT049   \n",
       "3  Fruits and Vegetables     182.1            OUT010   \n",
       "4              Household      53.9            OUT013   \n",
       "\n",
       "   Outlet_Establishment_Year Outlet_Size Outlet_Location_Type  \\\n",
       "0                       1999      Medium               Tier 2   \n",
       "1                       2009      Medium               Tier 2   \n",
       "2                       1999      Medium               Tier 2   \n",
       "3                       1998         NaN                  NaN   \n",
       "4                       1987        High               Tier 3   \n",
       "\n",
       "         Outlet_Type  Item_Outlet_Sales  Profit  \n",
       "0  Supermarket Type1          3735.1380    11.5  \n",
       "1  Supermarket Type2           443.4228    14.3  \n",
       "2  Supermarket Type1          2097.2700    14.5  \n",
       "3      Grocery Store           732.3800    13.6  \n",
       "4  Supermarket Type1           994.7052    14.1  "
      ]
     },
     "execution_count": 16,
     "metadata": {},
     "output_type": "execute_result"
    }
   ],
   "source": [
    "df_sales2.head()"
   ]
  },
  {
   "cell_type": "markdown",
   "id": "8c69935d",
   "metadata": {},
   "source": [
    "# 1. Missing value Treatment"
   ]
  },
  {
   "cell_type": "markdown",
   "id": "8756b57b",
   "metadata": {
    "id": "_IeqJAD2lLNk"
   },
   "source": [
    "### Let us now consider each variable separately for missing value treatment"
   ]
  },
  {
   "cell_type": "markdown",
   "id": "90d5d89c",
   "metadata": {
    "id": "lGkoMzvdlLNk"
   },
   "source": [
    "### 1. The variable `Outlet_Size`:"
   ]
  },
  {
   "cell_type": "markdown",
   "id": "28368309",
   "metadata": {
    "id": "Nb3iwxzWlLNl"
   },
   "source": [
    "The variable is a categorical variable representing the size of the store in terms of ground area covered."
   ]
  },
  {
   "cell_type": "code",
   "execution_count": 17,
   "id": "518b3f75",
   "metadata": {
    "id": "NmbBjictlLNl",
    "outputId": "87f51b4f-1ccc-457c-8f27-edfbee78aee2"
   },
   "outputs": [
    {
     "data": {
      "text/plain": [
       "2410"
      ]
     },
     "execution_count": 17,
     "metadata": {},
     "output_type": "execute_result"
    }
   ],
   "source": [
    "# check the number of null values\n",
    "df_sales.Outlet_Size.isnull().sum()"
   ]
  },
  {
   "cell_type": "markdown",
   "id": "02430d7e",
   "metadata": {
    "id": "TYZW-FYVlLNm"
   },
   "source": [
    "There are 2410 missing values detected by python."
   ]
  },
  {
   "cell_type": "code",
   "execution_count": 18,
   "id": "d9a5f5a7",
   "metadata": {
    "id": "XxpzW-LFlLNm",
    "outputId": "324a19cf-905b-483a-8e94-8d7282394148"
   },
   "outputs": [
    {
     "data": {
      "text/plain": [
       "Medium    2793\n",
       "Small     2388\n",
       "High       932\n",
       "Name: Outlet_Size, dtype: int64"
      ]
     },
     "execution_count": 18,
     "metadata": {},
     "output_type": "execute_result"
    }
   ],
   "source": [
    "# check the count of the data\n",
    "df_sales.Outlet_Size.value_counts()"
   ]
  },
  {
   "cell_type": "code",
   "execution_count": 19,
   "id": "a0bf7bf8",
   "metadata": {},
   "outputs": [
    {
     "data": {
      "text/plain": [
       "Unnamed: 0                     int64\n",
       "Item_Identifier               object\n",
       "Item_Weight                  float64\n",
       "Item_Fat_Content              object\n",
       "Item_Visibility              float64\n",
       "Item_Type                     object\n",
       "Item_MRP                     float64\n",
       "Outlet_Identifier             object\n",
       "Outlet_Establishment_Year      int64\n",
       "Outlet_Size                   object\n",
       "Outlet_Location_Type          object\n",
       "Outlet_Type                   object\n",
       "Item_Outlet_Sales            float64\n",
       "Profit                       float64\n",
       "dtype: object"
      ]
     },
     "execution_count": 19,
     "metadata": {},
     "output_type": "execute_result"
    }
   ],
   "source": [
    "df_sales.dtypes"
   ]
  },
  {
   "cell_type": "markdown",
   "id": "7706e7c6",
   "metadata": {
    "id": "SxeFonnFlLNo"
   },
   "source": [
    "**Note the missing values are detected by python.**"
   ]
  },
  {
   "cell_type": "code",
   "execution_count": 20,
   "id": "5a619344",
   "metadata": {
    "id": "M3-i-xsllLNo",
    "outputId": "78c825d1-34b2-4df7-99c0-7709692f4876"
   },
   "outputs": [
    {
     "data": {
      "text/plain": [
       "0    Medium\n",
       "1    Medium\n",
       "2    Medium\n",
       "3       NaN\n",
       "4      High\n",
       "5    Medium\n",
       "6      High\n",
       "7    Medium\n",
       "8       NaN\n",
       "9       NaN\n",
       "Name: Outlet_Size, dtype: object"
      ]
     },
     "execution_count": 20,
     "metadata": {},
     "output_type": "execute_result"
    }
   ],
   "source": [
    "# check the head of the column\n",
    "df_sales.Outlet_Size.head(10)"
   ]
  },
  {
   "cell_type": "markdown",
   "id": "0ea760a4",
   "metadata": {
    "id": "rOfaKfddlLNp"
   },
   "source": [
    "The `NaN` values are read as missing values in the data."
   ]
  },
  {
   "cell_type": "markdown",
   "id": "d1302510",
   "metadata": {
    "id": "aNTekb8KlLNq"
   },
   "source": [
    "**We shall replace the missing values with mode value.** <br><br>\n",
    "The mode value is the value in the data having the highest frequency. "
   ]
  },
  {
   "cell_type": "code",
   "execution_count": 21,
   "id": "7ba790ad",
   "metadata": {
    "id": "o-fSryv0lLNq",
    "outputId": "460253e6-3958-4b3c-e4cd-926da45de9fa"
   },
   "outputs": [
    {
     "data": {
      "text/plain": [
       "0    Medium\n",
       "dtype: object"
      ]
     },
     "execution_count": 21,
     "metadata": {},
     "output_type": "execute_result"
    }
   ],
   "source": [
    "# obtain the mode value\n",
    "df_sales.Outlet_Size.mode()"
   ]
  },
  {
   "cell_type": "markdown",
   "id": "22dbebe9",
   "metadata": {
    "id": "dkETOjEAlLNr"
   },
   "source": [
    "**Interpretation:** The mode value of the data is 'Medium'. We will now impute all the missing values with it."
   ]
  },
  {
   "cell_type": "code",
   "execution_count": 22,
   "id": "b89dac46",
   "metadata": {
    "id": "vPlJLs0zlLNr",
    "scrolled": true
   },
   "outputs": [
    {
     "data": {
      "text/plain": [
       "0       Medium\n",
       "1       Medium\n",
       "2       Medium\n",
       "3       Medium\n",
       "4         High\n",
       "         ...  \n",
       "8518      High\n",
       "8519    Medium\n",
       "8520     Small\n",
       "8521    Medium\n",
       "8522     Small\n",
       "Name: Outlet_Size, Length: 8523, dtype: object"
      ]
     },
     "execution_count": 22,
     "metadata": {},
     "output_type": "execute_result"
    }
   ],
   "source": [
    "# import the library numpy as np\n",
    "import numpy as np\n",
    "\n",
    "# replace all the missing values with 'Medium'\n",
    "df_sales.Outlet_Size.replace(np.NaN,\"Medium\")"
   ]
  },
  {
   "cell_type": "code",
   "execution_count": 23,
   "id": "60eb0679",
   "metadata": {},
   "outputs": [],
   "source": [
    "df_sales.Outlet_Size.fillna(\"Medium\",inplace=True)"
   ]
  },
  {
   "cell_type": "markdown",
   "id": "6ed6684e",
   "metadata": {
    "id": "9b4xv199lLNs"
   },
   "source": [
    "The missing values have been replaced and let us do a recheck for the same."
   ]
  },
  {
   "cell_type": "code",
   "execution_count": 24,
   "id": "adc301eb",
   "metadata": {
    "id": "7DV_r9JqlLNs",
    "outputId": "9db99c27-e762-480b-b374-073a1847cf61"
   },
   "outputs": [
    {
     "data": {
      "text/plain": [
       "0"
      ]
     },
     "execution_count": 24,
     "metadata": {},
     "output_type": "execute_result"
    }
   ],
   "source": [
    "df_sales.Outlet_Size.isnull().sum()"
   ]
  },
  {
   "cell_type": "markdown",
   "id": "6597d422",
   "metadata": {
    "id": "wCQ8f_23lLNt"
   },
   "source": [
    "**Interpretation:** There are no more missing values in the data."
   ]
  },
  {
   "cell_type": "code",
   "execution_count": 25,
   "id": "0ca28591",
   "metadata": {
    "id": "o2wJ8UIGlLNu",
    "outputId": "3e22f182-e492-471d-d058-0b3c6047e31d"
   },
   "outputs": [
    {
     "data": {
      "text/plain": [
       "Medium    5203\n",
       "Small     2388\n",
       "High       932\n",
       "Name: Outlet_Size, dtype: int64"
      ]
     },
     "execution_count": 25,
     "metadata": {},
     "output_type": "execute_result"
    }
   ],
   "source": [
    "# check the count of the data\n",
    "df_sales.Outlet_Size.value_counts()"
   ]
  },
  {
   "cell_type": "markdown",
   "id": "0cf018bc",
   "metadata": {
    "id": "K_Vx2-TIlLNu"
   },
   "source": [
    "**Interpretation:** The count of the medium values has risen drastically since all the missing values were assigned as 'Medium'"
   ]
  },
  {
   "cell_type": "markdown",
   "id": "1066c6eb",
   "metadata": {
    "id": "WhxiRRDtlLNv"
   },
   "source": [
    "### 2. The variable `Outlet_Location_Type`:"
   ]
  },
  {
   "cell_type": "markdown",
   "id": "8f048ae5",
   "metadata": {
    "id": "gfzvjPWRlLNv"
   },
   "source": [
    "The variable `Outlet_Location_Type` represents the size of the city in which the store is located. We have already seen that the data has missing values. \n",
    "\n",
    "Let us find out the number of missing values."
   ]
  },
  {
   "cell_type": "code",
   "execution_count": 26,
   "id": "77bac14b",
   "metadata": {
    "id": "KDnJlYqglLNw",
    "outputId": "45fa68a3-17bb-4ea7-bd94-31f8ecf950f8"
   },
   "outputs": [
    {
     "data": {
      "text/plain": [
       "2050"
      ]
     },
     "execution_count": 26,
     "metadata": {},
     "output_type": "execute_result"
    }
   ],
   "source": [
    "# obtain the total number of missing values\n",
    "# notnull(): detects the existing (non-missing) values\n",
    "# sum(): gives the total count of the existing (non-missing) values\n",
    "df_sales.Outlet_Location_Type.isnull().sum()"
   ]
  },
  {
   "cell_type": "markdown",
   "id": "49f2d7d1",
   "metadata": {
    "id": "5zhGWoPylLNw"
   },
   "source": [
    "**Interpretation:** There are 2050 missing values."
   ]
  },
  {
   "cell_type": "markdown",
   "id": "27671f8c",
   "metadata": {
    "id": "nSlQUzdalLNx"
   },
   "source": [
    "To find the categories in the data use value_counts()"
   ]
  },
  {
   "cell_type": "code",
   "execution_count": 138,
   "id": "1445dedc",
   "metadata": {
    "id": "QAZ4Y2Z1lLNx",
    "outputId": "9b2f33f6-459c-45ef-c8c4-114728b746c4",
    "scrolled": true
   },
   "outputs": [
    {
     "data": {
      "text/plain": [
       "Tier1     3947\n",
       "Tier 2    3483\n",
       "Tier 3    1093\n",
       "Name: Outlet_Location_Type, dtype: int64"
      ]
     },
     "execution_count": 138,
     "metadata": {},
     "output_type": "execute_result"
    }
   ],
   "source": [
    "# check the count of the categories\n",
    "df_sales.Outlet_Location_Type.value_counts()"
   ]
  },
  {
   "cell_type": "markdown",
   "id": "25cfc685",
   "metadata": {
    "id": "CvyeFJuglLNy"
   },
   "source": [
    "**Interpretation:** There are some non-standard missing values present. These values are considered as categories in the data. They need to be replaced with standard missing values."
   ]
  },
  {
   "cell_type": "markdown",
   "id": "f4e88ca5",
   "metadata": {
    "id": "S69WcCEclLNy"
   },
   "source": [
    "**There are missing values python detects. These values are `NaN` and blank space ` `.** \n",
    "\n",
    "The values `?`, `--`, `-`, `na`, `NAN` resemble missing values. However, they are not detected by python. We need to replace these values with NAN"
   ]
  },
  {
   "cell_type": "code",
   "execution_count": 28,
   "id": "b527f214",
   "metadata": {
    "id": "IWPBRXcolLNz"
   },
   "outputs": [],
   "source": [
    "# replace \"?\" with NaN\n",
    "# to_replace: value that will be replaced\n",
    "# value: value to replace values matching `to_replace` with\n",
    "df_sales.Outlet_Location_Type.replace(to_replace = \"?\", value = np.NaN, inplace = True)\n",
    "\n",
    "# replace \" --\" with NaN\n",
    "# to_replace: value that will be replaced\n",
    "# value: value to replace values matching `to_replace` with\n",
    "df_sales.Outlet_Location_Type.replace(to_replace = \"  --\", value = np.NaN, inplace = True)\n",
    "\n",
    "# replace \" -\" with NaN\n",
    "# to_replace: value that will be replaced\n",
    "# value: value to replace values matching `to_replace` with\n",
    "df_sales.Outlet_Location_Type.replace(to_replace = \"  -\", value = np.NaN, inplace = True)\n",
    "\n",
    "# replace \"na\" with NaN\n",
    "# to_replace: value that will be replaced\n",
    "# value: value to replace values matching `to_replace` with\n",
    "df_sales.Outlet_Location_Type.replace(to_replace = \"na\", value = np.NaN, inplace = True)\n",
    "\n",
    "# replace \"NAN\" with NaN\n",
    "# to_replace: value that will be replaced\n",
    "# value: value to replace values matching `to_replace` with\n",
    "df_sales.Outlet_Location_Type.replace(to_replace = \"NAN\", value = np.NaN, inplace = True)"
   ]
  },
  {
   "cell_type": "markdown",
   "id": "7dc63366",
   "metadata": {
    "id": "kZPmIhcslLN0"
   },
   "source": [
    "**Interpretation:** The values are now replaced. We can check for the same by displaying the count of each category. "
   ]
  },
  {
   "cell_type": "code",
   "execution_count": 29,
   "id": "33472e81",
   "metadata": {
    "id": "AbRMno6JlLN1",
    "outputId": "849c6da6-b388-4c3a-c853-b21e56af33f4",
    "scrolled": true
   },
   "outputs": [
    {
     "data": {
      "text/plain": [
       "Tier 2    2793\n",
       "Tier1     2388\n",
       "Tier 3     932\n",
       "Name: Outlet_Location_Type, dtype: int64"
      ]
     },
     "execution_count": 29,
     "metadata": {},
     "output_type": "execute_result"
    }
   ],
   "source": [
    "# check the count of the data\n",
    "df_sales.Outlet_Location_Type.value_counts()"
   ]
  },
  {
   "cell_type": "markdown",
   "id": "c96fdb62",
   "metadata": {
    "id": "pD2dY-QZlLN1"
   },
   "source": [
    "Now, check for the count of missing values."
   ]
  },
  {
   "cell_type": "code",
   "execution_count": 30,
   "id": "3d35e478",
   "metadata": {
    "id": "GYdigSXZlLN2",
    "outputId": "15c6eceb-bb80-4c29-89ea-ac087abb4f68",
    "scrolled": true
   },
   "outputs": [
    {
     "data": {
      "text/plain": [
       "2410"
      ]
     },
     "execution_count": 30,
     "metadata": {},
     "output_type": "execute_result"
    }
   ],
   "source": [
    "# check the count of the missing data\n",
    "df_sales.Outlet_Location_Type.isnull().sum()"
   ]
  },
  {
   "cell_type": "markdown",
   "id": "f9c3a546",
   "metadata": {
    "id": "_OpRkzxRlLN3"
   },
   "source": [
    "**Interpretation:**  In all we now have 2410 missing values."
   ]
  },
  {
   "cell_type": "markdown",
   "id": "9b26bf78",
   "metadata": {
    "id": "rbHv4IqxlLN3"
   },
   "source": [
    "We shall replace the missing values based on the year of establishment and outlet_sales"
   ]
  },
  {
   "cell_type": "code",
   "execution_count": 1,
   "id": "406c2f1b",
   "metadata": {},
   "outputs": [
    {
     "ename": "NameError",
     "evalue": "name 'df_sales' is not defined",
     "output_type": "error",
     "traceback": [
      "\u001b[1;31m---------------------------------------------------------------------------\u001b[0m",
      "\u001b[1;31mNameError\u001b[0m                                 Traceback (most recent call last)",
      "\u001b[1;32m~\\AppData\\Local\\Temp/ipykernel_3960/1055213300.py\u001b[0m in \u001b[0;36m<module>\u001b[1;34m\u001b[0m\n\u001b[1;32m----> 1\u001b[1;33m \u001b[0mdf_sales\u001b[0m\u001b[1;33m.\u001b[0m\u001b[0mhead\u001b[0m\u001b[1;33m(\u001b[0m\u001b[1;33m)\u001b[0m\u001b[1;33m\u001b[0m\u001b[1;33m\u001b[0m\u001b[0m\n\u001b[0m",
      "\u001b[1;31mNameError\u001b[0m: name 'df_sales' is not defined"
     ]
    }
   ],
   "source": [
    "df_sales.head()"
   ]
  },
  {
   "cell_type": "code",
   "execution_count": 31,
   "id": "ccd9e905",
   "metadata": {},
   "outputs": [
    {
     "data": {
      "text/html": [
       "<div>\n",
       "<style scoped>\n",
       "    .dataframe tbody tr th:only-of-type {\n",
       "        vertical-align: middle;\n",
       "    }\n",
       "\n",
       "    .dataframe tbody tr th {\n",
       "        vertical-align: top;\n",
       "    }\n",
       "\n",
       "    .dataframe thead th {\n",
       "        text-align: right;\n",
       "    }\n",
       "</style>\n",
       "<table border=\"1\" class=\"dataframe\">\n",
       "  <thead>\n",
       "    <tr style=\"text-align: right;\">\n",
       "      <th></th>\n",
       "      <th>Item_Outlet_Sales</th>\n",
       "      <th>Outlet_Location_Type</th>\n",
       "    </tr>\n",
       "  </thead>\n",
       "  <tbody>\n",
       "    <tr>\n",
       "      <th>0</th>\n",
       "      <td>3735.1380</td>\n",
       "      <td>Tier 2</td>\n",
       "    </tr>\n",
       "    <tr>\n",
       "      <th>1</th>\n",
       "      <td>443.4228</td>\n",
       "      <td>Tier 2</td>\n",
       "    </tr>\n",
       "    <tr>\n",
       "      <th>2</th>\n",
       "      <td>2097.2700</td>\n",
       "      <td>Tier 2</td>\n",
       "    </tr>\n",
       "    <tr>\n",
       "      <th>3</th>\n",
       "      <td>732.3800</td>\n",
       "      <td>NaN</td>\n",
       "    </tr>\n",
       "    <tr>\n",
       "      <th>4</th>\n",
       "      <td>994.7052</td>\n",
       "      <td>Tier 3</td>\n",
       "    </tr>\n",
       "  </tbody>\n",
       "</table>\n",
       "</div>"
      ],
      "text/plain": [
       "   Item_Outlet_Sales Outlet_Location_Type\n",
       "0          3735.1380               Tier 2\n",
       "1           443.4228               Tier 2\n",
       "2          2097.2700               Tier 2\n",
       "3           732.3800                  NaN\n",
       "4           994.7052               Tier 3"
      ]
     },
     "execution_count": 31,
     "metadata": {},
     "output_type": "execute_result"
    }
   ],
   "source": [
    "df_sales[[\"Item_Outlet_Sales\",\"Outlet_Location_Type\"]].head()"
   ]
  },
  {
   "cell_type": "code",
   "execution_count": 32,
   "id": "96b49643",
   "metadata": {
    "id": "bGSh8PTslLN4",
    "outputId": "7970d312-8019-4154-eb6a-a324c6e226be",
    "scrolled": true
   },
   "outputs": [
    {
     "data": {
      "text/html": [
       "<div>\n",
       "<style scoped>\n",
       "    .dataframe tbody tr th:only-of-type {\n",
       "        vertical-align: middle;\n",
       "    }\n",
       "\n",
       "    .dataframe tbody tr th {\n",
       "        vertical-align: top;\n",
       "    }\n",
       "\n",
       "    .dataframe thead th {\n",
       "        text-align: right;\n",
       "    }\n",
       "</style>\n",
       "<table border=\"1\" class=\"dataframe\">\n",
       "  <thead>\n",
       "    <tr style=\"text-align: right;\">\n",
       "      <th></th>\n",
       "      <th>Item_Outlet_Sales</th>\n",
       "    </tr>\n",
       "    <tr>\n",
       "      <th>Outlet_Location_Type</th>\n",
       "      <th></th>\n",
       "    </tr>\n",
       "  </thead>\n",
       "  <tbody>\n",
       "    <tr>\n",
       "      <th>Tier 2</th>\n",
       "      <td>2681.603542</td>\n",
       "    </tr>\n",
       "    <tr>\n",
       "      <th>Tier 3</th>\n",
       "      <td>2298.995256</td>\n",
       "    </tr>\n",
       "    <tr>\n",
       "      <th>Tier1</th>\n",
       "      <td>1912.149161</td>\n",
       "    </tr>\n",
       "  </tbody>\n",
       "</table>\n",
       "</div>"
      ],
      "text/plain": [
       "                      Item_Outlet_Sales\n",
       "Outlet_Location_Type                   \n",
       "Tier 2                      2681.603542\n",
       "Tier 3                      2298.995256\n",
       "Tier1                       1912.149161"
      ]
     },
     "execution_count": 32,
     "metadata": {},
     "output_type": "execute_result"
    }
   ],
   "source": [
    "# consider the variables Item_Outlet_Sales and Outlet_Location_Type\n",
    "# dropna(): drops rows having missing value\n",
    "df_impute = df_sales[[\"Item_Outlet_Sales\",\"Outlet_Location_Type\"]].dropna()\n",
    "\n",
    "\n",
    "# group the data by the location type\n",
    "# mean(): returns the mean of the values\n",
    "df_impute = df_impute.groupby(df_impute[\"Outlet_Location_Type\"]).mean()\n",
    "\n",
    "# display the dataframe\n",
    "df_impute"
   ]
  },
  {
   "cell_type": "code",
   "execution_count": 33,
   "id": "e14526c8",
   "metadata": {
    "scrolled": true
   },
   "outputs": [
    {
     "data": {
      "text/html": [
       "<div>\n",
       "<style scoped>\n",
       "    .dataframe tbody tr th:only-of-type {\n",
       "        vertical-align: middle;\n",
       "    }\n",
       "\n",
       "    .dataframe tbody tr th {\n",
       "        vertical-align: top;\n",
       "    }\n",
       "\n",
       "    .dataframe thead th {\n",
       "        text-align: right;\n",
       "    }\n",
       "</style>\n",
       "<table border=\"1\" class=\"dataframe\">\n",
       "  <thead>\n",
       "    <tr style=\"text-align: right;\">\n",
       "      <th></th>\n",
       "      <th>Item_Outlet_Sales</th>\n",
       "    </tr>\n",
       "    <tr>\n",
       "      <th>Outlet_Location_Type</th>\n",
       "      <th></th>\n",
       "    </tr>\n",
       "  </thead>\n",
       "  <tbody>\n",
       "    <tr>\n",
       "      <th>Tier 2</th>\n",
       "      <td>2681.603542</td>\n",
       "    </tr>\n",
       "    <tr>\n",
       "      <th>Tier 3</th>\n",
       "      <td>2298.995256</td>\n",
       "    </tr>\n",
       "    <tr>\n",
       "      <th>Tier1</th>\n",
       "      <td>1912.149161</td>\n",
       "    </tr>\n",
       "  </tbody>\n",
       "</table>\n",
       "</div>"
      ],
      "text/plain": [
       "                      Item_Outlet_Sales\n",
       "Outlet_Location_Type                   \n",
       "Tier 2                      2681.603542\n",
       "Tier 3                      2298.995256\n",
       "Tier1                       1912.149161"
      ]
     },
     "execution_count": 33,
     "metadata": {},
     "output_type": "execute_result"
    }
   ],
   "source": [
    "# consider the variables Item_Outlet_Sales and Outlet_Location_Type\n",
    "# dropna(): drops rows having missing value\n",
    "df_impute = df_sales[[\"Item_Outlet_Sales\",\"Outlet_Location_Type\"]]\n",
    "\n",
    "\n",
    "# group the data by the location type\n",
    "# mean(): returns the mean of the values\n",
    "df_impute = df_impute.groupby(df_impute[\"Outlet_Location_Type\"]).mean()\n",
    "\n",
    "# display the dataframe\n",
    "df_impute"
   ]
  },
  {
   "cell_type": "markdown",
   "id": "381cc817",
   "metadata": {
    "id": "ZcAzYieslLN5"
   },
   "source": [
    "Based on the above outlet sales range we shall impute the sales in the data."
   ]
  },
  {
   "cell_type": "code",
   "execution_count": 34,
   "id": "6b19d20e",
   "metadata": {
    "scrolled": true
   },
   "outputs": [
    {
     "data": {
      "text/plain": [
       "0       Tier 2\n",
       "1       Tier 2\n",
       "2       Tier 2\n",
       "3          NaN\n",
       "4       Tier 3\n",
       "         ...  \n",
       "8518    Tier 3\n",
       "8519       NaN\n",
       "8520     Tier1\n",
       "8521    Tier 2\n",
       "8522     Tier1\n",
       "Name: Outlet_Location_Type, Length: 8523, dtype: object"
      ]
     },
     "execution_count": 34,
     "metadata": {},
     "output_type": "execute_result"
    }
   ],
   "source": [
    "df_sales.Outlet_Location_Type"
   ]
  },
  {
   "cell_type": "code",
   "execution_count": 35,
   "id": "7dc63321",
   "metadata": {},
   "outputs": [
    {
     "data": {
      "text/plain": [
       "3       NaN\n",
       "8       NaN\n",
       "9       NaN\n",
       "25      NaN\n",
       "28      NaN\n",
       "       ... \n",
       "8502    NaN\n",
       "8508    NaN\n",
       "8509    NaN\n",
       "8514    NaN\n",
       "8519    NaN\n",
       "Name: Outlet_Location_Type, Length: 2410, dtype: object"
      ]
     },
     "execution_count": 35,
     "metadata": {},
     "output_type": "execute_result"
    }
   ],
   "source": [
    "df_sales.Outlet_Location_Type[df_sales.Outlet_Location_Type.isnull()]"
   ]
  },
  {
   "cell_type": "code",
   "execution_count": 36,
   "id": "fda8a8ea",
   "metadata": {},
   "outputs": [
    {
     "data": {
      "text/plain": [
       "array([   3,    8,    9, ..., 8509, 8514, 8519], dtype=int64)"
      ]
     },
     "execution_count": 36,
     "metadata": {},
     "output_type": "execute_result"
    }
   ],
   "source": [
    "# create a variable 'ind' for all the indexes having missing data\n",
    "index = np.where(df_sales.Outlet_Location_Type.isnull())[0]\n",
    "index"
   ]
  },
  {
   "cell_type": "code",
   "execution_count": 37,
   "id": "b35ab327",
   "metadata": {},
   "outputs": [],
   "source": [
    "# impute the values using a for loop\n",
    "for ind in index:                                               # for the rows containing missing data\n",
    "    if df_sales.loc[ind,\"Item_Outlet_Sales\"] <= 2100:           # if the sales is less than 2100 for the location\n",
    "        df_sales.loc[ind,\"Outlet_Location_Type\"] = \"Tier1\"      # impute the value \"Tier1\"\n",
    "    elif df_sales.loc[ind,\"Item_Outlet_Sales\"] >= 2500:         # if the sales is more than 2500 for the location\n",
    "        df_sales.loc[ind,\"Outlet_Location_Type\"] = \"Tier 2\"     # impute the value \"Tier 2\"\n",
    "    else:                                                       # if both the if conditions fail\n",
    "        df_sales.loc[ind,\"Outlet_Location_Type\"] = \"Tier 3\"     # impute the value \"Tier 3\""
   ]
  },
  {
   "cell_type": "code",
   "execution_count": 38,
   "id": "6f24e755",
   "metadata": {
    "id": "00zcRxFflLN6",
    "outputId": "62429f8e-da37-4cdd-d22f-4b4a10313587"
   },
   "outputs": [
    {
     "data": {
      "text/plain": [
       "0"
      ]
     },
     "execution_count": 38,
     "metadata": {},
     "output_type": "execute_result"
    }
   ],
   "source": [
    "# re-check the count of the missing data\n",
    "df_sales.Outlet_Location_Type.isnull().sum()"
   ]
  },
  {
   "cell_type": "code",
   "execution_count": 39,
   "id": "0c2faf5f",
   "metadata": {},
   "outputs": [
    {
     "data": {
      "text/plain": [
       "Tier1     3947\n",
       "Tier 2    3483\n",
       "Tier 3    1093\n",
       "Name: Outlet_Location_Type, dtype: int64"
      ]
     },
     "execution_count": 39,
     "metadata": {},
     "output_type": "execute_result"
    }
   ],
   "source": [
    "df_sales.Outlet_Location_Type.value_counts()"
   ]
  },
  {
   "cell_type": "markdown",
   "id": "0d4d5c32",
   "metadata": {
    "id": "WXkVdytIlLN7"
   },
   "source": [
    "Now check for the counts of the data."
   ]
  },
  {
   "cell_type": "code",
   "execution_count": 40,
   "id": "6d6c89bd",
   "metadata": {
    "id": "ZLUlwq-3lLN7",
    "outputId": "12964312-ce9c-4699-b8ba-2d7a6e25b7a5"
   },
   "outputs": [
    {
     "data": {
      "text/plain": [
       "Tier1     3947\n",
       "Tier 2    3483\n",
       "Tier 3    1093\n",
       "Name: Outlet_Location_Type, dtype: int64"
      ]
     },
     "execution_count": 40,
     "metadata": {},
     "output_type": "execute_result"
    }
   ],
   "source": [
    "df_sales[\"Outlet_Location_Type\"].value_counts()"
   ]
  },
  {
   "cell_type": "markdown",
   "id": "6b7c6228",
   "metadata": {
    "id": "TZx6X-JKlLN7"
   },
   "source": [
    "### 3. The variable `Item_Weight`:"
   ]
  },
  {
   "cell_type": "code",
   "execution_count": 41,
   "id": "f15dc35d",
   "metadata": {
    "id": "0zHhlwM6lLN8",
    "outputId": "f40f8379-276e-4d6a-b107-172275dc548f"
   },
   "outputs": [
    {
     "data": {
      "text/plain": [
       "count    7774.000000\n",
       "mean       11.676740\n",
       "std         5.776851\n",
       "min         0.000000\n",
       "25%         7.720000\n",
       "50%        11.800000\n",
       "75%        16.500000\n",
       "max        21.350000\n",
       "Name: Item_Weight, dtype: float64"
      ]
     },
     "execution_count": 41,
     "metadata": {},
     "output_type": "execute_result"
    }
   ],
   "source": [
    "# display the summary \n",
    "df_sales[\"Item_Weight\"].describe()"
   ]
  },
  {
   "cell_type": "markdown",
   "id": "935432fd",
   "metadata": {
    "id": "P2KrCH8UlLN8"
   },
   "source": [
    "**Interpretation:** We see the minimum weight in the data is given to be zero. The weight of any item can not be zero."
   ]
  },
  {
   "cell_type": "code",
   "execution_count": 42,
   "id": "757886dd",
   "metadata": {
    "id": "xXgbF_-1lLN8"
   },
   "outputs": [],
   "source": [
    "# replace the value of 0 with NaN\n",
    "df_sales.Item_Weight.replace(0,np.NaN, inplace = True)"
   ]
  },
  {
   "cell_type": "markdown",
   "id": "3ea44190",
   "metadata": {
    "id": "jNxXSllRlLN9"
   },
   "source": [
    "Display the data summary again."
   ]
  },
  {
   "cell_type": "code",
   "execution_count": 43,
   "id": "8db0c37e",
   "metadata": {
    "id": "zC4EQQJqlLN9",
    "outputId": "a3400308-762f-47ae-efd1-c4840b2e3ab6"
   },
   "outputs": [
    {
     "data": {
      "text/plain": [
       "count    7060.000000\n",
       "mean       12.857645\n",
       "std         4.643456\n",
       "min         4.555000\n",
       "25%         8.773750\n",
       "50%        12.600000\n",
       "75%        16.850000\n",
       "max        21.350000\n",
       "Name: Item_Weight, dtype: float64"
      ]
     },
     "execution_count": 43,
     "metadata": {},
     "output_type": "execute_result"
    }
   ],
   "source": [
    "# display the summary \n",
    "df_sales[\"Item_Weight\"].describe()"
   ]
  },
  {
   "cell_type": "markdown",
   "id": "11908bef",
   "metadata": {
    "id": "o0Dknao6lLN9"
   },
   "source": [
    "We need to impute these values. We shall see two ways to do so. Once we will impute the missing data with mean and then with the median."
   ]
  },
  {
   "cell_type": "code",
   "execution_count": 44,
   "id": "811ed2d8",
   "metadata": {},
   "outputs": [
    {
     "data": {
      "text/plain": [
       "1463"
      ]
     },
     "execution_count": 44,
     "metadata": {},
     "output_type": "execute_result"
    }
   ],
   "source": [
    "df_sales[\"Item_Weight\"].isnull().sum()"
   ]
  },
  {
   "cell_type": "code",
   "execution_count": 45,
   "id": "ad213ee9",
   "metadata": {},
   "outputs": [
    {
     "data": {
      "text/plain": [
       "(12.857645184136183, 12.6)"
      ]
     },
     "execution_count": 45,
     "metadata": {},
     "output_type": "execute_result"
    }
   ],
   "source": [
    "mu = df_sales[\"Item_Weight\"].mean()\n",
    "me = df_sales[\"Item_Weight\"].median()\n",
    "mu,me"
   ]
  },
  {
   "cell_type": "code",
   "execution_count": 46,
   "id": "600e58fd",
   "metadata": {},
   "outputs": [],
   "source": [
    "df_sales[\"Item_Weight\"].fillna(me, inplace = True)"
   ]
  },
  {
   "cell_type": "code",
   "execution_count": 47,
   "id": "78cdaf49",
   "metadata": {},
   "outputs": [
    {
     "data": {
      "text/plain": [
       "0"
      ]
     },
     "execution_count": 47,
     "metadata": {},
     "output_type": "execute_result"
    }
   ],
   "source": [
    "df_sales[\"Item_Weight\"].isnull().sum()"
   ]
  },
  {
   "cell_type": "markdown",
   "id": "81e15dae",
   "metadata": {
    "id": "NB7NeBXblLOA"
   },
   "source": [
    "### 4. The variable `Item_Visibility`:"
   ]
  },
  {
   "cell_type": "markdown",
   "id": "ca2b63d9",
   "metadata": {
    "id": "TwxgC_XAlLOA"
   },
   "source": [
    "The variable represents the item visibility in the score."
   ]
  },
  {
   "cell_type": "code",
   "execution_count": 48,
   "id": "13f16742",
   "metadata": {
    "id": "bbKMfHY7lLOA",
    "outputId": "195226bb-8ef2-401e-d12e-112e25909686",
    "scrolled": true
   },
   "outputs": [
    {
     "data": {
      "text/plain": [
       "count    8523.000000\n",
       "mean        0.066132\n",
       "std         0.051598\n",
       "min         0.000000\n",
       "25%         0.026989\n",
       "50%         0.053931\n",
       "75%         0.094585\n",
       "max         0.328391\n",
       "Name: Item_Visibility, dtype: float64"
      ]
     },
     "execution_count": 48,
     "metadata": {},
     "output_type": "execute_result"
    }
   ],
   "source": [
    "# display the summary \n",
    "df_sales[\"Item_Visibility\"].describe()"
   ]
  },
  {
   "cell_type": "markdown",
   "id": "b786fa9c",
   "metadata": {
    "id": "9--Ul1bIlLOE"
   },
   "source": [
    "### We have imputed for all the missing values in the data. \n",
    "\n",
    "We will now do a recheck of the missing data."
   ]
  },
  {
   "cell_type": "code",
   "execution_count": 49,
   "id": "a6d30d71",
   "metadata": {
    "id": "6nkapETClLOE",
    "outputId": "796e2da2-f765-4fff-d1e7-dafe292eda5c",
    "scrolled": false
   },
   "outputs": [
    {
     "data": {
      "text/plain": [
       "Unnamed: 0                   0\n",
       "Item_Identifier              0\n",
       "Item_Weight                  0\n",
       "Item_Fat_Content             0\n",
       "Item_Visibility              0\n",
       "Item_Type                    0\n",
       "Item_MRP                     0\n",
       "Outlet_Identifier            0\n",
       "Outlet_Establishment_Year    0\n",
       "Outlet_Size                  0\n",
       "Outlet_Location_Type         0\n",
       "Outlet_Type                  0\n",
       "Item_Outlet_Sales            0\n",
       "Profit                       0\n",
       "dtype: int64"
      ]
     },
     "execution_count": 49,
     "metadata": {},
     "output_type": "execute_result"
    }
   ],
   "source": [
    "# use isnull() to check for missing values\n",
    "# sum(): gives the sum of missing values in each column\n",
    "missing_values = df_sales.isnull().sum()\n",
    "\n",
    "# print the missing values\n",
    "missing_values"
   ]
  },
  {
   "cell_type": "code",
   "execution_count": 50,
   "id": "edd819a6",
   "metadata": {},
   "outputs": [
    {
     "data": {
      "image/png": "[encoded data removed]",
      "text/plain": [
       "<Figure size 432x288 with 1 Axes>"
      ]
     },
     "metadata": {
      "needs_background": "light"
     },
     "output_type": "display_data"
    }
   ],
   "source": [
    "sns.heatmap(df_sales.isnull(), cbar = False)\n",
    "plt.show()"
   ]
  },
  {
   "cell_type": "markdown",
   "id": "07b8d9f8",
   "metadata": {
    "id": "1RCtmFshlLOH"
   },
   "source": [
    "### Null value imputation by `ffill` and `bfill`"
   ]
  },
  {
   "cell_type": "markdown",
   "id": "28874c65",
   "metadata": {
    "id": "4Gf_ZIk5lLOI"
   },
   "source": [
    "We will use the dataframe `df_sales2` that we created as a backup earlier"
   ]
  },
  {
   "cell_type": "code",
   "execution_count": 51,
   "id": "2ad424fa",
   "metadata": {},
   "outputs": [
    {
     "data": {
      "text/html": [
       "<div>\n",
       "<style scoped>\n",
       "    .dataframe tbody tr th:only-of-type {\n",
       "        vertical-align: middle;\n",
       "    }\n",
       "\n",
       "    .dataframe tbody tr th {\n",
       "        vertical-align: top;\n",
       "    }\n",
       "\n",
       "    .dataframe thead th {\n",
       "        text-align: right;\n",
       "    }\n",
       "</style>\n",
       "<table border=\"1\" class=\"dataframe\">\n",
       "  <thead>\n",
       "    <tr style=\"text-align: right;\">\n",
       "      <th></th>\n",
       "      <th>Unnamed: 0</th>\n",
       "      <th>Item_Identifier</th>\n",
       "      <th>Item_Weight</th>\n",
       "      <th>Item_Fat_Content</th>\n",
       "      <th>Item_Visibility</th>\n",
       "      <th>Item_Type</th>\n",
       "      <th>Item_MRP</th>\n",
       "      <th>Outlet_Identifier</th>\n",
       "      <th>Outlet_Establishment_Year</th>\n",
       "      <th>Outlet_Size</th>\n",
       "      <th>Outlet_Location_Type</th>\n",
       "      <th>Outlet_Type</th>\n",
       "      <th>Item_Outlet_Sales</th>\n",
       "      <th>Profit</th>\n",
       "    </tr>\n",
       "  </thead>\n",
       "  <tbody>\n",
       "    <tr>\n",
       "      <th>0</th>\n",
       "      <td>0</td>\n",
       "      <td>FDA15</td>\n",
       "      <td>9.30</td>\n",
       "      <td>Low Fat</td>\n",
       "      <td>0.016047</td>\n",
       "      <td>Dairy</td>\n",
       "      <td>249.8</td>\n",
       "      <td>OUT049</td>\n",
       "      <td>1999</td>\n",
       "      <td>Medium</td>\n",
       "      <td>Tier 2</td>\n",
       "      <td>Supermarket Type1</td>\n",
       "      <td>3735.1380</td>\n",
       "      <td>11.5</td>\n",
       "    </tr>\n",
       "    <tr>\n",
       "      <th>1</th>\n",
       "      <td>1</td>\n",
       "      <td>DRC01</td>\n",
       "      <td>5.92</td>\n",
       "      <td>Regular</td>\n",
       "      <td>0.019278</td>\n",
       "      <td>Soft Drinks</td>\n",
       "      <td>48.3</td>\n",
       "      <td>OUT018</td>\n",
       "      <td>2009</td>\n",
       "      <td>Medium</td>\n",
       "      <td>Tier 2</td>\n",
       "      <td>Supermarket Type2</td>\n",
       "      <td>443.4228</td>\n",
       "      <td>14.3</td>\n",
       "    </tr>\n",
       "    <tr>\n",
       "      <th>2</th>\n",
       "      <td>2</td>\n",
       "      <td>FDN15</td>\n",
       "      <td>17.50</td>\n",
       "      <td>Low Fat</td>\n",
       "      <td>0.016760</td>\n",
       "      <td>Meat</td>\n",
       "      <td>141.6</td>\n",
       "      <td>OUT049</td>\n",
       "      <td>1999</td>\n",
       "      <td>Medium</td>\n",
       "      <td>Tier 2</td>\n",
       "      <td>Supermarket Type1</td>\n",
       "      <td>2097.2700</td>\n",
       "      <td>14.5</td>\n",
       "    </tr>\n",
       "    <tr>\n",
       "      <th>3</th>\n",
       "      <td>3</td>\n",
       "      <td>FDX07</td>\n",
       "      <td>19.20</td>\n",
       "      <td>Regular</td>\n",
       "      <td>0.000000</td>\n",
       "      <td>Fruits and Vegetables</td>\n",
       "      <td>182.1</td>\n",
       "      <td>OUT010</td>\n",
       "      <td>1998</td>\n",
       "      <td>NaN</td>\n",
       "      <td>NaN</td>\n",
       "      <td>Grocery Store</td>\n",
       "      <td>732.3800</td>\n",
       "      <td>13.6</td>\n",
       "    </tr>\n",
       "    <tr>\n",
       "      <th>4</th>\n",
       "      <td>4</td>\n",
       "      <td>NCD19</td>\n",
       "      <td>8.93</td>\n",
       "      <td>Low Fat</td>\n",
       "      <td>0.000000</td>\n",
       "      <td>Household</td>\n",
       "      <td>53.9</td>\n",
       "      <td>OUT013</td>\n",
       "      <td>1987</td>\n",
       "      <td>High</td>\n",
       "      <td>Tier 3</td>\n",
       "      <td>Supermarket Type1</td>\n",
       "      <td>994.7052</td>\n",
       "      <td>14.1</td>\n",
       "    </tr>\n",
       "  </tbody>\n",
       "</table>\n",
       "</div>"
      ],
      "text/plain": [
       "   Unnamed: 0 Item_Identifier  Item_Weight Item_Fat_Content  Item_Visibility  \\\n",
       "0           0           FDA15         9.30          Low Fat         0.016047   \n",
       "1           1           DRC01         5.92          Regular         0.019278   \n",
       "2           2           FDN15        17.50          Low Fat         0.016760   \n",
       "3           3           FDX07        19.20          Regular         0.000000   \n",
       "4           4           NCD19         8.93          Low Fat         0.000000   \n",
       "\n",
       "               Item_Type  Item_MRP Outlet_Identifier  \\\n",
       "0                  Dairy     249.8            OUT049   \n",
       "1            Soft Drinks      48.3            OUT018   \n",
       "2                   Meat     141.6            OUT049   \n",
       "3  Fruits and Vegetables     182.1            OUT010   \n",
       "4              Household      53.9            OUT013   \n",
       "\n",
       "   Outlet_Establishment_Year Outlet_Size Outlet_Location_Type  \\\n",
       "0                       1999      Medium               Tier 2   \n",
       "1                       2009      Medium               Tier 2   \n",
       "2                       1999      Medium               Tier 2   \n",
       "3                       1998         NaN                  NaN   \n",
       "4                       1987        High               Tier 3   \n",
       "\n",
       "         Outlet_Type  Item_Outlet_Sales  Profit  \n",
       "0  Supermarket Type1          3735.1380    11.5  \n",
       "1  Supermarket Type2           443.4228    14.3  \n",
       "2  Supermarket Type1          2097.2700    14.5  \n",
       "3      Grocery Store           732.3800    13.6  \n",
       "4  Supermarket Type1           994.7052    14.1  "
      ]
     },
     "execution_count": 51,
     "metadata": {},
     "output_type": "execute_result"
    }
   ],
   "source": [
    "df_sales2.head()"
   ]
  },
  {
   "cell_type": "code",
   "execution_count": 52,
   "id": "05f2fe77",
   "metadata": {
    "id": "a898a-IalLOJ"
   },
   "outputs": [],
   "source": [
    "# replace the value of 0 with NaN\n",
    "df_sales2.Item_Weight.replace(0,np.NaN, inplace = True)"
   ]
  },
  {
   "cell_type": "code",
   "execution_count": 53,
   "id": "6e0ee864",
   "metadata": {
    "id": "DEAZedN5lLOJ",
    "outputId": "e2bc287b-0569-4bd0-c5ac-7074b094159e"
   },
   "outputs": [
    {
     "data": {
      "text/plain": [
       "Unnamed: 0                      0\n",
       "Item_Identifier                 0\n",
       "Item_Weight                  1463\n",
       "Item_Fat_Content                0\n",
       "Item_Visibility                 0\n",
       "Item_Type                       0\n",
       "Item_MRP                        0\n",
       "Outlet_Identifier               0\n",
       "Outlet_Establishment_Year       0\n",
       "Outlet_Size                  2410\n",
       "Outlet_Location_Type         2050\n",
       "Outlet_Type                     0\n",
       "Item_Outlet_Sales               0\n",
       "Profit                          0\n",
       "dtype: int64"
      ]
     },
     "execution_count": 53,
     "metadata": {},
     "output_type": "execute_result"
    }
   ],
   "source": [
    "# check the null values in each column\n",
    "df_sales2.isnull().sum()"
   ]
  },
  {
   "cell_type": "markdown",
   "id": "5e889bdb",
   "metadata": {
    "id": "Jc84UbmxlLOK"
   },
   "source": [
    "#### Select random observations containing null values to see the change after bfill or ffill"
   ]
  },
  {
   "cell_type": "code",
   "execution_count": 54,
   "id": "03d1ee89",
   "metadata": {
    "id": "61Rc0OvllLOK",
    "outputId": "8b2a2956-d3e5-4c69-f522-c17f2eb3eb64"
   },
   "outputs": [
    {
     "data": {
      "text/html": [
       "<div>\n",
       "<style scoped>\n",
       "    .dataframe tbody tr th:only-of-type {\n",
       "        vertical-align: middle;\n",
       "    }\n",
       "\n",
       "    .dataframe tbody tr th {\n",
       "        vertical-align: top;\n",
       "    }\n",
       "\n",
       "    .dataframe thead th {\n",
       "        text-align: right;\n",
       "    }\n",
       "</style>\n",
       "<table border=\"1\" class=\"dataframe\">\n",
       "  <thead>\n",
       "    <tr style=\"text-align: right;\">\n",
       "      <th></th>\n",
       "      <th>Item_Weight</th>\n",
       "      <th>Outlet_Size</th>\n",
       "      <th>Outlet_Location_Type</th>\n",
       "    </tr>\n",
       "  </thead>\n",
       "  <tbody>\n",
       "    <tr>\n",
       "      <th>30</th>\n",
       "      <td>19.25</td>\n",
       "      <td>NaN</td>\n",
       "      <td>NaN</td>\n",
       "    </tr>\n",
       "    <tr>\n",
       "      <th>31</th>\n",
       "      <td>18.60</td>\n",
       "      <td>Medium</td>\n",
       "      <td>Tier 2</td>\n",
       "    </tr>\n",
       "    <tr>\n",
       "      <th>32</th>\n",
       "      <td>18.70</td>\n",
       "      <td>Medium</td>\n",
       "      <td>Tier 2</td>\n",
       "    </tr>\n",
       "    <tr>\n",
       "      <th>33</th>\n",
       "      <td>17.85</td>\n",
       "      <td>NaN</td>\n",
       "      <td>NaN</td>\n",
       "    </tr>\n",
       "    <tr>\n",
       "      <th>34</th>\n",
       "      <td>17.50</td>\n",
       "      <td>Small</td>\n",
       "      <td>Tier1</td>\n",
       "    </tr>\n",
       "    <tr>\n",
       "      <th>35</th>\n",
       "      <td>10.00</td>\n",
       "      <td>Medium</td>\n",
       "      <td>Tier 2</td>\n",
       "    </tr>\n",
       "    <tr>\n",
       "      <th>36</th>\n",
       "      <td>NaN</td>\n",
       "      <td>Medium</td>\n",
       "      <td>Tier 2</td>\n",
       "    </tr>\n",
       "    <tr>\n",
       "      <th>37</th>\n",
       "      <td>8.85</td>\n",
       "      <td>Medium</td>\n",
       "      <td>Tier 2</td>\n",
       "    </tr>\n",
       "    <tr>\n",
       "      <th>38</th>\n",
       "      <td>NaN</td>\n",
       "      <td>Medium</td>\n",
       "      <td>Tier 2</td>\n",
       "    </tr>\n",
       "    <tr>\n",
       "      <th>39</th>\n",
       "      <td>NaN</td>\n",
       "      <td>Medium</td>\n",
       "      <td>Tier 2</td>\n",
       "    </tr>\n",
       "    <tr>\n",
       "      <th>40</th>\n",
       "      <td>13.35</td>\n",
       "      <td>Small</td>\n",
       "      <td>Tier1</td>\n",
       "    </tr>\n",
       "    <tr>\n",
       "      <th>41</th>\n",
       "      <td>9.80</td>\n",
       "      <td>High</td>\n",
       "      <td>Tier 3</td>\n",
       "    </tr>\n",
       "    <tr>\n",
       "      <th>42</th>\n",
       "      <td>13.60</td>\n",
       "      <td>Medium</td>\n",
       "      <td>Tier 2</td>\n",
       "    </tr>\n",
       "    <tr>\n",
       "      <th>43</th>\n",
       "      <td>21.35</td>\n",
       "      <td>Medium</td>\n",
       "      <td>Tier 2</td>\n",
       "    </tr>\n",
       "    <tr>\n",
       "      <th>44</th>\n",
       "      <td>12.15</td>\n",
       "      <td>High</td>\n",
       "      <td>Tier 3</td>\n",
       "    </tr>\n",
       "  </tbody>\n",
       "</table>\n",
       "</div>"
      ],
      "text/plain": [
       "    Item_Weight Outlet_Size Outlet_Location_Type\n",
       "30        19.25         NaN                  NaN\n",
       "31        18.60      Medium               Tier 2\n",
       "32        18.70      Medium               Tier 2\n",
       "33        17.85         NaN                  NaN\n",
       "34        17.50       Small                Tier1\n",
       "35        10.00      Medium               Tier 2\n",
       "36          NaN      Medium               Tier 2\n",
       "37         8.85      Medium               Tier 2\n",
       "38          NaN      Medium               Tier 2\n",
       "39          NaN      Medium               Tier 2\n",
       "40        13.35       Small                Tier1\n",
       "41         9.80        High               Tier 3\n",
       "42        13.60      Medium               Tier 2\n",
       "43        21.35      Medium               Tier 2\n",
       "44        12.15        High               Tier 3"
      ]
     },
     "execution_count": 54,
     "metadata": {},
     "output_type": "execute_result"
    }
   ],
   "source": [
    "df_sales2[['Item_Weight', 'Outlet_Size', 'Outlet_Location_Type']].iloc[30:45]"
   ]
  },
  {
   "cell_type": "markdown",
   "id": "fd221258",
   "metadata": {
    "id": "sViSETkmlLOL"
   },
   "source": [
    "### bfill()"
   ]
  },
  {
   "cell_type": "code",
   "execution_count": 55,
   "id": "2f0aa585",
   "metadata": {
    "id": "xVLWOVh0lLOL",
    "outputId": "601c583e-e1ec-4621-cd02-2678f5dd634c",
    "scrolled": false
   },
   "outputs": [
    {
     "data": {
      "text/html": [
       "<div>\n",
       "<style scoped>\n",
       "    .dataframe tbody tr th:only-of-type {\n",
       "        vertical-align: middle;\n",
       "    }\n",
       "\n",
       "    .dataframe tbody tr th {\n",
       "        vertical-align: top;\n",
       "    }\n",
       "\n",
       "    .dataframe thead th {\n",
       "        text-align: right;\n",
       "    }\n",
       "</style>\n",
       "<table border=\"1\" class=\"dataframe\">\n",
       "  <thead>\n",
       "    <tr style=\"text-align: right;\">\n",
       "      <th></th>\n",
       "      <th>Item_Weight</th>\n",
       "      <th>Outlet_Size</th>\n",
       "      <th>Outlet_Location_Type</th>\n",
       "    </tr>\n",
       "  </thead>\n",
       "  <tbody>\n",
       "    <tr>\n",
       "      <th>30</th>\n",
       "      <td>19.25</td>\n",
       "      <td>Medium</td>\n",
       "      <td>Tier 2</td>\n",
       "    </tr>\n",
       "    <tr>\n",
       "      <th>31</th>\n",
       "      <td>18.60</td>\n",
       "      <td>Medium</td>\n",
       "      <td>Tier 2</td>\n",
       "    </tr>\n",
       "    <tr>\n",
       "      <th>32</th>\n",
       "      <td>18.70</td>\n",
       "      <td>Medium</td>\n",
       "      <td>Tier 2</td>\n",
       "    </tr>\n",
       "    <tr>\n",
       "      <th>33</th>\n",
       "      <td>17.85</td>\n",
       "      <td>Small</td>\n",
       "      <td>Tier1</td>\n",
       "    </tr>\n",
       "    <tr>\n",
       "      <th>34</th>\n",
       "      <td>17.50</td>\n",
       "      <td>Small</td>\n",
       "      <td>Tier1</td>\n",
       "    </tr>\n",
       "    <tr>\n",
       "      <th>35</th>\n",
       "      <td>10.00</td>\n",
       "      <td>Medium</td>\n",
       "      <td>Tier 2</td>\n",
       "    </tr>\n",
       "    <tr>\n",
       "      <th>36</th>\n",
       "      <td>8.85</td>\n",
       "      <td>Medium</td>\n",
       "      <td>Tier 2</td>\n",
       "    </tr>\n",
       "    <tr>\n",
       "      <th>37</th>\n",
       "      <td>8.85</td>\n",
       "      <td>Medium</td>\n",
       "      <td>Tier 2</td>\n",
       "    </tr>\n",
       "    <tr>\n",
       "      <th>38</th>\n",
       "      <td>13.35</td>\n",
       "      <td>Medium</td>\n",
       "      <td>Tier 2</td>\n",
       "    </tr>\n",
       "    <tr>\n",
       "      <th>39</th>\n",
       "      <td>13.35</td>\n",
       "      <td>Medium</td>\n",
       "      <td>Tier 2</td>\n",
       "    </tr>\n",
       "    <tr>\n",
       "      <th>40</th>\n",
       "      <td>13.35</td>\n",
       "      <td>Small</td>\n",
       "      <td>Tier1</td>\n",
       "    </tr>\n",
       "    <tr>\n",
       "      <th>41</th>\n",
       "      <td>9.80</td>\n",
       "      <td>High</td>\n",
       "      <td>Tier 3</td>\n",
       "    </tr>\n",
       "    <tr>\n",
       "      <th>42</th>\n",
       "      <td>13.60</td>\n",
       "      <td>Medium</td>\n",
       "      <td>Tier 2</td>\n",
       "    </tr>\n",
       "    <tr>\n",
       "      <th>43</th>\n",
       "      <td>21.35</td>\n",
       "      <td>Medium</td>\n",
       "      <td>Tier 2</td>\n",
       "    </tr>\n",
       "    <tr>\n",
       "      <th>44</th>\n",
       "      <td>12.15</td>\n",
       "      <td>High</td>\n",
       "      <td>Tier 3</td>\n",
       "    </tr>\n",
       "  </tbody>\n",
       "</table>\n",
       "</div>"
      ],
      "text/plain": [
       "    Item_Weight Outlet_Size Outlet_Location_Type\n",
       "30        19.25      Medium               Tier 2\n",
       "31        18.60      Medium               Tier 2\n",
       "32        18.70      Medium               Tier 2\n",
       "33        17.85       Small                Tier1\n",
       "34        17.50       Small                Tier1\n",
       "35        10.00      Medium               Tier 2\n",
       "36         8.85      Medium               Tier 2\n",
       "37         8.85      Medium               Tier 2\n",
       "38        13.35      Medium               Tier 2\n",
       "39        13.35      Medium               Tier 2\n",
       "40        13.35       Small                Tier1\n",
       "41         9.80        High               Tier 3\n",
       "42        13.60      Medium               Tier 2\n",
       "43        21.35      Medium               Tier 2\n",
       "44        12.15        High               Tier 3"
      ]
     },
     "execution_count": 55,
     "metadata": {},
     "output_type": "execute_result"
    }
   ],
   "source": [
    "# bfill() is used to backward fill the missing values in the dataset\n",
    "# axis = 'rows': the value in the Null value cell is filled from the corresponding value in the next row\n",
    "df_bfill_rows = df_sales2.bfill(axis = 'rows')\n",
    "df_bfill_rows[['Item_Weight', 'Outlet_Size', 'Outlet_Location_Type']].iloc[30:45]"
   ]
  },
  {
   "cell_type": "code",
   "execution_count": 56,
   "id": "9a4ec58c",
   "metadata": {
    "id": "eF6YbTF7lLOM",
    "outputId": "2a3d2a3c-4b54-4af4-a59d-3b26bce5cd6f"
   },
   "outputs": [
    {
     "data": {
      "text/plain": [
       "Unnamed: 0                   0\n",
       "Item_Identifier              0\n",
       "Item_Weight                  0\n",
       "Item_Fat_Content             0\n",
       "Item_Visibility              0\n",
       "Item_Type                    0\n",
       "Item_MRP                     0\n",
       "Outlet_Identifier            0\n",
       "Outlet_Establishment_Year    0\n",
       "Outlet_Size                  0\n",
       "Outlet_Location_Type         0\n",
       "Outlet_Type                  0\n",
       "Item_Outlet_Sales            0\n",
       "Profit                       0\n",
       "dtype: int64"
      ]
     },
     "execution_count": 56,
     "metadata": {},
     "output_type": "execute_result"
    }
   ],
   "source": [
    "# check the null values in each column\n",
    "df_bfill_rows.isnull().sum()"
   ]
  },
  {
   "cell_type": "markdown",
   "id": "52e30801",
   "metadata": {
    "id": "5-GZXlL7lLON"
   },
   "source": [
    "#### Note: If the next corresponding row is also null, then the previous cell with the null value will not be imputed."
   ]
  },
  {
   "cell_type": "code",
   "execution_count": 57,
   "id": "a200a8e2",
   "metadata": {
    "id": "5rQpbDjPlLON",
    "outputId": "32b2ee46-da38-4394-8312-5430cb80b8d7"
   },
   "outputs": [
    {
     "data": {
      "text/html": [
       "<div>\n",
       "<style scoped>\n",
       "    .dataframe tbody tr th:only-of-type {\n",
       "        vertical-align: middle;\n",
       "    }\n",
       "\n",
       "    .dataframe tbody tr th {\n",
       "        vertical-align: top;\n",
       "    }\n",
       "\n",
       "    .dataframe thead th {\n",
       "        text-align: right;\n",
       "    }\n",
       "</style>\n",
       "<table border=\"1\" class=\"dataframe\">\n",
       "  <thead>\n",
       "    <tr style=\"text-align: right;\">\n",
       "      <th></th>\n",
       "      <th>Unnamed: 0</th>\n",
       "      <th>Item_Identifier</th>\n",
       "      <th>Item_Weight</th>\n",
       "      <th>Item_Fat_Content</th>\n",
       "      <th>Item_Visibility</th>\n",
       "      <th>Item_Type</th>\n",
       "      <th>Item_MRP</th>\n",
       "      <th>Outlet_Identifier</th>\n",
       "      <th>Outlet_Establishment_Year</th>\n",
       "      <th>Outlet_Size</th>\n",
       "      <th>Outlet_Location_Type</th>\n",
       "      <th>Outlet_Type</th>\n",
       "      <th>Item_Outlet_Sales</th>\n",
       "      <th>Profit</th>\n",
       "    </tr>\n",
       "  </thead>\n",
       "  <tbody>\n",
       "    <tr>\n",
       "      <th>30</th>\n",
       "      <td>30</td>\n",
       "      <td>FDV38</td>\n",
       "      <td>19.25</td>\n",
       "      <td>Low Fat</td>\n",
       "      <td>0.170349</td>\n",
       "      <td>Dairy</td>\n",
       "      <td>55.8</td>\n",
       "      <td>OUT010</td>\n",
       "      <td>1998</td>\n",
       "      <td>Grocery Store</td>\n",
       "      <td>Grocery Store</td>\n",
       "      <td>Grocery Store</td>\n",
       "      <td>163.7868</td>\n",
       "      <td>11.7</td>\n",
       "    </tr>\n",
       "    <tr>\n",
       "      <th>31</th>\n",
       "      <td>31</td>\n",
       "      <td>NCS17</td>\n",
       "      <td>18.6</td>\n",
       "      <td>Low Fat</td>\n",
       "      <td>0.080829</td>\n",
       "      <td>Health and Hygiene</td>\n",
       "      <td>96.4</td>\n",
       "      <td>OUT018</td>\n",
       "      <td>2009</td>\n",
       "      <td>Medium</td>\n",
       "      <td>Tier 2</td>\n",
       "      <td>Supermarket Type2</td>\n",
       "      <td>2741.7644</td>\n",
       "      <td>13.4</td>\n",
       "    </tr>\n",
       "    <tr>\n",
       "      <th>32</th>\n",
       "      <td>32</td>\n",
       "      <td>FDP33</td>\n",
       "      <td>18.7</td>\n",
       "      <td>Low Fat</td>\n",
       "      <td>0.0</td>\n",
       "      <td>Snack Foods</td>\n",
       "      <td>256.7</td>\n",
       "      <td>OUT018</td>\n",
       "      <td>2009</td>\n",
       "      <td>Medium</td>\n",
       "      <td>Tier 2</td>\n",
       "      <td>Supermarket Type2</td>\n",
       "      <td>3068.0064</td>\n",
       "      <td>14.3</td>\n",
       "    </tr>\n",
       "    <tr>\n",
       "      <th>33</th>\n",
       "      <td>33</td>\n",
       "      <td>FDO23</td>\n",
       "      <td>17.85</td>\n",
       "      <td>Low Fat</td>\n",
       "      <td>0.0</td>\n",
       "      <td>Breads</td>\n",
       "      <td>93.1</td>\n",
       "      <td>OUT045</td>\n",
       "      <td>2002</td>\n",
       "      <td>Supermarket Type1</td>\n",
       "      <td>Supermarket Type1</td>\n",
       "      <td>Supermarket Type1</td>\n",
       "      <td>2174.5028</td>\n",
       "      <td>11.7</td>\n",
       "    </tr>\n",
       "    <tr>\n",
       "      <th>34</th>\n",
       "      <td>34</td>\n",
       "      <td>DRH01</td>\n",
       "      <td>17.5</td>\n",
       "      <td>Low Fat</td>\n",
       "      <td>0.097904</td>\n",
       "      <td>Soft Drinks</td>\n",
       "      <td>174.9</td>\n",
       "      <td>OUT046</td>\n",
       "      <td>1997</td>\n",
       "      <td>Small</td>\n",
       "      <td>Tier1</td>\n",
       "      <td>Supermarket Type1</td>\n",
       "      <td>2085.2856</td>\n",
       "      <td>14.3</td>\n",
       "    </tr>\n",
       "    <tr>\n",
       "      <th>35</th>\n",
       "      <td>35</td>\n",
       "      <td>NCX29</td>\n",
       "      <td>10.0</td>\n",
       "      <td>Low Fat</td>\n",
       "      <td>0.089291</td>\n",
       "      <td>Health and Hygiene</td>\n",
       "      <td>146.7</td>\n",
       "      <td>OUT049</td>\n",
       "      <td>1999</td>\n",
       "      <td>Medium</td>\n",
       "      <td>Tier 2</td>\n",
       "      <td>Supermarket Type1</td>\n",
       "      <td>3791.0652</td>\n",
       "      <td>14.0</td>\n",
       "    </tr>\n",
       "    <tr>\n",
       "      <th>36</th>\n",
       "      <td>36</td>\n",
       "      <td>FDV20</td>\n",
       "      <td>Regular</td>\n",
       "      <td>Regular</td>\n",
       "      <td>0.059512</td>\n",
       "      <td>Fruits and Vegetables</td>\n",
       "      <td>128.1</td>\n",
       "      <td>OUT027</td>\n",
       "      <td>1985</td>\n",
       "      <td>Medium</td>\n",
       "      <td>Tier 2</td>\n",
       "      <td>Supermarket Type3</td>\n",
       "      <td>2797.6916</td>\n",
       "      <td>12.4</td>\n",
       "    </tr>\n",
       "    <tr>\n",
       "      <th>37</th>\n",
       "      <td>37</td>\n",
       "      <td>DRZ11</td>\n",
       "      <td>8.85</td>\n",
       "      <td>Regular</td>\n",
       "      <td>0.113124</td>\n",
       "      <td>Soft Drinks</td>\n",
       "      <td>122.5</td>\n",
       "      <td>OUT018</td>\n",
       "      <td>2009</td>\n",
       "      <td>Medium</td>\n",
       "      <td>Tier 2</td>\n",
       "      <td>Supermarket Type2</td>\n",
       "      <td>1609.9044</td>\n",
       "      <td>14.3</td>\n",
       "    </tr>\n",
       "    <tr>\n",
       "      <th>38</th>\n",
       "      <td>38</td>\n",
       "      <td>FDX10</td>\n",
       "      <td>Regular</td>\n",
       "      <td>Regular</td>\n",
       "      <td>0.123111</td>\n",
       "      <td>Snack Foods</td>\n",
       "      <td>37.0</td>\n",
       "      <td>OUT027</td>\n",
       "      <td>1985</td>\n",
       "      <td>Medium</td>\n",
       "      <td>Tier 2</td>\n",
       "      <td>Supermarket Type3</td>\n",
       "      <td>388.1614</td>\n",
       "      <td>14.3</td>\n",
       "    </tr>\n",
       "    <tr>\n",
       "      <th>39</th>\n",
       "      <td>39</td>\n",
       "      <td>FDB34</td>\n",
       "      <td>Low Fat</td>\n",
       "      <td>Low Fat</td>\n",
       "      <td>0.026481</td>\n",
       "      <td>Snack Foods</td>\n",
       "      <td>87.6</td>\n",
       "      <td>OUT027</td>\n",
       "      <td>1985</td>\n",
       "      <td>Medium</td>\n",
       "      <td>Tier 2</td>\n",
       "      <td>Supermarket Type3</td>\n",
       "      <td>2180.495</td>\n",
       "      <td>14.6</td>\n",
       "    </tr>\n",
       "  </tbody>\n",
       "</table>\n",
       "</div>"
      ],
      "text/plain": [
       "   Unnamed: 0 Item_Identifier Item_Weight Item_Fat_Content Item_Visibility  \\\n",
       "30         30           FDV38       19.25          Low Fat        0.170349   \n",
       "31         31           NCS17        18.6          Low Fat        0.080829   \n",
       "32         32           FDP33        18.7          Low Fat             0.0   \n",
       "33         33           FDO23       17.85          Low Fat             0.0   \n",
       "34         34           DRH01        17.5          Low Fat        0.097904   \n",
       "35         35           NCX29        10.0          Low Fat        0.089291   \n",
       "36         36           FDV20     Regular          Regular        0.059512   \n",
       "37         37           DRZ11        8.85          Regular        0.113124   \n",
       "38         38           FDX10     Regular          Regular        0.123111   \n",
       "39         39           FDB34     Low Fat          Low Fat        0.026481   \n",
       "\n",
       "                Item_Type Item_MRP Outlet_Identifier  \\\n",
       "30                  Dairy     55.8            OUT010   \n",
       "31     Health and Hygiene     96.4            OUT018   \n",
       "32            Snack Foods    256.7            OUT018   \n",
       "33                 Breads     93.1            OUT045   \n",
       "34            Soft Drinks    174.9            OUT046   \n",
       "35     Health and Hygiene    146.7            OUT049   \n",
       "36  Fruits and Vegetables    128.1            OUT027   \n",
       "37            Soft Drinks    122.5            OUT018   \n",
       "38            Snack Foods     37.0            OUT027   \n",
       "39            Snack Foods     87.6            OUT027   \n",
       "\n",
       "   Outlet_Establishment_Year        Outlet_Size Outlet_Location_Type  \\\n",
       "30                      1998      Grocery Store        Grocery Store   \n",
       "31                      2009             Medium               Tier 2   \n",
       "32                      2009             Medium               Tier 2   \n",
       "33                      2002  Supermarket Type1    Supermarket Type1   \n",
       "34                      1997              Small                Tier1   \n",
       "35                      1999             Medium               Tier 2   \n",
       "36                      1985             Medium               Tier 2   \n",
       "37                      2009             Medium               Tier 2   \n",
       "38                      1985             Medium               Tier 2   \n",
       "39                      1985             Medium               Tier 2   \n",
       "\n",
       "          Outlet_Type Item_Outlet_Sales Profit  \n",
       "30      Grocery Store          163.7868   11.7  \n",
       "31  Supermarket Type2         2741.7644   13.4  \n",
       "32  Supermarket Type2         3068.0064   14.3  \n",
       "33  Supermarket Type1         2174.5028   11.7  \n",
       "34  Supermarket Type1         2085.2856   14.3  \n",
       "35  Supermarket Type1         3791.0652   14.0  \n",
       "36  Supermarket Type3         2797.6916   12.4  \n",
       "37  Supermarket Type2         1609.9044   14.3  \n",
       "38  Supermarket Type3          388.1614   14.3  \n",
       "39  Supermarket Type3          2180.495   14.6  "
      ]
     },
     "execution_count": 57,
     "metadata": {},
     "output_type": "execute_result"
    }
   ],
   "source": [
    "# bfill() is used to backward fill the missing values in the dataset\n",
    "# axis = 'columns': the value in the Null value cell is filled from the corresponding value in the next column\n",
    "df_bfill_columns = df_sales2.bfill(axis = 'columns')\n",
    "df_bfill_columns.iloc[30:40]"
   ]
  },
  {
   "cell_type": "code",
   "execution_count": 58,
   "id": "e6f4ee97",
   "metadata": {},
   "outputs": [
    {
     "data": {
      "text/html": [
       "<div>\n",
       "<style scoped>\n",
       "    .dataframe tbody tr th:only-of-type {\n",
       "        vertical-align: middle;\n",
       "    }\n",
       "\n",
       "    .dataframe tbody tr th {\n",
       "        vertical-align: top;\n",
       "    }\n",
       "\n",
       "    .dataframe thead th {\n",
       "        text-align: right;\n",
       "    }\n",
       "</style>\n",
       "<table border=\"1\" class=\"dataframe\">\n",
       "  <thead>\n",
       "    <tr style=\"text-align: right;\">\n",
       "      <th></th>\n",
       "      <th>Item_Weight</th>\n",
       "      <th>Outlet_Size</th>\n",
       "      <th>Outlet_Location_Type</th>\n",
       "    </tr>\n",
       "  </thead>\n",
       "  <tbody>\n",
       "    <tr>\n",
       "      <th>30</th>\n",
       "      <td>19.25</td>\n",
       "      <td>Grocery Store</td>\n",
       "      <td>Grocery Store</td>\n",
       "    </tr>\n",
       "    <tr>\n",
       "      <th>31</th>\n",
       "      <td>18.6</td>\n",
       "      <td>Medium</td>\n",
       "      <td>Tier 2</td>\n",
       "    </tr>\n",
       "    <tr>\n",
       "      <th>32</th>\n",
       "      <td>18.7</td>\n",
       "      <td>Medium</td>\n",
       "      <td>Tier 2</td>\n",
       "    </tr>\n",
       "    <tr>\n",
       "      <th>33</th>\n",
       "      <td>17.85</td>\n",
       "      <td>Supermarket Type1</td>\n",
       "      <td>Supermarket Type1</td>\n",
       "    </tr>\n",
       "    <tr>\n",
       "      <th>34</th>\n",
       "      <td>17.5</td>\n",
       "      <td>Small</td>\n",
       "      <td>Tier1</td>\n",
       "    </tr>\n",
       "    <tr>\n",
       "      <th>35</th>\n",
       "      <td>10.0</td>\n",
       "      <td>Medium</td>\n",
       "      <td>Tier 2</td>\n",
       "    </tr>\n",
       "    <tr>\n",
       "      <th>36</th>\n",
       "      <td>Regular</td>\n",
       "      <td>Medium</td>\n",
       "      <td>Tier 2</td>\n",
       "    </tr>\n",
       "    <tr>\n",
       "      <th>37</th>\n",
       "      <td>8.85</td>\n",
       "      <td>Medium</td>\n",
       "      <td>Tier 2</td>\n",
       "    </tr>\n",
       "    <tr>\n",
       "      <th>38</th>\n",
       "      <td>Regular</td>\n",
       "      <td>Medium</td>\n",
       "      <td>Tier 2</td>\n",
       "    </tr>\n",
       "    <tr>\n",
       "      <th>39</th>\n",
       "      <td>Low Fat</td>\n",
       "      <td>Medium</td>\n",
       "      <td>Tier 2</td>\n",
       "    </tr>\n",
       "  </tbody>\n",
       "</table>\n",
       "</div>"
      ],
      "text/plain": [
       "   Item_Weight        Outlet_Size Outlet_Location_Type\n",
       "30       19.25      Grocery Store        Grocery Store\n",
       "31        18.6             Medium               Tier 2\n",
       "32        18.7             Medium               Tier 2\n",
       "33       17.85  Supermarket Type1    Supermarket Type1\n",
       "34        17.5              Small                Tier1\n",
       "35        10.0             Medium               Tier 2\n",
       "36     Regular             Medium               Tier 2\n",
       "37        8.85             Medium               Tier 2\n",
       "38     Regular             Medium               Tier 2\n",
       "39     Low Fat             Medium               Tier 2"
      ]
     },
     "execution_count": 58,
     "metadata": {},
     "output_type": "execute_result"
    }
   ],
   "source": [
    "df_bfill_columns[['Item_Weight', 'Outlet_Size', 'Outlet_Location_Type']].iloc[30:40]"
   ]
  },
  {
   "cell_type": "markdown",
   "id": "7f0b5183",
   "metadata": {
    "id": "5TrE14FBlLOO"
   },
   "source": [
    "#### In our case we cannot use bfill or ffill with axis = 'columns' because data in each column is different and has an uncommon data type."
   ]
  },
  {
   "cell_type": "markdown",
   "id": "574334e6",
   "metadata": {
    "id": "eBGxrIAglLOO"
   },
   "source": [
    "#### Note: If the next corresponding column is also null, then the previous cell with the null value will not be imputed."
   ]
  },
  {
   "cell_type": "markdown",
   "id": "58fdfab8",
   "metadata": {
    "id": "-ZMfNOxKlLOP"
   },
   "source": [
    "### ffill()"
   ]
  },
  {
   "cell_type": "code",
   "execution_count": 59,
   "id": "ba7ac3c3",
   "metadata": {
    "id": "53_6NeQslLOP",
    "outputId": "9875489c-87ea-4785-f313-8aa89cd37e0b"
   },
   "outputs": [
    {
     "data": {
      "text/html": [
       "<div>\n",
       "<style scoped>\n",
       "    .dataframe tbody tr th:only-of-type {\n",
       "        vertical-align: middle;\n",
       "    }\n",
       "\n",
       "    .dataframe tbody tr th {\n",
       "        vertical-align: top;\n",
       "    }\n",
       "\n",
       "    .dataframe thead th {\n",
       "        text-align: right;\n",
       "    }\n",
       "</style>\n",
       "<table border=\"1\" class=\"dataframe\">\n",
       "  <thead>\n",
       "    <tr style=\"text-align: right;\">\n",
       "      <th></th>\n",
       "      <th>Item_Weight</th>\n",
       "      <th>Outlet_Size</th>\n",
       "      <th>Outlet_Location_Type</th>\n",
       "    </tr>\n",
       "  </thead>\n",
       "  <tbody>\n",
       "    <tr>\n",
       "      <th>30</th>\n",
       "      <td>19.25</td>\n",
       "      <td>Small</td>\n",
       "      <td>Tier1</td>\n",
       "    </tr>\n",
       "    <tr>\n",
       "      <th>31</th>\n",
       "      <td>18.60</td>\n",
       "      <td>Medium</td>\n",
       "      <td>Tier 2</td>\n",
       "    </tr>\n",
       "    <tr>\n",
       "      <th>32</th>\n",
       "      <td>18.70</td>\n",
       "      <td>Medium</td>\n",
       "      <td>Tier 2</td>\n",
       "    </tr>\n",
       "    <tr>\n",
       "      <th>33</th>\n",
       "      <td>17.85</td>\n",
       "      <td>Medium</td>\n",
       "      <td>Tier 2</td>\n",
       "    </tr>\n",
       "    <tr>\n",
       "      <th>34</th>\n",
       "      <td>17.50</td>\n",
       "      <td>Small</td>\n",
       "      <td>Tier1</td>\n",
       "    </tr>\n",
       "    <tr>\n",
       "      <th>35</th>\n",
       "      <td>10.00</td>\n",
       "      <td>Medium</td>\n",
       "      <td>Tier 2</td>\n",
       "    </tr>\n",
       "    <tr>\n",
       "      <th>36</th>\n",
       "      <td>10.00</td>\n",
       "      <td>Medium</td>\n",
       "      <td>Tier 2</td>\n",
       "    </tr>\n",
       "    <tr>\n",
       "      <th>37</th>\n",
       "      <td>8.85</td>\n",
       "      <td>Medium</td>\n",
       "      <td>Tier 2</td>\n",
       "    </tr>\n",
       "    <tr>\n",
       "      <th>38</th>\n",
       "      <td>8.85</td>\n",
       "      <td>Medium</td>\n",
       "      <td>Tier 2</td>\n",
       "    </tr>\n",
       "    <tr>\n",
       "      <th>39</th>\n",
       "      <td>8.85</td>\n",
       "      <td>Medium</td>\n",
       "      <td>Tier 2</td>\n",
       "    </tr>\n",
       "  </tbody>\n",
       "</table>\n",
       "</div>"
      ],
      "text/plain": [
       "    Item_Weight Outlet_Size Outlet_Location_Type\n",
       "30        19.25       Small                Tier1\n",
       "31        18.60      Medium               Tier 2\n",
       "32        18.70      Medium               Tier 2\n",
       "33        17.85      Medium               Tier 2\n",
       "34        17.50       Small                Tier1\n",
       "35        10.00      Medium               Tier 2\n",
       "36        10.00      Medium               Tier 2\n",
       "37         8.85      Medium               Tier 2\n",
       "38         8.85      Medium               Tier 2\n",
       "39         8.85      Medium               Tier 2"
      ]
     },
     "execution_count": 59,
     "metadata": {},
     "output_type": "execute_result"
    }
   ],
   "source": [
    "# ffill() is used to forward fill the missing values in the dataset\n",
    "# axis = 'rows': the value in the Null value cell is filled from the corresponding value in the previous row\n",
    "df_ffill_rows = df_sales2.ffill(axis = 'rows')\n",
    "\n",
    "# looking only at the columns with null values to visualize the changes clearly\n",
    "df_ffill_rows[['Item_Weight', 'Outlet_Size', 'Outlet_Location_Type']].iloc[30:40]"
   ]
  },
  {
   "cell_type": "code",
   "execution_count": 60,
   "id": "42fa5fef",
   "metadata": {
    "id": "MuQsDKM1lLOQ",
    "outputId": "51ad4345-a4d9-453d-d9f7-17eb82eb81c2"
   },
   "outputs": [
    {
     "data": {
      "text/html": [
       "<div>\n",
       "<style scoped>\n",
       "    .dataframe tbody tr th:only-of-type {\n",
       "        vertical-align: middle;\n",
       "    }\n",
       "\n",
       "    .dataframe tbody tr th {\n",
       "        vertical-align: top;\n",
       "    }\n",
       "\n",
       "    .dataframe thead th {\n",
       "        text-align: right;\n",
       "    }\n",
       "</style>\n",
       "<table border=\"1\" class=\"dataframe\">\n",
       "  <thead>\n",
       "    <tr style=\"text-align: right;\">\n",
       "      <th></th>\n",
       "      <th>Unnamed: 0</th>\n",
       "      <th>Item_Identifier</th>\n",
       "      <th>Item_Weight</th>\n",
       "      <th>Item_Fat_Content</th>\n",
       "      <th>Item_Visibility</th>\n",
       "      <th>Item_Type</th>\n",
       "      <th>Item_MRP</th>\n",
       "      <th>Outlet_Identifier</th>\n",
       "      <th>Outlet_Establishment_Year</th>\n",
       "      <th>Outlet_Size</th>\n",
       "      <th>Outlet_Location_Type</th>\n",
       "      <th>Outlet_Type</th>\n",
       "      <th>Item_Outlet_Sales</th>\n",
       "      <th>Profit</th>\n",
       "    </tr>\n",
       "  </thead>\n",
       "  <tbody>\n",
       "    <tr>\n",
       "      <th>30</th>\n",
       "      <td>30</td>\n",
       "      <td>FDV38</td>\n",
       "      <td>19.25</td>\n",
       "      <td>Low Fat</td>\n",
       "      <td>0.170349</td>\n",
       "      <td>Dairy</td>\n",
       "      <td>55.8</td>\n",
       "      <td>OUT010</td>\n",
       "      <td>1998</td>\n",
       "      <td>1998</td>\n",
       "      <td>1998</td>\n",
       "      <td>Grocery Store</td>\n",
       "      <td>163.7868</td>\n",
       "      <td>11.7</td>\n",
       "    </tr>\n",
       "    <tr>\n",
       "      <th>31</th>\n",
       "      <td>31</td>\n",
       "      <td>NCS17</td>\n",
       "      <td>18.6</td>\n",
       "      <td>Low Fat</td>\n",
       "      <td>0.080829</td>\n",
       "      <td>Health and Hygiene</td>\n",
       "      <td>96.4</td>\n",
       "      <td>OUT018</td>\n",
       "      <td>2009</td>\n",
       "      <td>Medium</td>\n",
       "      <td>Tier 2</td>\n",
       "      <td>Supermarket Type2</td>\n",
       "      <td>2741.7644</td>\n",
       "      <td>13.4</td>\n",
       "    </tr>\n",
       "    <tr>\n",
       "      <th>32</th>\n",
       "      <td>32</td>\n",
       "      <td>FDP33</td>\n",
       "      <td>18.7</td>\n",
       "      <td>Low Fat</td>\n",
       "      <td>0.0</td>\n",
       "      <td>Snack Foods</td>\n",
       "      <td>256.7</td>\n",
       "      <td>OUT018</td>\n",
       "      <td>2009</td>\n",
       "      <td>Medium</td>\n",
       "      <td>Tier 2</td>\n",
       "      <td>Supermarket Type2</td>\n",
       "      <td>3068.0064</td>\n",
       "      <td>14.3</td>\n",
       "    </tr>\n",
       "    <tr>\n",
       "      <th>33</th>\n",
       "      <td>33</td>\n",
       "      <td>FDO23</td>\n",
       "      <td>17.85</td>\n",
       "      <td>Low Fat</td>\n",
       "      <td>0.0</td>\n",
       "      <td>Breads</td>\n",
       "      <td>93.1</td>\n",
       "      <td>OUT045</td>\n",
       "      <td>2002</td>\n",
       "      <td>2002</td>\n",
       "      <td>2002</td>\n",
       "      <td>Supermarket Type1</td>\n",
       "      <td>2174.5028</td>\n",
       "      <td>11.7</td>\n",
       "    </tr>\n",
       "    <tr>\n",
       "      <th>34</th>\n",
       "      <td>34</td>\n",
       "      <td>DRH01</td>\n",
       "      <td>17.5</td>\n",
       "      <td>Low Fat</td>\n",
       "      <td>0.097904</td>\n",
       "      <td>Soft Drinks</td>\n",
       "      <td>174.9</td>\n",
       "      <td>OUT046</td>\n",
       "      <td>1997</td>\n",
       "      <td>Small</td>\n",
       "      <td>Tier1</td>\n",
       "      <td>Supermarket Type1</td>\n",
       "      <td>2085.2856</td>\n",
       "      <td>14.3</td>\n",
       "    </tr>\n",
       "    <tr>\n",
       "      <th>35</th>\n",
       "      <td>35</td>\n",
       "      <td>NCX29</td>\n",
       "      <td>10.0</td>\n",
       "      <td>Low Fat</td>\n",
       "      <td>0.089291</td>\n",
       "      <td>Health and Hygiene</td>\n",
       "      <td>146.7</td>\n",
       "      <td>OUT049</td>\n",
       "      <td>1999</td>\n",
       "      <td>Medium</td>\n",
       "      <td>Tier 2</td>\n",
       "      <td>Supermarket Type1</td>\n",
       "      <td>3791.0652</td>\n",
       "      <td>14.0</td>\n",
       "    </tr>\n",
       "    <tr>\n",
       "      <th>36</th>\n",
       "      <td>36</td>\n",
       "      <td>FDV20</td>\n",
       "      <td>FDV20</td>\n",
       "      <td>Regular</td>\n",
       "      <td>0.059512</td>\n",
       "      <td>Fruits and Vegetables</td>\n",
       "      <td>128.1</td>\n",
       "      <td>OUT027</td>\n",
       "      <td>1985</td>\n",
       "      <td>Medium</td>\n",
       "      <td>Tier 2</td>\n",
       "      <td>Supermarket Type3</td>\n",
       "      <td>2797.6916</td>\n",
       "      <td>12.4</td>\n",
       "    </tr>\n",
       "    <tr>\n",
       "      <th>37</th>\n",
       "      <td>37</td>\n",
       "      <td>DRZ11</td>\n",
       "      <td>8.85</td>\n",
       "      <td>Regular</td>\n",
       "      <td>0.113124</td>\n",
       "      <td>Soft Drinks</td>\n",
       "      <td>122.5</td>\n",
       "      <td>OUT018</td>\n",
       "      <td>2009</td>\n",
       "      <td>Medium</td>\n",
       "      <td>Tier 2</td>\n",
       "      <td>Supermarket Type2</td>\n",
       "      <td>1609.9044</td>\n",
       "      <td>14.3</td>\n",
       "    </tr>\n",
       "    <tr>\n",
       "      <th>38</th>\n",
       "      <td>38</td>\n",
       "      <td>FDX10</td>\n",
       "      <td>FDX10</td>\n",
       "      <td>Regular</td>\n",
       "      <td>0.123111</td>\n",
       "      <td>Snack Foods</td>\n",
       "      <td>37.0</td>\n",
       "      <td>OUT027</td>\n",
       "      <td>1985</td>\n",
       "      <td>Medium</td>\n",
       "      <td>Tier 2</td>\n",
       "      <td>Supermarket Type3</td>\n",
       "      <td>388.1614</td>\n",
       "      <td>14.3</td>\n",
       "    </tr>\n",
       "    <tr>\n",
       "      <th>39</th>\n",
       "      <td>39</td>\n",
       "      <td>FDB34</td>\n",
       "      <td>FDB34</td>\n",
       "      <td>Low Fat</td>\n",
       "      <td>0.026481</td>\n",
       "      <td>Snack Foods</td>\n",
       "      <td>87.6</td>\n",
       "      <td>OUT027</td>\n",
       "      <td>1985</td>\n",
       "      <td>Medium</td>\n",
       "      <td>Tier 2</td>\n",
       "      <td>Supermarket Type3</td>\n",
       "      <td>2180.495</td>\n",
       "      <td>14.6</td>\n",
       "    </tr>\n",
       "  </tbody>\n",
       "</table>\n",
       "</div>"
      ],
      "text/plain": [
       "   Unnamed: 0 Item_Identifier Item_Weight Item_Fat_Content Item_Visibility  \\\n",
       "30         30           FDV38       19.25          Low Fat        0.170349   \n",
       "31         31           NCS17        18.6          Low Fat        0.080829   \n",
       "32         32           FDP33        18.7          Low Fat             0.0   \n",
       "33         33           FDO23       17.85          Low Fat             0.0   \n",
       "34         34           DRH01        17.5          Low Fat        0.097904   \n",
       "35         35           NCX29        10.0          Low Fat        0.089291   \n",
       "36         36           FDV20       FDV20          Regular        0.059512   \n",
       "37         37           DRZ11        8.85          Regular        0.113124   \n",
       "38         38           FDX10       FDX10          Regular        0.123111   \n",
       "39         39           FDB34       FDB34          Low Fat        0.026481   \n",
       "\n",
       "                Item_Type Item_MRP Outlet_Identifier  \\\n",
       "30                  Dairy     55.8            OUT010   \n",
       "31     Health and Hygiene     96.4            OUT018   \n",
       "32            Snack Foods    256.7            OUT018   \n",
       "33                 Breads     93.1            OUT045   \n",
       "34            Soft Drinks    174.9            OUT046   \n",
       "35     Health and Hygiene    146.7            OUT049   \n",
       "36  Fruits and Vegetables    128.1            OUT027   \n",
       "37            Soft Drinks    122.5            OUT018   \n",
       "38            Snack Foods     37.0            OUT027   \n",
       "39            Snack Foods     87.6            OUT027   \n",
       "\n",
       "   Outlet_Establishment_Year Outlet_Size Outlet_Location_Type  \\\n",
       "30                      1998        1998                 1998   \n",
       "31                      2009      Medium               Tier 2   \n",
       "32                      2009      Medium               Tier 2   \n",
       "33                      2002        2002                 2002   \n",
       "34                      1997       Small                Tier1   \n",
       "35                      1999      Medium               Tier 2   \n",
       "36                      1985      Medium               Tier 2   \n",
       "37                      2009      Medium               Tier 2   \n",
       "38                      1985      Medium               Tier 2   \n",
       "39                      1985      Medium               Tier 2   \n",
       "\n",
       "          Outlet_Type Item_Outlet_Sales Profit  \n",
       "30      Grocery Store          163.7868   11.7  \n",
       "31  Supermarket Type2         2741.7644   13.4  \n",
       "32  Supermarket Type2         3068.0064   14.3  \n",
       "33  Supermarket Type1         2174.5028   11.7  \n",
       "34  Supermarket Type1         2085.2856   14.3  \n",
       "35  Supermarket Type1         3791.0652   14.0  \n",
       "36  Supermarket Type3         2797.6916   12.4  \n",
       "37  Supermarket Type2         1609.9044   14.3  \n",
       "38  Supermarket Type3          388.1614   14.3  \n",
       "39  Supermarket Type3          2180.495   14.6  "
      ]
     },
     "execution_count": 60,
     "metadata": {},
     "output_type": "execute_result"
    }
   ],
   "source": [
    "# ffill() is used to forward fill the missing values in the dataset\n",
    "# axis = 'columns': the value in the Null value cell is filled from the corresponding value in the previous row\n",
    "df_ffill_columns = df_sales2.ffill(axis = 'columns')\n",
    "\n",
    "# looking only at the columns with null values to visualize the changes clearly\n",
    "df_ffill_columns.iloc[30:40]"
   ]
  },
  {
   "cell_type": "markdown",
   "id": "1d8c4b40",
   "metadata": {
    "id": "_lXG3J2XlLOR"
   },
   "source": [
    "#### In our case we cannot use bfill or ffill with axis = 'columns' because data in each column is different and has an uncommon data type."
   ]
  },
  {
   "cell_type": "markdown",
   "id": "f3be76d6",
   "metadata": {
    "id": "u0qH5XFclLOS"
   },
   "source": [
    "<a id=\"outliers\"></a>\n",
    "# 2. Outliers Treatment\n",
    "\n",
    "An outlier is an observation in the data that lies at an abnormal distance from other values. Presence of an outlier may skew the results. Hence it is necessary to remove them."
   ]
  },
  {
   "cell_type": "code",
   "execution_count": 61,
   "id": "ba37a574",
   "metadata": {},
   "outputs": [
    {
     "data": {
      "text/html": [
       "<div>\n",
       "<style scoped>\n",
       "    .dataframe tbody tr th:only-of-type {\n",
       "        vertical-align: middle;\n",
       "    }\n",
       "\n",
       "    .dataframe tbody tr th {\n",
       "        vertical-align: top;\n",
       "    }\n",
       "\n",
       "    .dataframe thead th {\n",
       "        text-align: right;\n",
       "    }\n",
       "</style>\n",
       "<table border=\"1\" class=\"dataframe\">\n",
       "  <thead>\n",
       "    <tr style=\"text-align: right;\">\n",
       "      <th></th>\n",
       "      <th>Unnamed: 0</th>\n",
       "      <th>Item_Identifier</th>\n",
       "      <th>Item_Weight</th>\n",
       "      <th>Item_Fat_Content</th>\n",
       "      <th>Item_Visibility</th>\n",
       "      <th>Item_Type</th>\n",
       "      <th>Item_MRP</th>\n",
       "      <th>Outlet_Identifier</th>\n",
       "      <th>Outlet_Establishment_Year</th>\n",
       "      <th>Outlet_Size</th>\n",
       "      <th>Outlet_Location_Type</th>\n",
       "      <th>Outlet_Type</th>\n",
       "      <th>Item_Outlet_Sales</th>\n",
       "      <th>Profit</th>\n",
       "    </tr>\n",
       "  </thead>\n",
       "  <tbody>\n",
       "    <tr>\n",
       "      <th>0</th>\n",
       "      <td>0</td>\n",
       "      <td>FDA15</td>\n",
       "      <td>9.30</td>\n",
       "      <td>Low Fat</td>\n",
       "      <td>0.016047</td>\n",
       "      <td>Dairy</td>\n",
       "      <td>249.8</td>\n",
       "      <td>OUT049</td>\n",
       "      <td>1999</td>\n",
       "      <td>Medium</td>\n",
       "      <td>Tier 2</td>\n",
       "      <td>Supermarket Type1</td>\n",
       "      <td>3735.1380</td>\n",
       "      <td>11.5</td>\n",
       "    </tr>\n",
       "    <tr>\n",
       "      <th>1</th>\n",
       "      <td>1</td>\n",
       "      <td>DRC01</td>\n",
       "      <td>5.92</td>\n",
       "      <td>Regular</td>\n",
       "      <td>0.019278</td>\n",
       "      <td>Soft Drinks</td>\n",
       "      <td>48.3</td>\n",
       "      <td>OUT018</td>\n",
       "      <td>2009</td>\n",
       "      <td>Medium</td>\n",
       "      <td>Tier 2</td>\n",
       "      <td>Supermarket Type2</td>\n",
       "      <td>443.4228</td>\n",
       "      <td>14.3</td>\n",
       "    </tr>\n",
       "    <tr>\n",
       "      <th>2</th>\n",
       "      <td>2</td>\n",
       "      <td>FDN15</td>\n",
       "      <td>17.50</td>\n",
       "      <td>Low Fat</td>\n",
       "      <td>0.016760</td>\n",
       "      <td>Meat</td>\n",
       "      <td>141.6</td>\n",
       "      <td>OUT049</td>\n",
       "      <td>1999</td>\n",
       "      <td>Medium</td>\n",
       "      <td>Tier 2</td>\n",
       "      <td>Supermarket Type1</td>\n",
       "      <td>2097.2700</td>\n",
       "      <td>14.5</td>\n",
       "    </tr>\n",
       "    <tr>\n",
       "      <th>3</th>\n",
       "      <td>3</td>\n",
       "      <td>FDX07</td>\n",
       "      <td>19.20</td>\n",
       "      <td>Regular</td>\n",
       "      <td>0.000000</td>\n",
       "      <td>Fruits and Vegetables</td>\n",
       "      <td>182.1</td>\n",
       "      <td>OUT010</td>\n",
       "      <td>1998</td>\n",
       "      <td>Medium</td>\n",
       "      <td>Tier1</td>\n",
       "      <td>Grocery Store</td>\n",
       "      <td>732.3800</td>\n",
       "      <td>13.6</td>\n",
       "    </tr>\n",
       "    <tr>\n",
       "      <th>4</th>\n",
       "      <td>4</td>\n",
       "      <td>NCD19</td>\n",
       "      <td>8.93</td>\n",
       "      <td>Low Fat</td>\n",
       "      <td>0.000000</td>\n",
       "      <td>Household</td>\n",
       "      <td>53.9</td>\n",
       "      <td>OUT013</td>\n",
       "      <td>1987</td>\n",
       "      <td>High</td>\n",
       "      <td>Tier 3</td>\n",
       "      <td>Supermarket Type1</td>\n",
       "      <td>994.7052</td>\n",
       "      <td>14.1</td>\n",
       "    </tr>\n",
       "  </tbody>\n",
       "</table>\n",
       "</div>"
      ],
      "text/plain": [
       "   Unnamed: 0 Item_Identifier  Item_Weight Item_Fat_Content  Item_Visibility  \\\n",
       "0           0           FDA15         9.30          Low Fat         0.016047   \n",
       "1           1           DRC01         5.92          Regular         0.019278   \n",
       "2           2           FDN15        17.50          Low Fat         0.016760   \n",
       "3           3           FDX07        19.20          Regular         0.000000   \n",
       "4           4           NCD19         8.93          Low Fat         0.000000   \n",
       "\n",
       "               Item_Type  Item_MRP Outlet_Identifier  \\\n",
       "0                  Dairy     249.8            OUT049   \n",
       "1            Soft Drinks      48.3            OUT018   \n",
       "2                   Meat     141.6            OUT049   \n",
       "3  Fruits and Vegetables     182.1            OUT010   \n",
       "4              Household      53.9            OUT013   \n",
       "\n",
       "   Outlet_Establishment_Year Outlet_Size Outlet_Location_Type  \\\n",
       "0                       1999      Medium               Tier 2   \n",
       "1                       2009      Medium               Tier 2   \n",
       "2                       1999      Medium               Tier 2   \n",
       "3                       1998      Medium                Tier1   \n",
       "4                       1987        High               Tier 3   \n",
       "\n",
       "         Outlet_Type  Item_Outlet_Sales  Profit  \n",
       "0  Supermarket Type1          3735.1380    11.5  \n",
       "1  Supermarket Type2           443.4228    14.3  \n",
       "2  Supermarket Type1          2097.2700    14.5  \n",
       "3      Grocery Store           732.3800    13.6  \n",
       "4  Supermarket Type1           994.7052    14.1  "
      ]
     },
     "execution_count": 61,
     "metadata": {},
     "output_type": "execute_result"
    }
   ],
   "source": [
    "df_sales.head()"
   ]
  },
  {
   "cell_type": "code",
   "execution_count": 62,
   "id": "80e57193",
   "metadata": {},
   "outputs": [
    {
     "data": {
      "text/plain": [
       "(8523, 7)"
      ]
     },
     "execution_count": 62,
     "metadata": {},
     "output_type": "execute_result"
    }
   ],
   "source": [
    "#seperating the numerical and categorical columns\n",
    "df_num=df_sales.select_dtypes(include=np.number)\n",
    "df_num.shape"
   ]
  },
  {
   "cell_type": "markdown",
   "id": "acca83a4",
   "metadata": {},
   "source": [
    "- df_int=df_sales.select_dtypes(include=int)\n",
    "- df_int.shape"
   ]
  },
  {
   "cell_type": "markdown",
   "id": "a6f1222b",
   "metadata": {},
   "source": [
    "- df_float=df_sales.select_dtypes(include=float)\n",
    "- df_float.shape"
   ]
  },
  {
   "cell_type": "code",
   "execution_count": 63,
   "id": "cb2472eb",
   "metadata": {},
   "outputs": [
    {
     "data": {
      "text/html": [
       "<div>\n",
       "<style scoped>\n",
       "    .dataframe tbody tr th:only-of-type {\n",
       "        vertical-align: middle;\n",
       "    }\n",
       "\n",
       "    .dataframe tbody tr th {\n",
       "        vertical-align: top;\n",
       "    }\n",
       "\n",
       "    .dataframe thead th {\n",
       "        text-align: right;\n",
       "    }\n",
       "</style>\n",
       "<table border=\"1\" class=\"dataframe\">\n",
       "  <thead>\n",
       "    <tr style=\"text-align: right;\">\n",
       "      <th></th>\n",
       "      <th>Unnamed: 0</th>\n",
       "      <th>Item_Identifier</th>\n",
       "      <th>Item_Weight</th>\n",
       "      <th>Item_Fat_Content</th>\n",
       "      <th>Item_Visibility</th>\n",
       "      <th>Item_Type</th>\n",
       "      <th>Item_MRP</th>\n",
       "      <th>Outlet_Identifier</th>\n",
       "      <th>Outlet_Establishment_Year</th>\n",
       "      <th>Outlet_Size</th>\n",
       "      <th>Outlet_Location_Type</th>\n",
       "      <th>Outlet_Type</th>\n",
       "      <th>Item_Outlet_Sales</th>\n",
       "      <th>Profit</th>\n",
       "    </tr>\n",
       "  </thead>\n",
       "  <tbody>\n",
       "    <tr>\n",
       "      <th>0</th>\n",
       "      <td>0</td>\n",
       "      <td>FDA15</td>\n",
       "      <td>9.30</td>\n",
       "      <td>Low Fat</td>\n",
       "      <td>0.016047</td>\n",
       "      <td>Dairy</td>\n",
       "      <td>249.8</td>\n",
       "      <td>OUT049</td>\n",
       "      <td>1999</td>\n",
       "      <td>Medium</td>\n",
       "      <td>Tier 2</td>\n",
       "      <td>Supermarket Type1</td>\n",
       "      <td>3735.1380</td>\n",
       "      <td>11.5</td>\n",
       "    </tr>\n",
       "    <tr>\n",
       "      <th>1</th>\n",
       "      <td>1</td>\n",
       "      <td>DRC01</td>\n",
       "      <td>5.92</td>\n",
       "      <td>Regular</td>\n",
       "      <td>0.019278</td>\n",
       "      <td>Soft Drinks</td>\n",
       "      <td>48.3</td>\n",
       "      <td>OUT018</td>\n",
       "      <td>2009</td>\n",
       "      <td>Medium</td>\n",
       "      <td>Tier 2</td>\n",
       "      <td>Supermarket Type2</td>\n",
       "      <td>443.4228</td>\n",
       "      <td>14.3</td>\n",
       "    </tr>\n",
       "    <tr>\n",
       "      <th>2</th>\n",
       "      <td>2</td>\n",
       "      <td>FDN15</td>\n",
       "      <td>17.50</td>\n",
       "      <td>Low Fat</td>\n",
       "      <td>0.016760</td>\n",
       "      <td>Meat</td>\n",
       "      <td>141.6</td>\n",
       "      <td>OUT049</td>\n",
       "      <td>1999</td>\n",
       "      <td>Medium</td>\n",
       "      <td>Tier 2</td>\n",
       "      <td>Supermarket Type1</td>\n",
       "      <td>2097.2700</td>\n",
       "      <td>14.5</td>\n",
       "    </tr>\n",
       "    <tr>\n",
       "      <th>3</th>\n",
       "      <td>3</td>\n",
       "      <td>FDX07</td>\n",
       "      <td>19.20</td>\n",
       "      <td>Regular</td>\n",
       "      <td>0.000000</td>\n",
       "      <td>Fruits and Vegetables</td>\n",
       "      <td>182.1</td>\n",
       "      <td>OUT010</td>\n",
       "      <td>1998</td>\n",
       "      <td>Medium</td>\n",
       "      <td>Tier1</td>\n",
       "      <td>Grocery Store</td>\n",
       "      <td>732.3800</td>\n",
       "      <td>13.6</td>\n",
       "    </tr>\n",
       "    <tr>\n",
       "      <th>4</th>\n",
       "      <td>4</td>\n",
       "      <td>NCD19</td>\n",
       "      <td>8.93</td>\n",
       "      <td>Low Fat</td>\n",
       "      <td>0.000000</td>\n",
       "      <td>Household</td>\n",
       "      <td>53.9</td>\n",
       "      <td>OUT013</td>\n",
       "      <td>1987</td>\n",
       "      <td>High</td>\n",
       "      <td>Tier 3</td>\n",
       "      <td>Supermarket Type1</td>\n",
       "      <td>994.7052</td>\n",
       "      <td>14.1</td>\n",
       "    </tr>\n",
       "  </tbody>\n",
       "</table>\n",
       "</div>"
      ],
      "text/plain": [
       "   Unnamed: 0 Item_Identifier  Item_Weight Item_Fat_Content  Item_Visibility  \\\n",
       "0           0           FDA15         9.30          Low Fat         0.016047   \n",
       "1           1           DRC01         5.92          Regular         0.019278   \n",
       "2           2           FDN15        17.50          Low Fat         0.016760   \n",
       "3           3           FDX07        19.20          Regular         0.000000   \n",
       "4           4           NCD19         8.93          Low Fat         0.000000   \n",
       "\n",
       "               Item_Type  Item_MRP Outlet_Identifier  \\\n",
       "0                  Dairy     249.8            OUT049   \n",
       "1            Soft Drinks      48.3            OUT018   \n",
       "2                   Meat     141.6            OUT049   \n",
       "3  Fruits and Vegetables     182.1            OUT010   \n",
       "4              Household      53.9            OUT013   \n",
       "\n",
       "   Outlet_Establishment_Year Outlet_Size Outlet_Location_Type  \\\n",
       "0                       1999      Medium               Tier 2   \n",
       "1                       2009      Medium               Tier 2   \n",
       "2                       1999      Medium               Tier 2   \n",
       "3                       1998      Medium                Tier1   \n",
       "4                       1987        High               Tier 3   \n",
       "\n",
       "         Outlet_Type  Item_Outlet_Sales  Profit  \n",
       "0  Supermarket Type1          3735.1380    11.5  \n",
       "1  Supermarket Type2           443.4228    14.3  \n",
       "2  Supermarket Type1          2097.2700    14.5  \n",
       "3      Grocery Store           732.3800    13.6  \n",
       "4  Supermarket Type1           994.7052    14.1  "
      ]
     },
     "execution_count": 63,
     "metadata": {},
     "output_type": "execute_result"
    }
   ],
   "source": [
    "df_sales.head()"
   ]
  },
  {
   "cell_type": "code",
   "execution_count": 64,
   "id": "0b1637d3",
   "metadata": {},
   "outputs": [
    {
     "data": {
      "text/html": [
       "<div>\n",
       "<style scoped>\n",
       "    .dataframe tbody tr th:only-of-type {\n",
       "        vertical-align: middle;\n",
       "    }\n",
       "\n",
       "    .dataframe tbody tr th {\n",
       "        vertical-align: top;\n",
       "    }\n",
       "\n",
       "    .dataframe thead th {\n",
       "        text-align: right;\n",
       "    }\n",
       "</style>\n",
       "<table border=\"1\" class=\"dataframe\">\n",
       "  <thead>\n",
       "    <tr style=\"text-align: right;\">\n",
       "      <th></th>\n",
       "      <th>Unnamed: 0</th>\n",
       "      <th>Item_Weight</th>\n",
       "      <th>Item_Visibility</th>\n",
       "      <th>Item_MRP</th>\n",
       "      <th>Outlet_Establishment_Year</th>\n",
       "      <th>Item_Outlet_Sales</th>\n",
       "      <th>Profit</th>\n",
       "    </tr>\n",
       "  </thead>\n",
       "  <tbody>\n",
       "    <tr>\n",
       "      <th>0</th>\n",
       "      <td>0</td>\n",
       "      <td>9.30</td>\n",
       "      <td>0.016047</td>\n",
       "      <td>249.8</td>\n",
       "      <td>1999</td>\n",
       "      <td>3735.1380</td>\n",
       "      <td>11.5</td>\n",
       "    </tr>\n",
       "    <tr>\n",
       "      <th>1</th>\n",
       "      <td>1</td>\n",
       "      <td>5.92</td>\n",
       "      <td>0.019278</td>\n",
       "      <td>48.3</td>\n",
       "      <td>2009</td>\n",
       "      <td>443.4228</td>\n",
       "      <td>14.3</td>\n",
       "    </tr>\n",
       "    <tr>\n",
       "      <th>2</th>\n",
       "      <td>2</td>\n",
       "      <td>17.50</td>\n",
       "      <td>0.016760</td>\n",
       "      <td>141.6</td>\n",
       "      <td>1999</td>\n",
       "      <td>2097.2700</td>\n",
       "      <td>14.5</td>\n",
       "    </tr>\n",
       "    <tr>\n",
       "      <th>3</th>\n",
       "      <td>3</td>\n",
       "      <td>19.20</td>\n",
       "      <td>0.000000</td>\n",
       "      <td>182.1</td>\n",
       "      <td>1998</td>\n",
       "      <td>732.3800</td>\n",
       "      <td>13.6</td>\n",
       "    </tr>\n",
       "    <tr>\n",
       "      <th>4</th>\n",
       "      <td>4</td>\n",
       "      <td>8.93</td>\n",
       "      <td>0.000000</td>\n",
       "      <td>53.9</td>\n",
       "      <td>1987</td>\n",
       "      <td>994.7052</td>\n",
       "      <td>14.1</td>\n",
       "    </tr>\n",
       "  </tbody>\n",
       "</table>\n",
       "</div>"
      ],
      "text/plain": [
       "   Unnamed: 0  Item_Weight  Item_Visibility  Item_MRP  \\\n",
       "0           0         9.30         0.016047     249.8   \n",
       "1           1         5.92         0.019278      48.3   \n",
       "2           2        17.50         0.016760     141.6   \n",
       "3           3        19.20         0.000000     182.1   \n",
       "4           4         8.93         0.000000      53.9   \n",
       "\n",
       "   Outlet_Establishment_Year  Item_Outlet_Sales  Profit  \n",
       "0                       1999          3735.1380    11.5  \n",
       "1                       2009           443.4228    14.3  \n",
       "2                       1999          2097.2700    14.5  \n",
       "3                       1998           732.3800    13.6  \n",
       "4                       1987           994.7052    14.1  "
      ]
     },
     "execution_count": 64,
     "metadata": {},
     "output_type": "execute_result"
    }
   ],
   "source": [
    "df_num.head()"
   ]
  },
  {
   "cell_type": "code",
   "execution_count": 65,
   "id": "e4748141",
   "metadata": {},
   "outputs": [
    {
     "data": {
      "text/plain": [
       "Index(['Unnamed: 0', 'Item_Weight', 'Item_Visibility', 'Item_MRP',\n",
       "       'Outlet_Establishment_Year', 'Item_Outlet_Sales', 'Profit'],\n",
       "      dtype='object')"
      ]
     },
     "execution_count": 65,
     "metadata": {},
     "output_type": "execute_result"
    }
   ],
   "source": [
    "df_num.columns"
   ]
  },
  {
   "cell_type": "code",
   "execution_count": 66,
   "id": "3bd24d9e",
   "metadata": {},
   "outputs": [
    {
     "data": {
      "text/plain": [
       "0       1\n",
       "5677    1\n",
       "5691    1\n",
       "5690    1\n",
       "5689    1\n",
       "       ..\n",
       "2835    1\n",
       "2834    1\n",
       "2833    1\n",
       "2832    1\n",
       "8522    1\n",
       "Name: Unnamed: 0, Length: 8523, dtype: int64"
      ]
     },
     "execution_count": 66,
     "metadata": {},
     "output_type": "execute_result"
    }
   ],
   "source": [
    "df_num[\"Unnamed: 0\"].value_counts()"
   ]
  },
  {
   "cell_type": "code",
   "execution_count": 67,
   "id": "fd8a47af",
   "metadata": {},
   "outputs": [
    {
     "data": {
      "text/plain": [
       "array([   0,    1,    2, ..., 8520, 8521, 8522], dtype=int64)"
      ]
     },
     "execution_count": 67,
     "metadata": {},
     "output_type": "execute_result"
    }
   ],
   "source": [
    "df_num[\"Unnamed: 0\"].unique()"
   ]
  },
  {
   "cell_type": "code",
   "execution_count": 68,
   "id": "f60c6642",
   "metadata": {},
   "outputs": [
    {
     "data": {
      "text/plain": [
       "(8523, 7)"
      ]
     },
     "execution_count": 68,
     "metadata": {},
     "output_type": "execute_result"
    }
   ],
   "source": [
    "df_num.shape"
   ]
  },
  {
   "cell_type": "code",
   "execution_count": 69,
   "id": "aeefa030",
   "metadata": {},
   "outputs": [],
   "source": [
    "#droping unnamed column as it defines the zero\n",
    "df_num.drop(\"Unnamed: 0\",axis=1,inplace=True)"
   ]
  },
  {
   "cell_type": "code",
   "execution_count": 70,
   "id": "6d8c71a3",
   "metadata": {},
   "outputs": [
    {
     "data": {
      "text/plain": [
       "(8523, 6)"
      ]
     },
     "execution_count": 70,
     "metadata": {},
     "output_type": "execute_result"
    }
   ],
   "source": [
    "df_num.shape"
   ]
  },
  {
   "cell_type": "code",
   "execution_count": 71,
   "id": "06f1f7f4",
   "metadata": {
    "scrolled": true
   },
   "outputs": [
    {
     "data": {
      "text/html": [
       "<div>\n",
       "<style scoped>\n",
       "    .dataframe tbody tr th:only-of-type {\n",
       "        vertical-align: middle;\n",
       "    }\n",
       "\n",
       "    .dataframe tbody tr th {\n",
       "        vertical-align: top;\n",
       "    }\n",
       "\n",
       "    .dataframe thead th {\n",
       "        text-align: right;\n",
       "    }\n",
       "</style>\n",
       "<table border=\"1\" class=\"dataframe\">\n",
       "  <thead>\n",
       "    <tr style=\"text-align: right;\">\n",
       "      <th></th>\n",
       "      <th>Item_Weight</th>\n",
       "      <th>Item_Visibility</th>\n",
       "      <th>Item_MRP</th>\n",
       "      <th>Outlet_Establishment_Year</th>\n",
       "      <th>Item_Outlet_Sales</th>\n",
       "      <th>Profit</th>\n",
       "    </tr>\n",
       "  </thead>\n",
       "  <tbody>\n",
       "    <tr>\n",
       "      <th>0</th>\n",
       "      <td>9.30</td>\n",
       "      <td>0.016047</td>\n",
       "      <td>249.8</td>\n",
       "      <td>1999</td>\n",
       "      <td>3735.1380</td>\n",
       "      <td>11.5</td>\n",
       "    </tr>\n",
       "    <tr>\n",
       "      <th>1</th>\n",
       "      <td>5.92</td>\n",
       "      <td>0.019278</td>\n",
       "      <td>48.3</td>\n",
       "      <td>2009</td>\n",
       "      <td>443.4228</td>\n",
       "      <td>14.3</td>\n",
       "    </tr>\n",
       "    <tr>\n",
       "      <th>2</th>\n",
       "      <td>17.50</td>\n",
       "      <td>0.016760</td>\n",
       "      <td>141.6</td>\n",
       "      <td>1999</td>\n",
       "      <td>2097.2700</td>\n",
       "      <td>14.5</td>\n",
       "    </tr>\n",
       "    <tr>\n",
       "      <th>3</th>\n",
       "      <td>19.20</td>\n",
       "      <td>0.000000</td>\n",
       "      <td>182.1</td>\n",
       "      <td>1998</td>\n",
       "      <td>732.3800</td>\n",
       "      <td>13.6</td>\n",
       "    </tr>\n",
       "    <tr>\n",
       "      <th>4</th>\n",
       "      <td>8.93</td>\n",
       "      <td>0.000000</td>\n",
       "      <td>53.9</td>\n",
       "      <td>1987</td>\n",
       "      <td>994.7052</td>\n",
       "      <td>14.1</td>\n",
       "    </tr>\n",
       "  </tbody>\n",
       "</table>\n",
       "</div>"
      ],
      "text/plain": [
       "   Item_Weight  Item_Visibility  Item_MRP  Outlet_Establishment_Year  \\\n",
       "0         9.30         0.016047     249.8                       1999   \n",
       "1         5.92         0.019278      48.3                       2009   \n",
       "2        17.50         0.016760     141.6                       1999   \n",
       "3        19.20         0.000000     182.1                       1998   \n",
       "4         8.93         0.000000      53.9                       1987   \n",
       "\n",
       "   Item_Outlet_Sales  Profit  \n",
       "0          3735.1380    11.5  \n",
       "1           443.4228    14.3  \n",
       "2          2097.2700    14.5  \n",
       "3           732.3800    13.6  \n",
       "4           994.7052    14.1  "
      ]
     },
     "execution_count": 71,
     "metadata": {},
     "output_type": "execute_result"
    }
   ],
   "source": [
    "df_num.head()"
   ]
  },
  {
   "cell_type": "code",
   "execution_count": 72,
   "id": "4c778fc5",
   "metadata": {},
   "outputs": [
    {
     "data": {
      "image/png": "[encoded data removed]",
      "text/plain": [
       "<Figure size 432x288 with 1 Axes>"
      ]
     },
     "metadata": {
      "needs_background": "light"
     },
     "output_type": "display_data"
    }
   ],
   "source": [
    "df_num.boxplot()\n",
    "plt.xticks(rotation=90);"
   ]
  },
  {
   "cell_type": "code",
   "execution_count": 73,
   "id": "aa4ab9a1",
   "metadata": {},
   "outputs": [
    {
     "data": {
      "image/png": "[encoded data removed]",
      "text/plain": [
       "<Figure size 432x288 with 1 Axes>"
      ]
     },
     "metadata": {
      "needs_background": "light"
     },
     "output_type": "display_data"
    }
   ],
   "source": [
    "#checking outliers\n",
    "sns.boxplot(df_num.Item_Weight);"
   ]
  },
  {
   "cell_type": "code",
   "execution_count": 74,
   "id": "dffed1bb",
   "metadata": {},
   "outputs": [
    {
     "data": {
      "image/png": "[encoded data removed]",
      "text/plain": [
       "<Figure size 432x288 with 1 Axes>"
      ]
     },
     "metadata": {
      "needs_background": "light"
     },
     "output_type": "display_data"
    }
   ],
   "source": [
    "sns.boxplot(df_num.Item_Visibility);"
   ]
  },
  {
   "cell_type": "code",
   "execution_count": 75,
   "id": "b189804f",
   "metadata": {
    "scrolled": false
   },
   "outputs": [
    {
     "data": {
      "image/png": "[encoded data removed]",
      "text/plain": [
       "<Figure size 720x720 with 6 Axes>"
      ]
     },
     "metadata": {
      "needs_background": "light"
     },
     "output_type": "display_data"
    }
   ],
   "source": [
    "#instead of visualzing for every single variables, we are using for loop \n",
    "c=1\n",
    "plt.figure(figsize=(10,10))\n",
    "for i in df_num.columns:\n",
    "    plt.subplot(3,3,c)\n",
    "    sns.boxplot(df_num[i])\n",
    "    plt.tight_layout()\n",
    "    c+=1"
   ]
  },
  {
   "cell_type": "markdown",
   "id": "7dbb7eac",
   "metadata": {},
   "source": [
    "## IQR method "
   ]
  },
  {
   "cell_type": "markdown",
   "id": "dc79a630",
   "metadata": {
    "id": "ZosAGlg2lLOV"
   },
   "source": [
    "The IQR method can be used when the data distribution in non-normal. Also the quartiles are less affected by the extreme values."
   ]
  },
  {
   "cell_type": "code",
   "execution_count": 76,
   "id": "96726171",
   "metadata": {},
   "outputs": [],
   "source": [
    "q1= df_num.quantile(0.25)\n",
    "q3 = df_num.quantile(0.75)\n",
    "iqr=q3-q1"
   ]
  },
  {
   "cell_type": "code",
   "execution_count": 77,
   "id": "74bbee95",
   "metadata": {},
   "outputs": [
    {
     "data": {
      "text/plain": [
       "26.035"
      ]
     },
     "execution_count": 77,
     "metadata": {},
     "output_type": "execute_result"
    }
   ],
   "source": [
    "#setting the upper limit and lower limit\n",
    "upper_limit=q3+(1.5*iqr)\n",
    "lower_limit=q1-(1.5*iqr)\n",
    "upper_limit[\"Item_Weight\"]"
   ]
  },
  {
   "cell_type": "code",
   "execution_count": 78,
   "id": "eb77ad6e",
   "metadata": {
    "scrolled": true
   },
   "outputs": [
    {
     "data": {
      "text/plain": [
       "Item_Weight                    -0.725000\n",
       "Item_Visibility                -0.074404\n",
       "Item_MRP                      -43.975000\n",
       "Outlet_Establishment_Year    1961.500000\n",
       "Item_Outlet_Sales           -2566.326100\n",
       "Profit                         11.425000\n",
       "dtype: float64"
      ]
     },
     "execution_count": 78,
     "metadata": {},
     "output_type": "execute_result"
    }
   ],
   "source": [
    "lower_limit"
   ]
  },
  {
   "cell_type": "code",
   "execution_count": 79,
   "id": "afcc63e2",
   "metadata": {},
   "outputs": [
    {
     "data": {
      "text/plain": [
       "(26.035, -0.7249999999999996)"
      ]
     },
     "execution_count": 79,
     "metadata": {},
     "output_type": "execute_result"
    }
   ],
   "source": [
    "upper_limit[\"Item_Weight\"],lower_limit[\"Item_Weight\"]"
   ]
  },
  {
   "cell_type": "code",
   "execution_count": 80,
   "id": "bd96d888",
   "metadata": {},
   "outputs": [],
   "source": [
    "#using for loop to treat outliers for every column\n",
    "for i in df_num.columns:\n",
    "    q1=df_num[i].quantile(0.25)\n",
    "    q3=df_num[i].quantile(0.75)\n",
    "    iqr=q3-q1\n",
    "    upper=q3+(1.5*iqr)\n",
    "    lower=q1-(1.5*iqr)\n",
    "    df_num[i]=np.where(df_num[i]>upper,upper,np.where(df_num[i]<lower,lower,df_num[i]))"
   ]
  },
  {
   "cell_type": "markdown",
   "id": "19e9c987",
   "metadata": {},
   "source": [
    "### Plots after treatment"
   ]
  },
  {
   "cell_type": "code",
   "execution_count": 81,
   "id": "3dccc166",
   "metadata": {},
   "outputs": [
    {
     "data": {
      "image/png": "[encoded data removed]",
      "text/plain": [
       "<Figure size 720x720 with 6 Axes>"
      ]
     },
     "metadata": {
      "needs_background": "light"
     },
     "output_type": "display_data"
    }
   ],
   "source": [
    "c=1\n",
    "plt.figure(figsize=(10,10))\n",
    "for i in df_num.columns:\n",
    "    plt.subplot(3,3,c)\n",
    "    sns.boxplot(df_num[i])\n",
    "    plt.tight_layout()\n",
    "    c+=1"
   ]
  },
  {
   "cell_type": "markdown",
   "id": "30f9d383",
   "metadata": {
    "id": "q2egzuxelLOb"
   },
   "source": [
    "<a id=\"zscore\"></a>\n",
    "##  Z-score\n",
    "\n",
    "- Z-score of a value is the difference between that value and the mean, divided by the standard deviation. \n",
    "- If the z-score greater than 3 or less than -3, indicates an outlier value. \n",
    "- This method is useful when the data distribution is normal. \n",
    "\n",
    "- This method has a disadvantage that the values of mean and standard deviation are highly affected by the presence of outliers."
   ]
  },
  {
   "cell_type": "code",
   "execution_count": 82,
   "id": "41516e09",
   "metadata": {},
   "outputs": [],
   "source": [
    "df_num1=df_sales.select_dtypes(include=np.number)"
   ]
  },
  {
   "cell_type": "code",
   "execution_count": 83,
   "id": "cdcb84cc",
   "metadata": {},
   "outputs": [
    {
     "data": {
      "text/html": [
       "<div>\n",
       "<style scoped>\n",
       "    .dataframe tbody tr th:only-of-type {\n",
       "        vertical-align: middle;\n",
       "    }\n",
       "\n",
       "    .dataframe tbody tr th {\n",
       "        vertical-align: top;\n",
       "    }\n",
       "\n",
       "    .dataframe thead th {\n",
       "        text-align: right;\n",
       "    }\n",
       "</style>\n",
       "<table border=\"1\" class=\"dataframe\">\n",
       "  <thead>\n",
       "    <tr style=\"text-align: right;\">\n",
       "      <th></th>\n",
       "      <th>Unnamed: 0</th>\n",
       "      <th>Item_Weight</th>\n",
       "      <th>Item_Visibility</th>\n",
       "      <th>Item_MRP</th>\n",
       "      <th>Outlet_Establishment_Year</th>\n",
       "      <th>Item_Outlet_Sales</th>\n",
       "      <th>Profit</th>\n",
       "    </tr>\n",
       "  </thead>\n",
       "  <tbody>\n",
       "    <tr>\n",
       "      <th>0</th>\n",
       "      <td>0</td>\n",
       "      <td>9.30</td>\n",
       "      <td>0.016047</td>\n",
       "      <td>249.8</td>\n",
       "      <td>1999</td>\n",
       "      <td>3735.1380</td>\n",
       "      <td>11.5</td>\n",
       "    </tr>\n",
       "    <tr>\n",
       "      <th>1</th>\n",
       "      <td>1</td>\n",
       "      <td>5.92</td>\n",
       "      <td>0.019278</td>\n",
       "      <td>48.3</td>\n",
       "      <td>2009</td>\n",
       "      <td>443.4228</td>\n",
       "      <td>14.3</td>\n",
       "    </tr>\n",
       "    <tr>\n",
       "      <th>2</th>\n",
       "      <td>2</td>\n",
       "      <td>17.50</td>\n",
       "      <td>0.016760</td>\n",
       "      <td>141.6</td>\n",
       "      <td>1999</td>\n",
       "      <td>2097.2700</td>\n",
       "      <td>14.5</td>\n",
       "    </tr>\n",
       "    <tr>\n",
       "      <th>3</th>\n",
       "      <td>3</td>\n",
       "      <td>19.20</td>\n",
       "      <td>0.000000</td>\n",
       "      <td>182.1</td>\n",
       "      <td>1998</td>\n",
       "      <td>732.3800</td>\n",
       "      <td>13.6</td>\n",
       "    </tr>\n",
       "    <tr>\n",
       "      <th>4</th>\n",
       "      <td>4</td>\n",
       "      <td>8.93</td>\n",
       "      <td>0.000000</td>\n",
       "      <td>53.9</td>\n",
       "      <td>1987</td>\n",
       "      <td>994.7052</td>\n",
       "      <td>14.1</td>\n",
       "    </tr>\n",
       "  </tbody>\n",
       "</table>\n",
       "</div>"
      ],
      "text/plain": [
       "   Unnamed: 0  Item_Weight  Item_Visibility  Item_MRP  \\\n",
       "0           0         9.30         0.016047     249.8   \n",
       "1           1         5.92         0.019278      48.3   \n",
       "2           2        17.50         0.016760     141.6   \n",
       "3           3        19.20         0.000000     182.1   \n",
       "4           4         8.93         0.000000      53.9   \n",
       "\n",
       "   Outlet_Establishment_Year  Item_Outlet_Sales  Profit  \n",
       "0                       1999          3735.1380    11.5  \n",
       "1                       2009           443.4228    14.3  \n",
       "2                       1999          2097.2700    14.5  \n",
       "3                       1998           732.3800    13.6  \n",
       "4                       1987           994.7052    14.1  "
      ]
     },
     "execution_count": 83,
     "metadata": {},
     "output_type": "execute_result"
    }
   ],
   "source": [
    "df_num1.head()"
   ]
  },
  {
   "cell_type": "code",
   "execution_count": 84,
   "id": "922fb09a",
   "metadata": {},
   "outputs": [],
   "source": [
    "from scipy import stats"
   ]
  },
  {
   "cell_type": "code",
   "execution_count": 85,
   "id": "ef2e3edf",
   "metadata": {},
   "outputs": [
    {
     "data": {
      "text/plain": [
       "0      -1.125033\n",
       "1       0.520342\n",
       "2       0.637869\n",
       "3       0.108998\n",
       "4       0.402815\n",
       "          ...   \n",
       "8518    0.402815\n",
       "8519    0.461578\n",
       "8520   -2.300301\n",
       "8521    0.461578\n",
       "8522    0.696632\n",
       "Name: Profit, Length: 8523, dtype: float64"
      ]
     },
     "execution_count": 85,
     "metadata": {},
     "output_type": "execute_result"
    }
   ],
   "source": [
    "z_scores_Profit =stats.zscore(df_num1[\"Profit\"])\n",
    "z_scores_Profit"
   ]
  },
  {
   "cell_type": "code",
   "execution_count": 86,
   "id": "45eb661e",
   "metadata": {
    "scrolled": true
   },
   "outputs": [
    {
     "name": "stdout",
     "output_type": "stream",
     "text": [
      "(array([  41,   50,  144,  217,  320,  324,  406,  425,  432,  457,  546,\n",
      "        602,  607,  611,  641,  716,  761,  816,  892,  921,  926,  957,\n",
      "        960,  986, 1066, 1133, 1178, 1212, 1237, 1304, 1409, 1459, 1533,\n",
      "       1551, 1561, 1582, 1623, 1645, 1649, 1659, 1669, 1715, 1784, 1788,\n",
      "       1805, 1816, 1835, 1867, 1893, 1900, 1916, 1956, 1974, 1984, 1989,\n",
      "       2000, 2019, 2060, 2062, 2130, 2201, 2224, 2246, 2289, 2332, 2338,\n",
      "       2425, 2449, 2477, 2510, 2515, 2526, 2537, 2543, 2572, 2636, 2792,\n",
      "       2836, 2919, 2925, 2969, 2987, 2992, 2996, 3025, 3035, 3098, 3105,\n",
      "       3223, 3254, 3296, 3356, 3415, 3416, 3476, 3513, 3619, 3668, 3675,\n",
      "       3759, 3785, 3849, 3852, 3904, 3917, 3932, 3936, 3990, 4073, 4091,\n",
      "       4146, 4197, 4213, 4407, 4487, 4493, 4556, 4571, 4705, 4721, 4724,\n",
      "       4764, 4800, 5049, 5127, 5231, 5274, 5286, 5313, 5336, 5378, 5516,\n",
      "       5540, 5657, 5658, 5728, 5730, 5750, 5788, 5883, 5891, 5906, 5971,\n",
      "       5987, 6093, 6137, 6211, 6247, 6271, 6372, 6390, 6419, 6507, 6534,\n",
      "       6541, 6558, 6606, 6610, 6696, 6759, 6760, 6776, 6778, 6897, 6931,\n",
      "       6972, 7042, 7180, 7242, 7267, 7304, 7351, 7384, 7432, 7629, 7684,\n",
      "       7751, 7779, 7797, 7822, 7851, 7893, 7919, 7948, 8074, 8099, 8101,\n",
      "       8237, 8273, 8366, 8376, 8395, 8429, 8433, 8456], dtype=int64),)\n"
     ]
    }
   ],
   "source": [
    "#checking for values less than -3\n",
    "row_index_less = np.where(z_scores_Profit < -3)\n",
    "\n",
    "# print the values\n",
    "print(row_index_less)\n",
    "#where will give the index position"
   ]
  },
  {
   "cell_type": "markdown",
   "id": "71898b70",
   "metadata": {
    "id": "5U3BxokNlLOn"
   },
   "source": [
    "**Interpretation:** The rows corresponding to the above displayed index are the outliers for the data."
   ]
  },
  {
   "cell_type": "code",
   "execution_count": 87,
   "id": "b74420db",
   "metadata": {},
   "outputs": [
    {
     "name": "stdout",
     "output_type": "stream",
     "text": [
      "(array([3026, 4386, 5089, 8369], dtype=int64),)\n"
     ]
    }
   ],
   "source": [
    "# print the rows where z-score is more than 3\n",
    "row_index_more = np.where(z_scores_Profit > 3)\n",
    "\n",
    "# print the values more than the \n",
    "print(row_index_more)"
   ]
  },
  {
   "cell_type": "code",
   "execution_count": 88,
   "id": "88d5cf07",
   "metadata": {},
   "outputs": [
    {
     "data": {
      "text/plain": [
       "0       False\n",
       "1       False\n",
       "2       False\n",
       "3       False\n",
       "4       False\n",
       "        ...  \n",
       "8518    False\n",
       "8519    False\n",
       "8520    False\n",
       "8521    False\n",
       "8522    False\n",
       "Name: Profit, Length: 8523, dtype: bool"
      ]
     },
     "execution_count": 88,
     "metadata": {},
     "output_type": "execute_result"
    }
   ],
   "source": [
    "z_scores_Profit<-3"
   ]
  },
  {
   "cell_type": "code",
   "execution_count": 89,
   "id": "60a734d6",
   "metadata": {},
   "outputs": [
    {
     "data": {
      "text/plain": [
       "41     -3.828149\n",
       "50     -3.534332\n",
       "144    -3.358042\n",
       "217    -6.002394\n",
       "320    -7.765296\n",
       "          ...   \n",
       "8376   -4.063202\n",
       "8395   -3.710622\n",
       "8429   -5.473524\n",
       "8433   -7.824059\n",
       "8456   -3.005461\n",
       "Name: Profit, Length: 195, dtype: float64"
      ]
     },
     "execution_count": 89,
     "metadata": {},
     "output_type": "execute_result"
    }
   ],
   "source": [
    "z_scores_Profit[z_scores_Profit<-3]"
   ]
  },
  {
   "cell_type": "code",
   "execution_count": 90,
   "id": "0de69778",
   "metadata": {},
   "outputs": [
    {
     "data": {
      "text/plain": [
       "3026    6.220390\n",
       "4386    5.162649\n",
       "5089    4.457489\n",
       "8369    5.926573\n",
       "Name: Profit, dtype: float64"
      ]
     },
     "execution_count": 90,
     "metadata": {},
     "output_type": "execute_result"
    }
   ],
   "source": [
    "z_scores_Profit[z_scores_Profit>3]"
   ]
  },
  {
   "cell_type": "code",
   "execution_count": 91,
   "id": "8c75c705",
   "metadata": {},
   "outputs": [
    {
     "data": {
      "text/plain": [
       "(8523, 14)"
      ]
     },
     "execution_count": 91,
     "metadata": {},
     "output_type": "execute_result"
    }
   ],
   "source": [
    "df_sales.shape"
   ]
  },
  {
   "cell_type": "code",
   "execution_count": 92,
   "id": "d5ddf17f",
   "metadata": {},
   "outputs": [],
   "source": [
    "#dropping the all the rows with the index"
   ]
  },
  {
   "cell_type": "code",
   "execution_count": 93,
   "id": "8e676818",
   "metadata": {
    "scrolled": true
   },
   "outputs": [
    {
     "data": {
      "text/plain": [
       "0   -1.125033\n",
       "1    0.520342\n",
       "2    0.637869\n",
       "3    0.108998\n",
       "4    0.402815\n",
       "Name: Profit, dtype: float64"
      ]
     },
     "execution_count": 93,
     "metadata": {},
     "output_type": "execute_result"
    }
   ],
   "source": [
    "z_scores_Profit =stats.zscore(df_num1[\"Profit\"])\n",
    "z_scores_Profit.head()"
   ]
  },
  {
   "cell_type": "code",
   "execution_count": 94,
   "id": "413bb6b3",
   "metadata": {},
   "outputs": [],
   "source": [
    "# filter out the outlier values\n",
    "# ~ : selects all rows which do not satisfy the condition\n",
    "df_sales_zscore = df_sales[\"Profit\"][~(( z_scores_Profit < -3) |(z_scores_Profit > 3))]"
   ]
  },
  {
   "cell_type": "code",
   "execution_count": 95,
   "id": "f1c63b66",
   "metadata": {},
   "outputs": [
    {
     "data": {
      "text/plain": [
       "(8324,)"
      ]
     },
     "execution_count": 95,
     "metadata": {},
     "output_type": "execute_result"
    }
   ],
   "source": [
    "df_sales_zscore.shape"
   ]
  },
  {
   "cell_type": "code",
   "execution_count": 96,
   "id": "47fe005d",
   "metadata": {},
   "outputs": [
    {
     "data": {
      "image/png": "[encoded data removed]",
      "text/plain": [
       "<Figure size 432x288 with 1 Axes>"
      ]
     },
     "metadata": {
      "needs_background": "light"
     },
     "output_type": "display_data"
    }
   ],
   "source": [
    "sns.boxplot(df_sales_zscore);"
   ]
  },
  {
   "cell_type": "markdown",
   "id": "2536dca8",
   "metadata": {},
   "source": [
    "### Encoding Techniques\n",
    "- N-1 Dummy encoding\n",
    "- One-hot encoding\n",
    "- Label encoding\n",
    "- Ordinal encoding\n",
    "- Frequency encoding\n",
    "- Target encoding"
   ]
  },
  {
   "cell_type": "markdown",
   "id": "243fd220",
   "metadata": {
    "id": "q9UuoRgaknBM"
   },
   "source": [
    "<a id=\"cat\"> </a>\n",
    "# 3. Handle Non-Numeric Data\n",
    "\n",
    "The data may contain numerical as well as categorical variables. Machine learning algorithms are designed to work with numerical data. Thus, it is necessary to convert the categorical variables into a numeric type. Different techniques are available to perform such conversion."
   ]
  },
  {
   "cell_type": "markdown",
   "id": "7fbdb5ad",
   "metadata": {
    "id": "47b4nHBfknBM"
   },
   "source": [
    "<a id=\"pandas\"> </a>\n",
    "## 3.1 One-Hot Encoding (Using Pandas)"
   ]
  },
  {
   "cell_type": "markdown",
   "id": "38ac4cfb",
   "metadata": {
    "id": "HNN7_avoknBM"
   },
   "source": [
    "It is used to create dummy variables from a single categorical variable. We can create a dummy variable corresponding to each level of the categorical variable. The dummy variable contains values as '0' and '1' based on the presence or absence of the category in the corresponding observation."
   ]
  },
  {
   "cell_type": "code",
   "execution_count": 97,
   "id": "4481d9f3",
   "metadata": {
    "scrolled": true
   },
   "outputs": [
    {
     "data": {
      "text/html": [
       "<div>\n",
       "<style scoped>\n",
       "    .dataframe tbody tr th:only-of-type {\n",
       "        vertical-align: middle;\n",
       "    }\n",
       "\n",
       "    .dataframe tbody tr th {\n",
       "        vertical-align: top;\n",
       "    }\n",
       "\n",
       "    .dataframe thead th {\n",
       "        text-align: right;\n",
       "    }\n",
       "</style>\n",
       "<table border=\"1\" class=\"dataframe\">\n",
       "  <thead>\n",
       "    <tr style=\"text-align: right;\">\n",
       "      <th></th>\n",
       "      <th>Item_Identifier</th>\n",
       "      <th>Item_Fat_Content</th>\n",
       "      <th>Item_Type</th>\n",
       "      <th>Outlet_Identifier</th>\n",
       "      <th>Outlet_Size</th>\n",
       "      <th>Outlet_Location_Type</th>\n",
       "      <th>Outlet_Type</th>\n",
       "    </tr>\n",
       "  </thead>\n",
       "  <tbody>\n",
       "    <tr>\n",
       "      <th>0</th>\n",
       "      <td>FDA15</td>\n",
       "      <td>Low Fat</td>\n",
       "      <td>Dairy</td>\n",
       "      <td>OUT049</td>\n",
       "      <td>Medium</td>\n",
       "      <td>Tier 2</td>\n",
       "      <td>Supermarket Type1</td>\n",
       "    </tr>\n",
       "    <tr>\n",
       "      <th>1</th>\n",
       "      <td>DRC01</td>\n",
       "      <td>Regular</td>\n",
       "      <td>Soft Drinks</td>\n",
       "      <td>OUT018</td>\n",
       "      <td>Medium</td>\n",
       "      <td>Tier 2</td>\n",
       "      <td>Supermarket Type2</td>\n",
       "    </tr>\n",
       "    <tr>\n",
       "      <th>2</th>\n",
       "      <td>FDN15</td>\n",
       "      <td>Low Fat</td>\n",
       "      <td>Meat</td>\n",
       "      <td>OUT049</td>\n",
       "      <td>Medium</td>\n",
       "      <td>Tier 2</td>\n",
       "      <td>Supermarket Type1</td>\n",
       "    </tr>\n",
       "    <tr>\n",
       "      <th>3</th>\n",
       "      <td>FDX07</td>\n",
       "      <td>Regular</td>\n",
       "      <td>Fruits and Vegetables</td>\n",
       "      <td>OUT010</td>\n",
       "      <td>Medium</td>\n",
       "      <td>Tier1</td>\n",
       "      <td>Grocery Store</td>\n",
       "    </tr>\n",
       "    <tr>\n",
       "      <th>4</th>\n",
       "      <td>NCD19</td>\n",
       "      <td>Low Fat</td>\n",
       "      <td>Household</td>\n",
       "      <td>OUT013</td>\n",
       "      <td>High</td>\n",
       "      <td>Tier 3</td>\n",
       "      <td>Supermarket Type1</td>\n",
       "    </tr>\n",
       "  </tbody>\n",
       "</table>\n",
       "</div>"
      ],
      "text/plain": [
       "  Item_Identifier Item_Fat_Content              Item_Type Outlet_Identifier  \\\n",
       "0           FDA15          Low Fat                  Dairy            OUT049   \n",
       "1           DRC01          Regular            Soft Drinks            OUT018   \n",
       "2           FDN15          Low Fat                   Meat            OUT049   \n",
       "3           FDX07          Regular  Fruits and Vegetables            OUT010   \n",
       "4           NCD19          Low Fat              Household            OUT013   \n",
       "\n",
       "  Outlet_Size Outlet_Location_Type        Outlet_Type  \n",
       "0      Medium               Tier 2  Supermarket Type1  \n",
       "1      Medium               Tier 2  Supermarket Type2  \n",
       "2      Medium               Tier 2  Supermarket Type1  \n",
       "3      Medium                Tier1      Grocery Store  \n",
       "4        High               Tier 3  Supermarket Type1  "
      ]
     },
     "execution_count": 97,
     "metadata": {},
     "output_type": "execute_result"
    }
   ],
   "source": [
    "df_cat=df_sales.select_dtypes(include=object)\n",
    "df_cat.head()"
   ]
  },
  {
   "cell_type": "code",
   "execution_count": 98,
   "id": "a9957466",
   "metadata": {},
   "outputs": [
    {
     "data": {
      "text/plain": [
       "16"
      ]
     },
     "execution_count": 98,
     "metadata": {},
     "output_type": "execute_result"
    }
   ],
   "source": [
    "len(df_cat.Item_Type.value_counts())"
   ]
  },
  {
   "cell_type": "code",
   "execution_count": 99,
   "id": "a6d83037",
   "metadata": {
    "id": "jrt4wN74knBM",
    "outputId": "e82a13f2-f213-442e-93c6-0644e4469b39"
   },
   "outputs": [
    {
     "name": "stdout",
     "output_type": "stream",
     "text": [
      "Categories in Item_Type: ['Dairy' 'Soft Drinks' 'Meat' 'Fruits and Vegetables' 'Household'\n",
      " 'Baking Goods' 'Snack Foods' 'Frozen Foods' 'Breakfast'\n",
      " 'Health and Hygiene' 'Hard Drinks' 'Canned' 'Breads' 'Starchy Foods'\n",
      " 'Others' 'Seafood']\n"
     ]
    }
   ],
   "source": [
    "# check the categories of the variable 'Item_Type' \n",
    "print('Categories in Item_Type:', df_sales.Item_Type.unique())"
   ]
  },
  {
   "cell_type": "markdown",
   "id": "54453126",
   "metadata": {
    "id": "GXkqjlfHknBN"
   },
   "source": [
    "`Item_Type` is distributed in 16 different categories. To create 16 dummy variables corresponding to each category, perform one-hot encoding using `get_dummies` from pandas."
   ]
  },
  {
   "cell_type": "code",
   "execution_count": 100,
   "id": "d9d1dbf2",
   "metadata": {
    "id": "PjfwlACfknBN",
    "outputId": "39f5ffc8-37ad-4fe3-9cf8-8789e05312ff"
   },
   "outputs": [
    {
     "data": {
      "text/html": [
       "<div>\n",
       "<style scoped>\n",
       "    .dataframe tbody tr th:only-of-type {\n",
       "        vertical-align: middle;\n",
       "    }\n",
       "\n",
       "    .dataframe tbody tr th {\n",
       "        vertical-align: top;\n",
       "    }\n",
       "\n",
       "    .dataframe thead th {\n",
       "        text-align: right;\n",
       "    }\n",
       "</style>\n",
       "<table border=\"1\" class=\"dataframe\">\n",
       "  <thead>\n",
       "    <tr style=\"text-align: right;\">\n",
       "      <th></th>\n",
       "      <th>Unnamed: 0</th>\n",
       "      <th>Item_Identifier</th>\n",
       "      <th>Item_Weight</th>\n",
       "      <th>Item_Fat_Content</th>\n",
       "      <th>Item_Visibility</th>\n",
       "      <th>Item_MRP</th>\n",
       "      <th>Outlet_Identifier</th>\n",
       "      <th>Outlet_Establishment_Year</th>\n",
       "      <th>Outlet_Size</th>\n",
       "      <th>Outlet_Location_Type</th>\n",
       "      <th>...</th>\n",
       "      <th>Item_Type_Fruits and Vegetables</th>\n",
       "      <th>Item_Type_Hard Drinks</th>\n",
       "      <th>Item_Type_Health and Hygiene</th>\n",
       "      <th>Item_Type_Household</th>\n",
       "      <th>Item_Type_Meat</th>\n",
       "      <th>Item_Type_Others</th>\n",
       "      <th>Item_Type_Seafood</th>\n",
       "      <th>Item_Type_Snack Foods</th>\n",
       "      <th>Item_Type_Soft Drinks</th>\n",
       "      <th>Item_Type_Starchy Foods</th>\n",
       "    </tr>\n",
       "  </thead>\n",
       "  <tbody>\n",
       "    <tr>\n",
       "      <th>0</th>\n",
       "      <td>0</td>\n",
       "      <td>FDA15</td>\n",
       "      <td>9.30</td>\n",
       "      <td>Low Fat</td>\n",
       "      <td>0.016047</td>\n",
       "      <td>249.8</td>\n",
       "      <td>OUT049</td>\n",
       "      <td>1999</td>\n",
       "      <td>Medium</td>\n",
       "      <td>Tier 2</td>\n",
       "      <td>...</td>\n",
       "      <td>0</td>\n",
       "      <td>0</td>\n",
       "      <td>0</td>\n",
       "      <td>0</td>\n",
       "      <td>0</td>\n",
       "      <td>0</td>\n",
       "      <td>0</td>\n",
       "      <td>0</td>\n",
       "      <td>0</td>\n",
       "      <td>0</td>\n",
       "    </tr>\n",
       "    <tr>\n",
       "      <th>1</th>\n",
       "      <td>1</td>\n",
       "      <td>DRC01</td>\n",
       "      <td>5.92</td>\n",
       "      <td>Regular</td>\n",
       "      <td>0.019278</td>\n",
       "      <td>48.3</td>\n",
       "      <td>OUT018</td>\n",
       "      <td>2009</td>\n",
       "      <td>Medium</td>\n",
       "      <td>Tier 2</td>\n",
       "      <td>...</td>\n",
       "      <td>0</td>\n",
       "      <td>0</td>\n",
       "      <td>0</td>\n",
       "      <td>0</td>\n",
       "      <td>0</td>\n",
       "      <td>0</td>\n",
       "      <td>0</td>\n",
       "      <td>0</td>\n",
       "      <td>1</td>\n",
       "      <td>0</td>\n",
       "    </tr>\n",
       "    <tr>\n",
       "      <th>2</th>\n",
       "      <td>2</td>\n",
       "      <td>FDN15</td>\n",
       "      <td>17.50</td>\n",
       "      <td>Low Fat</td>\n",
       "      <td>0.016760</td>\n",
       "      <td>141.6</td>\n",
       "      <td>OUT049</td>\n",
       "      <td>1999</td>\n",
       "      <td>Medium</td>\n",
       "      <td>Tier 2</td>\n",
       "      <td>...</td>\n",
       "      <td>0</td>\n",
       "      <td>0</td>\n",
       "      <td>0</td>\n",
       "      <td>0</td>\n",
       "      <td>1</td>\n",
       "      <td>0</td>\n",
       "      <td>0</td>\n",
       "      <td>0</td>\n",
       "      <td>0</td>\n",
       "      <td>0</td>\n",
       "    </tr>\n",
       "    <tr>\n",
       "      <th>3</th>\n",
       "      <td>3</td>\n",
       "      <td>FDX07</td>\n",
       "      <td>19.20</td>\n",
       "      <td>Regular</td>\n",
       "      <td>0.000000</td>\n",
       "      <td>182.1</td>\n",
       "      <td>OUT010</td>\n",
       "      <td>1998</td>\n",
       "      <td>Medium</td>\n",
       "      <td>Tier1</td>\n",
       "      <td>...</td>\n",
       "      <td>1</td>\n",
       "      <td>0</td>\n",
       "      <td>0</td>\n",
       "      <td>0</td>\n",
       "      <td>0</td>\n",
       "      <td>0</td>\n",
       "      <td>0</td>\n",
       "      <td>0</td>\n",
       "      <td>0</td>\n",
       "      <td>0</td>\n",
       "    </tr>\n",
       "    <tr>\n",
       "      <th>4</th>\n",
       "      <td>4</td>\n",
       "      <td>NCD19</td>\n",
       "      <td>8.93</td>\n",
       "      <td>Low Fat</td>\n",
       "      <td>0.000000</td>\n",
       "      <td>53.9</td>\n",
       "      <td>OUT013</td>\n",
       "      <td>1987</td>\n",
       "      <td>High</td>\n",
       "      <td>Tier 3</td>\n",
       "      <td>...</td>\n",
       "      <td>0</td>\n",
       "      <td>0</td>\n",
       "      <td>0</td>\n",
       "      <td>1</td>\n",
       "      <td>0</td>\n",
       "      <td>0</td>\n",
       "      <td>0</td>\n",
       "      <td>0</td>\n",
       "      <td>0</td>\n",
       "      <td>0</td>\n",
       "    </tr>\n",
       "  </tbody>\n",
       "</table>\n",
       "<p>5 rows × 29 columns</p>\n",
       "</div>"
      ],
      "text/plain": [
       "   Unnamed: 0 Item_Identifier  Item_Weight Item_Fat_Content  Item_Visibility  \\\n",
       "0           0           FDA15         9.30          Low Fat         0.016047   \n",
       "1           1           DRC01         5.92          Regular         0.019278   \n",
       "2           2           FDN15        17.50          Low Fat         0.016760   \n",
       "3           3           FDX07        19.20          Regular         0.000000   \n",
       "4           4           NCD19         8.93          Low Fat         0.000000   \n",
       "\n",
       "   Item_MRP Outlet_Identifier  Outlet_Establishment_Year Outlet_Size  \\\n",
       "0     249.8            OUT049                       1999      Medium   \n",
       "1      48.3            OUT018                       2009      Medium   \n",
       "2     141.6            OUT049                       1999      Medium   \n",
       "3     182.1            OUT010                       1998      Medium   \n",
       "4      53.9            OUT013                       1987        High   \n",
       "\n",
       "  Outlet_Location_Type  ... Item_Type_Fruits and Vegetables  \\\n",
       "0               Tier 2  ...                               0   \n",
       "1               Tier 2  ...                               0   \n",
       "2               Tier 2  ...                               0   \n",
       "3                Tier1  ...                               1   \n",
       "4               Tier 3  ...                               0   \n",
       "\n",
       "   Item_Type_Hard Drinks  Item_Type_Health and Hygiene  Item_Type_Household  \\\n",
       "0                      0                             0                    0   \n",
       "1                      0                             0                    0   \n",
       "2                      0                             0                    0   \n",
       "3                      0                             0                    0   \n",
       "4                      0                             0                    1   \n",
       "\n",
       "   Item_Type_Meat  Item_Type_Others  Item_Type_Seafood  Item_Type_Snack Foods  \\\n",
       "0               0                 0                  0                      0   \n",
       "1               0                 0                  0                      0   \n",
       "2               1                 0                  0                      0   \n",
       "3               0                 0                  0                      0   \n",
       "4               0                 0                  0                      0   \n",
       "\n",
       "   Item_Type_Soft Drinks  Item_Type_Starchy Foods  \n",
       "0                      0                        0  \n",
       "1                      1                        0  \n",
       "2                      0                        0  \n",
       "3                      0                        0  \n",
       "4                      0                        0  \n",
       "\n",
       "[5 rows x 29 columns]"
      ]
     },
     "execution_count": 100,
     "metadata": {},
     "output_type": "execute_result"
    }
   ],
   "source": [
    "# create dummy variables for 'Item_Type'\n",
    "pd.get_dummies(df_sales, columns= ['Item_Type']).head()"
   ]
  },
  {
   "cell_type": "markdown",
   "id": "f73ce8af",
   "metadata": {
    "id": "gd8c3BA9knBN"
   },
   "source": [
    "We have created 16 dummy encoded variables from the categorical variable `Item_Type`. In the $1^{st}$ observation, value '1' is present in the column `Item_Type_Dairy\t`, while all other dummy variables have value '0'."
   ]
  },
  {
   "cell_type": "markdown",
   "id": "29ceb80b",
   "metadata": {
    "id": "w_XkvsxEknBO"
   },
   "source": [
    "#### We can also create n-1 dummy variables for the 16 categories in `Item_Type` using the `drop_first` parameter."
   ]
  },
  {
   "cell_type": "code",
   "execution_count": 101,
   "id": "ecb935cc",
   "metadata": {
    "id": "efWf2KLvknBO",
    "outputId": "587dbc29-39eb-478f-8b29-75c02374c255"
   },
   "outputs": [
    {
     "data": {
      "text/html": [
       "<div>\n",
       "<style scoped>\n",
       "    .dataframe tbody tr th:only-of-type {\n",
       "        vertical-align: middle;\n",
       "    }\n",
       "\n",
       "    .dataframe tbody tr th {\n",
       "        vertical-align: top;\n",
       "    }\n",
       "\n",
       "    .dataframe thead th {\n",
       "        text-align: right;\n",
       "    }\n",
       "</style>\n",
       "<table border=\"1\" class=\"dataframe\">\n",
       "  <thead>\n",
       "    <tr style=\"text-align: right;\">\n",
       "      <th></th>\n",
       "      <th>Unnamed: 0</th>\n",
       "      <th>Item_Identifier</th>\n",
       "      <th>Item_Weight</th>\n",
       "      <th>Item_Fat_Content</th>\n",
       "      <th>Item_Visibility</th>\n",
       "      <th>Item_MRP</th>\n",
       "      <th>Outlet_Identifier</th>\n",
       "      <th>Outlet_Establishment_Year</th>\n",
       "      <th>Outlet_Size</th>\n",
       "      <th>Outlet_Location_Type</th>\n",
       "      <th>...</th>\n",
       "      <th>Item_Type_Fruits and Vegetables</th>\n",
       "      <th>Item_Type_Hard Drinks</th>\n",
       "      <th>Item_Type_Health and Hygiene</th>\n",
       "      <th>Item_Type_Household</th>\n",
       "      <th>Item_Type_Meat</th>\n",
       "      <th>Item_Type_Others</th>\n",
       "      <th>Item_Type_Seafood</th>\n",
       "      <th>Item_Type_Snack Foods</th>\n",
       "      <th>Item_Type_Soft Drinks</th>\n",
       "      <th>Item_Type_Starchy Foods</th>\n",
       "    </tr>\n",
       "  </thead>\n",
       "  <tbody>\n",
       "    <tr>\n",
       "      <th>0</th>\n",
       "      <td>0</td>\n",
       "      <td>FDA15</td>\n",
       "      <td>9.30</td>\n",
       "      <td>Low Fat</td>\n",
       "      <td>0.016047</td>\n",
       "      <td>249.8</td>\n",
       "      <td>OUT049</td>\n",
       "      <td>1999</td>\n",
       "      <td>Medium</td>\n",
       "      <td>Tier 2</td>\n",
       "      <td>...</td>\n",
       "      <td>0</td>\n",
       "      <td>0</td>\n",
       "      <td>0</td>\n",
       "      <td>0</td>\n",
       "      <td>0</td>\n",
       "      <td>0</td>\n",
       "      <td>0</td>\n",
       "      <td>0</td>\n",
       "      <td>0</td>\n",
       "      <td>0</td>\n",
       "    </tr>\n",
       "    <tr>\n",
       "      <th>1</th>\n",
       "      <td>1</td>\n",
       "      <td>DRC01</td>\n",
       "      <td>5.92</td>\n",
       "      <td>Regular</td>\n",
       "      <td>0.019278</td>\n",
       "      <td>48.3</td>\n",
       "      <td>OUT018</td>\n",
       "      <td>2009</td>\n",
       "      <td>Medium</td>\n",
       "      <td>Tier 2</td>\n",
       "      <td>...</td>\n",
       "      <td>0</td>\n",
       "      <td>0</td>\n",
       "      <td>0</td>\n",
       "      <td>0</td>\n",
       "      <td>0</td>\n",
       "      <td>0</td>\n",
       "      <td>0</td>\n",
       "      <td>0</td>\n",
       "      <td>1</td>\n",
       "      <td>0</td>\n",
       "    </tr>\n",
       "    <tr>\n",
       "      <th>2</th>\n",
       "      <td>2</td>\n",
       "      <td>FDN15</td>\n",
       "      <td>17.50</td>\n",
       "      <td>Low Fat</td>\n",
       "      <td>0.016760</td>\n",
       "      <td>141.6</td>\n",
       "      <td>OUT049</td>\n",
       "      <td>1999</td>\n",
       "      <td>Medium</td>\n",
       "      <td>Tier 2</td>\n",
       "      <td>...</td>\n",
       "      <td>0</td>\n",
       "      <td>0</td>\n",
       "      <td>0</td>\n",
       "      <td>0</td>\n",
       "      <td>1</td>\n",
       "      <td>0</td>\n",
       "      <td>0</td>\n",
       "      <td>0</td>\n",
       "      <td>0</td>\n",
       "      <td>0</td>\n",
       "    </tr>\n",
       "    <tr>\n",
       "      <th>3</th>\n",
       "      <td>3</td>\n",
       "      <td>FDX07</td>\n",
       "      <td>19.20</td>\n",
       "      <td>Regular</td>\n",
       "      <td>0.000000</td>\n",
       "      <td>182.1</td>\n",
       "      <td>OUT010</td>\n",
       "      <td>1998</td>\n",
       "      <td>Medium</td>\n",
       "      <td>Tier1</td>\n",
       "      <td>...</td>\n",
       "      <td>1</td>\n",
       "      <td>0</td>\n",
       "      <td>0</td>\n",
       "      <td>0</td>\n",
       "      <td>0</td>\n",
       "      <td>0</td>\n",
       "      <td>0</td>\n",
       "      <td>0</td>\n",
       "      <td>0</td>\n",
       "      <td>0</td>\n",
       "    </tr>\n",
       "    <tr>\n",
       "      <th>4</th>\n",
       "      <td>4</td>\n",
       "      <td>NCD19</td>\n",
       "      <td>8.93</td>\n",
       "      <td>Low Fat</td>\n",
       "      <td>0.000000</td>\n",
       "      <td>53.9</td>\n",
       "      <td>OUT013</td>\n",
       "      <td>1987</td>\n",
       "      <td>High</td>\n",
       "      <td>Tier 3</td>\n",
       "      <td>...</td>\n",
       "      <td>0</td>\n",
       "      <td>0</td>\n",
       "      <td>0</td>\n",
       "      <td>1</td>\n",
       "      <td>0</td>\n",
       "      <td>0</td>\n",
       "      <td>0</td>\n",
       "      <td>0</td>\n",
       "      <td>0</td>\n",
       "      <td>0</td>\n",
       "    </tr>\n",
       "  </tbody>\n",
       "</table>\n",
       "<p>5 rows × 28 columns</p>\n",
       "</div>"
      ],
      "text/plain": [
       "   Unnamed: 0 Item_Identifier  Item_Weight Item_Fat_Content  Item_Visibility  \\\n",
       "0           0           FDA15         9.30          Low Fat         0.016047   \n",
       "1           1           DRC01         5.92          Regular         0.019278   \n",
       "2           2           FDN15        17.50          Low Fat         0.016760   \n",
       "3           3           FDX07        19.20          Regular         0.000000   \n",
       "4           4           NCD19         8.93          Low Fat         0.000000   \n",
       "\n",
       "   Item_MRP Outlet_Identifier  Outlet_Establishment_Year Outlet_Size  \\\n",
       "0     249.8            OUT049                       1999      Medium   \n",
       "1      48.3            OUT018                       2009      Medium   \n",
       "2     141.6            OUT049                       1999      Medium   \n",
       "3     182.1            OUT010                       1998      Medium   \n",
       "4      53.9            OUT013                       1987        High   \n",
       "\n",
       "  Outlet_Location_Type  ... Item_Type_Fruits and Vegetables  \\\n",
       "0               Tier 2  ...                               0   \n",
       "1               Tier 2  ...                               0   \n",
       "2               Tier 2  ...                               0   \n",
       "3                Tier1  ...                               1   \n",
       "4               Tier 3  ...                               0   \n",
       "\n",
       "   Item_Type_Hard Drinks  Item_Type_Health and Hygiene  Item_Type_Household  \\\n",
       "0                      0                             0                    0   \n",
       "1                      0                             0                    0   \n",
       "2                      0                             0                    0   \n",
       "3                      0                             0                    0   \n",
       "4                      0                             0                    1   \n",
       "\n",
       "   Item_Type_Meat  Item_Type_Others  Item_Type_Seafood  Item_Type_Snack Foods  \\\n",
       "0               0                 0                  0                      0   \n",
       "1               0                 0                  0                      0   \n",
       "2               1                 0                  0                      0   \n",
       "3               0                 0                  0                      0   \n",
       "4               0                 0                  0                      0   \n",
       "\n",
       "   Item_Type_Soft Drinks  Item_Type_Starchy Foods  \n",
       "0                      0                        0  \n",
       "1                      1                        0  \n",
       "2                      0                        0  \n",
       "3                      0                        0  \n",
       "4                      0                        0  \n",
       "\n",
       "[5 rows x 28 columns]"
      ]
     },
     "execution_count": 101,
     "metadata": {},
     "output_type": "execute_result"
    }
   ],
   "source": [
    "# create dummy variables for 'Item_Type'\n",
    "# 'drop_first = True' creates (n-1 = 15) dummy variables from (n = 16) categories \n",
    "pd.get_dummies(df_sales, columns= ['Item_Type'], drop_first = True).head()"
   ]
  },
  {
   "cell_type": "markdown",
   "id": "7df2e256",
   "metadata": {
    "id": "-_HTEJcNknBO"
   },
   "source": [
    "The above data frame contains 15 dummy variables for 16 categories of `Item_Type`. The 0 indicates non-existance of the item type while 1 indicates existance of the item type."
   ]
  },
  {
   "cell_type": "markdown",
   "id": "6c6cb2b5",
   "metadata": {
    "id": "tJMl_OHsknBO"
   },
   "source": [
    "<a id=\"onehot\"> </a>\n",
    "## 3.2 One-Hot Encoding (Using Sklearn)"
   ]
  },
  {
   "cell_type": "markdown",
   "id": "72562d1e",
   "metadata": {
    "id": "qJvgSHdRknBP"
   },
   "source": [
    "sklearn also provides a function to perform a one-hot encoding of the categorical variable. Let us use 'OneHotEncoder' from skelarn to encode the variable `Outlet_Type`."
   ]
  },
  {
   "cell_type": "code",
   "execution_count": 102,
   "id": "b7cc47ee",
   "metadata": {},
   "outputs": [
    {
     "data": {
      "text/plain": [
       "Supermarket Type1    5577\n",
       "Grocery Store        1083\n",
       "Supermarket Type3     935\n",
       "Supermarket Type2     928\n",
       "Name: Outlet_Type, dtype: int64"
      ]
     },
     "execution_count": 102,
     "metadata": {},
     "output_type": "execute_result"
    }
   ],
   "source": [
    "df_sales.Outlet_Type.value_counts()"
   ]
  },
  {
   "cell_type": "code",
   "execution_count": 103,
   "id": "82e16ced",
   "metadata": {
    "id": "7WvnBd5iknBP",
    "outputId": "0262ee4b-e4a9-43ab-de94-c8c7c927d10d"
   },
   "outputs": [
    {
     "data": {
      "text/html": [
       "<div>\n",
       "<style scoped>\n",
       "    .dataframe tbody tr th:only-of-type {\n",
       "        vertical-align: middle;\n",
       "    }\n",
       "\n",
       "    .dataframe tbody tr th {\n",
       "        vertical-align: top;\n",
       "    }\n",
       "\n",
       "    .dataframe thead th {\n",
       "        text-align: right;\n",
       "    }\n",
       "</style>\n",
       "<table border=\"1\" class=\"dataframe\">\n",
       "  <thead>\n",
       "    <tr style=\"text-align: right;\">\n",
       "      <th></th>\n",
       "      <th>Unnamed: 0</th>\n",
       "      <th>Item_Identifier</th>\n",
       "      <th>Item_Weight</th>\n",
       "      <th>Item_Fat_Content</th>\n",
       "      <th>Item_Visibility</th>\n",
       "      <th>Item_Type</th>\n",
       "      <th>Item_MRP</th>\n",
       "      <th>Outlet_Identifier</th>\n",
       "      <th>Outlet_Establishment_Year</th>\n",
       "      <th>Outlet_Size</th>\n",
       "      <th>Outlet_Location_Type</th>\n",
       "      <th>Outlet_Type</th>\n",
       "      <th>Item_Outlet_Sales</th>\n",
       "      <th>Profit</th>\n",
       "      <th>Grocery Store</th>\n",
       "      <th>Supermarket Type1</th>\n",
       "      <th>Supermarket Type2</th>\n",
       "      <th>Supermarket Type3</th>\n",
       "    </tr>\n",
       "  </thead>\n",
       "  <tbody>\n",
       "    <tr>\n",
       "      <th>0</th>\n",
       "      <td>0</td>\n",
       "      <td>FDA15</td>\n",
       "      <td>9.30</td>\n",
       "      <td>Low Fat</td>\n",
       "      <td>0.016047</td>\n",
       "      <td>Dairy</td>\n",
       "      <td>249.8</td>\n",
       "      <td>OUT049</td>\n",
       "      <td>1999</td>\n",
       "      <td>Medium</td>\n",
       "      <td>Tier 2</td>\n",
       "      <td>Supermarket Type1</td>\n",
       "      <td>3735.1380</td>\n",
       "      <td>11.5</td>\n",
       "      <td>0.0</td>\n",
       "      <td>1.0</td>\n",
       "      <td>0.0</td>\n",
       "      <td>0.0</td>\n",
       "    </tr>\n",
       "    <tr>\n",
       "      <th>1</th>\n",
       "      <td>1</td>\n",
       "      <td>DRC01</td>\n",
       "      <td>5.92</td>\n",
       "      <td>Regular</td>\n",
       "      <td>0.019278</td>\n",
       "      <td>Soft Drinks</td>\n",
       "      <td>48.3</td>\n",
       "      <td>OUT018</td>\n",
       "      <td>2009</td>\n",
       "      <td>Medium</td>\n",
       "      <td>Tier 2</td>\n",
       "      <td>Supermarket Type2</td>\n",
       "      <td>443.4228</td>\n",
       "      <td>14.3</td>\n",
       "      <td>0.0</td>\n",
       "      <td>0.0</td>\n",
       "      <td>1.0</td>\n",
       "      <td>0.0</td>\n",
       "    </tr>\n",
       "    <tr>\n",
       "      <th>2</th>\n",
       "      <td>2</td>\n",
       "      <td>FDN15</td>\n",
       "      <td>17.50</td>\n",
       "      <td>Low Fat</td>\n",
       "      <td>0.016760</td>\n",
       "      <td>Meat</td>\n",
       "      <td>141.6</td>\n",
       "      <td>OUT049</td>\n",
       "      <td>1999</td>\n",
       "      <td>Medium</td>\n",
       "      <td>Tier 2</td>\n",
       "      <td>Supermarket Type1</td>\n",
       "      <td>2097.2700</td>\n",
       "      <td>14.5</td>\n",
       "      <td>0.0</td>\n",
       "      <td>1.0</td>\n",
       "      <td>0.0</td>\n",
       "      <td>0.0</td>\n",
       "    </tr>\n",
       "    <tr>\n",
       "      <th>3</th>\n",
       "      <td>3</td>\n",
       "      <td>FDX07</td>\n",
       "      <td>19.20</td>\n",
       "      <td>Regular</td>\n",
       "      <td>0.000000</td>\n",
       "      <td>Fruits and Vegetables</td>\n",
       "      <td>182.1</td>\n",
       "      <td>OUT010</td>\n",
       "      <td>1998</td>\n",
       "      <td>Medium</td>\n",
       "      <td>Tier1</td>\n",
       "      <td>Grocery Store</td>\n",
       "      <td>732.3800</td>\n",
       "      <td>13.6</td>\n",
       "      <td>1.0</td>\n",
       "      <td>0.0</td>\n",
       "      <td>0.0</td>\n",
       "      <td>0.0</td>\n",
       "    </tr>\n",
       "    <tr>\n",
       "      <th>4</th>\n",
       "      <td>4</td>\n",
       "      <td>NCD19</td>\n",
       "      <td>8.93</td>\n",
       "      <td>Low Fat</td>\n",
       "      <td>0.000000</td>\n",
       "      <td>Household</td>\n",
       "      <td>53.9</td>\n",
       "      <td>OUT013</td>\n",
       "      <td>1987</td>\n",
       "      <td>High</td>\n",
       "      <td>Tier 3</td>\n",
       "      <td>Supermarket Type1</td>\n",
       "      <td>994.7052</td>\n",
       "      <td>14.1</td>\n",
       "      <td>0.0</td>\n",
       "      <td>1.0</td>\n",
       "      <td>0.0</td>\n",
       "      <td>0.0</td>\n",
       "    </tr>\n",
       "  </tbody>\n",
       "</table>\n",
       "</div>"
      ],
      "text/plain": [
       "   Unnamed: 0 Item_Identifier  Item_Weight Item_Fat_Content  Item_Visibility  \\\n",
       "0           0           FDA15         9.30          Low Fat         0.016047   \n",
       "1           1           DRC01         5.92          Regular         0.019278   \n",
       "2           2           FDN15        17.50          Low Fat         0.016760   \n",
       "3           3           FDX07        19.20          Regular         0.000000   \n",
       "4           4           NCD19         8.93          Low Fat         0.000000   \n",
       "\n",
       "               Item_Type  Item_MRP Outlet_Identifier  \\\n",
       "0                  Dairy     249.8            OUT049   \n",
       "1            Soft Drinks      48.3            OUT018   \n",
       "2                   Meat     141.6            OUT049   \n",
       "3  Fruits and Vegetables     182.1            OUT010   \n",
       "4              Household      53.9            OUT013   \n",
       "\n",
       "   Outlet_Establishment_Year Outlet_Size Outlet_Location_Type  \\\n",
       "0                       1999      Medium               Tier 2   \n",
       "1                       2009      Medium               Tier 2   \n",
       "2                       1999      Medium               Tier 2   \n",
       "3                       1998      Medium                Tier1   \n",
       "4                       1987        High               Tier 3   \n",
       "\n",
       "         Outlet_Type  Item_Outlet_Sales  Profit  Grocery Store  \\\n",
       "0  Supermarket Type1          3735.1380    11.5            0.0   \n",
       "1  Supermarket Type2           443.4228    14.3            0.0   \n",
       "2  Supermarket Type1          2097.2700    14.5            0.0   \n",
       "3      Grocery Store           732.3800    13.6            1.0   \n",
       "4  Supermarket Type1           994.7052    14.1            0.0   \n",
       "\n",
       "   Supermarket Type1  Supermarket Type2  Supermarket Type3  \n",
       "0                1.0                0.0                0.0  \n",
       "1                0.0                1.0                0.0  \n",
       "2                1.0                0.0                0.0  \n",
       "3                0.0                0.0                0.0  \n",
       "4                1.0                0.0                0.0  "
      ]
     },
     "execution_count": 103,
     "metadata": {},
     "output_type": "execute_result"
    }
   ],
   "source": [
    "# import the OneHotEncoder\n",
    "from sklearn.preprocessing import OneHotEncoder\n",
    "\n",
    "# creating instance of one-hot-encoder\n",
    "encode = OneHotEncoder()\n",
    "\n",
    "# fit_transform: It returns a sparse array\n",
    "# .toarray(): It returns a numpy array\n",
    "df_encode = pd.DataFrame(encode.fit_transform(df_sales[['Outlet_Type']]).toarray(), columns = ['Grocery Store', 'Supermarket Type1', \n",
    "                                                                                         'Supermarket Type2', 'Supermarket Type3'])\n",
    "\n",
    "\n",
    "\n",
    "# merge with main dataframe (df_sales)\n",
    "df_encode = pd.concat([df_sales, df_encode], axis=1)\n",
    "\n",
    "# print 20 rows of the data\n",
    "df_encode.head()"
   ]
  },
  {
   "cell_type": "markdown",
   "id": "326fd05d",
   "metadata": {
    "id": "IwVCaR6ZknBP"
   },
   "source": [
    "<a id=\"label\"> </a>\n",
    "## 3.3 Label Encoding (Using Sklearn)"
   ]
  },
  {
   "cell_type": "markdown",
   "id": "0eff515f",
   "metadata": {
    "id": "JTLDVYYMknBQ"
   },
   "source": [
    "This technique labels each of the categories of the variable with values between 0 and (n-1), where 'n' is the number of distinct categories in the variable."
   ]
  },
  {
   "cell_type": "markdown",
   "id": "4d97dcc9",
   "metadata": {
    "id": "VDl5_68EknBQ"
   },
   "source": [
    "#### Use 'LabelEncoder' from sklearn to encode the variable `Outlet_Size`."
   ]
  },
  {
   "cell_type": "code",
   "execution_count": 104,
   "id": "483e42bd",
   "metadata": {
    "id": "5oZJ7oNJknBQ",
    "outputId": "f2a6b4f8-b093-4d74-f27d-c93f9b2936cc"
   },
   "outputs": [
    {
     "data": {
      "text/plain": [
       "array(['Medium', 'High', 'Small'], dtype=object)"
      ]
     },
     "execution_count": 104,
     "metadata": {},
     "output_type": "execute_result"
    }
   ],
   "source": [
    "# check the categories in 'Outlet_Size'\n",
    "df_sales.Outlet_Size.unique()"
   ]
  },
  {
   "cell_type": "code",
   "execution_count": 105,
   "id": "1c05d036",
   "metadata": {
    "id": "OSAIsfv2knBR"
   },
   "outputs": [],
   "source": [
    "# we can not perform encoding with the variable which has missing value \n",
    "# convert the data type into string\n",
    "df_sales['Outlet_Size'] = df_sales['Outlet_Size'].astype(str)"
   ]
  },
  {
   "cell_type": "markdown",
   "id": "d5de0bda",
   "metadata": {
    "id": "scUtkuVXknBR"
   },
   "source": [
    "Now, the missing values will be considered as a separate category alongside other categories (Medium, High, Small) in the variable."
   ]
  },
  {
   "cell_type": "code",
   "execution_count": 106,
   "id": "d78f236c",
   "metadata": {
    "id": "jn3TSZoDknBR",
    "outputId": "9c6d9995-69cf-4ea2-fdde-ad1bcbeda3c0"
   },
   "outputs": [
    {
     "data": {
      "text/html": [
       "<div>\n",
       "<style scoped>\n",
       "    .dataframe tbody tr th:only-of-type {\n",
       "        vertical-align: middle;\n",
       "    }\n",
       "\n",
       "    .dataframe tbody tr th {\n",
       "        vertical-align: top;\n",
       "    }\n",
       "\n",
       "    .dataframe thead th {\n",
       "        text-align: right;\n",
       "    }\n",
       "</style>\n",
       "<table border=\"1\" class=\"dataframe\">\n",
       "  <thead>\n",
       "    <tr style=\"text-align: right;\">\n",
       "      <th></th>\n",
       "      <th>Unnamed: 0</th>\n",
       "      <th>Item_Identifier</th>\n",
       "      <th>Item_Weight</th>\n",
       "      <th>Item_Fat_Content</th>\n",
       "      <th>Item_Visibility</th>\n",
       "      <th>Item_Type</th>\n",
       "      <th>Item_MRP</th>\n",
       "      <th>Outlet_Identifier</th>\n",
       "      <th>Outlet_Establishment_Year</th>\n",
       "      <th>Outlet_Size</th>\n",
       "      <th>Outlet_Location_Type</th>\n",
       "      <th>Outlet_Type</th>\n",
       "      <th>Item_Outlet_Sales</th>\n",
       "      <th>Profit</th>\n",
       "      <th>Label_Encoded_Outlet_Size</th>\n",
       "    </tr>\n",
       "  </thead>\n",
       "  <tbody>\n",
       "    <tr>\n",
       "      <th>0</th>\n",
       "      <td>0</td>\n",
       "      <td>FDA15</td>\n",
       "      <td>9.30</td>\n",
       "      <td>Low Fat</td>\n",
       "      <td>0.016047</td>\n",
       "      <td>Dairy</td>\n",
       "      <td>249.8</td>\n",
       "      <td>OUT049</td>\n",
       "      <td>1999</td>\n",
       "      <td>Medium</td>\n",
       "      <td>Tier 2</td>\n",
       "      <td>Supermarket Type1</td>\n",
       "      <td>3735.1380</td>\n",
       "      <td>11.5</td>\n",
       "      <td>1</td>\n",
       "    </tr>\n",
       "    <tr>\n",
       "      <th>1</th>\n",
       "      <td>1</td>\n",
       "      <td>DRC01</td>\n",
       "      <td>5.92</td>\n",
       "      <td>Regular</td>\n",
       "      <td>0.019278</td>\n",
       "      <td>Soft Drinks</td>\n",
       "      <td>48.3</td>\n",
       "      <td>OUT018</td>\n",
       "      <td>2009</td>\n",
       "      <td>Medium</td>\n",
       "      <td>Tier 2</td>\n",
       "      <td>Supermarket Type2</td>\n",
       "      <td>443.4228</td>\n",
       "      <td>14.3</td>\n",
       "      <td>1</td>\n",
       "    </tr>\n",
       "    <tr>\n",
       "      <th>2</th>\n",
       "      <td>2</td>\n",
       "      <td>FDN15</td>\n",
       "      <td>17.50</td>\n",
       "      <td>Low Fat</td>\n",
       "      <td>0.016760</td>\n",
       "      <td>Meat</td>\n",
       "      <td>141.6</td>\n",
       "      <td>OUT049</td>\n",
       "      <td>1999</td>\n",
       "      <td>Medium</td>\n",
       "      <td>Tier 2</td>\n",
       "      <td>Supermarket Type1</td>\n",
       "      <td>2097.2700</td>\n",
       "      <td>14.5</td>\n",
       "      <td>1</td>\n",
       "    </tr>\n",
       "    <tr>\n",
       "      <th>3</th>\n",
       "      <td>3</td>\n",
       "      <td>FDX07</td>\n",
       "      <td>19.20</td>\n",
       "      <td>Regular</td>\n",
       "      <td>0.000000</td>\n",
       "      <td>Fruits and Vegetables</td>\n",
       "      <td>182.1</td>\n",
       "      <td>OUT010</td>\n",
       "      <td>1998</td>\n",
       "      <td>Medium</td>\n",
       "      <td>Tier1</td>\n",
       "      <td>Grocery Store</td>\n",
       "      <td>732.3800</td>\n",
       "      <td>13.6</td>\n",
       "      <td>1</td>\n",
       "    </tr>\n",
       "    <tr>\n",
       "      <th>4</th>\n",
       "      <td>4</td>\n",
       "      <td>NCD19</td>\n",
       "      <td>8.93</td>\n",
       "      <td>Low Fat</td>\n",
       "      <td>0.000000</td>\n",
       "      <td>Household</td>\n",
       "      <td>53.9</td>\n",
       "      <td>OUT013</td>\n",
       "      <td>1987</td>\n",
       "      <td>High</td>\n",
       "      <td>Tier 3</td>\n",
       "      <td>Supermarket Type1</td>\n",
       "      <td>994.7052</td>\n",
       "      <td>14.1</td>\n",
       "      <td>0</td>\n",
       "    </tr>\n",
       "  </tbody>\n",
       "</table>\n",
       "</div>"
      ],
      "text/plain": [
       "   Unnamed: 0 Item_Identifier  Item_Weight Item_Fat_Content  Item_Visibility  \\\n",
       "0           0           FDA15         9.30          Low Fat         0.016047   \n",
       "1           1           DRC01         5.92          Regular         0.019278   \n",
       "2           2           FDN15        17.50          Low Fat         0.016760   \n",
       "3           3           FDX07        19.20          Regular         0.000000   \n",
       "4           4           NCD19         8.93          Low Fat         0.000000   \n",
       "\n",
       "               Item_Type  Item_MRP Outlet_Identifier  \\\n",
       "0                  Dairy     249.8            OUT049   \n",
       "1            Soft Drinks      48.3            OUT018   \n",
       "2                   Meat     141.6            OUT049   \n",
       "3  Fruits and Vegetables     182.1            OUT010   \n",
       "4              Household      53.9            OUT013   \n",
       "\n",
       "   Outlet_Establishment_Year Outlet_Size Outlet_Location_Type  \\\n",
       "0                       1999      Medium               Tier 2   \n",
       "1                       2009      Medium               Tier 2   \n",
       "2                       1999      Medium               Tier 2   \n",
       "3                       1998      Medium                Tier1   \n",
       "4                       1987        High               Tier 3   \n",
       "\n",
       "         Outlet_Type  Item_Outlet_Sales  Profit  Label_Encoded_Outlet_Size  \n",
       "0  Supermarket Type1          3735.1380    11.5                          1  \n",
       "1  Supermarket Type2           443.4228    14.3                          1  \n",
       "2  Supermarket Type1          2097.2700    14.5                          1  \n",
       "3      Grocery Store           732.3800    13.6                          1  \n",
       "4  Supermarket Type1           994.7052    14.1                          0  "
      ]
     },
     "execution_count": 106,
     "metadata": {},
     "output_type": "execute_result"
    }
   ],
   "source": [
    "# import the LabelEncoder\n",
    "from sklearn.preprocessing import LabelEncoder\n",
    "\n",
    "# instantiate the encoder\n",
    "labelencoder = LabelEncoder()\n",
    "\n",
    "# fit the encoder on 'Outlet_Size' \n",
    "df_sales['Label_Encoded_Outlet_Size'] = labelencoder.fit_transform(df_sales.Outlet_Size)\n",
    "\n",
    "# display first 5 observations\n",
    "df_sales.head()"
   ]
  },
  {
   "cell_type": "markdown",
   "id": "c26ccde7",
   "metadata": {
    "collapsed": true,
    "id": "Ut67t-eVknBS"
   },
   "source": [
    "LabelEncoder has encoded the four outlet size. This method is not always useful because it assigns the order to the categories in an alphabetical manner."
   ]
  },
  {
   "cell_type": "markdown",
   "id": "bff40d38",
   "metadata": {
    "id": "LWTOmY31knBS"
   },
   "source": [
    "<a id=\"ord\"> </a>\n",
    "## 3.4 Ordinal Encoding (Using Sklearn)"
   ]
  },
  {
   "cell_type": "markdown",
   "id": "3daf70bb",
   "metadata": {
    "id": "2ISBuUI_knBT"
   },
   "source": [
    "Ordinal encoding can be used to encode the ordinal variable with the values from 0 to (n-1) for 'n' distinct categories. We can pass the order to the encoder to assign the categories in the variable. We encode the variable `Outlet_Size` using OrdinalEncoder."
   ]
  },
  {
   "cell_type": "code",
   "execution_count": 107,
   "id": "ade64caf",
   "metadata": {
    "id": "YCgsqnJYknBT",
    "outputId": "68031d01-a035-494c-9f93-163662268c2f"
   },
   "outputs": [
    {
     "data": {
      "text/html": [
       "<div>\n",
       "<style scoped>\n",
       "    .dataframe tbody tr th:only-of-type {\n",
       "        vertical-align: middle;\n",
       "    }\n",
       "\n",
       "    .dataframe tbody tr th {\n",
       "        vertical-align: top;\n",
       "    }\n",
       "\n",
       "    .dataframe thead th {\n",
       "        text-align: right;\n",
       "    }\n",
       "</style>\n",
       "<table border=\"1\" class=\"dataframe\">\n",
       "  <thead>\n",
       "    <tr style=\"text-align: right;\">\n",
       "      <th></th>\n",
       "      <th>Unnamed: 0</th>\n",
       "      <th>Item_Identifier</th>\n",
       "      <th>Item_Weight</th>\n",
       "      <th>Item_Fat_Content</th>\n",
       "      <th>Item_Visibility</th>\n",
       "      <th>Item_Type</th>\n",
       "      <th>Item_MRP</th>\n",
       "      <th>Outlet_Identifier</th>\n",
       "      <th>Outlet_Establishment_Year</th>\n",
       "      <th>Outlet_Size</th>\n",
       "      <th>Outlet_Location_Type</th>\n",
       "      <th>Outlet_Type</th>\n",
       "      <th>Item_Outlet_Sales</th>\n",
       "      <th>Profit</th>\n",
       "      <th>Label_Encoded_Outlet_Size</th>\n",
       "      <th>Order_Outlet_Size</th>\n",
       "    </tr>\n",
       "  </thead>\n",
       "  <tbody>\n",
       "    <tr>\n",
       "      <th>0</th>\n",
       "      <td>0</td>\n",
       "      <td>FDA15</td>\n",
       "      <td>9.30</td>\n",
       "      <td>Low Fat</td>\n",
       "      <td>0.016047</td>\n",
       "      <td>Dairy</td>\n",
       "      <td>249.8</td>\n",
       "      <td>OUT049</td>\n",
       "      <td>1999</td>\n",
       "      <td>Medium</td>\n",
       "      <td>Tier 2</td>\n",
       "      <td>Supermarket Type1</td>\n",
       "      <td>3735.1380</td>\n",
       "      <td>11.5</td>\n",
       "      <td>1</td>\n",
       "      <td>1.0</td>\n",
       "    </tr>\n",
       "    <tr>\n",
       "      <th>1</th>\n",
       "      <td>1</td>\n",
       "      <td>DRC01</td>\n",
       "      <td>5.92</td>\n",
       "      <td>Regular</td>\n",
       "      <td>0.019278</td>\n",
       "      <td>Soft Drinks</td>\n",
       "      <td>48.3</td>\n",
       "      <td>OUT018</td>\n",
       "      <td>2009</td>\n",
       "      <td>Medium</td>\n",
       "      <td>Tier 2</td>\n",
       "      <td>Supermarket Type2</td>\n",
       "      <td>443.4228</td>\n",
       "      <td>14.3</td>\n",
       "      <td>1</td>\n",
       "      <td>1.0</td>\n",
       "    </tr>\n",
       "    <tr>\n",
       "      <th>2</th>\n",
       "      <td>2</td>\n",
       "      <td>FDN15</td>\n",
       "      <td>17.50</td>\n",
       "      <td>Low Fat</td>\n",
       "      <td>0.016760</td>\n",
       "      <td>Meat</td>\n",
       "      <td>141.6</td>\n",
       "      <td>OUT049</td>\n",
       "      <td>1999</td>\n",
       "      <td>Medium</td>\n",
       "      <td>Tier 2</td>\n",
       "      <td>Supermarket Type1</td>\n",
       "      <td>2097.2700</td>\n",
       "      <td>14.5</td>\n",
       "      <td>1</td>\n",
       "      <td>1.0</td>\n",
       "    </tr>\n",
       "    <tr>\n",
       "      <th>3</th>\n",
       "      <td>3</td>\n",
       "      <td>FDX07</td>\n",
       "      <td>19.20</td>\n",
       "      <td>Regular</td>\n",
       "      <td>0.000000</td>\n",
       "      <td>Fruits and Vegetables</td>\n",
       "      <td>182.1</td>\n",
       "      <td>OUT010</td>\n",
       "      <td>1998</td>\n",
       "      <td>Medium</td>\n",
       "      <td>Tier1</td>\n",
       "      <td>Grocery Store</td>\n",
       "      <td>732.3800</td>\n",
       "      <td>13.6</td>\n",
       "      <td>1</td>\n",
       "      <td>1.0</td>\n",
       "    </tr>\n",
       "    <tr>\n",
       "      <th>4</th>\n",
       "      <td>4</td>\n",
       "      <td>NCD19</td>\n",
       "      <td>8.93</td>\n",
       "      <td>Low Fat</td>\n",
       "      <td>0.000000</td>\n",
       "      <td>Household</td>\n",
       "      <td>53.9</td>\n",
       "      <td>OUT013</td>\n",
       "      <td>1987</td>\n",
       "      <td>High</td>\n",
       "      <td>Tier 3</td>\n",
       "      <td>Supermarket Type1</td>\n",
       "      <td>994.7052</td>\n",
       "      <td>14.1</td>\n",
       "      <td>0</td>\n",
       "      <td>2.0</td>\n",
       "    </tr>\n",
       "  </tbody>\n",
       "</table>\n",
       "</div>"
      ],
      "text/plain": [
       "   Unnamed: 0 Item_Identifier  Item_Weight Item_Fat_Content  Item_Visibility  \\\n",
       "0           0           FDA15         9.30          Low Fat         0.016047   \n",
       "1           1           DRC01         5.92          Regular         0.019278   \n",
       "2           2           FDN15        17.50          Low Fat         0.016760   \n",
       "3           3           FDX07        19.20          Regular         0.000000   \n",
       "4           4           NCD19         8.93          Low Fat         0.000000   \n",
       "\n",
       "               Item_Type  Item_MRP Outlet_Identifier  \\\n",
       "0                  Dairy     249.8            OUT049   \n",
       "1            Soft Drinks      48.3            OUT018   \n",
       "2                   Meat     141.6            OUT049   \n",
       "3  Fruits and Vegetables     182.1            OUT010   \n",
       "4              Household      53.9            OUT013   \n",
       "\n",
       "   Outlet_Establishment_Year Outlet_Size Outlet_Location_Type  \\\n",
       "0                       1999      Medium               Tier 2   \n",
       "1                       2009      Medium               Tier 2   \n",
       "2                       1999      Medium               Tier 2   \n",
       "3                       1998      Medium                Tier1   \n",
       "4                       1987        High               Tier 3   \n",
       "\n",
       "         Outlet_Type  Item_Outlet_Sales  Profit  Label_Encoded_Outlet_Size  \\\n",
       "0  Supermarket Type1          3735.1380    11.5                          1   \n",
       "1  Supermarket Type2           443.4228    14.3                          1   \n",
       "2  Supermarket Type1          2097.2700    14.5                          1   \n",
       "3      Grocery Store           732.3800    13.6                          1   \n",
       "4  Supermarket Type1           994.7052    14.1                          0   \n",
       "\n",
       "   Order_Outlet_Size  \n",
       "0                1.0  \n",
       "1                1.0  \n",
       "2                1.0  \n",
       "3                1.0  \n",
       "4                2.0  "
      ]
     },
     "execution_count": 107,
     "metadata": {},
     "output_type": "execute_result"
    }
   ],
   "source": [
    "# import the OrdinalEncoder\n",
    "from sklearn.preprocessing import OrdinalEncoder\n",
    "\n",
    "# instantiate the encoder with the list of categories in the required order\n",
    "orderencoding = OrdinalEncoder(categories = [[\"Small\", \"Medium\", \"High\", \"nan\"]])\n",
    "\n",
    "# add a column of ordered labels\n",
    "# reshape(-1, 1): to rearrange the data\n",
    "df_sales['Order_Outlet_Size'] = orderencoding.fit_transform(df_sales['Outlet_Size'].values.reshape(-1,1))\n",
    "\n",
    "# display the data\n",
    "df_sales.head()"
   ]
  },
  {
   "cell_type": "markdown",
   "id": "ae800cf2",
   "metadata": {
    "id": "XsbrTMEUknBU"
   },
   "source": [
    "<a id=\"freq\"> </a>\n",
    "## 3.5 Frequency Encoding (Using Sklearn)"
   ]
  },
  {
   "cell_type": "markdown",
   "id": "34b5f8e1",
   "metadata": {
    "id": "Axnw_gVVknBU"
   },
   "source": [
    "Frequency encoding is used to encode the values with the frequency of each category of the categorical variable. This method is not useful if the categories have the same frequency; as the encoded column will contain the same value for all the observations. "
   ]
  },
  {
   "cell_type": "markdown",
   "id": "db831991",
   "metadata": {
    "id": "LN1DPNLfknBV"
   },
   "source": [
    "#### Encode the variable `Item_Type` with the frequency of each category."
   ]
  },
  {
   "cell_type": "code",
   "execution_count": 108,
   "id": "73fcbd20",
   "metadata": {
    "id": "tB73aD5IknBV",
    "outputId": "d586a1dd-3f61-44f9-f93f-5cf70f10b741"
   },
   "outputs": [
    {
     "data": {
      "text/html": [
       "<div>\n",
       "<style scoped>\n",
       "    .dataframe tbody tr th:only-of-type {\n",
       "        vertical-align: middle;\n",
       "    }\n",
       "\n",
       "    .dataframe tbody tr th {\n",
       "        vertical-align: top;\n",
       "    }\n",
       "\n",
       "    .dataframe thead th {\n",
       "        text-align: right;\n",
       "    }\n",
       "</style>\n",
       "<table border=\"1\" class=\"dataframe\">\n",
       "  <thead>\n",
       "    <tr style=\"text-align: right;\">\n",
       "      <th></th>\n",
       "      <th>Unnamed: 0</th>\n",
       "      <th>Item_Identifier</th>\n",
       "      <th>Item_Weight</th>\n",
       "      <th>Item_Fat_Content</th>\n",
       "      <th>Item_Visibility</th>\n",
       "      <th>Item_Type</th>\n",
       "      <th>Item_MRP</th>\n",
       "      <th>Outlet_Identifier</th>\n",
       "      <th>Outlet_Establishment_Year</th>\n",
       "      <th>Outlet_Size</th>\n",
       "      <th>Outlet_Location_Type</th>\n",
       "      <th>Outlet_Type</th>\n",
       "      <th>Item_Outlet_Sales</th>\n",
       "      <th>Profit</th>\n",
       "      <th>Label_Encoded_Outlet_Size</th>\n",
       "      <th>Order_Outlet_Size</th>\n",
       "      <th>Freq_Encoded_Item_Type</th>\n",
       "    </tr>\n",
       "  </thead>\n",
       "  <tbody>\n",
       "    <tr>\n",
       "      <th>0</th>\n",
       "      <td>0</td>\n",
       "      <td>FDA15</td>\n",
       "      <td>9.30</td>\n",
       "      <td>Low Fat</td>\n",
       "      <td>0.016047</td>\n",
       "      <td>Dairy</td>\n",
       "      <td>249.8</td>\n",
       "      <td>OUT049</td>\n",
       "      <td>1999</td>\n",
       "      <td>Medium</td>\n",
       "      <td>Tier 2</td>\n",
       "      <td>Supermarket Type1</td>\n",
       "      <td>3735.1380</td>\n",
       "      <td>11.5</td>\n",
       "      <td>1</td>\n",
       "      <td>1.0</td>\n",
       "      <td>8.001877</td>\n",
       "    </tr>\n",
       "    <tr>\n",
       "      <th>1</th>\n",
       "      <td>1</td>\n",
       "      <td>DRC01</td>\n",
       "      <td>5.92</td>\n",
       "      <td>Regular</td>\n",
       "      <td>0.019278</td>\n",
       "      <td>Soft Drinks</td>\n",
       "      <td>48.3</td>\n",
       "      <td>OUT018</td>\n",
       "      <td>2009</td>\n",
       "      <td>Medium</td>\n",
       "      <td>Tier 2</td>\n",
       "      <td>Supermarket Type2</td>\n",
       "      <td>443.4228</td>\n",
       "      <td>14.3</td>\n",
       "      <td>1</td>\n",
       "      <td>1.0</td>\n",
       "      <td>5.221166</td>\n",
       "    </tr>\n",
       "    <tr>\n",
       "      <th>2</th>\n",
       "      <td>2</td>\n",
       "      <td>FDN15</td>\n",
       "      <td>17.50</td>\n",
       "      <td>Low Fat</td>\n",
       "      <td>0.016760</td>\n",
       "      <td>Meat</td>\n",
       "      <td>141.6</td>\n",
       "      <td>OUT049</td>\n",
       "      <td>1999</td>\n",
       "      <td>Medium</td>\n",
       "      <td>Tier 2</td>\n",
       "      <td>Supermarket Type1</td>\n",
       "      <td>2097.2700</td>\n",
       "      <td>14.5</td>\n",
       "      <td>1</td>\n",
       "      <td>1.0</td>\n",
       "      <td>4.986507</td>\n",
       "    </tr>\n",
       "    <tr>\n",
       "      <th>3</th>\n",
       "      <td>3</td>\n",
       "      <td>FDX07</td>\n",
       "      <td>19.20</td>\n",
       "      <td>Regular</td>\n",
       "      <td>0.000000</td>\n",
       "      <td>Fruits and Vegetables</td>\n",
       "      <td>182.1</td>\n",
       "      <td>OUT010</td>\n",
       "      <td>1998</td>\n",
       "      <td>Medium</td>\n",
       "      <td>Tier1</td>\n",
       "      <td>Grocery Store</td>\n",
       "      <td>732.3800</td>\n",
       "      <td>13.6</td>\n",
       "      <td>1</td>\n",
       "      <td>1.0</td>\n",
       "      <td>14.455004</td>\n",
       "    </tr>\n",
       "    <tr>\n",
       "      <th>4</th>\n",
       "      <td>4</td>\n",
       "      <td>NCD19</td>\n",
       "      <td>8.93</td>\n",
       "      <td>Low Fat</td>\n",
       "      <td>0.000000</td>\n",
       "      <td>Household</td>\n",
       "      <td>53.9</td>\n",
       "      <td>OUT013</td>\n",
       "      <td>1987</td>\n",
       "      <td>High</td>\n",
       "      <td>Tier 3</td>\n",
       "      <td>Supermarket Type1</td>\n",
       "      <td>994.7052</td>\n",
       "      <td>14.1</td>\n",
       "      <td>0</td>\n",
       "      <td>2.0</td>\n",
       "      <td>10.676992</td>\n",
       "    </tr>\n",
       "  </tbody>\n",
       "</table>\n",
       "</div>"
      ],
      "text/plain": [
       "   Unnamed: 0 Item_Identifier  Item_Weight Item_Fat_Content  Item_Visibility  \\\n",
       "0           0           FDA15         9.30          Low Fat         0.016047   \n",
       "1           1           DRC01         5.92          Regular         0.019278   \n",
       "2           2           FDN15        17.50          Low Fat         0.016760   \n",
       "3           3           FDX07        19.20          Regular         0.000000   \n",
       "4           4           NCD19         8.93          Low Fat         0.000000   \n",
       "\n",
       "               Item_Type  Item_MRP Outlet_Identifier  \\\n",
       "0                  Dairy     249.8            OUT049   \n",
       "1            Soft Drinks      48.3            OUT018   \n",
       "2                   Meat     141.6            OUT049   \n",
       "3  Fruits and Vegetables     182.1            OUT010   \n",
       "4              Household      53.9            OUT013   \n",
       "\n",
       "   Outlet_Establishment_Year Outlet_Size Outlet_Location_Type  \\\n",
       "0                       1999      Medium               Tier 2   \n",
       "1                       2009      Medium               Tier 2   \n",
       "2                       1999      Medium               Tier 2   \n",
       "3                       1998      Medium                Tier1   \n",
       "4                       1987        High               Tier 3   \n",
       "\n",
       "         Outlet_Type  Item_Outlet_Sales  Profit  Label_Encoded_Outlet_Size  \\\n",
       "0  Supermarket Type1          3735.1380    11.5                          1   \n",
       "1  Supermarket Type2           443.4228    14.3                          1   \n",
       "2  Supermarket Type1          2097.2700    14.5                          1   \n",
       "3      Grocery Store           732.3800    13.6                          1   \n",
       "4  Supermarket Type1           994.7052    14.1                          0   \n",
       "\n",
       "   Order_Outlet_Size  Freq_Encoded_Item_Type  \n",
       "0                1.0                8.001877  \n",
       "1                1.0                5.221166  \n",
       "2                1.0                4.986507  \n",
       "3                1.0               14.455004  \n",
       "4                2.0               10.676992  "
      ]
     },
     "execution_count": 108,
     "metadata": {},
     "output_type": "execute_result"
    }
   ],
   "source": [
    "# frequency encoding on 'Item_Type'\n",
    "# size of each category\n",
    "encoding = df_sales.groupby('Item_Type').size()\n",
    "\n",
    "# get frequency of each category\n",
    "encoding = encoding/len(df_sales)\n",
    "\n",
    "# encode the column\n",
    "# map(): apply encoding to each item in the variable\n",
    "# and multiply by 100\n",
    "df_sales['Freq_Encoded_Item_Type'] = df_sales.Item_Type.map(encoding)*100\n",
    "\n",
    "# print first five rows of the data\n",
    "df_sales.head()"
   ]
  },
  {
   "cell_type": "code",
   "execution_count": 109,
   "id": "67b26589",
   "metadata": {
    "id": "yAsZIO2wknBW",
    "outputId": "99487f0f-881c-4b37-fbc0-7f8db64468b7"
   },
   "outputs": [
    {
     "data": {
      "text/html": [
       "<div>\n",
       "<style scoped>\n",
       "    .dataframe tbody tr th:only-of-type {\n",
       "        vertical-align: middle;\n",
       "    }\n",
       "\n",
       "    .dataframe tbody tr th {\n",
       "        vertical-align: top;\n",
       "    }\n",
       "\n",
       "    .dataframe thead th {\n",
       "        text-align: right;\n",
       "    }\n",
       "</style>\n",
       "<table border=\"1\" class=\"dataframe\">\n",
       "  <thead>\n",
       "    <tr style=\"text-align: right;\">\n",
       "      <th></th>\n",
       "      <th>Item_Type</th>\n",
       "    </tr>\n",
       "  </thead>\n",
       "  <tbody>\n",
       "    <tr>\n",
       "      <th>8.001877</th>\n",
       "      <td>Dairy</td>\n",
       "    </tr>\n",
       "    <tr>\n",
       "      <th>5.221166</th>\n",
       "      <td>Soft Drinks</td>\n",
       "    </tr>\n",
       "    <tr>\n",
       "      <th>4.986507</th>\n",
       "      <td>Meat</td>\n",
       "    </tr>\n",
       "    <tr>\n",
       "      <th>14.455004</th>\n",
       "      <td>Fruits and Vegetables</td>\n",
       "    </tr>\n",
       "    <tr>\n",
       "      <th>10.676992</th>\n",
       "      <td>Household</td>\n",
       "    </tr>\n",
       "    <tr>\n",
       "      <th>7.602957</th>\n",
       "      <td>Baking Goods</td>\n",
       "    </tr>\n",
       "    <tr>\n",
       "      <th>14.079549</th>\n",
       "      <td>Snack Foods</td>\n",
       "    </tr>\n",
       "    <tr>\n",
       "      <th>10.043412</th>\n",
       "      <td>Frozen Foods</td>\n",
       "    </tr>\n",
       "    <tr>\n",
       "      <th>1.290625</th>\n",
       "      <td>Breakfast</td>\n",
       "    </tr>\n",
       "    <tr>\n",
       "      <th>6.101138</th>\n",
       "      <td>Health and Hygiene</td>\n",
       "    </tr>\n",
       "    <tr>\n",
       "      <th>2.510853</th>\n",
       "      <td>Hard Drinks</td>\n",
       "    </tr>\n",
       "    <tr>\n",
       "      <th>7.614690</th>\n",
       "      <td>Canned</td>\n",
       "    </tr>\n",
       "    <tr>\n",
       "      <th>2.944972</th>\n",
       "      <td>Breads</td>\n",
       "    </tr>\n",
       "    <tr>\n",
       "      <th>1.736478</th>\n",
       "      <td>Starchy Foods</td>\n",
       "    </tr>\n",
       "    <tr>\n",
       "      <th>1.982870</th>\n",
       "      <td>Others</td>\n",
       "    </tr>\n",
       "    <tr>\n",
       "      <th>0.750909</th>\n",
       "      <td>Seafood</td>\n",
       "    </tr>\n",
       "  </tbody>\n",
       "</table>\n",
       "</div>"
      ],
      "text/plain": [
       "                       Item_Type\n",
       "8.001877                   Dairy\n",
       "5.221166             Soft Drinks\n",
       "4.986507                    Meat\n",
       "14.455004  Fruits and Vegetables\n",
       "10.676992              Household\n",
       "7.602957            Baking Goods\n",
       "14.079549            Snack Foods\n",
       "10.043412           Frozen Foods\n",
       "1.290625               Breakfast\n",
       "6.101138      Health and Hygiene\n",
       "2.510853             Hard Drinks\n",
       "7.614690                  Canned\n",
       "2.944972                  Breads\n",
       "1.736478           Starchy Foods\n",
       "1.982870                  Others\n",
       "0.750909                 Seafood"
      ]
     },
     "execution_count": 109,
     "metadata": {},
     "output_type": "execute_result"
    }
   ],
   "source": [
    "# create a dataframe for 'Item_Type' and its corresponding frequency encoding\n",
    "# .unique(): to get the unique values\n",
    "pd.DataFrame(df_sales['Item_Type'].unique(), df_sales['Freq_Encoded_Item_Type'].unique(), columns= ['Item_Type'])"
   ]
  },
  {
   "cell_type": "markdown",
   "id": "4da99776",
   "metadata": {
    "id": "uo9FE3SfknBX"
   },
   "source": [
    "**Interpretation:** From the above result,for all categories in the variable we get the percentage of occurrence for that specific category.\n",
    "The 'Fruits and Vegetables', 'Household', 'Snack Foods', and 'Frozen Foods' have the highest proportion among all the products."
   ]
  },
  {
   "cell_type": "markdown",
   "id": "5be1a1b3",
   "metadata": {
    "id": "CnY2LdYNknBX"
   },
   "source": [
    "<a id=\"norm\"> </a>\n",
    "# 4. Scale the Data\n",
    "\n",
    "The data may contain the variables of the different numerical scale. We scale the variable to get all the variables in the same range. With this, we can avoid a problem in which some features come to dominate solely because they tend to have larger values than others. Here, we study two techniques to normalize the data.\n",
    "               "
   ]
  },
  {
   "cell_type": "markdown",
   "id": "34b5e210",
   "metadata": {
    "id": "N7Hg1UL0knBY"
   },
   "source": [
    "<a id=\"stdscale\"> </a>\n",
    "## 4.1 StandardScaler"
   ]
  },
  {
   "cell_type": "markdown",
   "id": "c01ddf5c",
   "metadata": {
    "id": "TgU5gOwVknBY"
   },
   "source": [
    "The StandardScaler() is present in the sklearn library that normalizes the data such that the mean is zero and standard deviation is 1. This method does not change the shape of the original distribution."
   ]
  },
  {
   "cell_type": "markdown",
   "id": "25f12b5b",
   "metadata": {
    "id": "rpWpOpPnknBZ"
   },
   "source": [
    "Check the minimum and maximum values of the product sales."
   ]
  },
  {
   "cell_type": "code",
   "execution_count": 110,
   "id": "8d3fb624",
   "metadata": {
    "id": "T9MBUB-bknBZ",
    "outputId": "6b8670c2-88a0-49ab-8494-16d51adb118c"
   },
   "outputs": [
    {
     "name": "stdout",
     "output_type": "stream",
     "text": [
      " The minimum value of the sales: 33.29 \n",
      " The maximum value of the sales: 13086.9648\n"
     ]
    }
   ],
   "source": [
    "# calculate the minimum and maximum values of the variable\n",
    "print(\" The minimum value of the sales:\",df_sales['Item_Outlet_Sales'].min(),\"\\n\",\n",
    "      \"The maximum value of the sales:\", df_sales['Item_Outlet_Sales'].max())"
   ]
  },
  {
   "cell_type": "markdown",
   "id": "6bfa1947",
   "metadata": {
    "id": "1fotuMfvknBa"
   },
   "source": [
    "Standardize the variable to reduce the scale of the data."
   ]
  },
  {
   "cell_type": "code",
   "execution_count": 111,
   "id": "3b2a49f7",
   "metadata": {
    "id": "8ulag8VSknBb",
    "outputId": "70c9a79b-3744-475c-9e13-e86408645815"
   },
   "outputs": [
    {
     "name": "stdout",
     "output_type": "stream",
     "text": [
      " The minimum value of the sales: -1.2587901671720854 \n",
      " The maximum value of the sales: 6.391044932769205\n"
     ]
    }
   ],
   "source": [
    "# import StandardScaler\n",
    "from sklearn.preprocessing import StandardScaler\n",
    "\n",
    "# instantiate the standardscaler\n",
    "standard_scale = StandardScaler()\n",
    "\n",
    "# fit the StandardScaler\n",
    "df_sales['Scaled_Item_Outlet_Sales'] = standard_scale.fit_transform(df_sales[['Item_Outlet_Sales']])\n",
    "\n",
    "# calculate the minimum and maximum values of the variable\n",
    "print(\" The minimum value of the sales:\",df_sales['Scaled_Item_Outlet_Sales'].min(),\"\\n\",\n",
    "      \"The maximum value of the sales:\", df_sales['Scaled_Item_Outlet_Sales'].max())"
   ]
  },
  {
   "cell_type": "markdown",
   "id": "c509cce7",
   "metadata": {
    "id": "ThaenDJvknBb"
   },
   "source": [
    "Plot the distribution plots to visualize the data."
   ]
  },
  {
   "cell_type": "code",
   "execution_count": 112,
   "id": "223f6d1a",
   "metadata": {
    "id": "oY0MFvzGknBc",
    "outputId": "b1e8a03e-34fa-4648-8c2a-93070da518d4"
   },
   "outputs": [
    {
     "data": {
      "image/png": "[encoded data removed]",
      "text/plain": [
       "<Figure size 1080x576 with 2 Axes>"
      ]
     },
     "metadata": {
      "needs_background": "light"
     },
     "output_type": "display_data"
    }
   ],
   "source": [
    "# set the figure size\n",
    "plt.rcParams[\"figure.figsize\"] = [15,8]\n",
    "\n",
    "# subplot is used to create a set of plots\n",
    "# we create a subplot of 1 row by 2 columns\n",
    "# use first column for plotting\n",
    "plt.subplot(1,2,1)\n",
    "\n",
    "# plot the distribution of original variable\n",
    "# axlabel: label the x-axis\n",
    "sns.distplot(df_sales['Item_Outlet_Sales'])\n",
    "# set label for y-axis\n",
    "plt.ylabel('Density', fontsize=15)\n",
    "# set label for x-axis\n",
    "plt.xlabel('Item Outlet Sales', fontsize=15)\n",
    "\n",
    "# we create a subplot of 1 row by 2 columns\n",
    "# use second column for plotting\n",
    "plt.subplot(1,2,2)\n",
    "\n",
    "# plot the distribution of scaled variable\n",
    "# axlabel: label the x-axis\n",
    "sns.distplot(df_sales['Scaled_Item_Outlet_Sales'])\n",
    "# set label for y-axis\n",
    "plt.ylabel('Density', fontsize=15)\n",
    "# set label for x-axis\n",
    "plt.xlabel('Scaled Item Outlet Sales', fontsize=15)\n",
    "# display the plot\n",
    "plt.show()"
   ]
  },
  {
   "cell_type": "markdown",
   "id": "6c43b090",
   "metadata": {
    "id": "7bTKjabTknBc"
   },
   "source": [
    "**Interpretation:** The above subplots show that the distribution of the scaled and unscaled data is the same. But, the range of values is changed from (33.29, 13086.96) to (-1.26, 6.39)."
   ]
  },
  {
   "cell_type": "markdown",
   "id": "b4d0be62",
   "metadata": {
    "id": "mSzovE1vknBc"
   },
   "source": [
    "Check the mean and standard deviation of the scaled data."
   ]
  },
  {
   "cell_type": "code",
   "execution_count": 113,
   "id": "2f3b276a",
   "metadata": {
    "id": "RFsmoJi9knBd",
    "outputId": "464fad43-a601-4c09-a458-092c7b999b8d"
   },
   "outputs": [
    {
     "name": "stdout",
     "output_type": "stream",
     "text": [
      "The mean of the scaled variable: 1.6488563939581405e-16 \n",
      " The standard deviation of the scaled variable: 1.0000586699522322\n"
     ]
    }
   ],
   "source": [
    "# check the mean and standard deviation of the scaled variable\n",
    "print(\"The mean of the scaled variable:\", df_sales['Scaled_Item_Outlet_Sales'].mean(),\"\\n\",\n",
    "      \"The standard deviation of the scaled variable:\", df_sales['Scaled_Item_Outlet_Sales'].std())"
   ]
  },
  {
   "cell_type": "markdown",
   "id": "af4443bc",
   "metadata": {
    "id": "g3Yv1RsPknBd"
   },
   "source": [
    "**Interpretation:** It shows that the transformed data has mean = 0 and standard deviation = 1"
   ]
  },
  {
   "cell_type": "markdown",
   "id": "5d6a41fd",
   "metadata": {
    "id": "LLUQJkU8knBd"
   },
   "source": [
    "<a id=\"minmax\"> </a>\n",
    "## 4.2 Min-Max Normalization"
   ]
  },
  {
   "cell_type": "markdown",
   "id": "ac32b2b8",
   "metadata": {
    "id": "MjOlDUpTknBe"
   },
   "source": [
    "Min-max normalization is another method to normalize the data. It performs a linear transformation on the data. The normalized values will be between 0 and 1. Use the 'MinMaxScaler' from sklearn to normalize the variable."
   ]
  },
  {
   "cell_type": "code",
   "execution_count": 114,
   "id": "b1a9c1d0",
   "metadata": {
    "id": "6jmI05vlknBe",
    "outputId": "262aa9d1-be48-46cb-9a42-d0a660077553"
   },
   "outputs": [
    {
     "data": {
      "text/plain": [
       "(0.0, 1.0)"
      ]
     },
     "execution_count": 114,
     "metadata": {},
     "output_type": "execute_result"
    }
   ],
   "source": [
    "# import MinMaxScaler\n",
    "from sklearn.preprocessing import MinMaxScaler\n",
    "\n",
    "# instantiate the MinMaxScaler\n",
    "min_max = MinMaxScaler()\n",
    "\n",
    "# fit the MinMaxScaler\n",
    "df_sales['minmax_Item_Outlet_Sales'] = min_max.fit_transform(df_sales[['Item_Outlet_Sales']])\n",
    "\n",
    "# minimum and maximum value of the normalized variable\n",
    "df_sales['minmax_Item_Outlet_Sales'].min(), df_sales['minmax_Item_Outlet_Sales'].max()"
   ]
  },
  {
   "cell_type": "markdown",
   "id": "9c681a33",
   "metadata": {
    "id": "nKLYMN-NknBe"
   },
   "source": [
    "**Interpretation:** The range of `Item_Outlet_Sales` has changed from (33.29, 13086.9648) to (0,1)."
   ]
  },
  {
   "cell_type": "code",
   "execution_count": 115,
   "id": "4b6aa7cd",
   "metadata": {
    "id": "MF1aUcThknBf",
    "outputId": "b232790e-1bc4-41e2-c1a0-4d74b8d12bd8"
   },
   "outputs": [
    {
     "data": {
      "image/png": "[encoded data removed]",
      "text/plain": [
       "<Figure size 1080x576 with 2 Axes>"
      ]
     },
     "metadata": {
      "needs_background": "light"
     },
     "output_type": "display_data"
    }
   ],
   "source": [
    "# set the figure size\n",
    "plt.rcParams[\"figure.figsize\"] = [15,8]\n",
    "\n",
    "# subplot is used to create a set of plots\n",
    "# we create a subplot of 1 row by 2 columns\n",
    "# use first column for plotting\n",
    "plt.subplot(1,2,1)\n",
    "\n",
    "# plot the distribution of original variable\n",
    "# axlabel: label the x-axis\n",
    "sns.distplot(df_sales['Item_Outlet_Sales'], axlabel='Item Outlet Sales')\n",
    "# set label for y-axis\n",
    "plt.ylabel('Density', fontsize=15)\n",
    "# set label for x-axis\n",
    "plt.xlabel('Item Outlet Sales', fontsize=15)\n",
    "\n",
    "# we create a subplot of 1 row by 2 columns \n",
    "# use second column for plotting\n",
    "plt.subplot(1,2,2)\n",
    "\n",
    "# plot the distribution of scaled variable\n",
    "# axlabel: label the x-axis\n",
    "sns.distplot(df_sales['minmax_Item_Outlet_Sales'], axlabel='Scaled Item Outlet Sales')\n",
    "# set label for y-axis\n",
    "plt.ylabel('Density', fontsize=15)\n",
    "# set label for x-axis\n",
    "plt.xlabel('Scaled Item Outlet Sales', fontsize=15)\n",
    "\n",
    "# display the plot\n",
    "plt.show()"
   ]
  },
  {
   "cell_type": "markdown",
   "id": "ea739898",
   "metadata": {
    "id": "MKor0XvtknBf"
   },
   "source": [
    "**Interpretation:** Normalization is useful when the data has varying scales."
   ]
  },
  {
   "cell_type": "markdown",
   "id": "0197da88",
   "metadata": {
    "id": "PlHUIbMWknBf"
   },
   "source": [
    "<a id=\"trans\"> </a>\n",
    "# 5. Transformation Techniques\n",
    "\n",
    "Different kinds of transformations can be applied to the data to change the data in the required scale or shape. Here, we learn the two transformation techniques - Log transformation and Exponential transformation."
   ]
  },
  {
   "cell_type": "markdown",
   "id": "380b2d19",
   "metadata": {
    "id": "4DFDi3q3knBg"
   },
   "source": [
    "<a id=\"log\"> </a>\n",
    "## 5.1 Log Transformation"
   ]
  },
  {
   "cell_type": "markdown",
   "id": "f27917ec",
   "metadata": {
    "id": "XgHu2ovRknBg"
   },
   "source": [
    "We have seen types of skewness that may be present in the data. Log transformation can be applied to reduce such skewness. If the data values are increasing at an exponential rate, then log transformation can transform the values such that the values will increase linearly."
   ]
  },
  {
   "cell_type": "code",
   "execution_count": 116,
   "id": "b96fb694",
   "metadata": {
    "id": "fKw6mG4lknBg",
    "outputId": "1407d9e2-2508-4223-a3ae-221e29c5a126"
   },
   "outputs": [
    {
     "name": "stdout",
     "output_type": "stream",
     "text": [
      "Skewness: 1.1775306028542796\n"
     ]
    },
    {
     "data": {
      "image/png": "[encoded data removed]",
      "text/plain": [
       "<Figure size 1080x576 with 1 Axes>"
      ]
     },
     "metadata": {
      "needs_background": "light"
     },
     "output_type": "display_data"
    }
   ],
   "source": [
    "\n",
    "\n",
    "# check the distribution of sales of the product\n",
    "# ax: create an axes object in the figure\n",
    "ax = sns.distplot(df_sales['Item_Outlet_Sales'])\n",
    "\n",
    "# set the label for x-axis\n",
    "ax.set_xlabel('Sales of the Product', fontsize=15)\n",
    "\n",
    "# coefficient of skewness \n",
    "print('Skewness:', df_sales['Item_Outlet_Sales'].skew())\n",
    "\n",
    "# set label for y-axis\n",
    "plt.ylabel('Density', fontsize=15)\n",
    "\n",
    "# display the plot\n",
    "plt.show()"
   ]
  },
  {
   "cell_type": "markdown",
   "id": "60c2580a",
   "metadata": {
    "id": "Sq_TIL1OknBh"
   },
   "source": [
    "**Interpretation:** It can be seen that the variable is positively skewed with the coefficient of skewness as 1.177. Apply the log transformation to reduce the skewness in the data."
   ]
  },
  {
   "cell_type": "code",
   "execution_count": 117,
   "id": "bd666000",
   "metadata": {
    "id": "jhE9BhkVknBh",
    "outputId": "4da0eb9f-328b-4cfb-bbef-bdbbd82dd4f8"
   },
   "outputs": [
    {
     "name": "stdout",
     "output_type": "stream",
     "text": [
      "Skewness: -0.887753343209305\n"
     ]
    },
    {
     "data": {
      "image/png": "[encoded data removed]",
      "text/plain": [
       "<Figure size 1080x576 with 1 Axes>"
      ]
     },
     "metadata": {
      "needs_background": "light"
     },
     "output_type": "display_data"
    }
   ],
   "source": [
    "\n",
    "\n",
    "# apply natural log transformation (with base 'e')\n",
    "np.log(df_sales['Item_Outlet_Sales'])\n",
    "\n",
    "# coefficient of skewness of transformed data\n",
    "print('Skewness:', np.log(df_sales['Item_Outlet_Sales']).skew())\n",
    "\n",
    "# distribution of log_transformed variable\n",
    "# ax: create an axes object in the figure\n",
    "ax = sns.distplot(np.log(df_sales['Item_Outlet_Sales']))\n",
    "\n",
    "# set the label for x-axis\n",
    "ax.set_xlabel('Item Outlet Sales', fontsize=15)\n",
    "\n",
    "# set label for y-axis\n",
    "plt.ylabel('Density', fontsize=15)\n",
    "\n",
    "# display the plot\n",
    "plt.show()"
   ]
  },
  {
   "cell_type": "markdown",
   "id": "34a2e052",
   "metadata": {
    "id": "k3plEgSRknBi"
   },
   "source": [
    "The coefficient of skewness of the log_transformed data is near zero (-0.89). The distribution plot of the transformed variable is also more interpretable than the plot with original values."
   ]
  },
  {
   "cell_type": "markdown",
   "id": "4ed6062f",
   "metadata": {
    "id": "htNKPl-KknBi"
   },
   "source": [
    "<a id=\"expo\"> </a>\n",
    "## 5.2 Exponential Transformation"
   ]
  },
  {
   "cell_type": "markdown",
   "id": "c2b683d8",
   "metadata": {
    "id": "AfvxVWh1knBi"
   },
   "source": [
    "It is inverse of the log transformation. In the analysis, we sometimes may need to change the data to log scale; but for the final interpretation, we need the data in original units. In such cases, exponential transformation is used to take the 'anti-log' of the log-transformed values to get the values on the original scale."
   ]
  },
  {
   "cell_type": "markdown",
   "id": "f1cead17",
   "metadata": {
    "id": "WPQHW5EZknBi"
   },
   "source": [
    "Consider the log-transformed values of `Item_Outlet_Sales`."
   ]
  },
  {
   "cell_type": "code",
   "execution_count": 118,
   "id": "7c901a64",
   "metadata": {
    "id": "tkR4kad7knBj",
    "outputId": "3527a6bf-fc06-43f1-f0cd-aea8eddb0a5a",
    "scrolled": true
   },
   "outputs": [
    {
     "data": {
      "image/png": "[encoded data removed]",
      "text/plain": [
       "<Figure size 1080x576 with 1 Axes>"
      ]
     },
     "metadata": {
      "needs_background": "light"
     },
     "output_type": "display_data"
    }
   ],
   "source": [
    "# log_transformed values\n",
    "log_Item_Outlet_Sales =  np.log(df_sales['Item_Outlet_Sales'])\n",
    "\n",
    "\n",
    "\n",
    "# plot the distribution\n",
    "# ax: create an axes object in the figure\n",
    "ax = sns.distplot(log_Item_Outlet_Sales)\n",
    "\n",
    "# set the title\n",
    "plt.title(\"Log Transformed Item Outlet Sales\", fontsize=15)\n",
    "\n",
    "# set the label for x-axis\n",
    "ax.set_xlabel('Item Outlet Sales', fontsize=15)\n",
    "\n",
    "# set label for y-axis\n",
    "plt.ylabel('Density', fontsize=15)\n",
    "\n",
    "# display the plot\n",
    "plt.show()"
   ]
  },
  {
   "cell_type": "code",
   "execution_count": 119,
   "id": "40d499e5",
   "metadata": {},
   "outputs": [
    {
     "data": {
      "text/plain": [
       "<AxesSubplot:title={'center':'Log Transformed Item Outlet Sales'}, xlabel='Item_Outlet_Sales', ylabel='Density'>"
      ]
     },
     "execution_count": 119,
     "metadata": {},
     "output_type": "execute_result"
    },
    {
     "data": {
      "image/png": "[encoded data removed]",
      "text/plain": [
       "<Figure size 1080x576 with 1 Axes>"
      ]
     },
     "metadata": {
      "needs_background": "light"
     },
     "output_type": "display_data"
    }
   ],
   "source": [
    "plt.title(\"Log Transformed Item Outlet Sales\", fontsize=15)\n",
    "plt.xlabel('Item Outlet Sales', fontsize=15)\n",
    "\n",
    "# set label for y-axis\n",
    "plt.ylabel('Density', fontsize=15)\n",
    "sns.distplot(log_Item_Outlet_Sales)"
   ]
  },
  {
   "cell_type": "markdown",
   "id": "28dddeda",
   "metadata": {
    "id": "w1tcR_3ZknBj"
   },
   "source": [
    "**Interpretation:** In the above plot, x-axis represents the values of outlet sales in the log scale. We want the values on the original scale. Thus, use the exponential transformation to convert the values to the original scale."
   ]
  },
  {
   "cell_type": "code",
   "execution_count": 120,
   "id": "bd7520ec",
   "metadata": {
    "id": "k_mx5Ty2knBk",
    "outputId": "6800533a-f7db-46cb-ae9b-10e990c43510"
   },
   "outputs": [
    {
     "data": {
      "image/png": "[encoded data removed]",
      "text/plain": [
       "<Figure size 1080x576 with 1 Axes>"
      ]
     },
     "metadata": {
      "needs_background": "light"
     },
     "output_type": "display_data"
    }
   ],
   "source": [
    "# anti-log of 'log_Item_Outlet_Sales'\n",
    "Exp_Item_Outlet_Sales = np.exp(log_Item_Outlet_Sales)\n",
    "\n",
    "# set the figure size\n",
    "plt.rcParams[\"figure.figsize\"] = [15,8] \n",
    "\n",
    "# plot the distribution\n",
    "# ax: create an axes object in the figure\n",
    "ax = sns.distplot(Exp_Item_Outlet_Sales)\n",
    "\n",
    "# set the title\n",
    "plt.title('Exponential Transformation', fontsize=15)\n",
    "\n",
    "# set the label for x-axis\n",
    "ax.set_xlabel('Item Outlet Sales', fontsize=15)\n",
    "\n",
    "# set label for y-axis\n",
    "plt.ylabel('Density', fontsize=15)\n",
    "\n",
    "# display the plot\n",
    "plt.show()"
   ]
  },
  {
   "cell_type": "code",
   "execution_count": 121,
   "id": "49f300f0",
   "metadata": {
    "id": "dUCcmBFdknBk",
    "outputId": "a70c6394-8a79-47af-acb9-a1f2d3e3d6a5"
   },
   "outputs": [
    {
     "data": {
      "text/plain": [
       "count     8523.000000\n",
       "mean      2181.288914\n",
       "std       1706.499616\n",
       "min         33.290000\n",
       "25%        834.247400\n",
       "50%       1794.331000\n",
       "75%       3101.296400\n",
       "max      13086.964800\n",
       "Name: Item_Outlet_Sales, dtype: float64"
      ]
     },
     "execution_count": 121,
     "metadata": {},
     "output_type": "execute_result"
    }
   ],
   "source": [
    "# statistical summary of the data\n",
    "Exp_Item_Outlet_Sales.describe()"
   ]
  },
  {
   "cell_type": "markdown",
   "id": "147ebbb9",
   "metadata": {
    "id": "NxAu5RNUknBl"
   },
   "source": [
    "After the exponential transformation, we have obtained the values for `Item_Outlet_Sales` in the original units."
   ]
  },
  {
   "cell_type": "markdown",
   "id": "8893a9ce",
   "metadata": {
    "id": "74yBlLX8knBl"
   },
   "source": [
    "#### Let us plot the original values for `Item_Outlet_Sales`, log-transformed `Item_Outlet_Sales`, and exponontial of log-transformed `Item_Outlet_Sales`."
   ]
  },
  {
   "cell_type": "code",
   "execution_count": 122,
   "id": "dfae5061",
   "metadata": {
    "id": "ucnxE9n_knBl",
    "outputId": "c93acb2e-1173-4a95-9df7-591b910e4e66",
    "scrolled": false
   },
   "outputs": [
    {
     "data": {
      "image/png": "[encoded data removed]",
      "text/plain": [
       "<Figure size 1080x576 with 3 Axes>"
      ]
     },
     "metadata": {
      "needs_background": "light"
     },
     "output_type": "display_data"
    }
   ],
   "source": [
    "# set the figure size\n",
    "plt.figure(figsize=(15,8))\n",
    "\n",
    "# subplot is used to create a set of plots\n",
    "# we create a subplot of 1 rows by 3 columns \n",
    "# use first column for plotting\n",
    "plt.subplot(1,3,1)\n",
    "\n",
    "# plot the distribution of original data\n",
    "sns.distplot(df_sales['Item_Outlet_Sales'])\n",
    "# set label for x-axis\n",
    "plt.xlabel('Item Outlet Sales', fontsize=12)\n",
    "# set label for y-axis\n",
    "plt.ylabel('Density', fontsize=15)\n",
    "\n",
    "# we create a subplot of 1 row by 3 columns \n",
    "# use second column for plotting\n",
    "plt.subplot(1,3,2)\n",
    "\n",
    "# plot the distribution of log-transformed data\n",
    "sns.distplot(np.log(df_sales['Item_Outlet_Sales']))\n",
    "\n",
    "# set label for y-axis\n",
    "plt.ylabel('Density', fontsize=15)\n",
    "# set label for x-axis\n",
    "plt.xlabel('Log Transformed of Item Outlet Sales', fontsize=12)\n",
    "\n",
    "# we create a subplot of 1 row by 3 columns \n",
    "# use third column for plotting\n",
    "plt.subplot(1,3,3)\n",
    "\n",
    "# plot the distribution of the data after taking exponential of log-transformed data\n",
    "sns.distplot(Exp_Item_Outlet_Sales)\n",
    "# set label for x-axis\n",
    "plt.xlabel('Exponential of Log Transformed Item Outlet Sales', fontsize=12)\n",
    "# set label for y-axis\n",
    "plt.ylabel('Density', fontsize=15)\n",
    "\n",
    "# display the plot\n",
    "plt.show()"
   ]
  },
  {
   "cell_type": "markdown",
   "id": "e655f60c",
   "metadata": {
    "id": "lUc6aT15knBm"
   },
   "source": [
    "**Interpretation:** It can be observed that the distribution after the exponential transformation of the log-transformed data is the distribution of the original data. Taking the exponential is equivalent to the anti-log of the log-transformed data."
   ]
  },
  {
   "cell_type": "markdown",
   "id": "fe76604d",
   "metadata": {
    "id": "3ZjdGit7knBm"
   },
   "source": [
    "**Remark:**  However, note that to reduce skewness taking transformation may not be feasible always. One can also try to reduce skewness by removing the outliers. The outlier treatment shall be dealt with the later session."
   ]
  },
  {
   "cell_type": "code",
   "execution_count": 123,
   "id": "8e8c2a77",
   "metadata": {},
   "outputs": [],
   "source": [
    "# filter out the outlier values\n",
    "# ~ : selects all rows which do not satisfy the condition\n",
    "df_sales_zscore = df_sales[\"Profit\"][~(( z_scores_Profit < -3) |(z_scores_Profit > 3))]"
   ]
  },
  {
   "cell_type": "code",
   "execution_count": 124,
   "id": "f567ec85",
   "metadata": {},
   "outputs": [],
   "source": [
    "df_sales_zscore_and = df_sales[\"Profit\"][~(( z_scores_Profit < -3) & (z_scores_Profit > 3))]"
   ]
  },
  {
   "cell_type": "code",
   "execution_count": 125,
   "id": "06d7348a",
   "metadata": {},
   "outputs": [
    {
     "data": {
      "text/plain": [
       "(8523,)"
      ]
     },
     "execution_count": 125,
     "metadata": {},
     "output_type": "execute_result"
    }
   ],
   "source": [
    "df_sales_zscore_and.shape"
   ]
  },
  {
   "cell_type": "code",
   "execution_count": 126,
   "id": "675ff90c",
   "metadata": {},
   "outputs": [
    {
     "data": {
      "text/plain": [
       "(8324,)"
      ]
     },
     "execution_count": 126,
     "metadata": {},
     "output_type": "execute_result"
    }
   ],
   "source": [
    "df_sales_zscore.shape"
   ]
  },
  {
   "cell_type": "code",
   "execution_count": 127,
   "id": "9fc8f4b4",
   "metadata": {},
   "outputs": [
    {
     "data": {
      "text/plain": [
       "0       False\n",
       "1       False\n",
       "2       False\n",
       "3       False\n",
       "4       False\n",
       "        ...  \n",
       "8518    False\n",
       "8519    False\n",
       "8520    False\n",
       "8521    False\n",
       "8522    False\n",
       "Name: Profit, Length: 8523, dtype: bool"
      ]
     },
     "execution_count": 127,
     "metadata": {},
     "output_type": "execute_result"
    }
   ],
   "source": [
    "z_scores_Profit < -3"
   ]
  },
  {
   "cell_type": "code",
   "execution_count": 128,
   "id": "dcff46da",
   "metadata": {},
   "outputs": [
    {
     "data": {
      "text/plain": [
       "41     -3.828149\n",
       "50     -3.534332\n",
       "144    -3.358042\n",
       "217    -6.002394\n",
       "320    -7.765296\n",
       "          ...   \n",
       "8376   -4.063202\n",
       "8395   -3.710622\n",
       "8429   -5.473524\n",
       "8433   -7.824059\n",
       "8456   -3.005461\n",
       "Name: Profit, Length: 199, dtype: float64"
      ]
     },
     "execution_count": 128,
     "metadata": {},
     "output_type": "execute_result"
    }
   ],
   "source": [
    "z_scores_Profit[( z_scores_Profit < -3) |(z_scores_Profit > 3)]"
   ]
  },
  {
   "cell_type": "markdown",
   "id": "60b47bfe",
   "metadata": {},
   "source": [
    "## Other transformation techniques:\n",
    "- squareroot transformation\n",
    "- reciprocal transformation\n",
    "- power transformation( box-cox and "
   ]
  },
  {
   "cell_type": "markdown",
   "id": "64022b98",
   "metadata": {},
   "source": [
    "### Square root transformation"
   ]
  },
  {
   "cell_type": "code",
   "execution_count": 129,
   "id": "8fa041e7",
   "metadata": {},
   "outputs": [
    {
     "data": {
      "text/plain": [
       "1.1775306028542796"
      ]
     },
     "execution_count": 129,
     "metadata": {},
     "output_type": "execute_result"
    }
   ],
   "source": [
    "df_sales['Item_Outlet_Sales'].skew()"
   ]
  },
  {
   "cell_type": "code",
   "execution_count": 130,
   "id": "18085d14",
   "metadata": {},
   "outputs": [
    {
     "data": {
      "image/png": "[encoded data removed]",
      "text/plain": [
       "<Figure size 1080x576 with 1 Axes>"
      ]
     },
     "metadata": {
      "needs_background": "light"
     },
     "output_type": "display_data"
    }
   ],
   "source": [
    "sns.distplot(df_sales['Item_Outlet_Sales']);"
   ]
  },
  {
   "cell_type": "code",
   "execution_count": 131,
   "id": "b245c3ec",
   "metadata": {},
   "outputs": [
    {
     "data": {
      "image/png": "[encoded data removed]",
      "text/plain": [
       "<Figure size 1080x576 with 1 Axes>"
      ]
     },
     "metadata": {
      "needs_background": "light"
     },
     "output_type": "display_data"
    }
   ],
   "source": [
    "sns.distplot(np.sqrt(df_sales['Item_Outlet_Sales']));"
   ]
  },
  {
   "cell_type": "code",
   "execution_count": 132,
   "id": "86035fb7",
   "metadata": {},
   "outputs": [
    {
     "data": {
      "text/plain": [
       "0.23467599347099255"
      ]
     },
     "execution_count": 132,
     "metadata": {},
     "output_type": "execute_result"
    }
   ],
   "source": [
    "np.sqrt(df_sales['Item_Outlet_Sales']).skew()"
   ]
  },
  {
   "cell_type": "markdown",
   "id": "749402a5",
   "metadata": {},
   "source": [
    "### Reciprocal transformation"
   ]
  },
  {
   "cell_type": "code",
   "execution_count": 133,
   "id": "dda2a179",
   "metadata": {},
   "outputs": [
    {
     "data": {
      "image/png": "[encoded data removed]",
      "text/plain": [
       "<Figure size 1080x576 with 1 Axes>"
      ]
     },
     "metadata": {
      "needs_background": "light"
     },
     "output_type": "display_data"
    }
   ],
   "source": [
    "sns.distplot(1/(df_sales['Item_Outlet_Sales']));"
   ]
  },
  {
   "cell_type": "code",
   "execution_count": 134,
   "id": "94dd5d6b",
   "metadata": {},
   "outputs": [
    {
     "data": {
      "text/plain": [
       "0.8492348288664824"
      ]
     },
     "execution_count": 134,
     "metadata": {},
     "output_type": "execute_result"
    }
   ],
   "source": [
    "1/(df_sales['Item_Outlet_Sales']).skew()"
   ]
  },
  {
   "cell_type": "markdown",
   "id": "894a3283",
   "metadata": {},
   "source": [
    "### Power transformation"
   ]
  },
  {
   "cell_type": "code",
   "execution_count": 135,
   "id": "40d9e211",
   "metadata": {},
   "outputs": [],
   "source": [
    "from sklearn.preprocessing import PowerTransformer"
   ]
  },
  {
   "cell_type": "code",
   "execution_count": 136,
   "id": "31809c2a",
   "metadata": {},
   "outputs": [],
   "source": [
    "pt=PowerTransformer(method=\"box-cox\")"
   ]
  },
  {
   "cell_type": "code",
   "execution_count": 137,
   "id": "90632872",
   "metadata": {},
   "outputs": [
    {
     "ename": "ValueError",
     "evalue": "Expected 2D array, got 1D array instead:\narray=[3735.138   443.4228 2097.27   ... 1193.1136 1845.5976  765.67  ].\nReshape your data either using array.reshape(-1, 1) if your data has a single feature or array.reshape(1, -1) if it contains a single sample.",
     "output_type": "error",
     "traceback": [
      "\u001b[1;31m---------------------------------------------------------------------------\u001b[0m",
      "\u001b[1;31mValueError\u001b[0m                                Traceback (most recent call last)",
      "\u001b[1;32m~\\AppData\\Local\\Temp/ipykernel_19968/4049319930.py\u001b[0m in \u001b[0;36m<module>\u001b[1;34m\u001b[0m\n\u001b[1;32m----> 1\u001b[1;33m \u001b[0mpt\u001b[0m\u001b[1;33m.\u001b[0m\u001b[0mfit_transform\u001b[0m\u001b[1;33m(\u001b[0m\u001b[0mdf_sales\u001b[0m\u001b[1;33m[\u001b[0m\u001b[1;34m'Item_Outlet_Sales'\u001b[0m\u001b[1;33m]\u001b[0m\u001b[1;33m)\u001b[0m\u001b[1;33m.\u001b[0m\u001b[0mskew\u001b[0m\u001b[1;33m(\u001b[0m\u001b[1;33m)\u001b[0m\u001b[1;33m\u001b[0m\u001b[1;33m\u001b[0m\u001b[0m\n\u001b[0m",
      "\u001b[1;32mC:\\ProgramData\\Anaconda3\\lib\\site-packages\\sklearn\\preprocessing\\_data.py\u001b[0m in \u001b[0;36mfit_transform\u001b[1;34m(self, X, y)\u001b[0m\n\u001b[0;32m   3048\u001b[0m \u001b[1;33m\u001b[0m\u001b[0m\n\u001b[0;32m   3049\u001b[0m     \u001b[1;32mdef\u001b[0m \u001b[0mfit_transform\u001b[0m\u001b[1;33m(\u001b[0m\u001b[0mself\u001b[0m\u001b[1;33m,\u001b[0m \u001b[0mX\u001b[0m\u001b[1;33m,\u001b[0m \u001b[0my\u001b[0m\u001b[1;33m=\u001b[0m\u001b[1;32mNone\u001b[0m\u001b[1;33m)\u001b[0m\u001b[1;33m:\u001b[0m\u001b[1;33m\u001b[0m\u001b[1;33m\u001b[0m\u001b[0m\n\u001b[1;32m-> 3050\u001b[1;33m         \u001b[1;32mreturn\u001b[0m \u001b[0mself\u001b[0m\u001b[1;33m.\u001b[0m\u001b[0m_fit\u001b[0m\u001b[1;33m(\u001b[0m\u001b[0mX\u001b[0m\u001b[1;33m,\u001b[0m \u001b[0my\u001b[0m\u001b[1;33m,\u001b[0m \u001b[0mforce_transform\u001b[0m\u001b[1;33m=\u001b[0m\u001b[1;32mTrue\u001b[0m\u001b[1;33m)\u001b[0m\u001b[1;33m\u001b[0m\u001b[1;33m\u001b[0m\u001b[0m\n\u001b[0m\u001b[0;32m   3051\u001b[0m \u001b[1;33m\u001b[0m\u001b[0m\n\u001b[0;32m   3052\u001b[0m     \u001b[1;32mdef\u001b[0m \u001b[0m_fit\u001b[0m\u001b[1;33m(\u001b[0m\u001b[0mself\u001b[0m\u001b[1;33m,\u001b[0m \u001b[0mX\u001b[0m\u001b[1;33m,\u001b[0m \u001b[0my\u001b[0m\u001b[1;33m=\u001b[0m\u001b[1;32mNone\u001b[0m\u001b[1;33m,\u001b[0m \u001b[0mforce_transform\u001b[0m\u001b[1;33m=\u001b[0m\u001b[1;32mFalse\u001b[0m\u001b[1;33m)\u001b[0m\u001b[1;33m:\u001b[0m\u001b[1;33m\u001b[0m\u001b[1;33m\u001b[0m\u001b[0m\n",
      "\u001b[1;32mC:\\ProgramData\\Anaconda3\\lib\\site-packages\\sklearn\\preprocessing\\_data.py\u001b[0m in \u001b[0;36m_fit\u001b[1;34m(self, X, y, force_transform)\u001b[0m\n\u001b[0;32m   3051\u001b[0m \u001b[1;33m\u001b[0m\u001b[0m\n\u001b[0;32m   3052\u001b[0m     \u001b[1;32mdef\u001b[0m \u001b[0m_fit\u001b[0m\u001b[1;33m(\u001b[0m\u001b[0mself\u001b[0m\u001b[1;33m,\u001b[0m \u001b[0mX\u001b[0m\u001b[1;33m,\u001b[0m \u001b[0my\u001b[0m\u001b[1;33m=\u001b[0m\u001b[1;32mNone\u001b[0m\u001b[1;33m,\u001b[0m \u001b[0mforce_transform\u001b[0m\u001b[1;33m=\u001b[0m\u001b[1;32mFalse\u001b[0m\u001b[1;33m)\u001b[0m\u001b[1;33m:\u001b[0m\u001b[1;33m\u001b[0m\u001b[1;33m\u001b[0m\u001b[0m\n\u001b[1;32m-> 3053\u001b[1;33m         X = self._check_input(X, in_fit=True, check_positive=True,\n\u001b[0m\u001b[0;32m   3054\u001b[0m                               check_method=True)\n\u001b[0;32m   3055\u001b[0m \u001b[1;33m\u001b[0m\u001b[0m\n",
      "\u001b[1;32mC:\\ProgramData\\Anaconda3\\lib\\site-packages\\sklearn\\preprocessing\\_data.py\u001b[0m in \u001b[0;36m_check_input\u001b[1;34m(self, X, in_fit, check_positive, check_shape, check_method)\u001b[0m\n\u001b[0;32m   3268\u001b[0m             \u001b[0mIf\u001b[0m \u001b[1;32mTrue\u001b[0m\u001b[1;33m,\u001b[0m \u001b[0mcheck\u001b[0m \u001b[0mthat\u001b[0m \u001b[0mthe\u001b[0m \u001b[0mtransformation\u001b[0m \u001b[0mmethod\u001b[0m \u001b[1;32mis\u001b[0m \u001b[0mvalid\u001b[0m\u001b[1;33m.\u001b[0m\u001b[1;33m\u001b[0m\u001b[1;33m\u001b[0m\u001b[0m\n\u001b[0;32m   3269\u001b[0m         \"\"\"\n\u001b[1;32m-> 3270\u001b[1;33m         X = self._validate_data(X, ensure_2d=True, dtype=FLOAT_DTYPES,\n\u001b[0m\u001b[0;32m   3271\u001b[0m                                 \u001b[0mcopy\u001b[0m\u001b[1;33m=\u001b[0m\u001b[0mself\u001b[0m\u001b[1;33m.\u001b[0m\u001b[0mcopy\u001b[0m\u001b[1;33m,\u001b[0m \u001b[0mforce_all_finite\u001b[0m\u001b[1;33m=\u001b[0m\u001b[1;34m'allow-nan'\u001b[0m\u001b[1;33m,\u001b[0m\u001b[1;33m\u001b[0m\u001b[1;33m\u001b[0m\u001b[0m\n\u001b[0;32m   3272\u001b[0m                                 reset=in_fit)\n",
      "\u001b[1;32mC:\\ProgramData\\Anaconda3\\lib\\site-packages\\sklearn\\base.py\u001b[0m in \u001b[0;36m_validate_data\u001b[1;34m(self, X, y, reset, validate_separately, **check_params)\u001b[0m\n\u001b[0;32m    419\u001b[0m             \u001b[0mout\u001b[0m \u001b[1;33m=\u001b[0m \u001b[0mX\u001b[0m\u001b[1;33m\u001b[0m\u001b[1;33m\u001b[0m\u001b[0m\n\u001b[0;32m    420\u001b[0m         \u001b[1;32melif\u001b[0m \u001b[0misinstance\u001b[0m\u001b[1;33m(\u001b[0m\u001b[0my\u001b[0m\u001b[1;33m,\u001b[0m \u001b[0mstr\u001b[0m\u001b[1;33m)\u001b[0m \u001b[1;32mand\u001b[0m \u001b[0my\u001b[0m \u001b[1;33m==\u001b[0m \u001b[1;34m'no_validation'\u001b[0m\u001b[1;33m:\u001b[0m\u001b[1;33m\u001b[0m\u001b[1;33m\u001b[0m\u001b[0m\n\u001b[1;32m--> 421\u001b[1;33m             \u001b[0mX\u001b[0m \u001b[1;33m=\u001b[0m \u001b[0mcheck_array\u001b[0m\u001b[1;33m(\u001b[0m\u001b[0mX\u001b[0m\u001b[1;33m,\u001b[0m \u001b[1;33m**\u001b[0m\u001b[0mcheck_params\u001b[0m\u001b[1;33m)\u001b[0m\u001b[1;33m\u001b[0m\u001b[1;33m\u001b[0m\u001b[0m\n\u001b[0m\u001b[0;32m    422\u001b[0m             \u001b[0mout\u001b[0m \u001b[1;33m=\u001b[0m \u001b[0mX\u001b[0m\u001b[1;33m\u001b[0m\u001b[1;33m\u001b[0m\u001b[0m\n\u001b[0;32m    423\u001b[0m         \u001b[1;32melse\u001b[0m\u001b[1;33m:\u001b[0m\u001b[1;33m\u001b[0m\u001b[1;33m\u001b[0m\u001b[0m\n",
      "\u001b[1;32mC:\\ProgramData\\Anaconda3\\lib\\site-packages\\sklearn\\utils\\validation.py\u001b[0m in \u001b[0;36minner_f\u001b[1;34m(*args, **kwargs)\u001b[0m\n\u001b[0;32m     61\u001b[0m             \u001b[0mextra_args\u001b[0m \u001b[1;33m=\u001b[0m \u001b[0mlen\u001b[0m\u001b[1;33m(\u001b[0m\u001b[0margs\u001b[0m\u001b[1;33m)\u001b[0m \u001b[1;33m-\u001b[0m \u001b[0mlen\u001b[0m\u001b[1;33m(\u001b[0m\u001b[0mall_args\u001b[0m\u001b[1;33m)\u001b[0m\u001b[1;33m\u001b[0m\u001b[1;33m\u001b[0m\u001b[0m\n\u001b[0;32m     62\u001b[0m             \u001b[1;32mif\u001b[0m \u001b[0mextra_args\u001b[0m \u001b[1;33m<=\u001b[0m \u001b[1;36m0\u001b[0m\u001b[1;33m:\u001b[0m\u001b[1;33m\u001b[0m\u001b[1;33m\u001b[0m\u001b[0m\n\u001b[1;32m---> 63\u001b[1;33m                 \u001b[1;32mreturn\u001b[0m \u001b[0mf\u001b[0m\u001b[1;33m(\u001b[0m\u001b[1;33m*\u001b[0m\u001b[0margs\u001b[0m\u001b[1;33m,\u001b[0m \u001b[1;33m**\u001b[0m\u001b[0mkwargs\u001b[0m\u001b[1;33m)\u001b[0m\u001b[1;33m\u001b[0m\u001b[1;33m\u001b[0m\u001b[0m\n\u001b[0m\u001b[0;32m     64\u001b[0m \u001b[1;33m\u001b[0m\u001b[0m\n\u001b[0;32m     65\u001b[0m             \u001b[1;31m# extra_args > 0\u001b[0m\u001b[1;33m\u001b[0m\u001b[1;33m\u001b[0m\u001b[0m\n",
      "\u001b[1;32mC:\\ProgramData\\Anaconda3\\lib\\site-packages\\sklearn\\utils\\validation.py\u001b[0m in \u001b[0;36mcheck_array\u001b[1;34m(array, accept_sparse, accept_large_sparse, dtype, order, copy, force_all_finite, ensure_2d, allow_nd, ensure_min_samples, ensure_min_features, estimator)\u001b[0m\n\u001b[0;32m    692\u001b[0m             \u001b[1;31m# If input is 1D raise error\u001b[0m\u001b[1;33m\u001b[0m\u001b[1;33m\u001b[0m\u001b[0m\n\u001b[0;32m    693\u001b[0m             \u001b[1;32mif\u001b[0m \u001b[0marray\u001b[0m\u001b[1;33m.\u001b[0m\u001b[0mndim\u001b[0m \u001b[1;33m==\u001b[0m \u001b[1;36m1\u001b[0m\u001b[1;33m:\u001b[0m\u001b[1;33m\u001b[0m\u001b[1;33m\u001b[0m\u001b[0m\n\u001b[1;32m--> 694\u001b[1;33m                 raise ValueError(\n\u001b[0m\u001b[0;32m    695\u001b[0m                     \u001b[1;34m\"Expected 2D array, got 1D array instead:\\narray={}.\\n\"\u001b[0m\u001b[1;33m\u001b[0m\u001b[1;33m\u001b[0m\u001b[0m\n\u001b[0;32m    696\u001b[0m                     \u001b[1;34m\"Reshape your data either using array.reshape(-1, 1) if \"\u001b[0m\u001b[1;33m\u001b[0m\u001b[1;33m\u001b[0m\u001b[0m\n",
      "\u001b[1;31mValueError\u001b[0m: Expected 2D array, got 1D array instead:\narray=[3735.138   443.4228 2097.27   ... 1193.1136 1845.5976  765.67  ].\nReshape your data either using array.reshape(-1, 1) if your data has a single feature or array.reshape(1, -1) if it contains a single sample."
     ]
    }
   ],
   "source": [
    "pt.fit_transform(df_sales['Item_Outlet_Sales']).skew()"
   ]
  },
  {
   "cell_type": "code",
   "execution_count": null,
   "id": "a389ced3",
   "metadata": {},
   "outputs": [],
   "source": []
  }
 ],
 "metadata": {
  "kernelspec": {
   "display_name": "Python 3 (ipykernel)",
   "language": "python",
   "name": "python3"
  },
  "language_info": {
   "codemirror_mode": {
    "name": "ipython",
    "version": 3
   },
   "file_extension": ".py",
   "mimetype": "text/x-python",
   "name": "python",
   "nbconvert_exporter": "python",
   "pygments_lexer": "ipython3",
   "version": "3.9.7"
  }
 },
 "nbformat": 4,
 "nbformat_minor": 5
}
