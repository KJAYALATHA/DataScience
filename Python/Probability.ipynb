{
 "cells": [
  {
   "cell_type": "code",
   "execution_count": 1,
   "id": "c16482ca",
   "metadata": {},
   "outputs": [
    {
     "name": "stdout",
     "output_type": "stream",
     "text": [
      "0.6\n"
     ]
    }
   ],
   "source": [
    "print(9/15)"
   ]
  },
  {
   "cell_type": "code",
   "execution_count": 4,
   "id": "24c2b23e",
   "metadata": {},
   "outputs": [],
   "source": [
    "import numpy as np\n",
    "import pandas as pd\n",
    "import seaborn as sns\n",
    "import scipy.stats as stats"
   ]
  },
  {
   "cell_type": "code",
   "execution_count": null,
   "id": "145e5ea8",
   "metadata": {},
   "outputs": [],
   "source": [
    "pop = 500000\n",
    "n = 100\n",
    "p = 0.05\n",
    "x = 4\n",
    "\n",
    "\n",
    "\n",
    "#what is the probabilty 4 tshirts is defective\n",
    "stat\n"
   ]
  }
 ],
 "metadata": {
  "kernelspec": {
   "display_name": "Python 3 (ipykernel)",
   "language": "python",
   "name": "python3"
  },
  "language_info": {
   "codemirror_mode": {
    "name": "ipython",
    "version": 3
   },
   "file_extension": ".py",
   "mimetype": "text/x-python",
   "name": "python",
   "nbconvert_exporter": "python",
   "pygments_lexer": "ipython3",
   "version": "3.9.7"
  }
 },
 "nbformat": 4,
 "nbformat_minor": 5
}
