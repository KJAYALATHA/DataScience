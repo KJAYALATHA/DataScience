{
 "cells": [
  {
   "cell_type": "markdown",
   "id": "1b428af5",
   "metadata": {},
   "source": [
    "# 07-04-2023\n",
    "\n",
    "- G"
   ]
  },
  {
   "cell_type": "markdown",
   "id": "a0a14b9b",
   "metadata": {},
   "source": [
    "# Numpy"
   ]
  },
  {
   "cell_type": "markdown",
   "id": "a909369c",
   "metadata": {},
   "source": [
    "### What is NumPy?\n",
    "- A package in python which stands for ‘Number Python’\n",
    "- It is used for mathematical and scientific computations, which contains multi-dimensional arrays and matrices\n",
    "\n",
    "### What is an array?\n",
    "- A numpy array looks similar to a list\n",
    "- An array is a grid of values, indexed by a tuple of positive integers\n",
    "- It usually contains numeric values. However it can contain string values\n",
    "- They work faster than lists\n",
    "-  An array can be n-dimensional"
   ]
  },
  {
   "cell_type": "code",
   "execution_count": 1,
   "id": "a2f4d289",
   "metadata": {},
   "outputs": [],
   "source": [
    "#creating numpy array\n",
    "import numpy as np\n",
    "import warnings\n",
    "warnings.filterwarnings(\"ignore\")"
   ]
  },
  {
   "cell_type": "code",
   "execution_count": 3,
   "id": "40fcf2a8",
   "metadata": {},
   "outputs": [],
   "source": [
    "weight=[57,89,65,34]"
   ]
  },
  {
   "cell_type": "code",
   "execution_count": 4,
   "id": "e4cc13a0",
   "metadata": {},
   "outputs": [],
   "source": [
    "weight_array=np.array(weight)"
   ]
  },
  {
   "cell_type": "code",
   "execution_count": 15,
   "id": "c01f64a8",
   "metadata": {},
   "outputs": [],
   "source": [
    "arr=np.array((7,89))"
   ]
  },
  {
   "cell_type": "code",
   "execution_count": 16,
   "id": "225c7ac0",
   "metadata": {},
   "outputs": [
    {
     "data": {
      "text/plain": [
       "array([ 7, 89])"
      ]
     },
     "execution_count": 16,
     "metadata": {},
     "output_type": "execute_result"
    }
   ],
   "source": [
    "arr"
   ]
  },
  {
   "cell_type": "code",
   "execution_count": 5,
   "id": "80a70ff9",
   "metadata": {},
   "outputs": [
    {
     "data": {
      "text/plain": [
       "array([57, 89, 65, 34])"
      ]
     },
     "execution_count": 5,
     "metadata": {},
     "output_type": "execute_result"
    }
   ],
   "source": [
    "weight_array"
   ]
  },
  {
   "cell_type": "code",
   "execution_count": 6,
   "id": "1e96e730",
   "metadata": {},
   "outputs": [
    {
     "data": {
      "text/plain": [
       "(list, numpy.ndarray)"
      ]
     },
     "execution_count": 6,
     "metadata": {},
     "output_type": "execute_result"
    }
   ],
   "source": [
    "type(weight),type(weight_array)"
   ]
  },
  {
   "cell_type": "code",
   "execution_count": 7,
   "id": "595c6469",
   "metadata": {},
   "outputs": [
    {
     "data": {
      "text/plain": [
       "[57, 89, 65, 34, 57, 89, 65, 34]"
      ]
     },
     "execution_count": 7,
     "metadata": {},
     "output_type": "execute_result"
    }
   ],
   "source": [
    "weight*2"
   ]
  },
  {
   "cell_type": "code",
   "execution_count": 8,
   "id": "f2465081",
   "metadata": {},
   "outputs": [
    {
     "data": {
      "text/plain": [
       "array([114, 178, 130,  68])"
      ]
     },
     "execution_count": 8,
     "metadata": {},
     "output_type": "execute_result"
    }
   ],
   "source": [
    "weight_array*2"
   ]
  },
  {
   "cell_type": "markdown",
   "id": "a7ba466b",
   "metadata": {},
   "source": [
    "#### Attributes of array\n",
    "- Attributes are the features/characteristics of an object that describes the object.\n",
    "- Attributes do not have parentheses following them\n",
    "- A few attributes of the numpy array:\n",
    "⚬ size\n",
    "⚬ shape\n",
    "⚬ ndim\n",
    "⚬ dtype"
   ]
  },
  {
   "cell_type": "code",
   "execution_count": 9,
   "id": "4273c9fb",
   "metadata": {},
   "outputs": [
    {
     "ename": "AttributeError",
     "evalue": "'list' object has no attribute 'sum'",
     "output_type": "error",
     "traceback": [
      "\u001b[1;31m---------------------------------------------------------------------------\u001b[0m",
      "\u001b[1;31mAttributeError\u001b[0m                            Traceback (most recent call last)",
      "\u001b[1;32m~\\AppData\\Local\\Temp/ipykernel_25568/3805864637.py\u001b[0m in \u001b[0;36m<module>\u001b[1;34m\u001b[0m\n\u001b[0;32m      1\u001b[0m \u001b[1;31m#sum\u001b[0m\u001b[1;33m\u001b[0m\u001b[1;33m\u001b[0m\u001b[0m\n\u001b[1;32m----> 2\u001b[1;33m \u001b[0mweight\u001b[0m\u001b[1;33m.\u001b[0m\u001b[0msum\u001b[0m\u001b[1;33m(\u001b[0m\u001b[1;33m)\u001b[0m\u001b[1;33m\u001b[0m\u001b[1;33m\u001b[0m\u001b[0m\n\u001b[0m",
      "\u001b[1;31mAttributeError\u001b[0m: 'list' object has no attribute 'sum'"
     ]
    }
   ],
   "source": [
    "#sum\n",
    "weight.sum()"
   ]
  },
  {
   "cell_type": "code",
   "execution_count": null,
   "id": "2bb4b59c",
   "metadata": {},
   "outputs": [],
   "source": [
    "sum(weight)"
   ]
  },
  {
   "cell_type": "code",
   "execution_count": 10,
   "id": "b891f7f3",
   "metadata": {},
   "outputs": [
    {
     "data": {
      "text/plain": [
       "245"
      ]
     },
     "execution_count": 10,
     "metadata": {},
     "output_type": "execute_result"
    }
   ],
   "source": [
    "weight_array.sum()"
   ]
  },
  {
   "cell_type": "code",
   "execution_count": 17,
   "id": "929ba190",
   "metadata": {},
   "outputs": [
    {
     "data": {
      "text/plain": [
       "array([7.54983444, 9.43398113, 8.06225775, 5.83095189])"
      ]
     },
     "execution_count": 17,
     "metadata": {},
     "output_type": "execute_result"
    }
   ],
   "source": [
    "weight_array**(1/2)"
   ]
  },
  {
   "cell_type": "markdown",
   "id": "9d517e81",
   "metadata": {},
   "source": []
  },
  {
   "cell_type": "code",
   "execution_count": 18,
   "id": "a703af67",
   "metadata": {},
   "outputs": [
    {
     "data": {
      "text/plain": [
       "61.25"
      ]
     },
     "execution_count": 18,
     "metadata": {},
     "output_type": "execute_result"
    }
   ],
   "source": [
    "weight_array.mean()"
   ]
  },
  {
   "cell_type": "code",
   "execution_count": 19,
   "id": "2b177ecd",
   "metadata": {
    "scrolled": true
   },
   "outputs": [
    {
     "ename": "AttributeError",
     "evalue": "'numpy.ndarray' object has no attribute 'count'",
     "output_type": "error",
     "traceback": [
      "\u001b[1;31m---------------------------------------------------------------------------\u001b[0m",
      "\u001b[1;31mAttributeError\u001b[0m                            Traceback (most recent call last)",
      "\u001b[1;32m~\\AppData\\Local\\Temp/ipykernel_25568/1973902400.py\u001b[0m in \u001b[0;36m<module>\u001b[1;34m\u001b[0m\n\u001b[1;32m----> 1\u001b[1;33m \u001b[0mweight_array\u001b[0m\u001b[1;33m.\u001b[0m\u001b[0mcount\u001b[0m\u001b[1;33m(\u001b[0m\u001b[1;33m)\u001b[0m\u001b[1;33m\u001b[0m\u001b[1;33m\u001b[0m\u001b[0m\n\u001b[0m",
      "\u001b[1;31mAttributeError\u001b[0m: 'numpy.ndarray' object has no attribute 'count'"
     ]
    }
   ],
   "source": [
    "weight_array.count()"
   ]
  },
  {
   "cell_type": "markdown",
   "id": "15fd86c4",
   "metadata": {},
   "source": [
    "### few attributes of the numpy array:\n",
    "- size : gives the total count of values inside the array\n",
    "- shape: gives the number of rows and colums\n",
    "- ndim : gives the dimension of the array\n",
    "- dtype: gives the data type. Which mean it checks the type of variable inside the array"
   ]
  },
  {
   "cell_type": "markdown",
   "id": "639f77db",
   "metadata": {},
   "source": [
    "# 10-04-2023\n",
    "- G"
   ]
  },
  {
   "cell_type": "markdown",
   "id": "3062c280",
   "metadata": {},
   "source": [
    "#### How to create Numpy array?\n",
    "- random\n",
    "- randn\n",
    "- rand\n",
    "- rantint\n",
    "- arange\n",
    "- linspace"
   ]
  },
  {
   "cell_type": "code",
   "execution_count": 20,
   "id": "8df8a64a",
   "metadata": {},
   "outputs": [
    {
     "data": {
      "text/plain": [
       "numpy.ndarray"
      ]
     },
     "execution_count": 20,
     "metadata": {},
     "output_type": "execute_result"
    }
   ],
   "source": [
    "#creating an array with the pre-existing list\n",
    "weight=[57,89,65,34]\n",
    "weight_array=np.array(weight)\n",
    "type(weight_array)"
   ]
  },
  {
   "cell_type": "code",
   "execution_count": 21,
   "id": "4e726646",
   "metadata": {},
   "outputs": [
    {
     "data": {
      "text/plain": [
       "array([57, 89, 65, 34])"
      ]
     },
     "execution_count": 21,
     "metadata": {},
     "output_type": "execute_result"
    }
   ],
   "source": [
    "weight_array\n",
    "#all the elements in the list are added as rows and no coloumns were created"
   ]
  },
  {
   "cell_type": "code",
   "execution_count": 22,
   "id": "718acbbe",
   "metadata": {},
   "outputs": [
    {
     "data": {
      "text/plain": [
       "4"
      ]
     },
     "execution_count": 22,
     "metadata": {},
     "output_type": "execute_result"
    }
   ],
   "source": [
    "#checking the size\n",
    "weight_array.size"
   ]
  },
  {
   "cell_type": "code",
   "execution_count": 23,
   "id": "acc1ad02",
   "metadata": {},
   "outputs": [
    {
     "data": {
      "text/plain": [
       "(4,)"
      ]
     },
     "execution_count": 23,
     "metadata": {},
     "output_type": "execute_result"
    }
   ],
   "source": [
    "#checking the shape\n",
    "weight_array.shape\n",
    "#no columns are addded "
   ]
  },
  {
   "cell_type": "code",
   "execution_count": 29,
   "id": "a08ee5e0",
   "metadata": {},
   "outputs": [
    {
     "data": {
      "text/plain": [
       "1"
      ]
     },
     "execution_count": 29,
     "metadata": {},
     "output_type": "execute_result"
    }
   ],
   "source": [
    "#checking the dimension\n",
    "weight_array.ndim"
   ]
  },
  {
   "cell_type": "code",
   "execution_count": 26,
   "id": "94b32c26",
   "metadata": {},
   "outputs": [
    {
     "data": {
      "text/plain": [
       "dtype('int32')"
      ]
     },
     "execution_count": 26,
     "metadata": {},
     "output_type": "execute_result"
    }
   ],
   "source": [
    "#checking the data type\n",
    "weight_array.dtype"
   ]
  },
  {
   "cell_type": "markdown",
   "id": "0b2662a3",
   "metadata": {},
   "source": [
    "#### Random\n",
    "- The random() function returns random numbers in the half-open interval [0.0, 1.0). The half-open interval includes 0 but excludes 1."
   ]
  },
  {
   "cell_type": "code",
   "execution_count": 32,
   "id": "fae06a6a",
   "metadata": {},
   "outputs": [
    {
     "data": {
      "text/plain": [
       "array([[0.53377274, 0.03396278],\n",
       "       [0.9932255 , 0.97842589],\n",
       "       [0.97963404, 0.40879924]])"
      ]
     },
     "execution_count": 32,
     "metadata": {},
     "output_type": "execute_result"
    }
   ],
   "source": [
    "# create 2D array of 3 rows and 2 columns of random numbers\n",
    "my_array = np.random.random(size = (3,2))\n",
    "\n",
    "# print the array\n",
    "my_array"
   ]
  },
  {
   "cell_type": "markdown",
   "id": "d7eced6b",
   "metadata": {},
   "source": [
    "#### Rand\n",
    "- The rand() creates an array of the given shape with random variables from a uniform distribution between (0, 1)"
   ]
  },
  {
   "cell_type": "code",
   "execution_count": 9,
   "id": "cfebbd47",
   "metadata": {},
   "outputs": [
    {
     "data": {
      "text/plain": [
       "array([[0.18850349, 0.51997955],\n",
       "       [0.29652999, 0.07863793],\n",
       "       [0.76935837, 0.49607771],\n",
       "       [0.96398226, 0.12220641]])"
      ]
     },
     "execution_count": 9,
     "metadata": {},
     "output_type": "execute_result"
    }
   ],
   "source": [
    "# create 2D array of 4 rows and 2 columns of random numbers\n",
    "my_array = np.random.rand(4,2)\n",
    "\n",
    "# print the array\n",
    "my_array"
   ]
  },
  {
   "cell_type": "markdown",
   "id": "b101eed8",
   "metadata": {},
   "source": [
    "#### Randn (n - normal distribution)\n",
    "The randn() creates an array of the given shape with random variables from a standard normal distribution between (-∞,+∞)\n",
    "- mean value=0\n",
    "- standard deviation=1\n",
    "\n",
    "- Standard deviation is a measure of how spread out a set of data is from its mean. It is a statistical measure that shows the amount of variation or dispersion in a set of data. A lower standard deviation indicates that the data points tend to be closer to the mean, while a higher standard deviation indicates that the data points are more spread out."
   ]
  },
  {
   "cell_type": "code",
   "execution_count": 31,
   "id": "780ed261",
   "metadata": {},
   "outputs": [
    {
     "data": {
      "text/plain": [
       "array([[-0.83515818, -1.28456617],\n",
       "       [ 0.68160153,  0.39132592],\n",
       "       [ 0.13906222,  1.11557774],\n",
       "       [-0.58640881, -0.88406926]])"
      ]
     },
     "execution_count": 31,
     "metadata": {},
     "output_type": "execute_result"
    }
   ],
   "source": [
    "# create 2D array of 4 rows and 2 columns of random numbers\n",
    "my_array = np.random.randn(4,2)\n",
    "\n",
    "# print the array\n",
    "my_array"
   ]
  },
  {
   "cell_type": "markdown",
   "id": "25331db8",
   "metadata": {},
   "source": [
    "#### Randint (integers)\n",
    "- The randint() returns random integers from low (inclusive) to high (exclusive)\n",
    "- no decimal values will be returned"
   ]
  },
  {
   "cell_type": "code",
   "execution_count": 33,
   "id": "a32a6e9c",
   "metadata": {},
   "outputs": [
    {
     "data": {
      "text/plain": [
       "15"
      ]
     },
     "execution_count": 33,
     "metadata": {},
     "output_type": "execute_result"
    }
   ],
   "source": [
    "np.random.randint(5,20)\n",
    "#gives random value from 5 to 7"
   ]
  },
  {
   "cell_type": "code",
   "execution_count": 34,
   "id": "8fa5b35a",
   "metadata": {},
   "outputs": [
    {
     "data": {
      "text/plain": [
       "array([99, 51, 93, 64, 91])"
      ]
     },
     "execution_count": 34,
     "metadata": {},
     "output_type": "execute_result"
    }
   ],
   "source": [
    "np.random.randint(50,100,5)\n",
    "#syntax understanding\n",
    "#50,100 - upper and lower limit\n",
    "#5 - how many values to be printed\n",
    "# and all the values will be random values"
   ]
  },
  {
   "cell_type": "markdown",
   "id": "cf5f5af7",
   "metadata": {},
   "source": [
    "#### arange\n",
    "- gives the range of values\n",
    "- We can step values in range\n",
    "- arange is similar to range in python\n",
    "- arange will return values in int and float\n"
   ]
  },
  {
   "attachments": {
    "arange.JPG": {
     "image/jpeg": "[encoded data removed]"
    }
   },
   "cell_type": "markdown",
   "id": "9ab813df",
   "metadata": {},
   "source": [
    "![arange.JPG](attachment:arange.JPG)"
   ]
  },
  {
   "cell_type": "code",
   "execution_count": 35,
   "id": "f9deff37",
   "metadata": {},
   "outputs": [
    {
     "data": {
      "text/plain": [
       "array([10, 11, 12, 13, 14, 15, 16, 17, 18, 19])"
      ]
     },
     "execution_count": 35,
     "metadata": {},
     "output_type": "execute_result"
    }
   ],
   "source": [
    "#for range of values\n",
    "np.arange(10,20)"
   ]
  },
  {
   "cell_type": "code",
   "execution_count": 38,
   "id": "84424490",
   "metadata": {},
   "outputs": [
    {
     "data": {
      "text/plain": [
       "array([10, 12, 14, 16, 18])"
      ]
     },
     "execution_count": 38,
     "metadata": {},
     "output_type": "execute_result"
    }
   ],
   "source": [
    "#for range of values with step value\n",
    "np.arange(10,20,2)"
   ]
  },
  {
   "cell_type": "code",
   "execution_count": 36,
   "id": "9960c87e",
   "metadata": {},
   "outputs": [
    {
     "data": {
      "text/plain": [
       "array([10, 12, 14, 16, 18])"
      ]
     },
     "execution_count": 36,
     "metadata": {},
     "output_type": "execute_result"
    }
   ],
   "source": [
    "#stepping along with determining the type of elements as int\n",
    "np.arange(10,20,2,int)"
   ]
  },
  {
   "cell_type": "code",
   "execution_count": 37,
   "id": "a5a446de",
   "metadata": {},
   "outputs": [
    {
     "data": {
      "text/plain": [
       "array([10., 12., 14., 16., 18.])"
      ]
     },
     "execution_count": 37,
     "metadata": {},
     "output_type": "execute_result"
    }
   ],
   "source": [
    "#stepping with float\n",
    "np.arange(10,20,2,float)"
   ]
  },
  {
   "cell_type": "code",
   "execution_count": 38,
   "id": "c73ecf64",
   "metadata": {},
   "outputs": [
    {
     "ename": "TypeError",
     "evalue": "unsupported operand type(s) for /: 'int' and 'type'",
     "output_type": "error",
     "traceback": [
      "\u001b[1;31m---------------------------------------------------------------------------\u001b[0m",
      "\u001b[1;31mTypeError\u001b[0m                                 Traceback (most recent call last)",
      "\u001b[1;32m~\\AppData\\Local\\Temp/ipykernel_25568/2250701137.py\u001b[0m in \u001b[0;36m<module>\u001b[1;34m\u001b[0m\n\u001b[0;32m      1\u001b[0m \u001b[1;31m#without giving step value and giving int type will throw an error\u001b[0m\u001b[1;33m\u001b[0m\u001b[1;33m\u001b[0m\u001b[0m\n\u001b[0;32m      2\u001b[0m \u001b[1;31m# as the 3rd index will be taken as step value\u001b[0m\u001b[1;33m\u001b[0m\u001b[1;33m\u001b[0m\u001b[0m\n\u001b[1;32m----> 3\u001b[1;33m \u001b[0mnp\u001b[0m\u001b[1;33m.\u001b[0m\u001b[0marange\u001b[0m\u001b[1;33m(\u001b[0m\u001b[1;36m10\u001b[0m\u001b[1;33m,\u001b[0m\u001b[1;36m20\u001b[0m\u001b[1;33m,\u001b[0m\u001b[0mfloat\u001b[0m\u001b[1;33m)\u001b[0m\u001b[1;33m\u001b[0m\u001b[1;33m\u001b[0m\u001b[0m\n\u001b[0m",
      "\u001b[1;31mTypeError\u001b[0m: unsupported operand type(s) for /: 'int' and 'type'"
     ]
    }
   ],
   "source": [
    "#without giving step value and giving int type will throw an error\n",
    "# as the 3rd index will be taken as step value\n",
    "np.arange(10,20,float)"
   ]
  },
  {
   "cell_type": "code",
   "execution_count": 39,
   "id": "b8ae2790",
   "metadata": {},
   "outputs": [
    {
     "data": {
      "text/plain": [
       "array([10, 11, 12, 13, 14, 15, 16, 17, 18, 19])"
      ]
     },
     "execution_count": 39,
     "metadata": {},
     "output_type": "execute_result"
    }
   ],
   "source": [
    "#mention the name of the parameters before running the code\n",
    "np.arange(10,20,dtype=int)"
   ]
  },
  {
   "cell_type": "code",
   "execution_count": 40,
   "id": "b1f4394d",
   "metadata": {},
   "outputs": [
    {
     "data": {
      "text/plain": [
       "array([10., 11., 12., 13., 14., 15., 16., 17., 18., 19.])"
      ]
     },
     "execution_count": 40,
     "metadata": {},
     "output_type": "execute_result"
    }
   ],
   "source": [
    "np.arange(10,20,dtype=float)"
   ]
  },
  {
   "cell_type": "code",
   "execution_count": 1,
   "id": "80664920",
   "metadata": {},
   "outputs": [],
   "source": [
    "import numpy as np"
   ]
  },
  {
   "cell_type": "markdown",
   "id": "c519574e",
   "metadata": {},
   "source": [
    "#### lin space"
   ]
  },
  {
   "cell_type": "code",
   "execution_count": 43,
   "id": "20564860",
   "metadata": {},
   "outputs": [
    {
     "data": {
      "text/plain": [
       "array([ 0.,  5., 10., 15., 20.])"
      ]
     },
     "execution_count": 43,
     "metadata": {},
     "output_type": "execute_result"
    }
   ],
   "source": [
    "np.linspace(0,20,5)\n",
    "# 20 doesn't define the step value\n",
    "#by default lin space takes 50 steps if not defined"
   ]
  },
  {
   "cell_type": "code",
   "execution_count": 44,
   "id": "1e609489",
   "metadata": {},
   "outputs": [
    {
     "data": {
      "text/plain": [
       "array([ 0.        ,  0.40816327,  0.81632653,  1.2244898 ,  1.63265306,\n",
       "        2.04081633,  2.44897959,  2.85714286,  3.26530612,  3.67346939,\n",
       "        4.08163265,  4.48979592,  4.89795918,  5.30612245,  5.71428571,\n",
       "        6.12244898,  6.53061224,  6.93877551,  7.34693878,  7.75510204,\n",
       "        8.16326531,  8.57142857,  8.97959184,  9.3877551 ,  9.79591837,\n",
       "       10.20408163, 10.6122449 , 11.02040816, 11.42857143, 11.83673469,\n",
       "       12.24489796, 12.65306122, 13.06122449, 13.46938776, 13.87755102,\n",
       "       14.28571429, 14.69387755, 15.10204082, 15.51020408, 15.91836735,\n",
       "       16.32653061, 16.73469388, 17.14285714, 17.55102041, 17.95918367,\n",
       "       18.36734694, 18.7755102 , 19.18367347, 19.59183673, 20.        ])"
      ]
     },
     "execution_count": 44,
     "metadata": {},
     "output_type": "execute_result"
    }
   ],
   "source": [
    "np.linspace(0,20)"
   ]
  },
  {
   "cell_type": "markdown",
   "id": "2f52330d",
   "metadata": {},
   "source": [
    "#### Difference Between np.linspace and np.arange\n",
    "\n",
    "##### linspace\n",
    "linspace allows you to specify the number of steps\n",
    "- start: The starting value of the sequence\n",
    "- stop: The end value of the sequence\n",
    "- num: the number of values to generate \n",
    "\n",
    "\n",
    "\n",
    "##### arange\n",
    "arange allows you to specify the size of the steps\n",
    "- start: The starting value of the sequence\n",
    "- stop: The end value of the sequence\n",
    "- step: The spacing between values"
   ]
  },
  {
   "cell_type": "markdown",
   "id": "6da71d9c",
   "metadata": {},
   "source": [
    "### Other ways of creating array"
   ]
  },
  {
   "cell_type": "code",
   "execution_count": 46,
   "id": "4082edd1",
   "metadata": {},
   "outputs": [
    {
     "data": {
      "text/plain": [
       "array([0.])"
      ]
     },
     "execution_count": 46,
     "metadata": {},
     "output_type": "execute_result"
    }
   ],
   "source": [
    "#arrays of zero\n",
    "np.zeros(1)\n",
    "#by default it takes the value of shape\n",
    "# creates 1 D array"
   ]
  },
  {
   "cell_type": "code",
   "execution_count": 47,
   "id": "4f6d6f92",
   "metadata": {
    "scrolled": true
   },
   "outputs": [
    {
     "ename": "TypeError",
     "evalue": "Cannot interpret '2' as a data type",
     "output_type": "error",
     "traceback": [
      "\u001b[1;31m---------------------------------------------------------------------------\u001b[0m",
      "\u001b[1;31mTypeError\u001b[0m                                 Traceback (most recent call last)",
      "\u001b[1;32m~\\AppData\\Local\\Temp/ipykernel_25568/615722553.py\u001b[0m in \u001b[0;36m<module>\u001b[1;34m\u001b[0m\n\u001b[1;32m----> 1\u001b[1;33m \u001b[0mnp\u001b[0m\u001b[1;33m.\u001b[0m\u001b[0mzeros\u001b[0m\u001b[1;33m(\u001b[0m\u001b[1;36m2\u001b[0m\u001b[1;33m,\u001b[0m\u001b[1;36m2\u001b[0m\u001b[1;33m)\u001b[0m\u001b[1;33m\u001b[0m\u001b[1;33m\u001b[0m\u001b[0m\n\u001b[0m\u001b[0;32m      2\u001b[0m \u001b[1;31m#single bracket can't work\u001b[0m\u001b[1;33m\u001b[0m\u001b[1;33m\u001b[0m\u001b[0m\n",
      "\u001b[1;31mTypeError\u001b[0m: Cannot interpret '2' as a data type"
     ]
    }
   ],
   "source": [
    "np.zeros(2,2)\n",
    "#single bracket can't work "
   ]
  },
  {
   "cell_type": "code",
   "execution_count": 30,
   "id": "dc9bede0",
   "metadata": {},
   "outputs": [
    {
     "data": {
      "text/plain": [
       "array([[0., 0.],\n",
       "       [0., 0.]])"
      ]
     },
     "execution_count": 30,
     "metadata": {},
     "output_type": "execute_result"
    }
   ],
   "source": [
    "np.zeros((2,2))"
   ]
  },
  {
   "cell_type": "code",
   "execution_count": 50,
   "id": "cd9d8641",
   "metadata": {},
   "outputs": [
    {
     "data": {
      "text/plain": [
       "array([1., 1., 1., 1., 1., 1., 1., 1., 1., 1.])"
      ]
     },
     "execution_count": 50,
     "metadata": {},
     "output_type": "execute_result"
    }
   ],
   "source": [
    "#array of ones(with decimal)\n",
    "#by default it takes float value\n",
    "np.ones(10)"
   ]
  },
  {
   "cell_type": "code",
   "execution_count": 27,
   "id": "1c5b7971",
   "metadata": {},
   "outputs": [
    {
     "data": {
      "text/plain": [
       "array([[1, 1, 1, 1, 1, 1, 1, 1, 1, 1],\n",
       "       [1, 1, 1, 1, 1, 1, 1, 1, 1, 1],\n",
       "       [1, 1, 1, 1, 1, 1, 1, 1, 1, 1],\n",
       "       [1, 1, 1, 1, 1, 1, 1, 1, 1, 1],\n",
       "       [1, 1, 1, 1, 1, 1, 1, 1, 1, 1],\n",
       "       [1, 1, 1, 1, 1, 1, 1, 1, 1, 1],\n",
       "       [1, 1, 1, 1, 1, 1, 1, 1, 1, 1],\n",
       "       [1, 1, 1, 1, 1, 1, 1, 1, 1, 1],\n",
       "       [1, 1, 1, 1, 1, 1, 1, 1, 1, 1],\n",
       "       [1, 1, 1, 1, 1, 1, 1, 1, 1, 1]])"
      ]
     },
     "execution_count": 27,
     "metadata": {},
     "output_type": "execute_result"
    }
   ],
   "source": [
    "#array of ones(only integers)\n",
    "np.ones((10,10),dtype=int)"
   ]
  },
  {
   "cell_type": "code",
   "execution_count": 52,
   "id": "e353db2c",
   "metadata": {},
   "outputs": [
    {
     "data": {
      "text/plain": [
       "array([2., 2., 2., 2.])"
      ]
     },
     "execution_count": 52,
     "metadata": {},
     "output_type": "execute_result"
    }
   ],
   "source": [
    "np.zeros(shape=4)+2"
   ]
  },
  {
   "cell_type": "markdown",
   "id": "c0de4443",
   "metadata": {},
   "source": [
    "#### Empty matrix vs Full matrix"
   ]
  },
  {
   "cell_type": "code",
   "execution_count": 39,
   "id": "fa71b445",
   "metadata": {},
   "outputs": [
    {
     "data": {
      "text/plain": [
       "array([[0.00000000e+000, 0.00000000e+000, 0.00000000e+000,\n",
       "        0.00000000e+000],\n",
       "       [0.00000000e+000, 7.60861095e-321, 8.34420522e-308,\n",
       "        1.50449502e-311]])"
      ]
     },
     "execution_count": 39,
     "metadata": {},
     "output_type": "execute_result"
    }
   ],
   "source": [
    "np.empty((2,4),dtype=float)"
   ]
  },
  {
   "cell_type": "markdown",
   "id": "d430b5d5",
   "metadata": {},
   "source": [
    "It returns the matrix with\n",
    "arbitrary (uninitialized) values\n",
    "of given shape and data type"
   ]
  },
  {
   "cell_type": "code",
   "execution_count": 41,
   "id": "ab3ce132",
   "metadata": {},
   "outputs": [
    {
     "data": {
      "text/plain": [
       "array([[10, 10, 10, 10],\n",
       "       [10, 10, 10, 10]])"
      ]
     },
     "execution_count": 41,
     "metadata": {},
     "output_type": "execute_result"
    }
   ],
   "source": [
    "np.full((2,4),fill_value=10)"
   ]
  },
  {
   "cell_type": "markdown",
   "id": "e6187c82",
   "metadata": {},
   "source": [
    "Returns the matrix of given\n",
    "shape with the value passed\n",
    "through the ‘fill_value’\n",
    "parameter"
   ]
  },
  {
   "cell_type": "markdown",
   "id": "ad0eb874",
   "metadata": {},
   "source": [
    "## Identity Matrix\n",
    "- Diagonal should have same value"
   ]
  },
  {
   "cell_type": "code",
   "execution_count": 44,
   "id": "72825f79",
   "metadata": {
    "scrolled": true
   },
   "outputs": [
    {
     "data": {
      "text/plain": [
       "array([[1., 0., 0.],\n",
       "       [0., 1., 0.],\n",
       "       [0., 0., 1.]])"
      ]
     },
     "execution_count": 44,
     "metadata": {},
     "output_type": "execute_result"
    }
   ],
   "source": [
    "np.identity(3)\n",
    "#create a diagonal matrix of value 5"
   ]
  },
  {
   "cell_type": "code",
   "execution_count": 54,
   "id": "91d2b713",
   "metadata": {},
   "outputs": [
    {
     "data": {
      "text/plain": [
       "array([[5, 0, 0],\n",
       "       [0, 5, 0],\n",
       "       [0, 0, 5]])"
      ]
     },
     "execution_count": 54,
     "metadata": {},
     "output_type": "execute_result"
    }
   ],
   "source": [
    "np.identity(3,dtype=int)*5"
   ]
  },
  {
   "cell_type": "markdown",
   "id": "1fc4e212",
   "metadata": {},
   "source": [
    "### Numpy arrays can contain strings as well"
   ]
  },
  {
   "cell_type": "code",
   "execution_count": 48,
   "id": "618e7b90",
   "metadata": {},
   "outputs": [
    {
     "data": {
      "text/plain": [
       "array(['Data', 'Science', 'Machine', 'Learning'], dtype='<U8')"
      ]
     },
     "execution_count": 48,
     "metadata": {},
     "output_type": "execute_result"
    }
   ],
   "source": [
    "string_array=np.array([\"Data\",\"Science\",\"Machine\",\"Learning\"])\n",
    "string_array\n",
    "#unicode strings"
   ]
  },
  {
   "cell_type": "markdown",
   "id": "ebe8eb42",
   "metadata": {},
   "source": [
    "### Methods in Numpy array\n",
    "- reshape\n",
    "- Indexing\n",
    "- Slicing\n",
    "- Arithmetic operations\n",
    "- Arithmetic fucntions\n",
    "- Concatenation\n",
    "- Stacking\n",
    "- Splitting"
   ]
  },
  {
   "cell_type": "code",
   "execution_count": 6,
   "id": "d02bb97f",
   "metadata": {
    "scrolled": true
   },
   "outputs": [
    {
     "data": {
      "text/plain": [
       "array([[4, 9],\n",
       "       [7, 2],\n",
       "       [5, 6]])"
      ]
     },
     "execution_count": 6,
     "metadata": {},
     "output_type": "execute_result"
    }
   ],
   "source": [
    "o=np.array([(4,9),(7,2),(5,6)])\n",
    "o"
   ]
  },
  {
   "cell_type": "code",
   "execution_count": 59,
   "id": "3150a7ab",
   "metadata": {},
   "outputs": [
    {
     "data": {
      "text/plain": [
       "((3, 2), 6, 2, dtype('int32'))"
      ]
     },
     "execution_count": 59,
     "metadata": {},
     "output_type": "execute_result"
    }
   ],
   "source": [
    "o.shape,o.size,o.ndim,o.dtype"
   ]
  },
  {
   "cell_type": "code",
   "execution_count": 50,
   "id": "5d0bbcd4",
   "metadata": {
    "scrolled": true
   },
   "outputs": [
    {
     "ename": "TypeError",
     "evalue": "array() takes from 1 to 2 positional arguments but 3 were given",
     "output_type": "error",
     "traceback": [
      "\u001b[1;31m---------------------------------------------------------------------------\u001b[0m",
      "\u001b[1;31mTypeError\u001b[0m                                 Traceback (most recent call last)",
      "\u001b[1;32m~\\AppData\\Local\\Temp/ipykernel_19372/4251808212.py\u001b[0m in \u001b[0;36m<module>\u001b[1;34m\u001b[0m\n\u001b[1;32m----> 1\u001b[1;33m \u001b[0mnp\u001b[0m\u001b[1;33m.\u001b[0m\u001b[0marray\u001b[0m\u001b[1;33m(\u001b[0m\u001b[1;33m(\u001b[0m\u001b[1;36m4\u001b[0m\u001b[1;33m,\u001b[0m\u001b[1;36m9\u001b[0m\u001b[1;33m)\u001b[0m\u001b[1;33m,\u001b[0m\u001b[1;33m(\u001b[0m\u001b[1;36m7\u001b[0m\u001b[1;33m,\u001b[0m\u001b[1;36m2\u001b[0m\u001b[1;33m)\u001b[0m\u001b[1;33m,\u001b[0m\u001b[1;33m(\u001b[0m\u001b[1;36m5\u001b[0m\u001b[1;33m,\u001b[0m\u001b[1;36m6\u001b[0m\u001b[1;33m)\u001b[0m\u001b[1;33m)\u001b[0m\u001b[1;33m\u001b[0m\u001b[1;33m\u001b[0m\u001b[0m\n\u001b[0m",
      "\u001b[1;31mTypeError\u001b[0m: array() takes from 1 to 2 positional arguments but 3 were given"
     ]
    }
   ],
   "source": [
    "#running without square bracket\n",
    "np.array((4,9),(7,2),(5,6))"
   ]
  },
  {
   "cell_type": "code",
   "execution_count": 55,
   "id": "98f9823b",
   "metadata": {},
   "outputs": [
    {
     "data": {
      "text/plain": [
       "array([[4, 9],\n",
       "       [7, 2],\n",
       "       [5, 6]])"
      ]
     },
     "execution_count": 55,
     "metadata": {},
     "output_type": "execute_result"
    }
   ],
   "source": [
    "o"
   ]
  },
  {
   "cell_type": "code",
   "execution_count": 53,
   "id": "1ab6c267",
   "metadata": {},
   "outputs": [
    {
     "data": {
      "text/plain": [
       "(3, 2)"
      ]
     },
     "execution_count": 53,
     "metadata": {},
     "output_type": "execute_result"
    }
   ],
   "source": [
    "#checking the shape of the array\n",
    "o.shape"
   ]
  },
  {
   "cell_type": "markdown",
   "id": "c2465502",
   "metadata": {},
   "source": [
    "##### Reshape\n",
    "- the reshape() changes the number of rows and columns of the original array,\n",
    "without changing the data"
   ]
  },
  {
   "cell_type": "code",
   "execution_count": 61,
   "id": "297c175d",
   "metadata": {},
   "outputs": [
    {
     "data": {
      "text/plain": [
       "array([[4, 9],\n",
       "       [7, 2],\n",
       "       [5, 6]])"
      ]
     },
     "execution_count": 61,
     "metadata": {},
     "output_type": "execute_result"
    }
   ],
   "source": [
    "o"
   ]
  },
  {
   "cell_type": "code",
   "execution_count": 60,
   "id": "6639fe11",
   "metadata": {
    "scrolled": true
   },
   "outputs": [
    {
     "data": {
      "text/plain": [
       "array([[4, 9, 7],\n",
       "       [2, 5, 6]])"
      ]
     },
     "execution_count": 60,
     "metadata": {},
     "output_type": "execute_result"
    }
   ],
   "source": [
    "o.reshape(2,3)"
   ]
  },
  {
   "cell_type": "code",
   "execution_count": 62,
   "id": "117e9c0c",
   "metadata": {
    "scrolled": true
   },
   "outputs": [
    {
     "data": {
      "text/plain": [
       "array([[4],\n",
       "       [9],\n",
       "       [7],\n",
       "       [2],\n",
       "       [5],\n",
       "       [6]])"
      ]
     },
     "execution_count": 62,
     "metadata": {},
     "output_type": "execute_result"
    }
   ],
   "source": [
    "o.reshape(6,1)"
   ]
  },
  {
   "cell_type": "code",
   "execution_count": 63,
   "id": "a49c715a",
   "metadata": {},
   "outputs": [
    {
     "data": {
      "text/plain": [
       "array([[4, 9, 7, 2, 5, 6]])"
      ]
     },
     "execution_count": 63,
     "metadata": {},
     "output_type": "execute_result"
    }
   ],
   "source": [
    "o.reshape(1,6)"
   ]
  },
  {
   "cell_type": "code",
   "execution_count": 65,
   "id": "06ac07c3",
   "metadata": {},
   "outputs": [
    {
     "data": {
      "text/plain": [
       "2"
      ]
     },
     "execution_count": 65,
     "metadata": {},
     "output_type": "execute_result"
    }
   ],
   "source": [
    "o.ndim"
   ]
  },
  {
   "cell_type": "code",
   "execution_count": 64,
   "id": "8781b74c",
   "metadata": {},
   "outputs": [
    {
     "data": {
      "text/plain": [
       "array([57, 89, 65, 34])"
      ]
     },
     "execution_count": 64,
     "metadata": {},
     "output_type": "execute_result"
    }
   ],
   "source": [
    "weight_array"
   ]
  },
  {
   "cell_type": "code",
   "execution_count": 66,
   "id": "4e2548e4",
   "metadata": {},
   "outputs": [
    {
     "data": {
      "text/plain": [
       "array([0, 1, 2, 3])"
      ]
     },
     "execution_count": 66,
     "metadata": {},
     "output_type": "execute_result"
    }
   ],
   "source": [
    "np.arange(4)"
   ]
  },
  {
   "cell_type": "code",
   "execution_count": 68,
   "id": "b3c125b5",
   "metadata": {
    "scrolled": true
   },
   "outputs": [
    {
     "data": {
      "text/plain": [
       "array([[0, 1],\n",
       "       [2, 3]])"
      ]
     },
     "execution_count": 68,
     "metadata": {},
     "output_type": "execute_result"
    }
   ],
   "source": [
    "np.arange(4).reshape(2,2)"
   ]
  },
  {
   "cell_type": "code",
   "execution_count": 69,
   "id": "7c97cec7",
   "metadata": {},
   "outputs": [],
   "source": [
    "r=np.arange(4)"
   ]
  },
  {
   "cell_type": "code",
   "execution_count": 70,
   "id": "9adde486",
   "metadata": {},
   "outputs": [
    {
     "data": {
      "text/plain": [
       "array([[0, 1, 2, 3]])"
      ]
     },
     "execution_count": 70,
     "metadata": {},
     "output_type": "execute_result"
    }
   ],
   "source": [
    "r.reshape(1,4)"
   ]
  },
  {
   "cell_type": "code",
   "execution_count": 62,
   "id": "90322b81",
   "metadata": {},
   "outputs": [
    {
     "ename": "ValueError",
     "evalue": "cannot reshape array of size 5 into shape (2,2)",
     "output_type": "error",
     "traceback": [
      "\u001b[1;31m---------------------------------------------------------------------------\u001b[0m",
      "\u001b[1;31mValueError\u001b[0m                                Traceback (most recent call last)",
      "\u001b[1;32m~\\AppData\\Local\\Temp/ipykernel_19372/2925606652.py\u001b[0m in \u001b[0;36m<module>\u001b[1;34m\u001b[0m\n\u001b[0;32m      1\u001b[0m \u001b[1;31m#condition to reshape : the number of elements should be equal to the multiplication of the rows and columns\u001b[0m\u001b[1;33m\u001b[0m\u001b[1;33m\u001b[0m\u001b[0m\n\u001b[1;32m----> 2\u001b[1;33m \u001b[0mnp\u001b[0m\u001b[1;33m.\u001b[0m\u001b[0marange\u001b[0m\u001b[1;33m(\u001b[0m\u001b[1;36m5\u001b[0m\u001b[1;33m)\u001b[0m\u001b[1;33m.\u001b[0m\u001b[0mreshape\u001b[0m\u001b[1;33m(\u001b[0m\u001b[1;36m2\u001b[0m\u001b[1;33m,\u001b[0m\u001b[1;36m2\u001b[0m\u001b[1;33m)\u001b[0m\u001b[1;33m\u001b[0m\u001b[1;33m\u001b[0m\u001b[0m\n\u001b[0m",
      "\u001b[1;31mValueError\u001b[0m: cannot reshape array of size 5 into shape (2,2)"
     ]
    }
   ],
   "source": [
    "#condition to reshape : the number of elements should be equal to the multiplication of the rows and columns\n",
    "np.arange(5).reshape(2,2)"
   ]
  },
  {
   "cell_type": "code",
   "execution_count": 71,
   "id": "c4e919b0",
   "metadata": {},
   "outputs": [
    {
     "data": {
      "text/plain": [
       "array([[0, 1, 2, 3, 4]])"
      ]
     },
     "execution_count": 71,
     "metadata": {},
     "output_type": "execute_result"
    }
   ],
   "source": [
    "#solve the reshape\n",
    "np.arange(5).reshape(1,5)"
   ]
  },
  {
   "cell_type": "markdown",
   "id": "83aa0ff5",
   "metadata": {},
   "source": [
    "##### Indexing an array"
   ]
  },
  {
   "cell_type": "code",
   "execution_count": 83,
   "id": "02fa6bb2",
   "metadata": {},
   "outputs": [
    {
     "data": {
      "text/plain": [
       "array([23, 24, 25, 27, 56])"
      ]
     },
     "execution_count": 83,
     "metadata": {},
     "output_type": "execute_result"
    }
   ],
   "source": [
    "# 1 D\n",
    "age=np.array([23,24,25,27,56])\n",
    "age"
   ]
  },
  {
   "cell_type": "code",
   "execution_count": 67,
   "id": "cb89fd11",
   "metadata": {},
   "outputs": [
    {
     "data": {
      "text/plain": [
       "(23, 56)"
      ]
     },
     "execution_count": 67,
     "metadata": {},
     "output_type": "execute_result"
    }
   ],
   "source": [
    "#same as python slicing\n",
    "age[0],age[-1]"
   ]
  },
  {
   "cell_type": "code",
   "execution_count": 73,
   "id": "e16905c0",
   "metadata": {},
   "outputs": [
    {
     "data": {
      "text/plain": [
       "array([[1, 2, 3],\n",
       "       [4, 5, 6]])"
      ]
     },
     "execution_count": 73,
     "metadata": {},
     "output_type": "execute_result"
    }
   ],
   "source": [
    "# 2 D\n",
    "w=np.array([(1,2,3),(4,5,6)])\n",
    "w\n"
   ]
  },
  {
   "cell_type": "code",
   "execution_count": 75,
   "id": "23c5531f",
   "metadata": {},
   "outputs": [
    {
     "data": {
      "text/plain": [
       "array([1, 2, 3])"
      ]
     },
     "execution_count": 75,
     "metadata": {},
     "output_type": "execute_result"
    }
   ],
   "source": [
    "w[0]"
   ]
  },
  {
   "cell_type": "code",
   "execution_count": 73,
   "id": "ecf5190e",
   "metadata": {},
   "outputs": [
    {
     "data": {
      "text/plain": [
       "5"
      ]
     },
     "execution_count": 73,
     "metadata": {},
     "output_type": "execute_result"
    }
   ],
   "source": [
    "w[1][1]"
   ]
  },
  {
   "cell_type": "code",
   "execution_count": 74,
   "id": "78f3575a",
   "metadata": {},
   "outputs": [
    {
     "data": {
      "text/plain": [
       "array([1, 4])"
      ]
     },
     "execution_count": 74,
     "metadata": {},
     "output_type": "execute_result"
    }
   ],
   "source": [
    "#row indexing and column indexing "
   ]
  },
  {
   "cell_type": "markdown",
   "id": "bf36c7dd",
   "metadata": {},
   "source": [
    "### Slicing "
   ]
  },
  {
   "cell_type": "code",
   "execution_count": 76,
   "id": "15a56772",
   "metadata": {},
   "outputs": [],
   "source": [
    "# 1D\n",
    "age=np.array([23,24,25,27,56])"
   ]
  },
  {
   "cell_type": "code",
   "execution_count": null,
   "id": "6bdb1e47",
   "metadata": {},
   "outputs": [],
   "source": [
    "#2D\n"
   ]
  },
  {
   "attachments": {
    "slicing.JPG": {
     "image/jpeg": "[encoded data removed]"
    }
   },
   "cell_type": "markdown",
   "id": "489ea9e2",
   "metadata": {},
   "source": [
    "![slicing.JPG](attachment:slicing.JPG)"
   ]
  },
  {
   "cell_type": "code",
   "execution_count": 74,
   "id": "6a239085",
   "metadata": {},
   "outputs": [
    {
     "data": {
      "text/plain": [
       "array([[1, 2, 3],\n",
       "       [4, 5, 6]])"
      ]
     },
     "execution_count": 74,
     "metadata": {},
     "output_type": "execute_result"
    }
   ],
   "source": [
    "w"
   ]
  },
  {
   "cell_type": "code",
   "execution_count": 75,
   "id": "87b0cf80",
   "metadata": {
    "scrolled": true
   },
   "outputs": [
    {
     "data": {
      "text/plain": [
       "array([[1, 2, 3],\n",
       "       [4, 5, 6]])"
      ]
     },
     "execution_count": 75,
     "metadata": {},
     "output_type": "execute_result"
    }
   ],
   "source": [
    "#retrive elements in the second row and first two columns\n",
    "w[:,:]"
   ]
  },
  {
   "cell_type": "code",
   "execution_count": 76,
   "id": "4d54c61a",
   "metadata": {
    "scrolled": true
   },
   "outputs": [
    {
     "data": {
      "text/plain": [
       "array([[4, 5]])"
      ]
     },
     "execution_count": 76,
     "metadata": {},
     "output_type": "execute_result"
    }
   ],
   "source": [
    "w[1:,:2]"
   ]
  },
  {
   "cell_type": "code",
   "execution_count": 77,
   "id": "bfd414f6",
   "metadata": {},
   "outputs": [
    {
     "data": {
      "text/plain": [
       "array([[4, 5]])"
      ]
     },
     "execution_count": 77,
     "metadata": {},
     "output_type": "execute_result"
    }
   ],
   "source": [
    "w[1:2,0:2]"
   ]
  },
  {
   "cell_type": "code",
   "execution_count": 78,
   "id": "4a978aad",
   "metadata": {
    "scrolled": true
   },
   "outputs": [
    {
     "data": {
      "text/plain": [
       "array([[1, 2, 3],\n",
       "       [4, 5, 6]])"
      ]
     },
     "execution_count": 78,
     "metadata": {},
     "output_type": "execute_result"
    }
   ],
   "source": [
    "#retrive the elements in 2nd and 3rd column\n",
    "w"
   ]
  },
  {
   "cell_type": "code",
   "execution_count": 82,
   "id": "a8e88713",
   "metadata": {},
   "outputs": [
    {
     "data": {
      "text/plain": [
       "array([[2, 3],\n",
       "       [5, 6]])"
      ]
     },
     "execution_count": 82,
     "metadata": {},
     "output_type": "execute_result"
    }
   ],
   "source": [
    "w[:,1:]"
   ]
  },
  {
   "cell_type": "markdown",
   "id": "d5d899d9",
   "metadata": {},
   "source": [
    "#### Comparison operation\n",
    "- Comparison operators can be used to validate specific condition on each element of the array.\n",
    "- By default, the output of the comparison statement is boolean"
   ]
  },
  {
   "cell_type": "code",
   "execution_count": 78,
   "id": "8454b20f",
   "metadata": {},
   "outputs": [
    {
     "data": {
      "text/plain": [
       "array([23, 24, 25, 27, 56])"
      ]
     },
     "execution_count": 78,
     "metadata": {},
     "output_type": "execute_result"
    }
   ],
   "source": [
    "age"
   ]
  },
  {
   "cell_type": "code",
   "execution_count": 84,
   "id": "cd72b881",
   "metadata": {},
   "outputs": [
    {
     "data": {
      "text/plain": [
       "array([False, False, False,  True,  True])"
      ]
     },
     "execution_count": 84,
     "metadata": {},
     "output_type": "execute_result"
    }
   ],
   "source": [
    "age>25"
   ]
  },
  {
   "cell_type": "code",
   "execution_count": 85,
   "id": "7e604ef6",
   "metadata": {},
   "outputs": [
    {
     "data": {
      "text/plain": [
       "array([27, 56])"
      ]
     },
     "execution_count": 85,
     "metadata": {},
     "output_type": "execute_result"
    }
   ],
   "source": [
    "age[age>25]"
   ]
  },
  {
   "cell_type": "code",
   "execution_count": 86,
   "id": "95f4a733",
   "metadata": {},
   "outputs": [
    {
     "data": {
      "text/plain": [
       "array([23, 24, 25, 27, 56])"
      ]
     },
     "execution_count": 86,
     "metadata": {},
     "output_type": "execute_result"
    }
   ],
   "source": [
    "age"
   ]
  },
  {
   "cell_type": "markdown",
   "id": "d2197067",
   "metadata": {},
   "source": [
    "## Arithmetic Operations on Array"
   ]
  },
  {
   "cell_type": "code",
   "execution_count": 2,
   "id": "9018c10a",
   "metadata": {},
   "outputs": [],
   "source": [
    "odd=np.arange(1,11,2)"
   ]
  },
  {
   "cell_type": "code",
   "execution_count": 3,
   "id": "70e9e255",
   "metadata": {},
   "outputs": [
    {
     "data": {
      "text/plain": [
       "array([1, 3, 5, 7, 9])"
      ]
     },
     "execution_count": 3,
     "metadata": {},
     "output_type": "execute_result"
    }
   ],
   "source": [
    "odd"
   ]
  },
  {
   "cell_type": "code",
   "execution_count": 4,
   "id": "257580db",
   "metadata": {},
   "outputs": [
    {
     "data": {
      "text/plain": [
       "array([0, 2, 4, 6, 8])"
      ]
     },
     "execution_count": 4,
     "metadata": {},
     "output_type": "execute_result"
    }
   ],
   "source": [
    "even=np.arange(0,10,2)\n",
    "even"
   ]
  },
  {
   "cell_type": "code",
   "execution_count": 5,
   "id": "06c5d6b7",
   "metadata": {},
   "outputs": [
    {
     "data": {
      "text/plain": [
       "array([ 1,  5,  9, 13, 17])"
      ]
     },
     "execution_count": 5,
     "metadata": {},
     "output_type": "execute_result"
    }
   ],
   "source": [
    "#addition\n",
    "add=even+odd\n",
    "add"
   ]
  },
  {
   "cell_type": "code",
   "execution_count": 94,
   "id": "91d33e25",
   "metadata": {},
   "outputs": [
    {
     "data": {
      "text/plain": [
       "array([-1, -1, -1, -1, -1])"
      ]
     },
     "execution_count": 94,
     "metadata": {},
     "output_type": "execute_result"
    }
   ],
   "source": [
    "#subtraction\n",
    "sub=even-odd\n",
    "sub"
   ]
  },
  {
   "cell_type": "code",
   "execution_count": 95,
   "id": "93928736",
   "metadata": {},
   "outputs": [
    {
     "ename": "TypeError",
     "evalue": "unsupported operand type(s) for -: 'list' and 'list'",
     "output_type": "error",
     "traceback": [
      "\u001b[1;31m---------------------------------------------------------------------------\u001b[0m",
      "\u001b[1;31mTypeError\u001b[0m                                 Traceback (most recent call last)",
      "\u001b[1;32m~\\AppData\\Local\\Temp/ipykernel_25568/508438355.py\u001b[0m in \u001b[0;36m<module>\u001b[1;34m\u001b[0m\n\u001b[0;32m      1\u001b[0m \u001b[1;31m#while performing the same operation in list\u001b[0m\u001b[1;33m\u001b[0m\u001b[1;33m\u001b[0m\u001b[0m\n\u001b[1;32m----> 2\u001b[1;33m \u001b[1;33m[\u001b[0m\u001b[1;36m1\u001b[0m\u001b[1;33m,\u001b[0m\u001b[1;36m2\u001b[0m\u001b[1;33m,\u001b[0m\u001b[1;36m3\u001b[0m\u001b[1;33m]\u001b[0m\u001b[1;33m-\u001b[0m\u001b[1;33m[\u001b[0m\u001b[1;36m5\u001b[0m\u001b[1;33m,\u001b[0m\u001b[1;36m6\u001b[0m\u001b[1;33m,\u001b[0m\u001b[1;36m7\u001b[0m\u001b[1;33m]\u001b[0m\u001b[1;33m\u001b[0m\u001b[1;33m\u001b[0m\u001b[0m\n\u001b[0m",
      "\u001b[1;31mTypeError\u001b[0m: unsupported operand type(s) for -: 'list' and 'list'"
     ]
    }
   ],
   "source": [
    "#while performing the same operation in list\n",
    "[1,2,3]-[5,6,7]"
   ]
  },
  {
   "cell_type": "code",
   "execution_count": 96,
   "id": "3d2f29cc",
   "metadata": {},
   "outputs": [
    {
     "data": {
      "text/plain": [
       "array([ 0,  6, 20, 42, 72])"
      ]
     },
     "execution_count": 96,
     "metadata": {},
     "output_type": "execute_result"
    }
   ],
   "source": [
    "#multiplication\n",
    "mul=odd*even\n",
    "mul"
   ]
  },
  {
   "cell_type": "code",
   "execution_count": 101,
   "id": "08dbda1f",
   "metadata": {},
   "outputs": [
    {
     "data": {
      "text/plain": [
       "array([       inf, 1.5       , 1.25      , 1.16666667, 1.125     ])"
      ]
     },
     "execution_count": 101,
     "metadata": {},
     "output_type": "execute_result"
    }
   ],
   "source": [
    "div=odd/even\n",
    "div"
   ]
  },
  {
   "attachments": {
    "mul1.JPG": {
     "image/jpeg": "[encoded data removed]"
    }
   },
   "cell_type": "markdown",
   "id": "dd59550c",
   "metadata": {},
   "source": [
    "![mul1.JPG](attachment:mul1.JPG)"
   ]
  },
  {
   "attachments": {
    "mul2.JPG": {
     "image/jpeg": "[encoded data removed]"
    }
   },
   "cell_type": "markdown",
   "id": "ed106cb8",
   "metadata": {},
   "source": [
    "![mul2.JPG](attachment:mul2.JPG)"
   ]
  },
  {
   "cell_type": "markdown",
   "id": "7e6bae0c",
   "metadata": {},
   "source": [
    "#### Arithmetic Fucntions\n",
    "- sum\n",
    "- min\n",
    "- max\n",
    "- mean\n",
    "- variance\n",
    "- standard deviation\n",
    "- Square\n",
    "- power"
   ]
  },
  {
   "cell_type": "code",
   "execution_count": 105,
   "id": "39c02d5d",
   "metadata": {},
   "outputs": [
    {
     "data": {
      "text/plain": [
       "(245, 34, 386.1875, 19.651653874419832)"
      ]
     },
     "execution_count": 105,
     "metadata": {},
     "output_type": "execute_result"
    }
   ],
   "source": [
    "weight_array.sum(),weight_array.min(),weight_array.var(),weight_array.std()"
   ]
  },
  {
   "cell_type": "markdown",
   "id": "b0777dd9",
   "metadata": {},
   "source": [
    "##### Transpose a matrix "
   ]
  },
  {
   "cell_type": "code",
   "execution_count": 106,
   "id": "e0c6f257",
   "metadata": {
    "scrolled": true
   },
   "outputs": [
    {
     "data": {
      "text/plain": [
       "array([[4, 9],\n",
       "       [7, 2],\n",
       "       [5, 6]])"
      ]
     },
     "execution_count": 106,
     "metadata": {},
     "output_type": "execute_result"
    }
   ],
   "source": [
    "o"
   ]
  },
  {
   "cell_type": "code",
   "execution_count": 107,
   "id": "e1b9228e",
   "metadata": {},
   "outputs": [
    {
     "data": {
      "text/plain": [
       "array([[4, 7, 5],\n",
       "       [9, 2, 6]])"
      ]
     },
     "execution_count": 107,
     "metadata": {},
     "output_type": "execute_result"
    }
   ],
   "source": [
    "o.T"
   ]
  },
  {
   "cell_type": "markdown",
   "id": "b2cbb4fd",
   "metadata": {},
   "source": [
    "#### Concatenation"
   ]
  },
  {
   "cell_type": "code",
   "execution_count": 9,
   "id": "b04d234d",
   "metadata": {},
   "outputs": [
    {
     "data": {
      "text/plain": [
       "array([1, 3, 5, 7, 9, 0, 2, 4, 6, 8])"
      ]
     },
     "execution_count": 9,
     "metadata": {},
     "output_type": "execute_result"
    }
   ],
   "source": [
    "# 1D\n",
    "np.concatenate([odd,even])"
   ]
  },
  {
   "cell_type": "code",
   "execution_count": 13,
   "id": "729d5b68",
   "metadata": {},
   "outputs": [
    {
     "data": {
      "text/plain": [
       "array([[1, 3],\n",
       "       [5, 7]])"
      ]
     },
     "execution_count": 13,
     "metadata": {},
     "output_type": "execute_result"
    }
   ],
   "source": [
    "#2D\n",
    "\n",
    "odd_array=np.array([[1,3],[5,7]])\n",
    "odd_array"
   ]
  },
  {
   "cell_type": "code",
   "execution_count": 16,
   "id": "88c42d0b",
   "metadata": {},
   "outputs": [
    {
     "data": {
      "text/plain": [
       "array([[0, 2],\n",
       "       [4, 6]])"
      ]
     },
     "execution_count": 16,
     "metadata": {},
     "output_type": "execute_result"
    }
   ],
   "source": [
    "even_array=np.array(([0,2],[4,6]))\n",
    "even_array"
   ]
  },
  {
   "cell_type": "code",
   "execution_count": 18,
   "id": "62e7a3ed",
   "metadata": {
    "scrolled": true
   },
   "outputs": [
    {
     "ename": "TypeError",
     "evalue": "only integer scalar arrays can be converted to a scalar index",
     "output_type": "error",
     "traceback": [
      "\u001b[1;31m---------------------------------------------------------------------------\u001b[0m",
      "\u001b[1;31mTypeError\u001b[0m                                 Traceback (most recent call last)",
      "\u001b[1;32m~\\AppData\\Local\\Temp/ipykernel_19348/415705668.py\u001b[0m in \u001b[0;36m<module>\u001b[1;34m\u001b[0m\n\u001b[0;32m      1\u001b[0m \u001b[1;31m#row wise concatenation\u001b[0m\u001b[1;33m\u001b[0m\u001b[1;33m\u001b[0m\u001b[0m\n\u001b[1;32m----> 2\u001b[1;33m \u001b[0mnp\u001b[0m\u001b[1;33m.\u001b[0m\u001b[0mconcatenate\u001b[0m\u001b[1;33m(\u001b[0m\u001b[0modd_array\u001b[0m\u001b[1;33m,\u001b[0m\u001b[0meven_array\u001b[0m\u001b[1;33m)\u001b[0m\u001b[1;33m\u001b[0m\u001b[1;33m\u001b[0m\u001b[0m\n\u001b[0m\u001b[0;32m      3\u001b[0m \u001b[1;31m#square bracket is compulsory to run\u001b[0m\u001b[1;33m\u001b[0m\u001b[1;33m\u001b[0m\u001b[0m\n",
      "\u001b[1;32m<__array_function__ internals>\u001b[0m in \u001b[0;36mconcatenate\u001b[1;34m(*args, **kwargs)\u001b[0m\n",
      "\u001b[1;31mTypeError\u001b[0m: only integer scalar arrays can be converted to a scalar index"
     ]
    }
   ],
   "source": [
    "#row wise concatenation\n",
    "np.concatenate(odd_array,even_array)\n",
    "#square bracket is compulsory to run"
   ]
  },
  {
   "cell_type": "code",
   "execution_count": 19,
   "id": "5054e765",
   "metadata": {
    "scrolled": true
   },
   "outputs": [
    {
     "data": {
      "text/plain": [
       "array([[1, 3],\n",
       "       [5, 7],\n",
       "       [0, 2],\n",
       "       [4, 6]])"
      ]
     },
     "execution_count": 19,
     "metadata": {},
     "output_type": "execute_result"
    }
   ],
   "source": [
    "#row wise concatenation\n",
    "np.concatenate([odd_array,even_array])"
   ]
  },
  {
   "cell_type": "code",
   "execution_count": 20,
   "id": "35afbfb2",
   "metadata": {},
   "outputs": [
    {
     "data": {
      "text/plain": [
       "array([[1, 3, 0, 2],\n",
       "       [5, 7, 4, 6]])"
      ]
     },
     "execution_count": 20,
     "metadata": {},
     "output_type": "execute_result"
    }
   ],
   "source": [
    "#column wise concatenation\n",
    "np.concatenate([odd_array,even_array],axis=1)"
   ]
  },
  {
   "cell_type": "code",
   "execution_count": 21,
   "id": "03107ecb",
   "metadata": {},
   "outputs": [
    {
     "name": "stdout",
     "output_type": "stream",
     "text": [
      "12\n",
      "12\n",
      "45\n",
      "55\n",
      "67\n",
      "89\n",
      "50\n"
     ]
    }
   ],
   "source": [
    "#iteration in 1D \n",
    "age1=np.array([12,12,45,55,67,89,50])\n",
    "for i in age1:\n",
    "    print(i)\n"
   ]
  },
  {
   "cell_type": "code",
   "execution_count": 26,
   "id": "a04e1afa",
   "metadata": {
    "scrolled": true
   },
   "outputs": [
    {
     "name": "stdout",
     "output_type": "stream",
     "text": [
      "1\n",
      "3\n",
      "5\n",
      "7\n",
      "0\n",
      "2\n",
      "6\n",
      "8\n"
     ]
    }
   ],
   "source": [
    "#iteration in 2D\n",
    "age2=np.array([[1,3,5,7],[0,2,6,8]])\n",
    "for i in age2:\n",
    "    for j in i:\n",
    "        print(j)"
   ]
  }
 ],
 "metadata": {
  "kernelspec": {
   "display_name": "Python 3 (ipykernel)",
   "language": "python",
   "name": "python3"
  },
  "language_info": {
   "codemirror_mode": {
    "name": "ipython",
    "version": 3
   },
   "file_extension": ".py",
   "mimetype": "text/x-python",
   "name": "python",
   "nbconvert_exporter": "python",
   "pygments_lexer": "ipython3",
   "version": "3.9.7"
  }
 },
 "nbformat": 4,
 "nbformat_minor": 5
}
