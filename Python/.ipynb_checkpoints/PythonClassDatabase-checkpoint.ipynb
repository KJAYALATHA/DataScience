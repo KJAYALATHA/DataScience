{
 "cells": [
  {
   "cell_type": "code",
   "execution_count": 1,
   "id": "7fa4d1d4",
   "metadata": {},
   "outputs": [],
   "source": [
    "import mysql.connector    #to integrate python with mysql we use mysql.connector package"
   ]
  },
  {
   "cell_type": "code",
   "execution_count": 2,
   "id": "21639f77",
   "metadata": {},
   "outputs": [],
   "source": [
    "con = mysql.connector.connect(host=\"localhost\",user = \"root\",password = \"admin\",database = \"PythonClass\")"
   ]
  },
  {
   "cell_type": "code",
   "execution_count": 9,
   "id": "7f5fcdae",
   "metadata": {},
   "outputs": [
    {
     "name": "stdout",
     "output_type": "stream",
     "text": [
      "Data Insert Success\n"
     ]
    }
   ],
   "source": [
    "#CRUD\n",
    "\n",
    "\n",
    "#insert\n",
    "def insert(ID,Name,Salary):\n",
    "    res = con.cursor()\n",
    "    sql = \"insert into Employee (ID,Name,Salary) values (%s,%s,%s)\"\n",
    "    data = (ID, Name, Salary)\n",
    "    res.execute(sql, data)\n",
    "    con.commit()\n",
    "    print(\"Data Insert Success\")\n",
    "    \n",
    "\n",
    "insert(5,\"shobana\",30000)\n"
   ]
  },
  {
   "cell_type": "code",
   "execution_count": 10,
   "id": "c998b31a",
   "metadata": {},
   "outputs": [
    {
     "name": "stdout",
     "output_type": "stream",
     "text": [
      "[(1, 'Jayalatha', 25000), (2, 'sasi', 40000), (3, 'swathi', 30000), (4, 'sushmi', 100000), (5, 'shobana', 30000)]\n"
     ]
    }
   ],
   "source": [
    "def select():\n",
    "    res = con.cursor()\n",
    "    sql = \"SELECT * from Employee\"\n",
    "    res.execute(sql)\n",
    "    # result=res.fetchone()\n",
    "    # result=res.fetchmany(2)\n",
    "    result = res.fetchall()\n",
    "    print(result)\n",
    "    \n",
    "select()"
   ]
  },
  {
   "cell_type": "code",
   "execution_count": null,
   "id": "3f1f0def",
   "metadata": {},
   "outputs": [],
   "source": [
    "def update(ID, Name,Salary,Id):\n",
    "    res = con.cursor()\n",
    "    sql = \"update Employee set ID=%s,Name=%s,Salary=%s where ID=%s\"\n",
    "    user = (ID,Name,Salary,Id)\n",
    "    res.execute(sql, user)\n",
    "    con.commit()\n",
    "    print(\"Data Update Success\")"
   ]
  }
 ],
 "metadata": {
  "kernelspec": {
   "display_name": "Python 3 (ipykernel)",
   "language": "python",
   "name": "python3"
  },
  "language_info": {
   "codemirror_mode": {
    "name": "ipython",
    "version": 3
   },
   "file_extension": ".py",
   "mimetype": "text/x-python",
   "name": "python",
   "nbconvert_exporter": "python",
   "pygments_lexer": "ipython3",
   "version": "3.9.7"
  }
 },
 "nbformat": 4,
 "nbformat_minor": 5
}
