{
 "cells": [
  {
   "cell_type": "code",
   "execution_count": 1,
   "id": "08b1a617",
   "metadata": {},
   "outputs": [],
   "source": [
    "import numpy as np\n",
    "import pandas as pd\n",
    "import scipy.stats as stats"
   ]
  },
  {
   "cell_type": "code",
   "execution_count": 2,
   "id": "ac857df3",
   "metadata": {},
   "outputs": [
    {
     "data": {
      "text/plain": [
       "array([ 1.3315865 ,  0.71527897, -1.54540029, ..., -1.2512367 ,\n",
       "       -0.6230981 , -0.1615061 ])"
      ]
     },
     "execution_count": 2,
     "metadata": {},
     "output_type": "execute_result"
    }
   ],
   "source": [
    "np.random.seed(10)\n",
    "pop_sal=np.random.randn(50000)#n indicates the normal distribution\n",
    "pop_sal\n",
    "#but in reality not all the population values can be calculated \n",
    "#values indicates the salary of the population"
   ]
  },
  {
   "cell_type": "code",
   "execution_count": 3,
   "id": "f1269e30",
   "metadata": {},
   "outputs": [
    {
     "data": {
      "text/plain": [
       "array([[<AxesSubplot:title={'center':'0'}>]], dtype=object)"
      ]
     },
     "execution_count": 3,
     "metadata": {},
     "output_type": "execute_result"
    },
    {
     "data": {
      "image/png": "[encoded data removed]",
      "text/plain": [
       "<Figure size 432x288 with 1 Axes>"
      ]
     },
     "metadata": {
      "needs_background": "light"
     },
     "output_type": "display_data"
    }
   ],
   "source": [
    "pop_sal_df=pd.DataFrame(pop_sal)\n",
    "pop_sal_df.hist()\n"
   ]
  },
  {
   "cell_type": "code",
   "execution_count": 4,
   "id": "320030b3",
   "metadata": {},
   "outputs": [
    {
     "data": {
      "text/plain": [
       "array([824605.52764453, 803034.76410394, 723910.98977611, ...,\n",
       "       734206.7156053 , 756191.56665092, 772347.28636777])"
      ]
     },
     "execution_count": 4,
     "metadata": {},
     "output_type": "execute_result"
    }
   ],
   "source": [
    "#convert all the samples to the original scale\n",
    "population_mean=778000\n",
    "sigma=35000\n",
    "pop_sal_ori=(pop_sal*sigma)+population_mean\n",
    "pop_sal_ori"
   ]
  },
  {
   "cell_type": "code",
   "execution_count": 5,
   "id": "62c78f2b",
   "metadata": {},
   "outputs": [
    {
     "data": {
      "text/plain": [
       "(778097.0874203634, 35003.15746739717)"
      ]
     },
     "execution_count": 5,
     "metadata": {},
     "output_type": "execute_result"
    }
   ],
   "source": [
    "np.mean(pop_sal_ori),np.std(pop_sal_ori,ddof=1)"
   ]
  },
  {
   "cell_type": "code",
   "execution_count": 6,
   "id": "9f483bb8",
   "metadata": {},
   "outputs": [
    {
     "data": {
      "text/plain": [
       "500"
      ]
     },
     "execution_count": 6,
     "metadata": {},
     "output_type": "execute_result"
    }
   ],
   "source": [
    "#taking 500 samples from the population \n",
    "samp=[]\n",
    "for i in np.arange(500):\n",
    "    samp.append(np.random.choice(pop_sal_ori))\n",
    "len(samp)"
   ]
  },
  {
   "cell_type": "code",
   "execution_count": 7,
   "id": "1f1b86a8",
   "metadata": {},
   "outputs": [],
   "source": [
    "#calculating the 100 mean values from 500 random samples\n",
    "trial=[]\n",
    "for i in np.arange(100):\n",
    "    samp=[]\n",
    "    for i in np.arange(500):\n",
    "        samp.append(np.random.choice(pop_sal_ori))\n",
    "    trial.append(np.mean(samp))"
   ]
  },
  {
   "cell_type": "code",
   "execution_count": 11,
   "id": "b74a6651",
   "metadata": {},
   "outputs": [
    {
     "data": {
      "text/plain": [
       "100"
      ]
     },
     "execution_count": 11,
     "metadata": {},
     "output_type": "execute_result"
    }
   ],
   "source": [
    "len(trial)"
   ]
  },
  {
   "cell_type": "code",
   "execution_count": 12,
   "id": "5cef9f09",
   "metadata": {},
   "outputs": [
    {
     "data": {
      "text/plain": [
       "777603.9818610784"
      ]
     },
     "execution_count": 12,
     "metadata": {},
     "output_type": "execute_result"
    }
   ],
   "source": [
    "#checking the mean of the trial\n",
    "true_mean=np.mean(trial)\n",
    "true_mean"
   ]
  },
  {
   "cell_type": "code",
   "execution_count": 13,
   "id": "ee8daf02",
   "metadata": {},
   "outputs": [
    {
     "data": {
      "text/plain": [
       "1494.839007718534"
      ]
     },
     "execution_count": 13,
     "metadata": {},
     "output_type": "execute_result"
    }
   ],
   "source": [
    "#sem calculation\n",
    "sem=np.std(trial,ddof=1)\n",
    "sem"
   ]
  },
  {
   "cell_type": "code",
   "execution_count": 14,
   "id": "fd88ec94",
   "metadata": {},
   "outputs": [
    {
     "data": {
      "text/plain": [
       "500"
      ]
     },
     "execution_count": 14,
     "metadata": {},
     "output_type": "execute_result"
    }
   ],
   "source": [
    "#defining the x_bar\n",
    "len(samp)"
   ]
  },
  {
   "cell_type": "code",
   "execution_count": 15,
   "id": "7ee75be3",
   "metadata": {},
   "outputs": [
    {
     "data": {
      "text/plain": [
       "780179.1307761851"
      ]
     },
     "execution_count": 15,
     "metadata": {},
     "output_type": "execute_result"
    }
   ],
   "source": [
    "x_bar=np.mean(samp)\n",
    "x_bar"
   ]
  },
  {
   "cell_type": "code",
   "execution_count": 16,
   "id": "fb8e1eeb",
   "metadata": {},
   "outputs": [
    {
     "data": {
      "text/plain": [
       "(778684.2917684666, 781673.9697839036)"
      ]
     },
     "execution_count": 16,
     "metadata": {},
     "output_type": "execute_result"
    }
   ],
   "source": [
    "# 1 sigma or 68% CI\n",
    "x_bar-sem,x_bar+sem"
   ]
  },
  {
   "cell_type": "code",
   "execution_count": 18,
   "id": "e480e86e",
   "metadata": {},
   "outputs": [
    {
     "data": {
      "text/plain": [
       "777603.9818610784"
      ]
     },
     "execution_count": 18,
     "metadata": {},
     "output_type": "execute_result"
    }
   ],
   "source": [
    "true_mean"
   ]
  },
  {
   "cell_type": "code",
   "execution_count": 17,
   "id": "b1f938ff",
   "metadata": {},
   "outputs": [
    {
     "data": {
      "text/plain": [
       "(777249.2463210567, 783109.0152313134)"
      ]
     },
     "execution_count": 17,
     "metadata": {},
     "output_type": "execute_result"
    }
   ],
   "source": [
    "#95% CI - 1.96\n",
    "x_bar-(1.96*sem),x_bar+(1.96*sem)\n",
    "#so the true mean lies in the confidence interval with 95%"
   ]
  },
  {
   "cell_type": "code",
   "execution_count": 18,
   "id": "a4907279",
   "metadata": {},
   "outputs": [
    {
     "data": {
      "text/plain": [
       "(776337.3945263484, 784020.8670260217)"
      ]
     },
     "execution_count": 18,
     "metadata": {},
     "output_type": "execute_result"
    }
   ],
   "source": [
    "#99% CI - 2.57\n",
    "x_bar-(2.57*sem),x_bar+(2.57*sem)\n",
    "#so the true mean lies in the confidence interval with 99%"
   ]
  },
  {
   "cell_type": "code",
   "execution_count": 21,
   "id": "7dff3b65",
   "metadata": {},
   "outputs": [
    {
     "data": {
      "text/plain": [
       "0.6744897501960817"
      ]
     },
     "execution_count": 21,
     "metadata": {},
     "output_type": "execute_result"
    }
   ],
   "source": [
    "#CI - 50%\n",
    "stats.norm.isf(0.25)"
   ]
  },
  {
   "cell_type": "code",
   "execution_count": 22,
   "id": "237127d8",
   "metadata": {},
   "outputs": [
    {
     "data": {
      "text/plain": [
       "(779177.5886410136, 781180.6729113566)"
      ]
     },
     "execution_count": 22,
     "metadata": {},
     "output_type": "execute_result"
    }
   ],
   "source": [
    "x_bar-(0.67*sem),x_bar+(0.67*sem)\n",
    "#so the true mean doesn't lies in the confidence interval with 50%"
   ]
  },
  {
   "cell_type": "code",
   "execution_count": 23,
   "id": "ea883c24",
   "metadata": {},
   "outputs": [
    {
     "data": {
      "text/plain": [
       "777603.9818610784"
      ]
     },
     "execution_count": 23,
     "metadata": {},
     "output_type": "execute_result"
    }
   ],
   "source": [
    "true_mean"
   ]
  },
  {
   "cell_type": "code",
   "execution_count": 23,
   "id": "ea883003",
   "metadata": {},
   "outputs": [
    {
     "data": {
      "text/plain": [
       "(780179.1307761851, 777603.9818610784, 1494.839007718534, 33549.67909708563)"
      ]
     },
     "execution_count": 23,
     "metadata": {},
     "output_type": "execute_result"
    }
   ],
   "source": [
    "#checking the mean values of trail and sample\n",
    "np.mean(samp),np.mean(trial)"
   ]
  },
  {
   "cell_type": "code",
   "execution_count": 24,
   "id": "0ff053ad",
   "metadata": {},
   "outputs": [
    {
     "data": {
      "text/plain": [
       "(1494.839007718534, 33549.67909708563)"
      ]
     },
     "execution_count": 24,
     "metadata": {},
     "output_type": "execute_result"
    }
   ],
   "source": [
    "np.std(trial,ddof=1),np.std(samp,ddof=1)"
   ]
  },
  {
   "cell_type": "code",
   "execution_count": 26,
   "id": "814164b3",
   "metadata": {},
   "outputs": [
    {
     "data": {
      "text/plain": [
       "[775488.0515997119,\n",
       " 777819.9414354797,\n",
       " 775601.1798447933,\n",
       " 778689.463124964,\n",
       " 777886.2097039466]"
      ]
     },
     "execution_count": 26,
     "metadata": {},
     "output_type": "execute_result"
    }
   ],
   "source": [
    "trial[:5]\n",
    "#trial stores the collection of mean values\n",
    "# so the standard deviation is less when compared to sample"
   ]
  },
  {
   "cell_type": "code",
   "execution_count": 27,
   "id": "2b4d1d04",
   "metadata": {},
   "outputs": [
    {
     "data": {
      "text/plain": [
       "[788429.1166618372,\n",
       " 740561.3442450386,\n",
       " 807080.5367622301,\n",
       " 789671.1571649436,\n",
       " 767317.8004296602]"
      ]
     },
     "execution_count": 27,
     "metadata": {},
     "output_type": "execute_result"
    }
   ],
   "source": [
    "samp[:5]\n",
    "#samp stores the random original observations of the salaries\n",
    "#it doesn't store the mean value\n",
    "#so the standard deviation is high when compared to trail"
   ]
  },
  {
   "cell_type": "markdown",
   "id": "a52f004a",
   "metadata": {},
   "source": [
    "### Practical Approach or modern approach"
   ]
  },
  {
   "cell_type": "code",
   "execution_count": 28,
   "id": "5861857e",
   "metadata": {},
   "outputs": [
    {
     "data": {
      "text/plain": [
       "1494.839007718534"
      ]
     },
     "execution_count": 28,
     "metadata": {},
     "output_type": "execute_result"
    }
   ],
   "source": [
    "sem"
   ]
  },
  {
   "cell_type": "code",
   "execution_count": 30,
   "id": "0ea54c24",
   "metadata": {},
   "outputs": [
    {
     "data": {
      "text/plain": [
       "33549.67909708563"
      ]
     },
     "execution_count": 30,
     "metadata": {},
     "output_type": "execute_result"
    }
   ],
   "source": [
    "std_samp=np.std(samp,ddof=1)\n",
    "std_samp"
   ]
  },
  {
   "cell_type": "code",
   "execution_count": 32,
   "id": "cda6a6fc",
   "metadata": {},
   "outputs": [
    {
     "data": {
      "text/plain": [
       "1500.3872616877447"
      ]
     },
     "execution_count": 32,
     "metadata": {},
     "output_type": "execute_result"
    }
   ],
   "source": [
    "sem_prac=std_samp/np.sqrt(len(samp))\n",
    "sem_prac"
   ]
  },
  {
   "cell_type": "code",
   "execution_count": 33,
   "id": "99ef6898",
   "metadata": {},
   "outputs": [
    {
     "data": {
      "text/plain": [
       "1500.3872616877447"
      ]
     },
     "execution_count": 33,
     "metadata": {},
     "output_type": "execute_result"
    }
   ],
   "source": [
    "sem_prac=std_samp/np.sqrt(500)\n",
    "sem_prac"
   ]
  },
  {
   "cell_type": "code",
   "execution_count": null,
   "id": "f4a105fe",
   "metadata": {},
   "outputs": [],
   "source": []
  }
 ],
 "metadata": {
  "kernelspec": {
   "display_name": "Python 3 (ipykernel)",
   "language": "python",
   "name": "python3"
  },
  "language_info": {
   "codemirror_mode": {
    "name": "ipython",
    "version": 3
   },
   "file_extension": ".py",
   "mimetype": "text/x-python",
   "name": "python",
   "nbconvert_exporter": "python",
   "pygments_lexer": "ipython3",
   "version": "3.9.7"
  }
 },
 "nbformat": 4,
 "nbformat_minor": 5
}
