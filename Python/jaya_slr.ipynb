{
 "cells": [
  {
   "cell_type": "code",
   "execution_count": 1,
   "id": "34209f35",
   "metadata": {},
   "outputs": [],
   "source": [
    "#importing libraries \n",
    "import numpy as np\n",
    "import pandas as pd\n",
    "import warnings\n",
    "warnings.filterwarnings(\"ignore\")\n",
    "import seaborn as sns\n",
    "import matplotlib.pyplot as plt"
   ]
  },
  {
   "cell_type": "code",
   "execution_count": 2,
   "id": "190f2568",
   "metadata": {},
   "outputs": [],
   "source": [
    "#library to split the data\n",
    "from sklearn.model_selection import train_test_split"
   ]
  },
  {
   "cell_type": "code",
   "execution_count": 3,
   "id": "a2adc39b",
   "metadata": {},
   "outputs": [],
   "source": [
    "#importing libraries for linear regression \n",
    "# OLS Method\n",
    "import statsmodels\n",
    "import statsmodels.api as sm\n",
    "import statsmodels.formula.api as ols"
   ]
  },
  {
   "cell_type": "code",
   "execution_count": 4,
   "id": "7b7117f1",
   "metadata": {},
   "outputs": [],
   "source": [
    "\n",
    "#importing library for multicollinearity\n",
    "from statsmodels.stats.outliers_influence import variance_inflation_factor\n",
    "from sklearn.preprocessing import PowerTransformer"
   ]
  },
  {
   "cell_type": "code",
   "execution_count": 5,
   "id": "6a5e2b10",
   "metadata": {},
   "outputs": [],
   "source": [
    "#libraries for scaling \n",
    "from sklearn.preprocessing import StandardScaler,MinMaxScaler\n",
    "#importing metrics libraries\n",
    "from sklearn.metrics import mean_squared_error\n",
    "from sklearn.metrics import mean_absolute_error"
   ]
  },
  {
   "cell_type": "code",
   "execution_count": 6,
   "id": "42f9abd8",
   "metadata": {},
   "outputs": [
    {
     "data": {
      "text/html": [
       "<div>\n",
       "<style scoped>\n",
       "    .dataframe tbody tr th:only-of-type {\n",
       "        vertical-align: middle;\n",
       "    }\n",
       "\n",
       "    .dataframe tbody tr th {\n",
       "        vertical-align: top;\n",
       "    }\n",
       "\n",
       "    .dataframe thead th {\n",
       "        text-align: right;\n",
       "    }\n",
       "</style>\n",
       "<table border=\"1\" class=\"dataframe\">\n",
       "  <thead>\n",
       "    <tr style=\"text-align: right;\">\n",
       "      <th></th>\n",
       "      <th>Year_Type</th>\n",
       "      <th>Year</th>\n",
       "      <th>Employee_Identifier</th>\n",
       "      <th>Salaries</th>\n",
       "      <th>Overtime</th>\n",
       "      <th>Other_Salaries</th>\n",
       "      <th>Total_Salary</th>\n",
       "      <th>Retirement</th>\n",
       "      <th>Health/Dental</th>\n",
       "      <th>Other_Benefits</th>\n",
       "      <th>Total_Benefits</th>\n",
       "      <th>Total_Compensation</th>\n",
       "    </tr>\n",
       "  </thead>\n",
       "  <tbody>\n",
       "    <tr>\n",
       "      <th>0</th>\n",
       "      <td>Fiscal</td>\n",
       "      <td>2015</td>\n",
       "      <td>42853</td>\n",
       "      <td>92288.22</td>\n",
       "      <td>267.45</td>\n",
       "      <td>267.45</td>\n",
       "      <td>92823.12</td>\n",
       "      <td>20700.20</td>\n",
       "      <td>12500.56</td>\n",
       "      <td>7605.75</td>\n",
       "      <td>40806.51</td>\n",
       "      <td>133629.63</td>\n",
       "    </tr>\n",
       "    <tr>\n",
       "      <th>1</th>\n",
       "      <td>Calendar</td>\n",
       "      <td>2015</td>\n",
       "      <td>28248</td>\n",
       "      <td>1466.38</td>\n",
       "      <td>348.23</td>\n",
       "      <td>0.00</td>\n",
       "      <td>1814.61</td>\n",
       "      <td>0.00</td>\n",
       "      <td>442.03</td>\n",
       "      <td>141.59</td>\n",
       "      <td>583.62</td>\n",
       "      <td>2398.23</td>\n",
       "    </tr>\n",
       "    <tr>\n",
       "      <th>2</th>\n",
       "      <td>Fiscal</td>\n",
       "      <td>2014</td>\n",
       "      <td>30651</td>\n",
       "      <td>76536.95</td>\n",
       "      <td>13583.72</td>\n",
       "      <td>10855.94</td>\n",
       "      <td>100976.61</td>\n",
       "      <td>18632.19</td>\n",
       "      <td>12464.61</td>\n",
       "      <td>8011.41</td>\n",
       "      <td>39108.21</td>\n",
       "      <td>140084.82</td>\n",
       "    </tr>\n",
       "    <tr>\n",
       "      <th>3</th>\n",
       "      <td>Fiscal</td>\n",
       "      <td>2014</td>\n",
       "      <td>19473</td>\n",
       "      <td>45659.88</td>\n",
       "      <td>0.00</td>\n",
       "      <td>1625.37</td>\n",
       "      <td>47285.25</td>\n",
       "      <td>10081.20</td>\n",
       "      <td>0.00</td>\n",
       "      <td>3936.63</td>\n",
       "      <td>14017.83</td>\n",
       "      <td>61303.08</td>\n",
       "    </tr>\n",
       "    <tr>\n",
       "      <th>4</th>\n",
       "      <td>Fiscal</td>\n",
       "      <td>2013</td>\n",
       "      <td>7176</td>\n",
       "      <td>41832.00</td>\n",
       "      <td>0.00</td>\n",
       "      <td>0.00</td>\n",
       "      <td>41832.00</td>\n",
       "      <td>7617.60</td>\n",
       "      <td>5908.52</td>\n",
       "      <td>3254.50</td>\n",
       "      <td>16780.62</td>\n",
       "      <td>58612.62</td>\n",
       "    </tr>\n",
       "  </tbody>\n",
       "</table>\n",
       "</div>"
      ],
      "text/plain": [
       "  Year_Type  Year  Employee_Identifier  Salaries  Overtime  Other_Salaries  \\\n",
       "0    Fiscal  2015                42853  92288.22    267.45          267.45   \n",
       "1  Calendar  2015                28248   1466.38    348.23            0.00   \n",
       "2    Fiscal  2014                30651  76536.95  13583.72        10855.94   \n",
       "3    Fiscal  2014                19473  45659.88      0.00         1625.37   \n",
       "4    Fiscal  2013                 7176  41832.00      0.00            0.00   \n",
       "\n",
       "   Total_Salary  Retirement  Health/Dental  Other_Benefits  Total_Benefits  \\\n",
       "0      92823.12    20700.20       12500.56         7605.75        40806.51   \n",
       "1       1814.61        0.00         442.03          141.59          583.62   \n",
       "2     100976.61    18632.19       12464.61         8011.41        39108.21   \n",
       "3      47285.25    10081.20           0.00         3936.63        14017.83   \n",
       "4      41832.00     7617.60        5908.52         3254.50        16780.62   \n",
       "\n",
       "   Total_Compensation  \n",
       "0           133629.63  \n",
       "1             2398.23  \n",
       "2           140084.82  \n",
       "3            61303.08  \n",
       "4            58612.62  "
      ]
     },
     "execution_count": 6,
     "metadata": {},
     "output_type": "execute_result"
    }
   ],
   "source": [
    "#importing dataframe \n",
    "df_compensation=pd.read_csv(\"employee_compensation.csv\")\n",
    "df_compensation.head()"
   ]
  },
  {
   "cell_type": "code",
   "execution_count": 7,
   "id": "d556cc47",
   "metadata": {},
   "outputs": [
    {
     "data": {
      "text/plain": [
       "Fiscal      28665\n",
       "Calendar    21335\n",
       "Name: Year_Type, dtype: int64"
      ]
     },
     "execution_count": 7,
     "metadata": {},
     "output_type": "execute_result"
    }
   ],
   "source": [
    "#checking for year \n",
    "df_compensation.Year_Type.value_counts()\n",
    "\n"
   ]
  },
  {
   "cell_type": "code",
   "execution_count": 8,
   "id": "40ad87f4",
   "metadata": {},
   "outputs": [
    {
     "data": {
      "text/plain": [
       "2015    14699\n",
       "2014    14155\n",
       "2013    13605\n",
       "2016     7541\n",
       "Name: Year, dtype: int64"
      ]
     },
     "execution_count": 8,
     "metadata": {},
     "output_type": "execute_result"
    }
   ],
   "source": [
    "\n",
    "#checking for year \n",
    "df_compensation.Year.value_counts()\n"
   ]
  },
  {
   "cell_type": "code",
   "execution_count": 9,
   "id": "a50fb947",
   "metadata": {},
   "outputs": [],
   "source": [
    "#changing to object\n",
    "df_compensation['Year'] = df_compensation['Year'].astype(object)"
   ]
  },
  {
   "cell_type": "code",
   "execution_count": 10,
   "id": "50763b04",
   "metadata": {},
   "outputs": [],
   "source": [
    "#remove insignificant variables\n",
    "df_compensation = df_compensation.drop('Employee_Identifier',axis=1)"
   ]
  },
  {
   "cell_type": "code",
   "execution_count": 11,
   "id": "b46e8b79",
   "metadata": {},
   "outputs": [
    {
     "data": {
      "image/png": "[encoded data removed]",
      "text/plain": [
       "<Figure size 1080x576 with 1 Axes>"
      ]
     },
     "metadata": {
      "needs_background": "light"
     },
     "output_type": "display_data"
    }
   ],
   "source": [
    "#outlier treatment\n",
    "plt.figure(figsize = (15,8))\n",
    "df_compensation.boxplot()\n",
    "plt.xticks(rotation=90);"
   ]
  },
  {
   "cell_type": "code",
   "execution_count": 12,
   "id": "398ccc97",
   "metadata": {},
   "outputs": [
    {
     "data": {
      "image/png": "[encoded data removed]",
      "text/plain": [
       "<Figure size 1080x576 with 1 Axes>"
      ]
     },
     "metadata": {
      "needs_background": "light"
     },
     "output_type": "display_data"
    }
   ],
   "source": [
    "plt.figure(figsize = (15,8))\n",
    "df_compensation.loc[:,['Overtime', 'Other_Salaries', 'Retirement', 'Other_Benefits', 'Total_Benefits']].boxplot();"
   ]
  },
  {
   "cell_type": "code",
   "execution_count": 13,
   "id": "598b0224",
   "metadata": {},
   "outputs": [
    {
     "data": {
      "text/plain": [
       "(37721, 11)"
      ]
     },
     "execution_count": 13,
     "metadata": {},
     "output_type": "execute_result"
    }
   ],
   "source": [
    "# calculate the first quartile\n",
    "Q1 = df_compensation.quantile(0.25)\n",
    "# calculate the third quartile\n",
    "Q3 = df_compensation.quantile(0.75)\n",
    "# The Interquartile Range (IQR) is defined as the difference between the third and first quartile\n",
    "# calculate IQR for each numeric variable\n",
    "IQR = Q3 - Q1\n",
    "# retrieve the dataframe without the outliers\n",
    "# '~' returns the values that do not satisfy the given conditions \n",
    "# i.e. it returns values between the range [Q1-1.5*IQR, Q3+1.5*IQR]\n",
    "# '|' is used as 'OR' operator on multiple conditions   \n",
    "# 'any(axis=1)' checks the entire row for atleast one 'True' entry (those rows represents outliers in the data)\n",
    "df_compensation = df_compensation[~((df_compensation < (Q1 - 1.5 * IQR)) | (df_compensation > (Q3 + 1.5 * IQR))).any(axis=1)]\n",
    "# check the shape of the data\n",
    "df_compensation.shape"
   ]
  },
  {
   "cell_type": "code",
   "execution_count": 14,
   "id": "8adc216f",
   "metadata": {},
   "outputs": [
    {
     "data": {
      "image/png": "[encoded data removed]",
      "text/plain": [
       "<Figure size 1080x576 with 1 Axes>"
      ]
     },
     "metadata": {
      "needs_background": "light"
     },
     "output_type": "display_data"
    }
   ],
   "source": [
    "#plot after outlier treatment \n",
    "plt.figure(figsize = (15,8))\n",
    "df_compensation.boxplot()\n",
    "plt.xticks(rotation=90);"
   ]
  },
  {
   "cell_type": "code",
   "execution_count": 15,
   "id": "d41ec15c",
   "metadata": {},
   "outputs": [
    {
     "data": {
      "text/html": [
       "<div>\n",
       "<style scoped>\n",
       "    .dataframe tbody tr th:only-of-type {\n",
       "        vertical-align: middle;\n",
       "    }\n",
       "\n",
       "    .dataframe tbody tr th {\n",
       "        vertical-align: top;\n",
       "    }\n",
       "\n",
       "    .dataframe thead th {\n",
       "        text-align: right;\n",
       "    }\n",
       "</style>\n",
       "<table border=\"1\" class=\"dataframe\">\n",
       "  <thead>\n",
       "    <tr style=\"text-align: right;\">\n",
       "      <th></th>\n",
       "      <th>Salaries</th>\n",
       "      <th>Overtime</th>\n",
       "      <th>Other_Salaries</th>\n",
       "      <th>Total_Salary</th>\n",
       "      <th>Retirement</th>\n",
       "      <th>Health/Dental</th>\n",
       "      <th>Other_Benefits</th>\n",
       "      <th>Total_Benefits</th>\n",
       "      <th>Total_Compensation</th>\n",
       "    </tr>\n",
       "  </thead>\n",
       "  <tbody>\n",
       "    <tr>\n",
       "      <th>0</th>\n",
       "      <td>0.983501</td>\n",
       "      <td>-0.228094</td>\n",
       "      <td>-0.474925</td>\n",
       "      <td>0.926924</td>\n",
       "      <td>1.178509</td>\n",
       "      <td>0.916577</td>\n",
       "      <td>1.145330</td>\n",
       "      <td>1.160937</td>\n",
       "      <td>1.001741</td>\n",
       "    </tr>\n",
       "    <tr>\n",
       "      <th>1</th>\n",
       "      <td>-1.252282</td>\n",
       "      <td>-0.167554</td>\n",
       "      <td>-0.587284</td>\n",
       "      <td>-1.263232</td>\n",
       "      <td>-1.180545</td>\n",
       "      <td>-1.491481</td>\n",
       "      <td>-1.259987</td>\n",
       "      <td>-1.365209</td>\n",
       "      <td>-1.304489</td>\n",
       "    </tr>\n",
       "    <tr>\n",
       "      <th>3</th>\n",
       "      <td>-0.164360</td>\n",
       "      <td>-0.428531</td>\n",
       "      <td>0.095552</td>\n",
       "      <td>-0.168963</td>\n",
       "      <td>-0.031662</td>\n",
       "      <td>-1.579754</td>\n",
       "      <td>-0.037040</td>\n",
       "      <td>-0.521491</td>\n",
       "      <td>-0.269309</td>\n",
       "    </tr>\n",
       "    <tr>\n",
       "      <th>4</th>\n",
       "      <td>-0.258592</td>\n",
       "      <td>-0.428531</td>\n",
       "      <td>-0.587284</td>\n",
       "      <td>-0.300198</td>\n",
       "      <td>-0.312421</td>\n",
       "      <td>-0.399837</td>\n",
       "      <td>-0.256855</td>\n",
       "      <td>-0.347977</td>\n",
       "      <td>-0.316591</td>\n",
       "    </tr>\n",
       "    <tr>\n",
       "      <th>5</th>\n",
       "      <td>0.536545</td>\n",
       "      <td>-0.428531</td>\n",
       "      <td>0.019113</td>\n",
       "      <td>0.511851</td>\n",
       "      <td>0.511944</td>\n",
       "      <td>0.994015</td>\n",
       "      <td>0.703237</td>\n",
       "      <td>0.731794</td>\n",
       "      <td>0.578551</td>\n",
       "    </tr>\n",
       "  </tbody>\n",
       "</table>\n",
       "</div>"
      ],
      "text/plain": [
       "   Salaries  Overtime  Other_Salaries  Total_Salary  Retirement  \\\n",
       "0  0.983501 -0.228094       -0.474925      0.926924    1.178509   \n",
       "1 -1.252282 -0.167554       -0.587284     -1.263232   -1.180545   \n",
       "3 -0.164360 -0.428531        0.095552     -0.168963   -0.031662   \n",
       "4 -0.258592 -0.428531       -0.587284     -0.300198   -0.312421   \n",
       "5  0.536545 -0.428531        0.019113      0.511851    0.511944   \n",
       "\n",
       "   Health/Dental  Other_Benefits  Total_Benefits  Total_Compensation  \n",
       "0       0.916577        1.145330        1.160937            1.001741  \n",
       "1      -1.491481       -1.259987       -1.365209           -1.304489  \n",
       "3      -1.579754       -0.037040       -0.521491           -0.269309  \n",
       "4      -0.399837       -0.256855       -0.347977           -0.316591  \n",
       "5       0.994015        0.703237        0.731794            0.578551  "
      ]
     },
     "execution_count": 15,
     "metadata": {},
     "output_type": "execute_result"
    }
   ],
   "source": [
    "# Feature Scaling\n",
    "ss=StandardScaler()\n",
    "#using code\n",
    "df_compensation.iloc[:, 2:11]=ss.fit_transform(df_compensation.iloc[:, 2:11])\n",
    "df_compensation.iloc[:, 2:11].head()"
   ]
  },
  {
   "cell_type": "code",
   "execution_count": 16,
   "id": "4fc2153f",
   "metadata": {},
   "outputs": [],
   "source": [
    "# create dataframe of features by dropping the target variable\n",
    "# 'axis = 1' drops the corresponding column(s)\n",
    "df_feature = df_compensation.drop('Total_Compensation', axis = 1)"
   ]
  },
  {
   "cell_type": "code",
   "execution_count": 17,
   "id": "dcdc74c9",
   "metadata": {},
   "outputs": [],
   "source": [
    "# create dataframe of target variable\n",
    "df_target = df_compensation['Total_Compensation']"
   ]
  },
  {
   "cell_type": "code",
   "execution_count": null,
   "id": "493c4e26",
   "metadata": {},
   "outputs": [],
   "source": []
  },
  {
   "cell_type": "code",
   "execution_count": 18,
   "id": "18c06805",
   "metadata": {},
   "outputs": [
    {
     "data": {
      "image/png": "[encoded data removed]",
      "text/plain": [
       "<Figure size 1440x720 with 2 Axes>"
      ]
     },
     "metadata": {
      "needs_background": "light"
     },
     "output_type": "display_data"
    }
   ],
   "source": [
    "# set the plot size using figure()\n",
    "# pass width and height in inches to 'figsize' \n",
    "plt.figure(figsize = (20,10))\n",
    "\n",
    "# plot the heat map\n",
    "# corr(): give the correlation matrix\n",
    "# annot: prints the correlation values in the chart\n",
    "# annot_kws: used to set the font size of the annotation\n",
    "sns.heatmap(df_feature.corr(), annot = True, annot_kws = {\"size\": 11})\n",
    "\n",
    "# rotation = 'horizontal' rotates the y-axis labels horizontally\n",
    "# set text size using 'fontsize'\n",
    "plt.yticks(rotation = 'horizontal', fontsize = 15)\n",
    "plt.xticks(fontsize = 15)\n",
    "\n",
    "# display the plot\n",
    "plt.show()"
   ]
  },
  {
   "cell_type": "code",
   "execution_count": 19,
   "id": "a3037565",
   "metadata": {},
   "outputs": [
    {
     "data": {
      "image/png": "[encoded data removed]",
      "text/plain": [
       "<Figure size 1440x720 with 2 Axes>"
      ]
     },
     "metadata": {
      "needs_background": "light"
     },
     "output_type": "display_data"
    }
   ],
   "source": [
    "plt.figure(figsize = (20,10))\n",
    "sns.heatmap(df_feature.corr()[np.abs(df_feature.corr()) > 0.6], annot = True, annot_kws = {\"size\": 11})\n",
    "plt.yticks(rotation = 'horizontal', fontsize = 15)\n",
    "plt.xticks(fontsize = 15)\n",
    "plt.show()"
   ]
  },
  {
   "cell_type": "code",
   "execution_count": 20,
   "id": "93f8ce8a",
   "metadata": {},
   "outputs": [],
   "source": [
    "df_feature = df_compensation.drop('Total_Compensation', axis = 1)\n",
    "\n",
    "# create dataframe of target variable\n",
    "df_target = df_compensation['Total_Compensation']"
   ]
  },
  {
   "cell_type": "code",
   "execution_count": 21,
   "id": "5667177a",
   "metadata": {},
   "outputs": [
    {
     "data": {
      "text/plain": [
       "Index(['Salaries', 'Overtime', 'Other_Salaries', 'Total_Salary', 'Retirement',\n",
       "       'Health/Dental', 'Other_Benefits', 'Total_Benefits'],\n",
       "      dtype='object')"
      ]
     },
     "execution_count": 21,
     "metadata": {},
     "output_type": "execute_result"
    }
   ],
   "source": [
    "df_num = df_feature.select_dtypes(include=[np.number])\n",
    "df_num.columns"
   ]
  },
  {
   "cell_type": "code",
   "execution_count": 22,
   "id": "3f9e7fd2",
   "metadata": {},
   "outputs": [
    {
     "data": {
      "text/plain": [
       "Index(['Year_Type', 'Year'], dtype='object')"
      ]
     },
     "execution_count": 22,
     "metadata": {},
     "output_type": "execute_result"
    }
   ],
   "source": [
    "df_cat = df_feature.select_dtypes(include=[np.object])\n",
    "df_cat.columns\n"
   ]
  },
  {
   "cell_type": "code",
   "execution_count": 23,
   "id": "13d02638",
   "metadata": {},
   "outputs": [],
   "source": [
    "#encoding categorical to numeric"
   ]
  },
  {
   "cell_type": "code",
   "execution_count": 24,
   "id": "465c13c3",
   "metadata": {},
   "outputs": [],
   "source": [
    "encoded_data = pd.get_dummies(data = df_cat,drop_first = True)"
   ]
  },
  {
   "cell_type": "code",
   "execution_count": 25,
   "id": "e27b9e8c",
   "metadata": {},
   "outputs": [
    {
     "data": {
      "text/html": [
       "<div>\n",
       "<style scoped>\n",
       "    .dataframe tbody tr th:only-of-type {\n",
       "        vertical-align: middle;\n",
       "    }\n",
       "\n",
       "    .dataframe tbody tr th {\n",
       "        vertical-align: top;\n",
       "    }\n",
       "\n",
       "    .dataframe thead th {\n",
       "        text-align: right;\n",
       "    }\n",
       "</style>\n",
       "<table border=\"1\" class=\"dataframe\">\n",
       "  <thead>\n",
       "    <tr style=\"text-align: right;\">\n",
       "      <th></th>\n",
       "      <th>Year_Type_Fiscal</th>\n",
       "      <th>Year_2014</th>\n",
       "      <th>Year_2015</th>\n",
       "      <th>Year_2016</th>\n",
       "    </tr>\n",
       "  </thead>\n",
       "  <tbody>\n",
       "    <tr>\n",
       "      <th>0</th>\n",
       "      <td>1</td>\n",
       "      <td>0</td>\n",
       "      <td>1</td>\n",
       "      <td>0</td>\n",
       "    </tr>\n",
       "    <tr>\n",
       "      <th>1</th>\n",
       "      <td>0</td>\n",
       "      <td>0</td>\n",
       "      <td>1</td>\n",
       "      <td>0</td>\n",
       "    </tr>\n",
       "    <tr>\n",
       "      <th>3</th>\n",
       "      <td>1</td>\n",
       "      <td>1</td>\n",
       "      <td>0</td>\n",
       "      <td>0</td>\n",
       "    </tr>\n",
       "    <tr>\n",
       "      <th>4</th>\n",
       "      <td>1</td>\n",
       "      <td>0</td>\n",
       "      <td>0</td>\n",
       "      <td>0</td>\n",
       "    </tr>\n",
       "    <tr>\n",
       "      <th>5</th>\n",
       "      <td>0</td>\n",
       "      <td>0</td>\n",
       "      <td>0</td>\n",
       "      <td>0</td>\n",
       "    </tr>\n",
       "  </tbody>\n",
       "</table>\n",
       "</div>"
      ],
      "text/plain": [
       "   Year_Type_Fiscal  Year_2014  Year_2015  Year_2016\n",
       "0                 1          0          1          0\n",
       "1                 0          0          1          0\n",
       "3                 1          1          0          0\n",
       "4                 1          0          0          0\n",
       "5                 0          0          0          0"
      ]
     },
     "execution_count": 25,
     "metadata": {},
     "output_type": "execute_result"
    }
   ],
   "source": [
    "encoded_data.head()"
   ]
  },
  {
   "cell_type": "code",
   "execution_count": 26,
   "id": "75eea3aa",
   "metadata": {},
   "outputs": [],
   "source": [
    "df_compensation_dummy = pd.concat([df_num,encoded_data],axis = 1)"
   ]
  },
  {
   "cell_type": "code",
   "execution_count": 27,
   "id": "2c6c7c4c",
   "metadata": {},
   "outputs": [
    {
     "data": {
      "text/html": [
       "<div>\n",
       "<style scoped>\n",
       "    .dataframe tbody tr th:only-of-type {\n",
       "        vertical-align: middle;\n",
       "    }\n",
       "\n",
       "    .dataframe tbody tr th {\n",
       "        vertical-align: top;\n",
       "    }\n",
       "\n",
       "    .dataframe thead th {\n",
       "        text-align: right;\n",
       "    }\n",
       "</style>\n",
       "<table border=\"1\" class=\"dataframe\">\n",
       "  <thead>\n",
       "    <tr style=\"text-align: right;\">\n",
       "      <th></th>\n",
       "      <th>Salaries</th>\n",
       "      <th>Overtime</th>\n",
       "      <th>Other_Salaries</th>\n",
       "      <th>Total_Salary</th>\n",
       "      <th>Retirement</th>\n",
       "      <th>Health/Dental</th>\n",
       "      <th>Other_Benefits</th>\n",
       "      <th>Total_Benefits</th>\n",
       "      <th>Year_Type_Fiscal</th>\n",
       "      <th>Year_2014</th>\n",
       "      <th>Year_2015</th>\n",
       "      <th>Year_2016</th>\n",
       "    </tr>\n",
       "  </thead>\n",
       "  <tbody>\n",
       "    <tr>\n",
       "      <th>0</th>\n",
       "      <td>0.983501</td>\n",
       "      <td>-0.228094</td>\n",
       "      <td>-0.474925</td>\n",
       "      <td>0.926924</td>\n",
       "      <td>1.178509</td>\n",
       "      <td>0.916577</td>\n",
       "      <td>1.145330</td>\n",
       "      <td>1.160937</td>\n",
       "      <td>1</td>\n",
       "      <td>0</td>\n",
       "      <td>1</td>\n",
       "      <td>0</td>\n",
       "    </tr>\n",
       "    <tr>\n",
       "      <th>1</th>\n",
       "      <td>-1.252282</td>\n",
       "      <td>-0.167554</td>\n",
       "      <td>-0.587284</td>\n",
       "      <td>-1.263232</td>\n",
       "      <td>-1.180545</td>\n",
       "      <td>-1.491481</td>\n",
       "      <td>-1.259987</td>\n",
       "      <td>-1.365209</td>\n",
       "      <td>0</td>\n",
       "      <td>0</td>\n",
       "      <td>1</td>\n",
       "      <td>0</td>\n",
       "    </tr>\n",
       "    <tr>\n",
       "      <th>3</th>\n",
       "      <td>-0.164360</td>\n",
       "      <td>-0.428531</td>\n",
       "      <td>0.095552</td>\n",
       "      <td>-0.168963</td>\n",
       "      <td>-0.031662</td>\n",
       "      <td>-1.579754</td>\n",
       "      <td>-0.037040</td>\n",
       "      <td>-0.521491</td>\n",
       "      <td>1</td>\n",
       "      <td>1</td>\n",
       "      <td>0</td>\n",
       "      <td>0</td>\n",
       "    </tr>\n",
       "    <tr>\n",
       "      <th>4</th>\n",
       "      <td>-0.258592</td>\n",
       "      <td>-0.428531</td>\n",
       "      <td>-0.587284</td>\n",
       "      <td>-0.300198</td>\n",
       "      <td>-0.312421</td>\n",
       "      <td>-0.399837</td>\n",
       "      <td>-0.256855</td>\n",
       "      <td>-0.347977</td>\n",
       "      <td>1</td>\n",
       "      <td>0</td>\n",
       "      <td>0</td>\n",
       "      <td>0</td>\n",
       "    </tr>\n",
       "    <tr>\n",
       "      <th>5</th>\n",
       "      <td>0.536545</td>\n",
       "      <td>-0.428531</td>\n",
       "      <td>0.019113</td>\n",
       "      <td>0.511851</td>\n",
       "      <td>0.511944</td>\n",
       "      <td>0.994015</td>\n",
       "      <td>0.703237</td>\n",
       "      <td>0.731794</td>\n",
       "      <td>0</td>\n",
       "      <td>0</td>\n",
       "      <td>0</td>\n",
       "      <td>0</td>\n",
       "    </tr>\n",
       "  </tbody>\n",
       "</table>\n",
       "</div>"
      ],
      "text/plain": [
       "   Salaries  Overtime  Other_Salaries  Total_Salary  Retirement  \\\n",
       "0  0.983501 -0.228094       -0.474925      0.926924    1.178509   \n",
       "1 -1.252282 -0.167554       -0.587284     -1.263232   -1.180545   \n",
       "3 -0.164360 -0.428531        0.095552     -0.168963   -0.031662   \n",
       "4 -0.258592 -0.428531       -0.587284     -0.300198   -0.312421   \n",
       "5  0.536545 -0.428531        0.019113      0.511851    0.511944   \n",
       "\n",
       "   Health/Dental  Other_Benefits  Total_Benefits  Year_Type_Fiscal  Year_2014  \\\n",
       "0       0.916577        1.145330        1.160937                 1          0   \n",
       "1      -1.491481       -1.259987       -1.365209                 0          0   \n",
       "3      -1.579754       -0.037040       -0.521491                 1          1   \n",
       "4      -0.399837       -0.256855       -0.347977                 1          0   \n",
       "5       0.994015        0.703237        0.731794                 0          0   \n",
       "\n",
       "   Year_2015  Year_2016  \n",
       "0          1          0  \n",
       "1          1          0  \n",
       "3          0          0  \n",
       "4          0          0  \n",
       "5          0          0  "
      ]
     },
     "execution_count": 27,
     "metadata": {},
     "output_type": "execute_result"
    }
   ],
   "source": [
    "df_compensation_dummy.head()"
   ]
  },
  {
   "cell_type": "code",
   "execution_count": 28,
   "id": "07807112",
   "metadata": {},
   "outputs": [],
   "source": [
    "x=df_compensation_dummy.copy()\n",
    "y=df_target.copy()\n",
    "x = sm.add_constant(x)"
   ]
  },
  {
   "cell_type": "code",
   "execution_count": 29,
   "id": "b2f62084",
   "metadata": {},
   "outputs": [],
   "source": [
    "xtrain,xtest,ytrain,ytest=train_test_split(x,y,train_size=0.7,test_size=0.3,random_state=1)"
   ]
  },
  {
   "cell_type": "code",
   "execution_count": 30,
   "id": "97a95d12",
   "metadata": {},
   "outputs": [
    {
     "name": "stdout",
     "output_type": "stream",
     "text": [
      "x-train (26404, 13)\n",
      "ytrain (26404,)\n",
      "xtest (11317, 13)\n",
      "ytest (11317,)\n"
     ]
    }
   ],
   "source": [
    "print(\"x-train\",xtrain.shape)\n",
    "print(\"ytrain\",ytrain.shape)\n",
    "print(\"xtest\",xtest.shape)\n",
    "print(\"ytest\",ytest.shape)"
   ]
  },
  {
   "cell_type": "code",
   "execution_count": null,
   "id": "6557b8ad",
   "metadata": {},
   "outputs": [],
   "source": []
  },
  {
   "cell_type": "code",
   "execution_count": 31,
   "id": "4baf23c9",
   "metadata": {},
   "outputs": [
    {
     "name": "stdout",
     "output_type": "stream",
     "text": [
      "                            OLS Regression Results                            \n",
      "==============================================================================\n",
      "Dep. Variable:     Total_Compensation   R-squared:                       1.000\n",
      "Model:                            OLS   Adj. R-squared:                  1.000\n",
      "Method:                 Least Squares   F-statistic:                 1.925e+33\n",
      "Date:                Thu, 22 Jun 2023   Prob (F-statistic):               0.00\n",
      "Time:                        15:36:18   Log-Likelihood:             8.7044e+05\n",
      "No. Observations:               26404   AIC:                        -1.741e+06\n",
      "Df Residuals:                   26393   BIC:                        -1.741e+06\n",
      "Df Model:                          10                                         \n",
      "Covariance Type:            nonrobust                                         \n",
      "====================================================================================\n",
      "                       coef    std err          t      P>|t|      [0.025      0.975]\n",
      "------------------------------------------------------------------------------------\n",
      "const            -5.707e-16   1.59e-17    -35.931      0.000   -6.02e-16    -5.4e-16\n",
      "Salaries             0.3642   1.38e-17   2.64e+16      0.000       0.364       0.364\n",
      "Overtime             0.0120   7.73e-18   1.55e+15      0.000       0.012       0.012\n",
      "Other_Salaries       0.0213   7.89e-18   2.71e+15      0.000       0.021       0.021\n",
      "Total_Salary         0.3577   1.34e-17   2.66e+16      0.000       0.358       0.358\n",
      "Retirement           0.1070   2.08e-17   5.14e+15      0.000       0.107       0.107\n",
      "Health/Dental        0.0611   1.35e-17   4.53e+15      0.000       0.061       0.061\n",
      "Other_Benefits       0.0379   1.53e-17   2.47e+15      0.000       0.038       0.038\n",
      "Total_Benefits       0.0856   9.52e-18   8.99e+15      0.000       0.086       0.086\n",
      "Year_Type_Fiscal  8.364e-16   1.56e-17     53.691      0.000    8.06e-16    8.67e-16\n",
      "Year_2014        -4.137e-16   1.96e-17    -21.155      0.000   -4.52e-16   -3.75e-16\n",
      "Year_2015          -1.7e-16   1.95e-17     -8.697      0.000   -2.08e-16   -1.32e-16\n",
      "Year_2016         2.394e-16   2.43e-17      9.834      0.000    1.92e-16    2.87e-16\n",
      "==============================================================================\n",
      "Omnibus:                      533.985   Durbin-Watson:                   1.987\n",
      "Prob(Omnibus):                  0.000   Jarque-Bera (JB):              395.487\n",
      "Skew:                          -0.205   Prob(JB):                     1.32e-86\n",
      "Kurtosis:                       2.563   Cond. No.                     1.66e+16\n",
      "==============================================================================\n",
      "\n",
      "Notes:\n",
      "[1] Standard Errors assume that the covariance matrix of the errors is correctly specified.\n",
      "[2] The smallest eigenvalue is 5.35e-28. This might indicate that there are\n",
      "strong multicollinearity problems or that the design matrix is singular.\n"
     ]
    }
   ],
   "source": [
    "MRL_full = sm.OLS(ytrain,xtrain).fit()\n",
    "\n",
    "print(MRL_full.summary())"
   ]
  },
  {
   "cell_type": "code",
   "execution_count": 32,
   "id": "be3df70a",
   "metadata": {},
   "outputs": [],
   "source": [
    "y_pred_full = MRL_full.predict(xtest)"
   ]
  },
  {
   "cell_type": "code",
   "execution_count": 33,
   "id": "e837dbfc",
   "metadata": {},
   "outputs": [
    {
     "data": {
      "text/plain": [
       "4315    -0.322981\n",
       "37957   -1.345680\n",
       "14742   -1.325096\n",
       "38198    1.216575\n",
       "15113    0.462056\n",
       "dtype: float64"
      ]
     },
     "execution_count": 33,
     "metadata": {},
     "output_type": "execute_result"
    }
   ],
   "source": [
    "y_pred_full.head()"
   ]
  },
  {
   "cell_type": "code",
   "execution_count": 34,
   "id": "9ff34e78",
   "metadata": {},
   "outputs": [
    {
     "data": {
      "text/html": [
       "<div>\n",
       "<style scoped>\n",
       "    .dataframe tbody tr th:only-of-type {\n",
       "        vertical-align: middle;\n",
       "    }\n",
       "\n",
       "    .dataframe tbody tr th {\n",
       "        vertical-align: top;\n",
       "    }\n",
       "\n",
       "    .dataframe thead th {\n",
       "        text-align: right;\n",
       "    }\n",
       "</style>\n",
       "<table border=\"1\" class=\"dataframe\">\n",
       "  <thead>\n",
       "    <tr style=\"text-align: right;\">\n",
       "      <th></th>\n",
       "      <th>const</th>\n",
       "      <th>Salaries</th>\n",
       "      <th>Overtime</th>\n",
       "      <th>Other_Salaries</th>\n",
       "      <th>Total_Salary</th>\n",
       "      <th>Retirement</th>\n",
       "      <th>Health/Dental</th>\n",
       "      <th>Other_Benefits</th>\n",
       "      <th>Total_Benefits</th>\n",
       "      <th>Year_Type_Fiscal</th>\n",
       "      <th>Year_2014</th>\n",
       "      <th>Year_2015</th>\n",
       "      <th>Year_2016</th>\n",
       "    </tr>\n",
       "  </thead>\n",
       "  <tbody>\n",
       "    <tr>\n",
       "      <th>4315</th>\n",
       "      <td>1.0</td>\n",
       "      <td>-0.195858</td>\n",
       "      <td>-0.428531</td>\n",
       "      <td>1.071778</td>\n",
       "      <td>-0.143833</td>\n",
       "      <td>-0.715964</td>\n",
       "      <td>-1.579754</td>\n",
       "      <td>0.577257</td>\n",
       "      <td>-0.778881</td>\n",
       "      <td>0</td>\n",
       "      <td>0</td>\n",
       "      <td>1</td>\n",
       "      <td>0</td>\n",
       "    </tr>\n",
       "  </tbody>\n",
       "</table>\n",
       "</div>"
      ],
      "text/plain": [
       "      const  Salaries  Overtime  Other_Salaries  Total_Salary  Retirement  \\\n",
       "4315    1.0 -0.195858 -0.428531        1.071778     -0.143833   -0.715964   \n",
       "\n",
       "      Health/Dental  Other_Benefits  Total_Benefits  Year_Type_Fiscal  \\\n",
       "4315      -1.579754        0.577257       -0.778881                 0   \n",
       "\n",
       "      Year_2014  Year_2015  Year_2016  \n",
       "4315          0          1          0  "
      ]
     },
     "execution_count": 34,
     "metadata": {},
     "output_type": "execute_result"
    }
   ],
   "source": [
    "xtest.head(1)"
   ]
  },
  {
   "cell_type": "code",
   "execution_count": 39,
   "id": "7d29db6a",
   "metadata": {},
   "outputs": [],
   "source": [
    "transpose_value = xtest.transpose()\n",
    "x_trans_into_x = np.dot(transpose_value,xtest)\n",
    "inverse_value = np.linalg.inv(x_trans_into_x)\n",
    "inverse_intox_transpose = np.dot(inverse_value,transpose_value)\n",
    "enter_into_y =np.dot(inverse_intox_transpose,ytest)\n",
    "yy = enter_into_y\n"
   ]
  },
  {
   "cell_type": "code",
   "execution_count": 48,
   "id": "2d76d99f",
   "metadata": {},
   "outputs": [
    {
     "data": {
      "text/plain": [
       "4315   -0.195858\n",
       "Name: Salaries, dtype: float64"
      ]
     },
     "execution_count": 48,
     "metadata": {},
     "output_type": "execute_result"
    }
   ],
   "source": [
    "check = xtest.head(1)\n",
    "check[\"Salaries\"]"
   ]
  },
  {
   "cell_type": "code",
   "execution_count": 58,
   "id": "015e28f7",
   "metadata": {},
   "outputs": [
    {
     "data": {
      "text/plain": [
       "-6.713379852030243e-16"
      ]
     },
     "execution_count": 58,
     "metadata": {},
     "output_type": "execute_result"
    }
   ],
   "source": [
    "yy[12]"
   ]
  },
  {
   "cell_type": "code",
   "execution_count": 68,
   "id": "796776dc",
   "metadata": {},
   "outputs": [],
   "source": [
    "final = yy[0]+(yy[1]*(-0.195858))+(yy[2]*(-0.428531))+(yy[3]*(1.071778))+(yy[4]*(-0.143833))+(yy[5]*(-0.715964))+(yy[6]*(-1.579754))+(yy[7]*(0.577257))+(yy[8]*(-0.778881))+(yy[9]*(0))+(yy[10]*(0))+(yy[11]*(1))+(yy[12]*(0))"
   ]
  },
  {
   "cell_type": "code",
   "execution_count": 70,
   "id": "da2dfb7f",
   "metadata": {},
   "outputs": [
    {
     "data": {
      "text/plain": [
       "23721166.900393583"
      ]
     },
     "execution_count": 70,
     "metadata": {},
     "output_type": "execute_result"
    }
   ],
   "source": [
    "final"
   ]
  },
  {
   "cell_type": "code",
   "execution_count": null,
   "id": "1040a1b3",
   "metadata": {},
   "outputs": [],
   "source": []
  },
  {
   "cell_type": "code",
   "execution_count": null,
   "id": "3911e7cf",
   "metadata": {},
   "outputs": [],
   "source": []
  },
  {
   "cell_type": "code",
   "execution_count": null,
   "id": "54b29fe9",
   "metadata": {},
   "outputs": [],
   "source": []
  },
  {
   "cell_type": "code",
   "execution_count": null,
   "id": "6bc97d77",
   "metadata": {},
   "outputs": [],
   "source": []
  },
  {
   "cell_type": "code",
   "execution_count": null,
   "id": "fe9e74d1",
   "metadata": {},
   "outputs": [],
   "source": []
  }
 ],
 "metadata": {
  "kernelspec": {
   "display_name": "Python 3 (ipykernel)",
   "language": "python",
   "name": "python3"
  },
  "language_info": {
   "codemirror_mode": {
    "name": "ipython",
    "version": 3
   },
   "file_extension": ".py",
   "mimetype": "text/x-python",
   "name": "python",
   "nbconvert_exporter": "python",
   "pygments_lexer": "ipython3",
   "version": "3.9.7"
  }
 },
 "nbformat": 4,
 "nbformat_minor": 5
}
