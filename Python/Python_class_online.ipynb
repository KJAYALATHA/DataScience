{
 "cells": [
  {
   "cell_type": "code",
   "execution_count": 2,
   "id": "171b3224",
   "metadata": {},
   "outputs": [],
   "source": [
    "#constructor\n",
    "#abstractraction\n",
    "#encapsulation\n",
    "\n"
   ]
  },
  {
   "cell_type": "code",
   "execution_count": 7,
   "id": "e1d24fa3",
   "metadata": {},
   "outputs": [
    {
     "name": "stdout",
     "output_type": "stream",
     "text": [
      "use my income\n",
      "I am going to study AI\n"
     ]
    }
   ],
   "source": [
    "#Abstraction\n",
    "\n",
    "from abc import ABC,abstractmethod\n",
    "\n",
    "class Father(ABC):\n",
    "    def income(self):\n",
    "        print(\"use my income\")\n",
    "    def assets(self):\n",
    "        print(\"use my asset\")\n",
    "    @abstractmethod\n",
    "    def study(self):\n",
    "        pass\n",
    "    \n",
    "class Child(Father):\n",
    "    def study(self):\n",
    "        print(\"I am going to study AI\")\n",
    "        \n",
    "\n",
    "obj1 = Child()\n",
    "obj1.income()\n",
    "obj1.study()\n",
    "\n",
    "\n",
    "\n",
    "\n"
   ]
  },
  {
   "cell_type": "code",
   "execution_count": null,
   "id": "a7f07082",
   "metadata": {},
   "outputs": [],
   "source": [
    "#encapsulation\n",
    "#Access specifier\n",
    "#public\n",
    "#private\n",
    "#protected\n"
   ]
  },
  {
   "cell_type": "code",
   "execution_count": 22,
   "id": "17f77f22",
   "metadata": {},
   "outputs": [
    {
     "name": "stdout",
     "output_type": "stream",
     "text": [
      "30\n",
      "20\n",
      "10\n"
     ]
    }
   ],
   "source": [
    "class Encapsulation:\n",
    "    __aa = 10\n",
    "    _bb = 20\n",
    "    c = 30\n",
    "    d = 0\n",
    "    \n",
    "    def __demo(self):\n",
    "        #print(\"learning encapsulation\")\n",
    "        #print(self.__aa)\n",
    "        return self.__aa\n",
    "    \n",
    "    newMethod = __demo\n",
    "class Subclass(Encapsulation):\n",
    "    pass\n",
    "        \n",
    "        \n",
    "obj = Subclass()\n",
    "print(obj.c)\n",
    "print(obj._bb)\n",
    "#ff = obj.demo()\n",
    "ee = obj.newMethod()\n",
    "print(ee)\n",
    "#print(ff)"
   ]
  },
  {
   "cell_type": "code",
   "execution_count": null,
   "id": "bde42e13",
   "metadata": {},
   "outputs": [],
   "source": [
    "#polymorphism - one function in many forms eg :draw\n",
    "#method overloading = have all the method with same name but differ in arguements eg: add\n",
    "\n",
    "#decrators\n",
    "#iterator\n",
    "#generator\n",
    "#lambda map filter reduce\n",
    "#tkinter\n",
    "#sql \n",
    "#threading\n",
    "#networking\n",
    "\n",
    "#regular expression\n",
    "#api access\n",
    "#date time\n",
    "#flask project --template\n",
    "#data science numpy pandas\n",
    "#project -- shoppicart,xox came ,crud,tkinter with file handling or tkinter with database...\n"
   ]
  },
  {
   "cell_type": "code",
   "execution_count": null,
   "id": "e4dc0990",
   "metadata": {},
   "outputs": [],
   "source": [
    "#DATABASE"
   ]
  },
  {
   "cell_type": "code",
   "execution_count": 1,
   "id": "f89b0afc",
   "metadata": {},
   "outputs": [],
   "source": [
    "import mysql.connector"
   ]
  },
  {
   "cell_type": "code",
   "execution_count": 3,
   "id": "1709d4b2",
   "metadata": {},
   "outputs": [],
   "source": [
    "con = mysql.connector.connect(host=\"localhost\",user = \"root\",password = \"admin\")"
   ]
  },
  {
   "cell_type": "code",
   "execution_count": 5,
   "id": "4011bc92",
   "metadata": {},
   "outputs": [],
   "source": [
    "import tkinter\n"
   ]
  },
  {
   "cell_type": "code",
   "execution_count": 7,
   "id": "eecd2cc9",
   "metadata": {},
   "outputs": [],
   "source": [
    "root = tkinter.Tk()"
   ]
  },
  {
   "cell_type": "code",
   "execution_count": null,
   "id": "1b286d0c",
   "metadata": {},
   "outputs": [],
   "source": [
    "mycursor.execute(\"CREATE TABLE customers (name VARCHAR(255), address VARCHAR(255))\")\n",
    "\n",
    "from tabulate import tabulate\n",
    "import mysql.connector\n",
    "\n",
    "con = mysql.connector.connect(host=\"localhost\", user=\"root\", password=\"root\", database=\"python_db\")\n",
    "\n",
    "\n",
    "def insert(name, age, city):\n",
    "    res = con.cursor()\n",
    "    sql = \"insert into users (name,age,city) values (%s,%s,%s)\"\n",
    "    user = (name, age, city)\n",
    "    res.execute(sql, user)\n",
    "    con.commit()\n",
    "    print(\"Data Insert Success\")\n",
    "\n",
    "\n",
    "def update(name, age, city,id):\n",
    "    res = con.cursor()\n",
    "    sql = \"update users set name=%s,age=%s,city=%s where id=%s\"\n",
    "    user = (name, age, city,id)\n",
    "    res.execute(sql, user)\n",
    "    con.commit()\n",
    "    print(\"Data Update Success\")\n",
    "\n",
    "\n",
    "\n",
    "def select():\n",
    "    res = con.cursor()\n",
    "    sql = \"SELECT ID,NAME,AGE,CITY from users\"\n",
    "    res.execute(sql)\n",
    "    # result=res.fetchone()\n",
    "    # result=res.fetchmany(2)\n",
    "    result = res.fetchall()\n",
    "    print(tabulate(result, headers=[\"ID\", \"NAME\", \"AGE\", \"CITY\"]))\n",
    "\n",
    "\n",
    "def delete(id):\n",
    "    res = con.cursor()\n",
    "    sql = \"delete from users where id=%s\"\n",
    "    user = (id,)\n",
    "    res.execute(sql, user)\n",
    "    con.commit()\n",
    "    print(\"Data Delete Success\")\n",
    "\n",
    "\n",
    "\n",
    "while True:\n",
    "    print(\"1.Insert Data\")\n",
    "    print(\"2.Update Data\")\n",
    "    print(\"3.Select Data\")\n",
    "    print(\"4.Delete Data\")\n",
    "    print(\"5.Exit\")\n",
    "    choice = int(input(\"Enter Your Choice : \"))\n",
    "    if choice == 1:\n",
    "        name = input(\"Enter Name : \")\n",
    "        age = input(\"Enter Age : \")\n",
    "        city = input(\"Enter City : \")\n",
    "        insert(name, age, city)\n",
    "    elif choice == 2:\n",
    "        id = input(\"Enter The Id : \")\n",
    "        name = input(\"Enter Name : \")\n",
    "        age = input(\"Enter Age : \")\n",
    "        city = input(\"Enter City : \")\n",
    "        update(name, age, city,id)\n",
    "    elif choice == 3:\n",
    "        select()\n",
    "    elif choice == 4:\n",
    "        id = input(\"Enter The Id to Delete : \")\n",
    "        delete(id)\n",
    "    elif choice == 5:\n",
    "        quit()\n",
    "    else:\n",
    "        print(\"Invalid Selection . Please Try Again !\")"
   ]
  },
  {
   "cell_type": "code",
   "execution_count": null,
   "id": "0e3b4998",
   "metadata": {},
   "outputs": [],
   "source": []
  },
  {
   "cell_type": "code",
   "execution_count": null,
   "id": "1617cd70",
   "metadata": {},
   "outputs": [],
   "source": []
  },
  {
   "cell_type": "code",
   "execution_count": null,
   "id": "dfd7ee8d",
   "metadata": {},
   "outputs": [],
   "source": []
  }
 ],
 "metadata": {
  "kernelspec": {
   "display_name": "Python 3 (ipykernel)",
   "language": "python",
   "name": "python3"
  },
  "language_info": {
   "codemirror_mode": {
    "name": "ipython",
    "version": 3
   },
   "file_extension": ".py",
   "mimetype": "text/x-python",
   "name": "python",
   "nbconvert_exporter": "python",
   "pygments_lexer": "ipython3",
   "version": "3.9.7"
  }
 },
 "nbformat": 4,
 "nbformat_minor": 5
}
