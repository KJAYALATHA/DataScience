{
 "cells": [
  {
   "cell_type": "code",
   "execution_count": 10,
   "id": "71a39559",
   "metadata": {},
   "outputs": [],
   "source": [
    "import datetime"
   ]
  },
  {
   "cell_type": "code",
   "execution_count": 11,
   "id": "a74e3f0c",
   "metadata": {},
   "outputs": [
    {
     "name": "stdout",
     "output_type": "stream",
     "text": [
      "2023-04-23\n"
     ]
    }
   ],
   "source": [
    "#datetime.date to change the date format\n",
    "dateFormat = datetime.date(2023,4,23)\n",
    "print(dateFormat)"
   ]
  },
  {
   "cell_type": "code",
   "execution_count": 12,
   "id": "0cae260c",
   "metadata": {},
   "outputs": [
    {
     "name": "stdout",
     "output_type": "stream",
     "text": [
      "2023-07-05\n"
     ]
    }
   ],
   "source": [
    "#datetime.date.today()\n",
    "tdate = datetime.date.today()\n",
    "print(tdate)"
   ]
  },
  {
   "cell_type": "code",
   "execution_count": 14,
   "id": "37ec4474",
   "metadata": {},
   "outputs": [
    {
     "name": "stdout",
     "output_type": "stream",
     "text": [
      "7\n",
      "5\n",
      "2023\n"
     ]
    }
   ],
   "source": [
    "#date.year,date.month,date.day\n",
    "print(tdate.month)\n",
    "print(tdate.day)\n",
    "print(tdate.year)"
   ]
  },
  {
   "cell_type": "code",
   "execution_count": 16,
   "id": "7e80a63f",
   "metadata": {},
   "outputs": [
    {
     "name": "stdout",
     "output_type": "stream",
     "text": [
      "2\n",
      "3\n"
     ]
    }
   ],
   "source": [
    "#date.weekday,date.isoweekday\n",
    "print(tdate.weekday())\n",
    "print(tdate.isoweekday())"
   ]
  },
  {
   "cell_type": "code",
   "execution_count": 17,
   "id": "c456f741",
   "metadata": {},
   "outputs": [
    {
     "name": "stdout",
     "output_type": "stream",
     "text": [
      "2023-07-10\n"
     ]
    }
   ],
   "source": [
    "#timedelta tdelta = datetime.timedelta(days = 5) tdate - tdelta\n",
    "tdelta = datetime.timedelta(days = 5)\n",
    "print(tdate+tdelta)\n"
   ]
  },
  {
   "cell_type": "code",
   "execution_count": 19,
   "id": "c03a9e44",
   "metadata": {},
   "outputs": [
    {
     "name": "stdout",
     "output_type": "stream",
     "text": [
      "185\n"
     ]
    }
   ],
   "source": [
    "#my = datetime.date(2022,1,1) ..tdate-my  my.days\n",
    "passedDays = datetime.date(2023,1,1)\n",
    "aa = tdate-passedDays\n",
    "print(aa.days)\n"
   ]
  },
  {
   "cell_type": "code",
   "execution_count": 24,
   "id": "426f8a30",
   "metadata": {},
   "outputs": [
    {
     "name": "stdout",
     "output_type": "stream",
     "text": [
      "06:45:56\n"
     ]
    }
   ],
   "source": [
    "#datetime.time(6,67,56)   time.hour,time.minute,time.second\n",
    "timeFormat = datetime.time(6,45,56)\n",
    "print(timeFormat)"
   ]
  },
  {
   "cell_type": "code",
   "execution_count": 26,
   "id": "22ece177",
   "metadata": {},
   "outputs": [
    {
     "name": "stdout",
     "output_type": "stream",
     "text": [
      "19:32:12\n"
     ]
    }
   ],
   "source": [
    "#datetime.datetime.today()    time.strftime('%d/%m/%Y') '%H:%M:%S'\n",
    "currentDateTime = datetime.datetime.today()\n",
    "print(currentDateTime.strftime('%H:%M:%S'))\n"
   ]
  },
  {
   "cell_type": "code",
   "execution_count": 27,
   "id": "1edb30a9",
   "metadata": {},
   "outputs": [],
   "source": [
    "import calendar\n"
   ]
  },
  {
   "cell_type": "code",
   "execution_count": 28,
   "id": "70ffedf7",
   "metadata": {},
   "outputs": [
    {
     "name": "stdout",
     "output_type": "stream",
     "text": [
      "    January 2023\n",
      "Mo Tu We Th Fr Sa Su\n",
      "                   1\n",
      " 2  3  4  5  6  7  8\n",
      " 9 10 11 12 13 14 15\n",
      "16 17 18 19 20 21 22\n",
      "23 24 25 26 27 28 29\n",
      "30 31\n",
      "\n"
     ]
    }
   ],
   "source": [
    "a = calendar.month(2023,1)\n",
    "print(a)"
   ]
  },
  {
   "cell_type": "code",
   "execution_count": 30,
   "id": "2d2aad6e",
   "metadata": {},
   "outputs": [
    {
     "name": "stdout",
     "output_type": "stream",
     "text": [
      "                                  2023\n",
      "\n",
      "      January                   February                   March\n",
      "Mo Tu We Th Fr Sa Su      Mo Tu We Th Fr Sa Su      Mo Tu We Th Fr Sa Su\n",
      "                   1             1  2  3  4  5             1  2  3  4  5\n",
      " 2  3  4  5  6  7  8       6  7  8  9 10 11 12       6  7  8  9 10 11 12\n",
      " 9 10 11 12 13 14 15      13 14 15 16 17 18 19      13 14 15 16 17 18 19\n",
      "16 17 18 19 20 21 22      20 21 22 23 24 25 26      20 21 22 23 24 25 26\n",
      "23 24 25 26 27 28 29      27 28                     27 28 29 30 31\n",
      "30 31\n",
      "\n",
      "       April                      May                       June\n",
      "Mo Tu We Th Fr Sa Su      Mo Tu We Th Fr Sa Su      Mo Tu We Th Fr Sa Su\n",
      "                1  2       1  2  3  4  5  6  7                1  2  3  4\n",
      " 3  4  5  6  7  8  9       8  9 10 11 12 13 14       5  6  7  8  9 10 11\n",
      "10 11 12 13 14 15 16      15 16 17 18 19 20 21      12 13 14 15 16 17 18\n",
      "17 18 19 20 21 22 23      22 23 24 25 26 27 28      19 20 21 22 23 24 25\n",
      "24 25 26 27 28 29 30      29 30 31                  26 27 28 29 30\n",
      "\n",
      "        July                     August                  September\n",
      "Mo Tu We Th Fr Sa Su      Mo Tu We Th Fr Sa Su      Mo Tu We Th Fr Sa Su\n",
      "                1  2          1  2  3  4  5  6                   1  2  3\n",
      " 3  4  5  6  7  8  9       7  8  9 10 11 12 13       4  5  6  7  8  9 10\n",
      "10 11 12 13 14 15 16      14 15 16 17 18 19 20      11 12 13 14 15 16 17\n",
      "17 18 19 20 21 22 23      21 22 23 24 25 26 27      18 19 20 21 22 23 24\n",
      "24 25 26 27 28 29 30      28 29 30 31               25 26 27 28 29 30\n",
      "31\n",
      "\n",
      "      October                   November                  December\n",
      "Mo Tu We Th Fr Sa Su      Mo Tu We Th Fr Sa Su      Mo Tu We Th Fr Sa Su\n",
      "                   1             1  2  3  4  5                   1  2  3\n",
      " 2  3  4  5  6  7  8       6  7  8  9 10 11 12       4  5  6  7  8  9 10\n",
      " 9 10 11 12 13 14 15      13 14 15 16 17 18 19      11 12 13 14 15 16 17\n",
      "16 17 18 19 20 21 22      20 21 22 23 24 25 26      18 19 20 21 22 23 24\n",
      "23 24 25 26 27 28 29      27 28 29 30               25 26 27 28 29 30 31\n",
      "30 31\n",
      "\n"
     ]
    }
   ],
   "source": [
    "print(calendar.calendar(2023))"
   ]
  },
  {
   "cell_type": "code",
   "execution_count": null,
   "id": "9ccc203f",
   "metadata": {},
   "outputs": [],
   "source": [
    "#Variables,Datatypes,conditional statements,looping,list,dict,string"
   ]
  },
  {
   "cell_type": "code",
   "execution_count": null,
   "id": "2b772aac",
   "metadata": {},
   "outputs": [],
   "source": [
    "#functions,set,tuple,lambda,map,filter,reduce,"
   ]
  },
  {
   "cell_type": "code",
   "execution_count": null,
   "id": "3de1f6e4",
   "metadata": {},
   "outputs": [],
   "source": [
    "# oops - class,objects,method -class method,static method,normal method,abstract method,self,super,inheritance,polymorphism,abstraction\n",
    "# ,encapsulation"
   ]
  },
  {
   "cell_type": "code",
   "execution_count": 31,
   "id": "144b9214",
   "metadata": {},
   "outputs": [],
   "source": [
    "import re"
   ]
  },
  {
   "cell_type": "code",
   "execution_count": 41,
   "id": "6b595bac",
   "metadata": {},
   "outputs": [
    {
     "name": "stdout",
     "output_type": "stream",
     "text": [
      "['988']\n"
     ]
    }
   ],
   "source": [
    "text = \"988\"\n",
    "res = re.compile(\"[a-zA-Z0-9]+\")\n",
    "ans = res.findall(text)\n",
    "print(ans)"
   ]
  },
  {
   "cell_type": "code",
   "execution_count": 54,
   "id": "604a1f0f",
   "metadata": {},
   "outputs": [
    {
     "name": "stdout",
     "output_type": "stream",
     "text": [
      "['k.jayalatha22@gmail.com']\n"
     ]
    }
   ],
   "source": [
    "a = \"this is my email-id k.jayalatha22@gmail.com\"\n",
    "res = re.compile(\"[a-zA-Z0-9\\.]+@+[a-zA-Z]+\\.[a-zA-Z]+\")\n",
    "ans = res.findall(a)\n",
    "print(ans)"
   ]
  },
  {
   "cell_type": "code",
   "execution_count": 59,
   "id": "5a3de93e",
   "metadata": {},
   "outputs": [
    {
     "name": "stdout",
     "output_type": "stream",
     "text": [
      "<re.Match object; span=(0, 2), match='aa'>\n"
     ]
    }
   ],
   "source": [
    "a = 'aaa'\n",
    "b = re.match(\"..\",a)\n",
    "print(b)"
   ]
  },
  {
   "cell_type": "code",
   "execution_count": 65,
   "id": "4dee38f4",
   "metadata": {},
   "outputs": [],
   "source": [
    "a = 'aos'"
   ]
  },
  {
   "cell_type": "code",
   "execution_count": 66,
   "id": "f8d0124d",
   "metadata": {},
   "outputs": [
    {
     "name": "stdout",
     "output_type": "stream",
     "text": [
      "<re.Match object; span=(0, 3), match='aos'>\n"
     ]
    }
   ],
   "source": [
    "b = re.match('a.s',a)\n",
    "print(b)"
   ]
  },
  {
   "cell_type": "code",
   "execution_count": null,
   "id": "5457b823",
   "metadata": {},
   "outputs": [],
   "source": []
  }
 ],
 "metadata": {
  "kernelspec": {
   "display_name": "Python 3 (ipykernel)",
   "language": "python",
   "name": "python3"
  },
  "language_info": {
   "codemirror_mode": {
    "name": "ipython",
    "version": 3
   },
   "file_extension": ".py",
   "mimetype": "text/x-python",
   "name": "python",
   "nbconvert_exporter": "python",
   "pygments_lexer": "ipython3",
   "version": "3.9.7"
  }
 },
 "nbformat": 4,
 "nbformat_minor": 5
}
